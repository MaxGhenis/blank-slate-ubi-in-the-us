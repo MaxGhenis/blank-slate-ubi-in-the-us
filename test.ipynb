{
 "cells": [
  {
   "cell_type": "code",
   "execution_count": 3,
   "metadata": {},
   "outputs": [],
   "source": [
    "from policyengine_us import Microsimulation\n",
    "from policyengine_core.reforms import Reform\n",
    "from policyengine_core.periods import instant\n",
    "import pandas as pd\n",
    "\n",
    "\n",
    "def modify_parameters(parameters):\n",
    "    parameters.gov.contrib.ubi_center.basic_income.amount.person.by_age[0].amount.update(start=instant(\"2023-01-01\"), stop=instant(\"2032-12-31\"), value=3796.969378732502)\n",
    "9\t    parameters.gov.contrib.ubi_center.basic_income.amount.person.by_age[1].amount.update(start=instant(\"2023-01-01\"), stop=instant(\"2032-12-31\"), value=2799.6852762886547)\n",
    "10\t    parameters.gov.contrib.ubi_center.basic_income.amount.person.by_age[2].amount.update(start=instant(\"2023-01-01\"), stop=instant(\"2032-12-31\"), value=3910.449886241183)\n",
    "11\t    parameters.gov.contrib.ubi_center.basic_income.amount.person.by_age[3].amount.update(start=instant(\"2023-01-01\"), stop=instant(\"2032-12-31\"), value=3910.449886241183)\n",
    "12\t    parameters.gov.contrib.ubi_center.basic_income.amount.person.by_age[4].amount.update(start=instant(\"2023-01-01\"), stop=instant(\"2032-12-31\"), value=3170.7670701134143)\n",
    "13\t    parameters.gov.contrib.ubi_center.basic_income.amount.person.disability.update(start=instant(\"2023-01-01\"), stop=instant(\"2032-12-31\"), value=3708.8509442687473)\n",
    "14\t    \n",
    "    parameters.gov.contrib.ubi_center.flat_tax.abolish_federal_income_tax.update(start=instant(\"2023-01-01\"), stop=instant(\"2032-12-31\"), value=True)\n",
    "    parameters.gov.contrib.ubi_center.flat_tax.abolish_payroll_tax.update(start=instant(\"2023-01-01\"), stop=instant(\"2032-12-31\"), value=True)\n",
    "    parameters.gov.contrib.ubi_center.flat_tax.abolish_self_emp_tax.update(start=instant(\"2023-01-01\"), stop=instant(\"2032-12-31\"), value=True)\n",
    "    parameters.gov.contrib.ubi_center.flat_tax.deduct_ptc.update(start=instant(\"2023-01-01\"), stop=instant(\"2032-12-31\"), value=True)\n",
    "    parameters.gov.contrib.ubi_center.flat_tax.rate.update(start=instant(\"2023-01-01\"), stop=instant(\"2032-12-31\"), value=0.29000000000000004)\n",
    "    parameters.gov.simulation.labor_supply_responses.income_elasticity.update(start=instant(\"2023-01-01\"), stop=instant(\"2032-12-31\"), value=-0.05)\n",
    "    parameters.gov.simulation.labor_supply_responses.substitution_elasticity.update(start=instant(\"2023-01-01\"), stop=instant(\"2032-12-31\"), value=0.25)\n",
    "    parameters.gov.ssa.ssi.abolish_ssi.update(start=instant(\"2023-01-01\"), stop=instant(\"2032-12-31\"), value=True)\n",
    "    parameters.gov.usda.snap.abolish_snap.update(start=instant(\"2023-01-01\"), stop=instant(\"2032-12-31\"), value=True)\n",
    "    parameters.gov.usda.snap.emergency_allotment.allowed.update(start=instant(\"2023-01-01\"), stop=instant(\"2032-12-31\"), value=False)\n",
    "    parameters.gov.usda.wic.abolish_wic.update(start=instant(\"2023-01-01\"), stop=instant(\"2032-12-31\"), value=True)\n",
    "    parameters.simulation.reported_state_income_tax.update(start=instant(\"2023-01-01\"), stop=instant(\"2032-12-31\"), value=True)\n",
    "    return parameters\n",
    "\n",
    "\n",
    "def modify_parameters_b(parameters):\n",
    "    parameters.simulation.reported_state_income_tax.update(start=instant(\"2023-01-01\"), stop=instant(\"2032-12-31\"), value=True)\n",
    "    return parameters\n",
    "\n",
    "\n",
    "class reform(Reform):\n",
    "    def apply(self):\n",
    "        self.modify_parameters(modify_parameters)\n",
    "\n",
    "class baseline_reform(Reform):\n",
    "    def apply(self):\n",
    "        self.modify_parameters(modify_parameters_b)\n",
    "\n",
    "\n",
    "baseline = Microsimulation(reform=baseline_reform)\n",
    "reformed = Microsimulation(reform=reform)"
   ]
  },
  {
   "cell_type": "code",
   "execution_count": 4,
   "metadata": {},
   "outputs": [],
   "source": [
    "baseline_net_position = baseline.calculate(\"household_tax\").sum()/1e9 - baseline.calculate(\"household_benefits\").sum()/1e9\n",
    "reformed_net_position = reformed.calculate(\"household_tax\").sum()/1e9 - reformed.calculate(\"household_benefits\").sum()/1e9\n",
    "\n",
    "budgetary_impact = reformed_net_position - baseline_net_position"
   ]
  },
  {
   "cell_type": "code",
   "execution_count": 5,
   "metadata": {},
   "outputs": [
    {
     "data": {
      "text/plain": [
       "171.30154078880696"
      ]
     },
     "execution_count": 5,
     "metadata": {},
     "output_type": "execute_result"
    }
   ],
   "source": [
    "budgetary_impact"
   ]
  },
  {
   "cell_type": "code",
   "execution_count": 57,
   "metadata": {},
   "outputs": [
    {
     "name": "stdout",
     "output_type": "stream",
     "text": [
      "employment_income 0.0\n",
      "self_employment_income 0.0\n",
      "dividend_income 0.0\n",
      "interest_income 0.0\n",
      "gi_cash_assistance 0.0\n",
      "social_security 0.0\n",
      "ssi 3.1576658687216295\n",
      "tanf 0.0\n",
      "pension_income 0.0\n",
      "miscellaneous_income 0.0\n",
      "veterans_benefits 0.0\n",
      "unemployment_compensation 0.0\n",
      "strike_benefits 0.0\n",
      "rental_income 0.0\n"
     ]
    }
   ],
   "source": [
    "INCOME_VARS = [\n",
    "        \"employment_income\",\n",
    "        \"self_employment_income\",\n",
    "        \"dividend_income\",\n",
    "        \"interest_income\",\n",
    "        \"gi_cash_assistance\",\n",
    "        \"social_security\",\n",
    "        \"ssi\",\n",
    "        \"tanf\",\n",
    "        \"pension_income\",\n",
    "        \"miscellaneous_income\",\n",
    "        \"veterans_benefits\",\n",
    "        \"unemployment_compensation\",\n",
    "        \"strike_benefits\",\n",
    "        \"rental_income\",\n",
    "\n",
    "    ]\n",
    "\n",
    "\n",
    "for variable in INCOME_VARS:\n",
    "    diff = sim.calculate(variable, 2024).sum()/1e9 - sim.calculate(variable, 2023).sum()/1e9\n",
    "    print(variable, diff)"
   ]
  },
  {
   "cell_type": "code",
   "execution_count": 1,
   "metadata": {},
   "outputs": [],
   "source": [
    "from policyengine_us import Microsimulation\n",
    "\n",
    "sim = Microsimulation(dataset=\"enhanced_cps_2023\")"
   ]
  },
  {
   "cell_type": "code",
   "execution_count": 28,
   "metadata": {},
   "outputs": [
    {
     "data": {
      "text/plain": [
       "31776081960.229736"
      ]
     },
     "execution_count": 28,
     "metadata": {},
     "output_type": "execute_result"
    }
   ],
   "source": [
    "sim.calculate(\"social_security\", 2023).sum() - (\n",
    "    sim.calculate(\"social_security_retirement\", 2023).sum()\n",
    "    + sim.calculate(\"social_security_disability\", 2023).sum()\n",
    "    + sim.calculate(\"social_security_survivors\", 2023).sum()\n",
    "    + sim.calculate(\"social_security_dependents\", 2023).sum()\n",
    ")"
   ]
  },
  {
   "cell_type": "code",
   "execution_count": 19,
   "metadata": {},
   "outputs": [],
   "source": [
    "data = {}\n",
    "for variable in sim.dataset.variables:\n",
    "    data[variable] = sim.dataset.load(variable)"
   ]
  },
  {
   "cell_type": "code",
   "execution_count": 20,
   "metadata": {},
   "outputs": [],
   "source": [
    "data[\"taxable_private_pension_income\"] = data[\"taxable_pension_income\"]\n",
    "data[\"tax_exempt_private_pension_income\"] = data[\"tax_exempt_pension_income\"]"
   ]
  },
  {
   "cell_type": "code",
   "execution_count": 22,
   "metadata": {},
   "outputs": [],
   "source": [
    "del data[\"tax_exempt_pension_income\"]"
   ]
  },
  {
   "cell_type": "code",
   "execution_count": 23,
   "metadata": {},
   "outputs": [],
   "source": [
    "sim.dataset.save_dataset(data)"
   ]
  },
  {
   "cell_type": "code",
   "execution_count": 18,
   "metadata": {},
   "outputs": [
    {
     "ename": "KeyError",
     "evalue": "\"Unable to open object (object 'taxable_private_pension_income' doesn't exist)\"",
     "output_type": "error",
     "traceback": [
      "\u001b[0;31m---------------------------------------------------------------------------\u001b[0m",
      "\u001b[0;31mKeyError\u001b[0m                                  Traceback (most recent call last)",
      "Cell \u001b[0;32mIn[18], line 1\u001b[0m\n\u001b[0;32m----> 1\u001b[0m \u001b[43msim\u001b[49m\u001b[38;5;241;43m.\u001b[39;49m\u001b[43mdataset\u001b[49m\u001b[38;5;241;43m.\u001b[39;49m\u001b[43mload\u001b[49m\u001b[43m(\u001b[49m\u001b[38;5;124;43m\"\u001b[39;49m\u001b[38;5;124;43mtaxable_private_pension_income\u001b[39;49m\u001b[38;5;124;43m\"\u001b[39;49m\u001b[43m)\u001b[49m\u001b[38;5;241m.\u001b[39msum()\n",
      "File \u001b[0;32m/opt/anaconda3/lib/python3.9/site-packages/policyengine_core/data/dataset.py:98\u001b[0m, in \u001b[0;36mDataset.load\u001b[0;34m(self, key, mode)\u001b[0m\n\u001b[1;32m     95\u001b[0m     \u001b[38;5;28;01melse\u001b[39;00m:\n\u001b[1;32m     96\u001b[0m         \u001b[38;5;66;03m# If key provided, return only the values requested.\u001b[39;00m\n\u001b[1;32m     97\u001b[0m         \u001b[38;5;28;01mwith\u001b[39;00m h5py\u001b[38;5;241m.\u001b[39mFile(file, mode\u001b[38;5;241m=\u001b[39mmode) \u001b[38;5;28;01mas\u001b[39;00m f:\n\u001b[0;32m---> 98\u001b[0m             values \u001b[38;5;241m=\u001b[39m np\u001b[38;5;241m.\u001b[39marray(\u001b[43mf\u001b[49m\u001b[43m[\u001b[49m\u001b[43mkey\u001b[49m\u001b[43m]\u001b[49m)\n\u001b[1;32m     99\u001b[0m         \u001b[38;5;28;01mreturn\u001b[39;00m values\n\u001b[1;32m    100\u001b[0m \u001b[38;5;28;01melif\u001b[39;00m \u001b[38;5;28mself\u001b[39m\u001b[38;5;241m.\u001b[39mdata_format \u001b[38;5;241m==\u001b[39m Dataset\u001b[38;5;241m.\u001b[39mTABLES:\n",
      "File \u001b[0;32mh5py/_objects.pyx:54\u001b[0m, in \u001b[0;36mh5py._objects.with_phil.wrapper\u001b[0;34m()\u001b[0m\n",
      "File \u001b[0;32mh5py/_objects.pyx:55\u001b[0m, in \u001b[0;36mh5py._objects.with_phil.wrapper\u001b[0;34m()\u001b[0m\n",
      "File \u001b[0;32m/opt/anaconda3/lib/python3.9/site-packages/h5py/_hl/group.py:328\u001b[0m, in \u001b[0;36mGroup.__getitem__\u001b[0;34m(self, name)\u001b[0m\n\u001b[1;32m    326\u001b[0m         \u001b[38;5;28;01mraise\u001b[39;00m \u001b[38;5;167;01mValueError\u001b[39;00m(\u001b[38;5;124m\"\u001b[39m\u001b[38;5;124mInvalid HDF5 object reference\u001b[39m\u001b[38;5;124m\"\u001b[39m)\n\u001b[1;32m    327\u001b[0m \u001b[38;5;28;01melif\u001b[39;00m \u001b[38;5;28misinstance\u001b[39m(name, (\u001b[38;5;28mbytes\u001b[39m, \u001b[38;5;28mstr\u001b[39m)):\n\u001b[0;32m--> 328\u001b[0m     oid \u001b[38;5;241m=\u001b[39m \u001b[43mh5o\u001b[49m\u001b[38;5;241;43m.\u001b[39;49m\u001b[43mopen\u001b[49m\u001b[43m(\u001b[49m\u001b[38;5;28;43mself\u001b[39;49m\u001b[38;5;241;43m.\u001b[39;49m\u001b[43mid\u001b[49m\u001b[43m,\u001b[49m\u001b[43m \u001b[49m\u001b[38;5;28;43mself\u001b[39;49m\u001b[38;5;241;43m.\u001b[39;49m\u001b[43m_e\u001b[49m\u001b[43m(\u001b[49m\u001b[43mname\u001b[49m\u001b[43m)\u001b[49m\u001b[43m,\u001b[49m\u001b[43m \u001b[49m\u001b[43mlapl\u001b[49m\u001b[38;5;241;43m=\u001b[39;49m\u001b[38;5;28;43mself\u001b[39;49m\u001b[38;5;241;43m.\u001b[39;49m\u001b[43m_lapl\u001b[49m\u001b[43m)\u001b[49m\n\u001b[1;32m    329\u001b[0m \u001b[38;5;28;01melse\u001b[39;00m:\n\u001b[1;32m    330\u001b[0m     \u001b[38;5;28;01mraise\u001b[39;00m \u001b[38;5;167;01mTypeError\u001b[39;00m(\u001b[38;5;124m\"\u001b[39m\u001b[38;5;124mAccessing a group is done with bytes or str, \u001b[39m\u001b[38;5;124m\"\u001b[39m\n\u001b[1;32m    331\u001b[0m                     \u001b[38;5;124m\"\u001b[39m\u001b[38;5;124m not \u001b[39m\u001b[38;5;132;01m{}\u001b[39;00m\u001b[38;5;124m\"\u001b[39m\u001b[38;5;241m.\u001b[39mformat(\u001b[38;5;28mtype\u001b[39m(name)))\n",
      "File \u001b[0;32mh5py/_objects.pyx:54\u001b[0m, in \u001b[0;36mh5py._objects.with_phil.wrapper\u001b[0;34m()\u001b[0m\n",
      "File \u001b[0;32mh5py/_objects.pyx:55\u001b[0m, in \u001b[0;36mh5py._objects.with_phil.wrapper\u001b[0;34m()\u001b[0m\n",
      "File \u001b[0;32mh5py/h5o.pyx:190\u001b[0m, in \u001b[0;36mh5py.h5o.open\u001b[0;34m()\u001b[0m\n",
      "\u001b[0;31mKeyError\u001b[0m: \"Unable to open object (object 'taxable_private_pension_income' doesn't exist)\""
     ]
    }
   ],
   "source": [
    "sim.dataset.load(\"taxable_private_pension_income\").sum()"
   ]
  },
  {
   "cell_type": "code",
   "execution_count": 10,
   "metadata": {},
   "outputs": [
    {
     "data": {
      "text/plain": [
       "0.0"
      ]
     },
     "execution_count": 10,
     "metadata": {},
     "output_type": "execute_result"
    }
   ],
   "source": [
    "sim.calculate(\"pension_income\", 2024).sum()"
   ]
  },
  {
   "cell_type": "code",
   "execution_count": 3,
   "metadata": {},
   "outputs": [
    {
     "data": {
      "text/plain": [
       "781274472895.0748"
      ]
     },
     "execution_count": 3,
     "metadata": {},
     "output_type": "execute_result"
    }
   ],
   "source": [
    "from policyengine_us import Microsimulation\n",
    "\n",
    "sim = Microsimulation(dataset=\"enhanced_cps_2023\")\n",
    "sim.trace = True\n",
    "sim.calculate(\"pension_income\", 2023).sum()\n",
    "# sim.tracer.print_computation_log()"
   ]
  },
  {
   "cell_type": "code",
   "execution_count": 6,
   "metadata": {},
   "outputs": [],
   "source": [
    "from policyengine_us import Microsimulation\n",
    "from policyengine_core.reforms import Reform\n",
    "from policyengine_core.periods import instant\n",
    "import pandas as pd\n",
    "\n",
    "\n",
    "def modify_parameters(parameters):\n",
    "    parameters.gov.contrib.ubi_center.basic_income.amount.person.by_age[0].amount.update(start=instant(\"2023-01-01\"), stop=instant(\"2032-12-31\"), value=3796.969378732502)\n",
    "    parameters.gov.contrib.ubi_center.basic_income.amount.person.by_age[1].amount.update(start=instant(\"2023-01-01\"), stop=instant(\"2032-12-31\"), value=2799.6852762886547)\n",
    "    parameters.gov.contrib.ubi_center.basic_income.amount.person.by_age[2].amount.update(start=instant(\"2023-01-01\"), stop=instant(\"2032-12-31\"), value=3910.449886241183)\n",
    "    parameters.gov.contrib.ubi_center.basic_income.amount.person.by_age[3].amount.update(start=instant(\"2023-01-01\"), stop=instant(\"2032-12-31\"), value=3910.449886241183)\n",
    "    parameters.gov.contrib.ubi_center.basic_income.amount.person.by_age[4].amount.update(start=instant(\"2023-01-01\"), stop=instant(\"2032-12-31\"), value=3170.7670701134143)\n",
    "    parameters.gov.contrib.ubi_center.basic_income.amount.person.disability.update(start=instant(\"2023-01-01\"), stop=instant(\"2032-12-31\"), value=3708.8509442687473)\n",
    "    parameters.gov.contrib.ubi_center.flat_tax.abolish_federal_income_tax.update(start=instant(\"2023-01-01\"), stop=instant(\"2032-12-31\"), value=True)\n",
    "    parameters.gov.contrib.ubi_center.flat_tax.abolish_payroll_tax.update(start=instant(\"2023-01-01\"), stop=instant(\"2032-12-31\"), value=True)\n",
    "    parameters.gov.contrib.ubi_center.flat_tax.abolish_self_emp_tax.update(start=instant(\"2023-01-01\"), stop=instant(\"2032-12-31\"), value=True)\n",
    "    parameters.gov.contrib.ubi_center.flat_tax.deduct_ptc.update(start=instant(\"2023-01-01\"), stop=instant(\"2032-12-31\"), value=True)\n",
    "    parameters.gov.contrib.ubi_center.flat_tax.rate.update(start=instant(\"2023-01-01\"), stop=instant(\"2032-12-31\"), value=0.29)\n",
    "    parameters.gov.simulation.labor_supply_responses.income_elasticity.update(start=instant(\"2023-01-01\"), stop=instant(\"2032-12-31\"), value=-0.05)\n",
    "    parameters.gov.simulation.labor_supply_responses.substitution_elasticity.update(start=instant(\"2023-01-01\"), stop=instant(\"2032-12-31\"), value=0.25)\n",
    "    parameters.gov.ssa.ssi.abolish_ssi.update(start=instant(\"2023-01-01\"), stop=instant(\"2032-12-31\"), value=True)\n",
    "    parameters.gov.usda.snap.abolish_snap.update(start=instant(\"2023-01-01\"), stop=instant(\"2032-12-31\"), value=True)\n",
    "    parameters.gov.usda.snap.emergency_allotment.allowed.update(start=instant(\"2023-01-01\"), stop=instant(\"2032-12-31\"), value=False)\n",
    "    parameters.gov.usda.wic.abolish_wic.update(start=instant(\"2023-01-01\"), stop=instant(\"2032-12-31\"), value=True)\n",
    "    return parameters\n",
    "\n",
    "\n",
    "class reform(Reform):\n",
    "    def apply(self):\n",
    "        self.modify_parameters(modify_parameters)\n",
    "\n",
    "\n",
    "baseline = Microsimulation()\n",
    "reformed = Microsimulation(reform=reform)"
   ]
  },
  {
   "cell_type": "code",
   "execution_count": 8,
   "metadata": {},
   "outputs": [
    {
     "ename": "",
     "evalue": "",
     "output_type": "error",
     "traceback": [
      "\u001b[1;31mThe Kernel crashed while executing code in the the current cell or a previous cell. Please review the code in the cell(s) to identify a possible cause of the failure. Click <a href='https://aka.ms/vscodeJupyterKernelCrash'>here</a> for more info. View Jupyter <a href='command:jupyter.viewOutput'>log</a> for further details."
     ]
    }
   ],
   "source": [
    "reformed.calculate(\"basic_income\", 2024).sum()/1e9"
   ]
  }
 ],
 "metadata": {
  "kernelspec": {
   "display_name": "base",
   "language": "python",
   "name": "python3"
  },
  "language_info": {
   "codemirror_mode": {
    "name": "ipython",
    "version": 3
   },
   "file_extension": ".py",
   "mimetype": "text/x-python",
   "name": "python",
   "nbconvert_exporter": "python",
   "pygments_lexer": "ipython3",
   "version": "3.9.12"
  }
 },
 "nbformat": 4,
 "nbformat_minor": 2
}
