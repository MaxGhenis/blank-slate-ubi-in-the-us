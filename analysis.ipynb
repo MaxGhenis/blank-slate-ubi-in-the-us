{
 "cells": [
  {
   "cell_type": "code",
   "execution_count": 48,
   "metadata": {},
   "outputs": [
    {
     "data": {
      "text/plain": [
       "'\\nfrom tqdm import tqdm\\n\\nflat_tax_rates = []\\napi_ids = []\\nreforms = []\\nlosses = []\\n\\nfor flat_tax in tqdm(np.linspace(0.3, 0.3, 1)):\\n    policy = BlankSlatePolicy(flat_tax)\\n    data = policy.solve(return_amounts=True, return_loss=True)\\n    flat_tax_rates.append(flat_tax)\\n    #api_ids.append(data[\"id\"])\\n    reforms.append(data[\"reform\"])\\n    losses.append(data[\"loss\"])\\n\\ndf = pd.DataFrame(dict(flat_tax_rate=flat_tax_rates, loss=losses))\\n'"
      ]
     },
     "execution_count": 48,
     "metadata": {},
     "output_type": "execute_result"
    }
   ],
   "source": [
    "from policyengine_core.model_api import *\n",
    "from policyengine_us import *\n",
    "from scipy.optimize import differential_evolution\n",
    "\n",
    "INCOME_ELASTICITY = -0.05\n",
    "SUBSTITUTION_ELASTICITY = 0.25\n",
    "\n",
    "def create_funding_reform(flat_tax_rate: float):\n",
    "    return Reform.from_dict({\n",
    "        \"gov.contrib.ubi_center.flat_tax.abolish_federal_income_tax\": {\n",
    "            \"year:2023:10\": True\n",
    "        },\n",
    "        \"gov.contrib.ubi_center.flat_tax.abolish_payroll_tax\": {\n",
    "            \"year:2023:10\": True\n",
    "        },\n",
    "        \"gov.contrib.ubi_center.flat_tax.abolish_self_emp_tax\": {\n",
    "            \"year:2023:10\": True\n",
    "        },\n",
    "        \"gov.ssa.ssi.abolish_ssi\": {\n",
    "            \"year:2023:10\": True\n",
    "        },\n",
    "        \"gov.usda.snap.abolish_snap\": {\n",
    "            \"year:2023:10\": True\n",
    "        },\n",
    "        \"gov.usda.wic.abolish_wic\": {\n",
    "            \"year:2023:10\": True\n",
    "        },\n",
    "        \"gov.contrib.ubi_center.flat_tax.rate\": {\n",
    "            \"year:2023:10\": flat_tax_rate\n",
    "        },\n",
    "        \"gov.contrib.ubi_center.flat_tax.deduct_ptc\": {\n",
    "            \"year:2023:10\": True\n",
    "        },\n",
    "        \"gov.usda.snap.emergency_allotment.allowed\": {\n",
    "            \"year:2023:10\": False\n",
    "        },\n",
    "        \"simulation.reported_state_income_tax\": {\n",
    "            \"year:2023:10\": True\n",
    "        },\n",
    "        \"gov.simulation.labor_supply_responses.income_elasticity\": {\n",
    "            \"year:2023:10\": INCOME_ELASTICITY\n",
    "        },\n",
    "        \"gov.simulation.labor_supply_responses.substitution_elasticity\": {\n",
    "            \"year:2023:10\": SUBSTITUTION_ELASTICITY\n",
    "        },\n",
    "    },\n",
    "    \"us\",\n",
    "    )\n",
    "\n",
    "def create_baseline_reform():\n",
    "    return Reform.from_dict({\n",
    "            \"gov.usda.snap.emergency_allotment.allowed\": {\n",
    "                \"year:2023:10\": False\n",
    "            },\n",
    "            \"simulation.reported_state_income_tax\": {\n",
    "                \"year:2023:10\": True\n",
    "            },\n",
    "        },\n",
    "        \"us\",\n",
    "    )\n",
    "\n",
    "\n",
    "class BlankSlatePolicy:\n",
    "    young_child: float = 0\n",
    "    older_child: float = 0\n",
    "    young_adult: float = 0\n",
    "    adult: float = 0\n",
    "    senior: float = 0\n",
    "    flat_tax_rate: float = 0.40\n",
    "\n",
    "    def __init__(self, flat_tax_rate: float = 0.40):\n",
    "        self.baseline = Microsimulation(reform=create_baseline_reform(), dataset=\"enhanced_cps_2023\")\n",
    "        self.blank_slate_funded = Microsimulation(reform=create_funding_reform(flat_tax_rate), dataset=\"enhanced_cps_2023\")\n",
    "        self.df = self.create_dataframe()\n",
    "        self.ubi_funding = self.get_ubi_funding()\n",
    "        self.flat_tax_rate = flat_tax_rate\n",
    "\n",
    "    def create_dataframe(self) -> pd.DataFrame:\n",
    "        age = self.baseline.calc(\"age\").values\n",
    "        df = pd.DataFrame(\n",
    "            dict(\n",
    "                baseline_net_income=self.baseline.calc(\n",
    "                    \"household_net_income\"\n",
    "                ).values,\n",
    "                count_young_child=self.baseline.map_result(\n",
    "                    age < 6, \"person\", \"household\"\n",
    "                ),\n",
    "                count_older_child=self.baseline.map_result(\n",
    "                    (age >= 6) & (age < 18), \"person\", \"household\"\n",
    "                ),\n",
    "                count_young_adult=self.baseline.map_result(\n",
    "                    (age >= 18) & (age < 25), \"person\", \"household\"\n",
    "                ),\n",
    "                count_adult=self.baseline.map_result(\n",
    "                    (age >= 25) & (age < 65), \"person\", \"household\"\n",
    "                ),\n",
    "                count_senior=self.baseline.map_result(\n",
    "                    age >= 65, \"person\", \"household\"\n",
    "                ),\n",
    "                count_person=self.baseline.map_result(\n",
    "                    age >= 0, \"person\", \"household\"\n",
    "                ),\n",
    "                funded_net_income=self.blank_slate_funded.calculate(\n",
    "                    \"household_net_income\"\n",
    "                ).values,\n",
    "                weight=self.baseline.calculate(\"household_weight\").values,\n",
    "            )\n",
    "        )\n",
    "\n",
    "        df[\"total_employment_income\"] = self.baseline.calculate(\"employment_income\", map_to=\"household\").values\n",
    "        return df\n",
    "\n",
    "    def get_ubi_funding(self) -> float:\n",
    "        return (\n",
    "            (self.df.baseline_net_income - self.df.funded_net_income)\n",
    "            * self.df.weight\n",
    "        ).sum()\n",
    "\n",
    "    def get_senior_amount(\n",
    "        self,\n",
    "        young_child: float,\n",
    "        older_child: float,\n",
    "        young_adult: float,\n",
    "        adult: float,\n",
    "        funding_offset: float = 0,\n",
    "    ) -> float:\n",
    "        return (\n",
    "            self.ubi_funding - funding_offset\n",
    "            - young_child * (self.df.count_young_child * self.df.weight).sum()\n",
    "            - older_child * (self.df.count_older_child * self.df.weight).sum()\n",
    "            - young_adult * (self.df.count_young_adult * self.df.weight).sum()\n",
    "            - adult * (self.df.count_adult * self.df.weight).sum()\n",
    "        ) / (self.df.count_senior * self.df.weight).sum()\n",
    "\n",
    "    def mean_percentage_loss(\n",
    "        self,\n",
    "        young_child: float,\n",
    "        older_child: float,\n",
    "        young_adult: float,\n",
    "        adult: float,\n",
    "        return_extras: bool = False\n",
    "    ) -> float:\n",
    "        senior_amount = self.get_senior_amount(\n",
    "            young_child, older_child, young_adult, adult\n",
    "        )\n",
    "        final_net_income = (\n",
    "            self.df.funded_net_income\n",
    "            + self.df.count_young_child * young_child\n",
    "            + self.df.count_older_child * older_child\n",
    "            + self.df.count_young_adult * young_adult\n",
    "            + self.df.count_adult * adult\n",
    "            + self.df.count_senior * senior_amount\n",
    "        )\n",
    "        gain = final_net_income - self.df.baseline_net_income\n",
    "        income_rel_change = final_net_income / self.df.funded_net_income - 1\n",
    "        income_rel_change_c = np.clip(income_rel_change, -1, 1)\n",
    "        income_effect = income_rel_change_c * self.df.total_employment_income * INCOME_ELASTICITY\n",
    "        employment_income_change = income_effect\n",
    "        MTR_GUESS = 0.3\n",
    "        rough_net_income_change_from_lsr = employment_income_change * (1 - MTR_GUESS)\n",
    "        rough_tax_change_from_lsr = employment_income_change * MTR_GUESS\n",
    "        total_ubi_funding_change = (rough_tax_change_from_lsr * self.df.weight).sum()\n",
    "        senior_amount = self.get_senior_amount(\n",
    "            young_child, older_child, young_adult, adult, total_ubi_funding_change\n",
    "        )\n",
    "        final_net_income = (\n",
    "            self.df.funded_net_income\n",
    "            + self.df.count_young_child * young_child\n",
    "            + self.df.count_older_child * older_child\n",
    "            + self.df.count_young_adult * young_adult\n",
    "            + self.df.count_adult * adult\n",
    "            + self.df.count_senior * senior_amount\n",
    "        )\n",
    "        gain = final_net_income - self.df.baseline_net_income + rough_net_income_change_from_lsr\n",
    "        absolute_loss = np.maximum(0, -gain)\n",
    "        pct_loss = absolute_loss / np.maximum(100, self.df.baseline_net_income)\n",
    "        average = np.average(\n",
    "            pct_loss, weights=self.df.weight * self.df.count_person\n",
    "        )\n",
    "        if return_extras:\n",
    "            return average, senior_amount, total_ubi_funding_change\n",
    "        return average\n",
    "\n",
    "    def solve(self, return_amounts: bool = False, return_loss: bool = False) -> dict:\n",
    "        (\n",
    "            self.young_child,\n",
    "            self.older_child,\n",
    "            self.young_adult,\n",
    "            self.adult,\n",
    "        ) = differential_evolution(\n",
    "            lambda x: self.mean_percentage_loss(*x),\n",
    "            bounds=[(0, 30e3 * self.flat_tax_rate)] * 4,\n",
    "            maxiter=int(1e2),\n",
    "            seed=0,\n",
    "        ).x\n",
    "        _, self.senior, _ = self.mean_percentage_loss(\n",
    "            self.young_child, self.older_child, self.young_adult, self.adult, return_extras=True\n",
    "        )\n",
    "        self.reform = Reform.from_dict(\n",
    "            {\n",
    "                **create_funding_reform(self.flat_tax_rate).parameter_values,\n",
    "                \"gov.contrib.ubi_center.basic_income.amount.person.by_age[0].amount\": {\n",
    "                    \"year:2023:10\": self.young_child\n",
    "                },\n",
    "                \"gov.contrib.ubi_center.basic_income.amount.person.by_age[1].amount\": {\n",
    "                    \"year:2023:10\": self.older_child\n",
    "                },\n",
    "                \"gov.contrib.ubi_center.basic_income.amount.person.by_age[2].amount\": {\n",
    "                    \"year:2023:10\": self.young_adult\n",
    "                },\n",
    "                \"gov.contrib.ubi_center.basic_income.amount.person.by_age[3].amount\": {\n",
    "                    \"year:2023:10\": self.adult\n",
    "                },\n",
    "                \"gov.contrib.ubi_center.basic_income.amount.person.by_age[4].amount\": {\n",
    "                    \"year:2023:10\": self.senior\n",
    "                },\n",
    "            },\n",
    "            \"us\",\n",
    "        )\n",
    "        if not return_amounts and not return_loss:\n",
    "            return self.reform\n",
    "        \n",
    "        data = dict(reform=self.reform)\n",
    "\n",
    "        if return_amounts:\n",
    "            data[\"amounts\"] = dict(\n",
    "                young_child=self.young_child,\n",
    "                older_child=self.older_child,\n",
    "                young_adult=self.young_adult,\n",
    "                adult=self.adult,\n",
    "                senior=self.senior,\n",
    "            )\n",
    "        \n",
    "        if return_loss:\n",
    "            data[\"loss\"] = self.mean_percentage_loss(\n",
    "                self.young_child, self.older_child, self.young_adult, self.adult\n",
    "            )\n",
    "        \n",
    "        public_reform = Reform.from_dict(\n",
    "            {\n",
    "                path: value for path, value in self.reform.parameter_values.items()\n",
    "                if path.startswith(\"gov\")\n",
    "            },\n",
    "            \"us\",\n",
    "        )\n",
    "        #data[\"id\"] = public_reform.api_id\n",
    "        data[\"reform\"] = public_reform\n",
    "        \n",
    "        return data\n",
    "\"\"\"\n",
    "from tqdm import tqdm\n",
    "\n",
    "flat_tax_rates = []\n",
    "api_ids = []\n",
    "reforms = []\n",
    "losses = []\n",
    "\n",
    "for flat_tax in tqdm(np.linspace(0.3, 0.3, 1)):\n",
    "    policy = BlankSlatePolicy(flat_tax)\n",
    "    data = policy.solve(return_amounts=True, return_loss=True)\n",
    "    flat_tax_rates.append(flat_tax)\n",
    "    #api_ids.append(data[\"id\"])\n",
    "    reforms.append(data[\"reform\"])\n",
    "    losses.append(data[\"loss\"])\n",
    "\n",
    "df = pd.DataFrame(dict(flat_tax_rate=flat_tax_rates, loss=losses))\n",
    "\"\"\""
   ]
  },
  {
   "cell_type": "code",
   "execution_count": 49,
   "metadata": {},
   "outputs": [],
   "source": [
    "policy = BlankSlatePolicy(0.3)"
   ]
  },
  {
   "cell_type": "code",
   "execution_count": null,
   "metadata": {},
   "outputs": [
    {
     "data": {
      "text/html": [
       "<div>\n",
       "<style scoped>\n",
       "    .dataframe tbody tr th:only-of-type {\n",
       "        vertical-align: middle;\n",
       "    }\n",
       "\n",
       "    .dataframe tbody tr th {\n",
       "        vertical-align: top;\n",
       "    }\n",
       "\n",
       "    .dataframe thead th {\n",
       "        text-align: right;\n",
       "    }\n",
       "</style>\n",
       "<table border=\"1\" class=\"dataframe\">\n",
       "  <thead>\n",
       "    <tr style=\"text-align: right;\">\n",
       "      <th></th>\n",
       "      <th>baseline_net_income</th>\n",
       "      <th>count_young_child</th>\n",
       "      <th>count_older_child</th>\n",
       "      <th>count_young_adult</th>\n",
       "      <th>count_adult</th>\n",
       "      <th>count_senior</th>\n",
       "      <th>count_person</th>\n",
       "      <th>funded_net_income</th>\n",
       "      <th>weight</th>\n",
       "      <th>total_employment_income</th>\n",
       "    </tr>\n",
       "  </thead>\n",
       "  <tbody>\n",
       "    <tr>\n",
       "      <th>0</th>\n",
       "      <td>2.849216e+04</td>\n",
       "      <td>0.0</td>\n",
       "      <td>0.0</td>\n",
       "      <td>0.0</td>\n",
       "      <td>0.0</td>\n",
       "      <td>2.0</td>\n",
       "      <td>2.0</td>\n",
       "      <td>2.822000e+04</td>\n",
       "      <td>1554.098145</td>\n",
       "      <td>0.000000e+00</td>\n",
       "    </tr>\n",
       "    <tr>\n",
       "      <th>1</th>\n",
       "      <td>4.637827e+04</td>\n",
       "      <td>0.0</td>\n",
       "      <td>0.0</td>\n",
       "      <td>0.0</td>\n",
       "      <td>2.0</td>\n",
       "      <td>0.0</td>\n",
       "      <td>2.0</td>\n",
       "      <td>3.562937e+04</td>\n",
       "      <td>2515.147705</td>\n",
       "      <td>4.200000e+04</td>\n",
       "    </tr>\n",
       "    <tr>\n",
       "      <th>2</th>\n",
       "      <td>1.664416e+04</td>\n",
       "      <td>0.0</td>\n",
       "      <td>0.0</td>\n",
       "      <td>0.0</td>\n",
       "      <td>0.0</td>\n",
       "      <td>1.0</td>\n",
       "      <td>1.0</td>\n",
       "      <td>1.637180e+04</td>\n",
       "      <td>1263.665649</td>\n",
       "      <td>0.000000e+00</td>\n",
       "    </tr>\n",
       "    <tr>\n",
       "      <th>3</th>\n",
       "      <td>1.014171e+05</td>\n",
       "      <td>0.0</td>\n",
       "      <td>0.0</td>\n",
       "      <td>0.0</td>\n",
       "      <td>0.0</td>\n",
       "      <td>2.0</td>\n",
       "      <td>2.0</td>\n",
       "      <td>8.622158e+04</td>\n",
       "      <td>1590.238525</td>\n",
       "      <td>1.070000e+05</td>\n",
       "    </tr>\n",
       "    <tr>\n",
       "      <th>4</th>\n",
       "      <td>4.370309e+04</td>\n",
       "      <td>0.0</td>\n",
       "      <td>0.0</td>\n",
       "      <td>0.0</td>\n",
       "      <td>0.0</td>\n",
       "      <td>2.0</td>\n",
       "      <td>2.0</td>\n",
       "      <td>4.040963e+04</td>\n",
       "      <td>1727.838135</td>\n",
       "      <td>0.000000e+00</td>\n",
       "    </tr>\n",
       "    <tr>\n",
       "      <th>...</th>\n",
       "      <td>...</td>\n",
       "      <td>...</td>\n",
       "      <td>...</td>\n",
       "      <td>...</td>\n",
       "      <td>...</td>\n",
       "      <td>...</td>\n",
       "      <td>...</td>\n",
       "      <td>...</td>\n",
       "      <td>...</td>\n",
       "      <td>...</td>\n",
       "    </tr>\n",
       "    <tr>\n",
       "      <th>113673</th>\n",
       "      <td>2.565957e+05</td>\n",
       "      <td>0.0</td>\n",
       "      <td>1.0</td>\n",
       "      <td>1.0</td>\n",
       "      <td>2.0</td>\n",
       "      <td>0.0</td>\n",
       "      <td>4.0</td>\n",
       "      <td>2.338610e+05</td>\n",
       "      <td>0.000000</td>\n",
       "      <td>3.306100e+05</td>\n",
       "    </tr>\n",
       "    <tr>\n",
       "      <th>113674</th>\n",
       "      <td>2.576290e+05</td>\n",
       "      <td>0.0</td>\n",
       "      <td>0.0</td>\n",
       "      <td>0.0</td>\n",
       "      <td>2.0</td>\n",
       "      <td>0.0</td>\n",
       "      <td>2.0</td>\n",
       "      <td>2.396548e+05</td>\n",
       "      <td>0.000000</td>\n",
       "      <td>2.165010e+05</td>\n",
       "    </tr>\n",
       "    <tr>\n",
       "      <th>113675</th>\n",
       "      <td>3.373606e+05</td>\n",
       "      <td>0.0</td>\n",
       "      <td>2.0</td>\n",
       "      <td>0.0</td>\n",
       "      <td>2.0</td>\n",
       "      <td>2.0</td>\n",
       "      <td>6.0</td>\n",
       "      <td>2.960637e+05</td>\n",
       "      <td>0.000000</td>\n",
       "      <td>3.476580e+05</td>\n",
       "    </tr>\n",
       "    <tr>\n",
       "      <th>113676</th>\n",
       "      <td>1.088401e+07</td>\n",
       "      <td>0.0</td>\n",
       "      <td>2.0</td>\n",
       "      <td>1.0</td>\n",
       "      <td>2.0</td>\n",
       "      <td>0.0</td>\n",
       "      <td>5.0</td>\n",
       "      <td>1.363628e+07</td>\n",
       "      <td>0.000000</td>\n",
       "      <td>2.041000e+07</td>\n",
       "    </tr>\n",
       "    <tr>\n",
       "      <th>113677</th>\n",
       "      <td>7.601526e+06</td>\n",
       "      <td>0.0</td>\n",
       "      <td>0.0</td>\n",
       "      <td>1.0</td>\n",
       "      <td>2.0</td>\n",
       "      <td>0.0</td>\n",
       "      <td>3.0</td>\n",
       "      <td>8.871952e+06</td>\n",
       "      <td>0.000000</td>\n",
       "      <td>8.824000e+06</td>\n",
       "    </tr>\n",
       "  </tbody>\n",
       "</table>\n",
       "<p>113678 rows × 10 columns</p>\n",
       "</div>"
      ],
      "text/plain": [
       "        baseline_net_income  count_young_child  count_older_child  \\\n",
       "0              2.849216e+04                0.0                0.0   \n",
       "1              4.637827e+04                0.0                0.0   \n",
       "2              1.664416e+04                0.0                0.0   \n",
       "3              1.014171e+05                0.0                0.0   \n",
       "4              4.370309e+04                0.0                0.0   \n",
       "...                     ...                ...                ...   \n",
       "113673         2.565957e+05                0.0                1.0   \n",
       "113674         2.576290e+05                0.0                0.0   \n",
       "113675         3.373606e+05                0.0                2.0   \n",
       "113676         1.088401e+07                0.0                2.0   \n",
       "113677         7.601526e+06                0.0                0.0   \n",
       "\n",
       "        count_young_adult  count_adult  count_senior  count_person  \\\n",
       "0                     0.0          0.0           2.0           2.0   \n",
       "1                     0.0          2.0           0.0           2.0   \n",
       "2                     0.0          0.0           1.0           1.0   \n",
       "3                     0.0          0.0           2.0           2.0   \n",
       "4                     0.0          0.0           2.0           2.0   \n",
       "...                   ...          ...           ...           ...   \n",
       "113673                1.0          2.0           0.0           4.0   \n",
       "113674                0.0          2.0           0.0           2.0   \n",
       "113675                0.0          2.0           2.0           6.0   \n",
       "113676                1.0          2.0           0.0           5.0   \n",
       "113677                1.0          2.0           0.0           3.0   \n",
       "\n",
       "        funded_net_income       weight  total_employment_income  \n",
       "0            2.822000e+04  1554.098145             0.000000e+00  \n",
       "1            3.562937e+04  2515.147705             4.200000e+04  \n",
       "2            1.637180e+04  1263.665649             0.000000e+00  \n",
       "3            8.622158e+04  1590.238525             1.070000e+05  \n",
       "4            4.040963e+04  1727.838135             0.000000e+00  \n",
       "...                   ...          ...                      ...  \n",
       "113673       2.338610e+05     0.000000             3.306100e+05  \n",
       "113674       2.396548e+05     0.000000             2.165010e+05  \n",
       "113675       2.960637e+05     0.000000             3.476580e+05  \n",
       "113676       1.363628e+07     0.000000             2.041000e+07  \n",
       "113677       8.871952e+06     0.000000             8.824000e+06  \n",
       "\n",
       "[113678 rows x 10 columns]"
      ]
     },
     "execution_count": 46,
     "metadata": {},
     "output_type": "execute_result"
    }
   ],
   "source": [
    "policy.df"
   ]
  },
  {
   "cell_type": "code",
   "execution_count": 47,
   "metadata": {},
   "outputs": [
    {
     "ename": "AttributeError",
     "evalue": "'DataFrame' object has no attribute 'reformed_mtr'",
     "output_type": "error",
     "traceback": [
      "\u001b[0;31m---------------------------------------------------------------------------\u001b[0m",
      "\u001b[0;31mAttributeError\u001b[0m                            Traceback (most recent call last)",
      "Cell \u001b[0;32mIn[47], line 1\u001b[0m\n\u001b[0;32m----> 1\u001b[0m data \u001b[38;5;241m=\u001b[39m \u001b[43mpolicy\u001b[49m\u001b[38;5;241;43m.\u001b[39;49m\u001b[43msolve\u001b[49m\u001b[43m(\u001b[49m\u001b[43mreturn_amounts\u001b[49m\u001b[38;5;241;43m=\u001b[39;49m\u001b[38;5;28;43;01mTrue\u001b[39;49;00m\u001b[43m,\u001b[49m\u001b[43m \u001b[49m\u001b[43mreturn_loss\u001b[49m\u001b[38;5;241;43m=\u001b[39;49m\u001b[38;5;28;43;01mTrue\u001b[39;49;00m\u001b[43m)\u001b[49m\n",
      "Cell \u001b[0;32mIn[44], line 189\u001b[0m, in \u001b[0;36mBlankSlatePolicy.solve\u001b[0;34m(self, return_amounts, return_loss)\u001b[0m\n\u001b[1;32m    183\u001b[0m \u001b[38;5;28;01mdef\u001b[39;00m \u001b[38;5;21msolve\u001b[39m(\u001b[38;5;28mself\u001b[39m, return_amounts: \u001b[38;5;28mbool\u001b[39m \u001b[38;5;241m=\u001b[39m \u001b[38;5;28;01mFalse\u001b[39;00m, return_loss: \u001b[38;5;28mbool\u001b[39m \u001b[38;5;241m=\u001b[39m \u001b[38;5;28;01mFalse\u001b[39;00m) \u001b[38;5;241m-\u001b[39m\u001b[38;5;241m>\u001b[39m \u001b[38;5;28mdict\u001b[39m:\n\u001b[1;32m    184\u001b[0m     (\n\u001b[1;32m    185\u001b[0m         \u001b[38;5;28mself\u001b[39m\u001b[38;5;241m.\u001b[39myoung_child,\n\u001b[1;32m    186\u001b[0m         \u001b[38;5;28mself\u001b[39m\u001b[38;5;241m.\u001b[39molder_child,\n\u001b[1;32m    187\u001b[0m         \u001b[38;5;28mself\u001b[39m\u001b[38;5;241m.\u001b[39myoung_adult,\n\u001b[1;32m    188\u001b[0m         \u001b[38;5;28mself\u001b[39m\u001b[38;5;241m.\u001b[39madult,\n\u001b[0;32m--> 189\u001b[0m     ) \u001b[38;5;241m=\u001b[39m \u001b[43mdifferential_evolution\u001b[49m\u001b[43m(\u001b[49m\n\u001b[1;32m    190\u001b[0m \u001b[43m        \u001b[49m\u001b[38;5;28;43;01mlambda\u001b[39;49;00m\u001b[43m \u001b[49m\u001b[43mx\u001b[49m\u001b[43m:\u001b[49m\u001b[43m \u001b[49m\u001b[38;5;28;43mself\u001b[39;49m\u001b[38;5;241;43m.\u001b[39;49m\u001b[43mmean_percentage_loss\u001b[49m\u001b[43m(\u001b[49m\u001b[38;5;241;43m*\u001b[39;49m\u001b[43mx\u001b[49m\u001b[43m)\u001b[49m\u001b[43m,\u001b[49m\n\u001b[1;32m    191\u001b[0m \u001b[43m        \u001b[49m\u001b[43mbounds\u001b[49m\u001b[38;5;241;43m=\u001b[39;49m\u001b[43m[\u001b[49m\u001b[43m(\u001b[49m\u001b[38;5;241;43m0\u001b[39;49m\u001b[43m,\u001b[49m\u001b[43m \u001b[49m\u001b[38;5;241;43m30e3\u001b[39;49m\u001b[43m \u001b[49m\u001b[38;5;241;43m*\u001b[39;49m\u001b[43m \u001b[49m\u001b[38;5;28;43mself\u001b[39;49m\u001b[38;5;241;43m.\u001b[39;49m\u001b[43mflat_tax_rate\u001b[49m\u001b[43m)\u001b[49m\u001b[43m]\u001b[49m\u001b[43m \u001b[49m\u001b[38;5;241;43m*\u001b[39;49m\u001b[43m \u001b[49m\u001b[38;5;241;43m4\u001b[39;49m\u001b[43m,\u001b[49m\n\u001b[1;32m    192\u001b[0m \u001b[43m        \u001b[49m\u001b[43mmaxiter\u001b[49m\u001b[38;5;241;43m=\u001b[39;49m\u001b[38;5;28;43mint\u001b[39;49m\u001b[43m(\u001b[49m\u001b[38;5;241;43m1e2\u001b[39;49m\u001b[43m)\u001b[49m\u001b[43m,\u001b[49m\n\u001b[1;32m    193\u001b[0m \u001b[43m        \u001b[49m\u001b[43mseed\u001b[49m\u001b[38;5;241;43m=\u001b[39;49m\u001b[38;5;241;43m0\u001b[39;49m\u001b[43m,\u001b[49m\n\u001b[1;32m    194\u001b[0m \u001b[43m    \u001b[49m\u001b[43m)\u001b[49m\u001b[38;5;241m.\u001b[39mx\n\u001b[1;32m    195\u001b[0m     _, \u001b[38;5;28mself\u001b[39m\u001b[38;5;241m.\u001b[39msenior, _ \u001b[38;5;241m=\u001b[39m \u001b[38;5;28mself\u001b[39m\u001b[38;5;241m.\u001b[39mmean_percentage_loss(\n\u001b[1;32m    196\u001b[0m         \u001b[38;5;28mself\u001b[39m\u001b[38;5;241m.\u001b[39myoung_child, \u001b[38;5;28mself\u001b[39m\u001b[38;5;241m.\u001b[39molder_child, \u001b[38;5;28mself\u001b[39m\u001b[38;5;241m.\u001b[39myoung_adult, \u001b[38;5;28mself\u001b[39m\u001b[38;5;241m.\u001b[39madult, return_extras\u001b[38;5;241m=\u001b[39m\u001b[38;5;28;01mTrue\u001b[39;00m\n\u001b[1;32m    197\u001b[0m     )\n\u001b[1;32m    198\u001b[0m     \u001b[38;5;28mself\u001b[39m\u001b[38;5;241m.\u001b[39mreform \u001b[38;5;241m=\u001b[39m Reform\u001b[38;5;241m.\u001b[39mfrom_dict(\n\u001b[1;32m    199\u001b[0m         {\n\u001b[1;32m    200\u001b[0m             \u001b[38;5;241m*\u001b[39m\u001b[38;5;241m*\u001b[39mcreate_funding_reform(\u001b[38;5;28mself\u001b[39m\u001b[38;5;241m.\u001b[39mflat_tax_rate)\u001b[38;5;241m.\u001b[39mparameter_values,\n\u001b[0;32m   (...)\u001b[0m\n\u001b[1;32m    217\u001b[0m         \u001b[38;5;124m\"\u001b[39m\u001b[38;5;124mus\u001b[39m\u001b[38;5;124m\"\u001b[39m,\n\u001b[1;32m    218\u001b[0m     )\n",
      "File \u001b[0;32m/opt/anaconda3/lib/python3.9/site-packages/scipy/optimize/_differentialevolution.py:397\u001b[0m, in \u001b[0;36mdifferential_evolution\u001b[0;34m(func, bounds, args, strategy, maxiter, popsize, tol, mutation, recombination, seed, callback, disp, polish, init, atol, updating, workers, constraints, x0, integrality, vectorized)\u001b[0m\n\u001b[1;32m    380\u001b[0m \u001b[38;5;66;03m# using a context manager means that any created Pool objects are\u001b[39;00m\n\u001b[1;32m    381\u001b[0m \u001b[38;5;66;03m# cleared up.\u001b[39;00m\n\u001b[1;32m    382\u001b[0m \u001b[38;5;28;01mwith\u001b[39;00m DifferentialEvolutionSolver(func, bounds, args\u001b[38;5;241m=\u001b[39margs,\n\u001b[1;32m    383\u001b[0m                                  strategy\u001b[38;5;241m=\u001b[39mstrategy,\n\u001b[1;32m    384\u001b[0m                                  maxiter\u001b[38;5;241m=\u001b[39mmaxiter,\n\u001b[0;32m   (...)\u001b[0m\n\u001b[1;32m    395\u001b[0m                                  integrality\u001b[38;5;241m=\u001b[39mintegrality,\n\u001b[1;32m    396\u001b[0m                                  vectorized\u001b[38;5;241m=\u001b[39mvectorized) \u001b[38;5;28;01mas\u001b[39;00m solver:\n\u001b[0;32m--> 397\u001b[0m     ret \u001b[38;5;241m=\u001b[39m \u001b[43msolver\u001b[49m\u001b[38;5;241;43m.\u001b[39;49m\u001b[43msolve\u001b[49m\u001b[43m(\u001b[49m\u001b[43m)\u001b[49m\n\u001b[1;32m    399\u001b[0m \u001b[38;5;28;01mreturn\u001b[39;00m ret\n",
      "File \u001b[0;32m/opt/anaconda3/lib/python3.9/site-packages/scipy/optimize/_differentialevolution.py:989\u001b[0m, in \u001b[0;36mDifferentialEvolutionSolver.solve\u001b[0;34m(self)\u001b[0m\n\u001b[1;32m    984\u001b[0m     \u001b[38;5;28mself\u001b[39m\u001b[38;5;241m.\u001b[39mfeasible, \u001b[38;5;28mself\u001b[39m\u001b[38;5;241m.\u001b[39mconstraint_violation \u001b[38;5;241m=\u001b[39m (\n\u001b[1;32m    985\u001b[0m         \u001b[38;5;28mself\u001b[39m\u001b[38;5;241m.\u001b[39m_calculate_population_feasibilities(\u001b[38;5;28mself\u001b[39m\u001b[38;5;241m.\u001b[39mpopulation))\n\u001b[1;32m    987\u001b[0m     \u001b[38;5;66;03m# only work out population energies for feasible solutions\u001b[39;00m\n\u001b[1;32m    988\u001b[0m     \u001b[38;5;28mself\u001b[39m\u001b[38;5;241m.\u001b[39mpopulation_energies[\u001b[38;5;28mself\u001b[39m\u001b[38;5;241m.\u001b[39mfeasible] \u001b[38;5;241m=\u001b[39m (\n\u001b[0;32m--> 989\u001b[0m         \u001b[38;5;28;43mself\u001b[39;49m\u001b[38;5;241;43m.\u001b[39;49m\u001b[43m_calculate_population_energies\u001b[49m\u001b[43m(\u001b[49m\n\u001b[1;32m    990\u001b[0m \u001b[43m            \u001b[49m\u001b[38;5;28;43mself\u001b[39;49m\u001b[38;5;241;43m.\u001b[39;49m\u001b[43mpopulation\u001b[49m\u001b[43m[\u001b[49m\u001b[38;5;28;43mself\u001b[39;49m\u001b[38;5;241;43m.\u001b[39;49m\u001b[43mfeasible\u001b[49m\u001b[43m]\u001b[49m\u001b[43m)\u001b[49m)\n\u001b[1;32m    992\u001b[0m     \u001b[38;5;28mself\u001b[39m\u001b[38;5;241m.\u001b[39m_promote_lowest_energy()\n\u001b[1;32m    994\u001b[0m \u001b[38;5;66;03m# do the optimization.\u001b[39;00m\n",
      "File \u001b[0;32m/opt/anaconda3/lib/python3.9/site-packages/scipy/optimize/_differentialevolution.py:1122\u001b[0m, in \u001b[0;36mDifferentialEvolutionSolver._calculate_population_energies\u001b[0;34m(self, population)\u001b[0m\n\u001b[1;32m   1120\u001b[0m parameters_pop \u001b[38;5;241m=\u001b[39m \u001b[38;5;28mself\u001b[39m\u001b[38;5;241m.\u001b[39m_scale_parameters(population)\n\u001b[1;32m   1121\u001b[0m \u001b[38;5;28;01mtry\u001b[39;00m:\n\u001b[0;32m-> 1122\u001b[0m     calc_energies \u001b[38;5;241m=\u001b[39m \u001b[38;5;28;43mlist\u001b[39;49m\u001b[43m(\u001b[49m\n\u001b[1;32m   1123\u001b[0m \u001b[43m        \u001b[49m\u001b[38;5;28;43mself\u001b[39;49m\u001b[38;5;241;43m.\u001b[39;49m\u001b[43m_mapwrapper\u001b[49m\u001b[43m(\u001b[49m\u001b[38;5;28;43mself\u001b[39;49m\u001b[38;5;241;43m.\u001b[39;49m\u001b[43mfunc\u001b[49m\u001b[43m,\u001b[49m\u001b[43m \u001b[49m\u001b[43mparameters_pop\u001b[49m\u001b[43m[\u001b[49m\u001b[38;5;241;43m0\u001b[39;49m\u001b[43m:\u001b[49m\u001b[43mS\u001b[49m\u001b[43m]\u001b[49m\u001b[43m)\u001b[49m\n\u001b[1;32m   1124\u001b[0m \u001b[43m    \u001b[49m\u001b[43m)\u001b[49m\n\u001b[1;32m   1125\u001b[0m     calc_energies \u001b[38;5;241m=\u001b[39m np\u001b[38;5;241m.\u001b[39msqueeze(calc_energies)\n\u001b[1;32m   1126\u001b[0m \u001b[38;5;28;01mexcept\u001b[39;00m (\u001b[38;5;167;01mTypeError\u001b[39;00m, \u001b[38;5;167;01mValueError\u001b[39;00m) \u001b[38;5;28;01mas\u001b[39;00m e:\n\u001b[1;32m   1127\u001b[0m     \u001b[38;5;66;03m# wrong number of arguments for _mapwrapper\u001b[39;00m\n\u001b[1;32m   1128\u001b[0m     \u001b[38;5;66;03m# or wrong length returned from the mapper\u001b[39;00m\n",
      "File \u001b[0;32m/opt/anaconda3/lib/python3.9/site-packages/scipy/_lib/_util.py:372\u001b[0m, in \u001b[0;36m_FunctionWrapper.__call__\u001b[0;34m(self, x)\u001b[0m\n\u001b[1;32m    371\u001b[0m \u001b[38;5;28;01mdef\u001b[39;00m \u001b[38;5;21m__call__\u001b[39m(\u001b[38;5;28mself\u001b[39m, x):\n\u001b[0;32m--> 372\u001b[0m     \u001b[38;5;28;01mreturn\u001b[39;00m \u001b[38;5;28;43mself\u001b[39;49m\u001b[38;5;241;43m.\u001b[39;49m\u001b[43mf\u001b[49m\u001b[43m(\u001b[49m\u001b[43mx\u001b[49m\u001b[43m,\u001b[49m\u001b[43m \u001b[49m\u001b[38;5;241;43m*\u001b[39;49m\u001b[38;5;28;43mself\u001b[39;49m\u001b[38;5;241;43m.\u001b[39;49m\u001b[43margs\u001b[49m\u001b[43m)\u001b[49m\n",
      "Cell \u001b[0;32mIn[44], line 190\u001b[0m, in \u001b[0;36mBlankSlatePolicy.solve.<locals>.<lambda>\u001b[0;34m(x)\u001b[0m\n\u001b[1;32m    183\u001b[0m \u001b[38;5;28;01mdef\u001b[39;00m \u001b[38;5;21msolve\u001b[39m(\u001b[38;5;28mself\u001b[39m, return_amounts: \u001b[38;5;28mbool\u001b[39m \u001b[38;5;241m=\u001b[39m \u001b[38;5;28;01mFalse\u001b[39;00m, return_loss: \u001b[38;5;28mbool\u001b[39m \u001b[38;5;241m=\u001b[39m \u001b[38;5;28;01mFalse\u001b[39;00m) \u001b[38;5;241m-\u001b[39m\u001b[38;5;241m>\u001b[39m \u001b[38;5;28mdict\u001b[39m:\n\u001b[1;32m    184\u001b[0m     (\n\u001b[1;32m    185\u001b[0m         \u001b[38;5;28mself\u001b[39m\u001b[38;5;241m.\u001b[39myoung_child,\n\u001b[1;32m    186\u001b[0m         \u001b[38;5;28mself\u001b[39m\u001b[38;5;241m.\u001b[39molder_child,\n\u001b[1;32m    187\u001b[0m         \u001b[38;5;28mself\u001b[39m\u001b[38;5;241m.\u001b[39myoung_adult,\n\u001b[1;32m    188\u001b[0m         \u001b[38;5;28mself\u001b[39m\u001b[38;5;241m.\u001b[39madult,\n\u001b[1;32m    189\u001b[0m     ) \u001b[38;5;241m=\u001b[39m differential_evolution(\n\u001b[0;32m--> 190\u001b[0m         \u001b[38;5;28;01mlambda\u001b[39;00m x: \u001b[38;5;28;43mself\u001b[39;49m\u001b[38;5;241;43m.\u001b[39;49m\u001b[43mmean_percentage_loss\u001b[49m\u001b[43m(\u001b[49m\u001b[38;5;241;43m*\u001b[39;49m\u001b[43mx\u001b[49m\u001b[43m)\u001b[49m,\n\u001b[1;32m    191\u001b[0m         bounds\u001b[38;5;241m=\u001b[39m[(\u001b[38;5;241m0\u001b[39m, \u001b[38;5;241m30e3\u001b[39m \u001b[38;5;241m*\u001b[39m \u001b[38;5;28mself\u001b[39m\u001b[38;5;241m.\u001b[39mflat_tax_rate)] \u001b[38;5;241m*\u001b[39m \u001b[38;5;241m4\u001b[39m,\n\u001b[1;32m    192\u001b[0m         maxiter\u001b[38;5;241m=\u001b[39m\u001b[38;5;28mint\u001b[39m(\u001b[38;5;241m1e2\u001b[39m),\n\u001b[1;32m    193\u001b[0m         seed\u001b[38;5;241m=\u001b[39m\u001b[38;5;241m0\u001b[39m,\n\u001b[1;32m    194\u001b[0m     )\u001b[38;5;241m.\u001b[39mx\n\u001b[1;32m    195\u001b[0m     _, \u001b[38;5;28mself\u001b[39m\u001b[38;5;241m.\u001b[39msenior, _ \u001b[38;5;241m=\u001b[39m \u001b[38;5;28mself\u001b[39m\u001b[38;5;241m.\u001b[39mmean_percentage_loss(\n\u001b[1;32m    196\u001b[0m         \u001b[38;5;28mself\u001b[39m\u001b[38;5;241m.\u001b[39myoung_child, \u001b[38;5;28mself\u001b[39m\u001b[38;5;241m.\u001b[39molder_child, \u001b[38;5;28mself\u001b[39m\u001b[38;5;241m.\u001b[39myoung_adult, \u001b[38;5;28mself\u001b[39m\u001b[38;5;241m.\u001b[39madult, return_extras\u001b[38;5;241m=\u001b[39m\u001b[38;5;28;01mTrue\u001b[39;00m\n\u001b[1;32m    197\u001b[0m     )\n\u001b[1;32m    198\u001b[0m     \u001b[38;5;28mself\u001b[39m\u001b[38;5;241m.\u001b[39mreform \u001b[38;5;241m=\u001b[39m Reform\u001b[38;5;241m.\u001b[39mfrom_dict(\n\u001b[1;32m    199\u001b[0m         {\n\u001b[1;32m    200\u001b[0m             \u001b[38;5;241m*\u001b[39m\u001b[38;5;241m*\u001b[39mcreate_funding_reform(\u001b[38;5;28mself\u001b[39m\u001b[38;5;241m.\u001b[39mflat_tax_rate)\u001b[38;5;241m.\u001b[39mparameter_values,\n\u001b[0;32m   (...)\u001b[0m\n\u001b[1;32m    217\u001b[0m         \u001b[38;5;124m\"\u001b[39m\u001b[38;5;124mus\u001b[39m\u001b[38;5;124m\"\u001b[39m,\n\u001b[1;32m    218\u001b[0m     )\n",
      "Cell \u001b[0;32mIn[44], line 159\u001b[0m, in \u001b[0;36mBlankSlatePolicy.mean_percentage_loss\u001b[0;34m(self, young_child, older_child, young_adult, adult, return_extras)\u001b[0m\n\u001b[1;32m    157\u001b[0m income_effect \u001b[38;5;241m=\u001b[39m income_rel_change_c \u001b[38;5;241m*\u001b[39m \u001b[38;5;28mself\u001b[39m\u001b[38;5;241m.\u001b[39mdf\u001b[38;5;241m.\u001b[39mtotal_employment_income \u001b[38;5;241m*\u001b[39m INCOME_ELASTICITY\n\u001b[1;32m    158\u001b[0m employment_income_change \u001b[38;5;241m=\u001b[39m income_effect\n\u001b[0;32m--> 159\u001b[0m rough_net_income_change_from_lsr \u001b[38;5;241m=\u001b[39m employment_income_change \u001b[38;5;241m*\u001b[39m (\u001b[38;5;241m1\u001b[39m \u001b[38;5;241m-\u001b[39m \u001b[38;5;28;43mself\u001b[39;49m\u001b[38;5;241;43m.\u001b[39;49m\u001b[43mdf\u001b[49m\u001b[38;5;241;43m.\u001b[39;49m\u001b[43mreformed_mtr\u001b[49m)\n\u001b[1;32m    160\u001b[0m rough_tax_change_from_lsr \u001b[38;5;241m=\u001b[39m employment_income_change \u001b[38;5;241m*\u001b[39m \u001b[38;5;28mself\u001b[39m\u001b[38;5;241m.\u001b[39mdf\u001b[38;5;241m.\u001b[39mreformed_mtr\n\u001b[1;32m    161\u001b[0m total_ubi_funding_change \u001b[38;5;241m=\u001b[39m (rough_tax_change_from_lsr \u001b[38;5;241m*\u001b[39m \u001b[38;5;28mself\u001b[39m\u001b[38;5;241m.\u001b[39mdf\u001b[38;5;241m.\u001b[39mweight)\u001b[38;5;241m.\u001b[39msum()\n",
      "File \u001b[0;32m/opt/anaconda3/lib/python3.9/site-packages/pandas/core/generic.py:5902\u001b[0m, in \u001b[0;36mNDFrame.__getattr__\u001b[0;34m(self, name)\u001b[0m\n\u001b[1;32m   5895\u001b[0m \u001b[38;5;28;01mif\u001b[39;00m (\n\u001b[1;32m   5896\u001b[0m     name \u001b[38;5;129;01mnot\u001b[39;00m \u001b[38;5;129;01min\u001b[39;00m \u001b[38;5;28mself\u001b[39m\u001b[38;5;241m.\u001b[39m_internal_names_set\n\u001b[1;32m   5897\u001b[0m     \u001b[38;5;129;01mand\u001b[39;00m name \u001b[38;5;129;01mnot\u001b[39;00m \u001b[38;5;129;01min\u001b[39;00m \u001b[38;5;28mself\u001b[39m\u001b[38;5;241m.\u001b[39m_metadata\n\u001b[1;32m   5898\u001b[0m     \u001b[38;5;129;01mand\u001b[39;00m name \u001b[38;5;129;01mnot\u001b[39;00m \u001b[38;5;129;01min\u001b[39;00m \u001b[38;5;28mself\u001b[39m\u001b[38;5;241m.\u001b[39m_accessors\n\u001b[1;32m   5899\u001b[0m     \u001b[38;5;129;01mand\u001b[39;00m \u001b[38;5;28mself\u001b[39m\u001b[38;5;241m.\u001b[39m_info_axis\u001b[38;5;241m.\u001b[39m_can_hold_identifiers_and_holds_name(name)\n\u001b[1;32m   5900\u001b[0m ):\n\u001b[1;32m   5901\u001b[0m     \u001b[38;5;28;01mreturn\u001b[39;00m \u001b[38;5;28mself\u001b[39m[name]\n\u001b[0;32m-> 5902\u001b[0m \u001b[38;5;28;01mreturn\u001b[39;00m \u001b[38;5;28;43mobject\u001b[39;49m\u001b[38;5;241;43m.\u001b[39;49m\u001b[38;5;21;43m__getattribute__\u001b[39;49m\u001b[43m(\u001b[49m\u001b[38;5;28;43mself\u001b[39;49m\u001b[43m,\u001b[49m\u001b[43m \u001b[49m\u001b[43mname\u001b[49m\u001b[43m)\u001b[49m\n",
      "\u001b[0;31mAttributeError\u001b[0m: 'DataFrame' object has no attribute 'reformed_mtr'"
     ]
    }
   ],
   "source": [
    "data = policy.solve(return_amounts=True, return_loss=True)"
   ]
  },
  {
   "cell_type": "code",
   "execution_count": 33,
   "metadata": {},
   "outputs": [
    {
     "data": {
      "text/plain": [
       "{'reform': policyengine_core.reforms.reform.Reform.from_dict.<locals>.reform,\n",
       " 'amounts': {'young_child': 3237.7089459591953,\n",
       "  'older_child': 3017.637297485982,\n",
       "  'young_adult': 3999.307512656774,\n",
       "  'adult': 4281.81795818974,\n",
       "  'senior': 3444.625036429992},\n",
       " 'loss': 0.054036227650283854}"
      ]
     },
     "execution_count": 33,
     "metadata": {},
     "output_type": "execute_result"
    }
   ],
   "source": [
    "data"
   ]
  },
  {
   "cell_type": "code",
   "execution_count": 6,
   "metadata": {},
   "outputs": [
    {
     "data": {
      "application/vnd.plotly.v1+json": {
       "config": {
        "plotlyServerURL": "https://plot.ly"
       },
       "data": [
        {
         "hovertemplate": "flat_tax_rate=%{x}<br>loss=%{y}<extra></extra>",
         "legendgroup": "",
         "line": {
          "color": "#2C6496",
          "dash": "solid"
         },
         "marker": {
          "symbol": "circle"
         },
         "mode": "lines",
         "name": "",
         "orientation": "v",
         "showlegend": false,
         "type": "scatter",
         "x": [
          0.2,
          0.25,
          0.30000000000000004,
          0.35000000000000003,
          0.4
         ],
         "xaxis": "x",
         "y": [
          0.15370742460100004,
          0.08423301014348981,
          0.05397940929539506,
          0.09075076738549116,
          4.009701297148887
         ],
         "yaxis": "y"
        }
       ],
       "layout": {
        "font": {
         "color": "black",
         "family": "Roboto Serif"
        },
        "height": 600,
        "images": [
         {
          "sizex": 0.2,
          "sizey": 0.2,
          "source": "https://raw.githubusercontent.com/PolicyEngine/policyengine-app/master/src/images/logos/policyengine/blue.png",
          "x": 1,
          "xanchor": "right",
          "xref": "paper",
          "y": -0.15,
          "yanchor": "bottom",
          "yref": "paper"
         }
        ],
        "legend": {
         "tracegroupgap": 0
        },
        "margin": {
         "t": 60
        },
        "modebar": {
         "bgcolor": "rgba(0,0,0,0)",
         "color": "rgba(0,0,0,0)"
        },
        "template": {
         "data": {
          "bar": [
           {
            "error_x": {
             "color": "#2a3f5f"
            },
            "error_y": {
             "color": "#2a3f5f"
            },
            "marker": {
             "line": {
              "color": "white",
              "width": 0.5
             },
             "pattern": {
              "fillmode": "overlay",
              "size": 10,
              "solidity": 0.2
             }
            },
            "type": "bar"
           }
          ],
          "barpolar": [
           {
            "marker": {
             "line": {
              "color": "white",
              "width": 0.5
             },
             "pattern": {
              "fillmode": "overlay",
              "size": 10,
              "solidity": 0.2
             }
            },
            "type": "barpolar"
           }
          ],
          "carpet": [
           {
            "aaxis": {
             "endlinecolor": "#2a3f5f",
             "gridcolor": "#C8D4E3",
             "linecolor": "#C8D4E3",
             "minorgridcolor": "#C8D4E3",
             "startlinecolor": "#2a3f5f"
            },
            "baxis": {
             "endlinecolor": "#2a3f5f",
             "gridcolor": "#C8D4E3",
             "linecolor": "#C8D4E3",
             "minorgridcolor": "#C8D4E3",
             "startlinecolor": "#2a3f5f"
            },
            "type": "carpet"
           }
          ],
          "choropleth": [
           {
            "colorbar": {
             "outlinewidth": 0,
             "ticks": ""
            },
            "type": "choropleth"
           }
          ],
          "contour": [
           {
            "colorbar": {
             "outlinewidth": 0,
             "ticks": ""
            },
            "colorscale": [
             [
              0,
              "#0d0887"
             ],
             [
              0.1111111111111111,
              "#46039f"
             ],
             [
              0.2222222222222222,
              "#7201a8"
             ],
             [
              0.3333333333333333,
              "#9c179e"
             ],
             [
              0.4444444444444444,
              "#bd3786"
             ],
             [
              0.5555555555555556,
              "#d8576b"
             ],
             [
              0.6666666666666666,
              "#ed7953"
             ],
             [
              0.7777777777777778,
              "#fb9f3a"
             ],
             [
              0.8888888888888888,
              "#fdca26"
             ],
             [
              1,
              "#f0f921"
             ]
            ],
            "type": "contour"
           }
          ],
          "contourcarpet": [
           {
            "colorbar": {
             "outlinewidth": 0,
             "ticks": ""
            },
            "type": "contourcarpet"
           }
          ],
          "heatmap": [
           {
            "colorbar": {
             "outlinewidth": 0,
             "ticks": ""
            },
            "colorscale": [
             [
              0,
              "#0d0887"
             ],
             [
              0.1111111111111111,
              "#46039f"
             ],
             [
              0.2222222222222222,
              "#7201a8"
             ],
             [
              0.3333333333333333,
              "#9c179e"
             ],
             [
              0.4444444444444444,
              "#bd3786"
             ],
             [
              0.5555555555555556,
              "#d8576b"
             ],
             [
              0.6666666666666666,
              "#ed7953"
             ],
             [
              0.7777777777777778,
              "#fb9f3a"
             ],
             [
              0.8888888888888888,
              "#fdca26"
             ],
             [
              1,
              "#f0f921"
             ]
            ],
            "type": "heatmap"
           }
          ],
          "heatmapgl": [
           {
            "colorbar": {
             "outlinewidth": 0,
             "ticks": ""
            },
            "colorscale": [
             [
              0,
              "#0d0887"
             ],
             [
              0.1111111111111111,
              "#46039f"
             ],
             [
              0.2222222222222222,
              "#7201a8"
             ],
             [
              0.3333333333333333,
              "#9c179e"
             ],
             [
              0.4444444444444444,
              "#bd3786"
             ],
             [
              0.5555555555555556,
              "#d8576b"
             ],
             [
              0.6666666666666666,
              "#ed7953"
             ],
             [
              0.7777777777777778,
              "#fb9f3a"
             ],
             [
              0.8888888888888888,
              "#fdca26"
             ],
             [
              1,
              "#f0f921"
             ]
            ],
            "type": "heatmapgl"
           }
          ],
          "histogram": [
           {
            "marker": {
             "pattern": {
              "fillmode": "overlay",
              "size": 10,
              "solidity": 0.2
             }
            },
            "type": "histogram"
           }
          ],
          "histogram2d": [
           {
            "colorbar": {
             "outlinewidth": 0,
             "ticks": ""
            },
            "colorscale": [
             [
              0,
              "#0d0887"
             ],
             [
              0.1111111111111111,
              "#46039f"
             ],
             [
              0.2222222222222222,
              "#7201a8"
             ],
             [
              0.3333333333333333,
              "#9c179e"
             ],
             [
              0.4444444444444444,
              "#bd3786"
             ],
             [
              0.5555555555555556,
              "#d8576b"
             ],
             [
              0.6666666666666666,
              "#ed7953"
             ],
             [
              0.7777777777777778,
              "#fb9f3a"
             ],
             [
              0.8888888888888888,
              "#fdca26"
             ],
             [
              1,
              "#f0f921"
             ]
            ],
            "type": "histogram2d"
           }
          ],
          "histogram2dcontour": [
           {
            "colorbar": {
             "outlinewidth": 0,
             "ticks": ""
            },
            "colorscale": [
             [
              0,
              "#0d0887"
             ],
             [
              0.1111111111111111,
              "#46039f"
             ],
             [
              0.2222222222222222,
              "#7201a8"
             ],
             [
              0.3333333333333333,
              "#9c179e"
             ],
             [
              0.4444444444444444,
              "#bd3786"
             ],
             [
              0.5555555555555556,
              "#d8576b"
             ],
             [
              0.6666666666666666,
              "#ed7953"
             ],
             [
              0.7777777777777778,
              "#fb9f3a"
             ],
             [
              0.8888888888888888,
              "#fdca26"
             ],
             [
              1,
              "#f0f921"
             ]
            ],
            "type": "histogram2dcontour"
           }
          ],
          "mesh3d": [
           {
            "colorbar": {
             "outlinewidth": 0,
             "ticks": ""
            },
            "type": "mesh3d"
           }
          ],
          "parcoords": [
           {
            "line": {
             "colorbar": {
              "outlinewidth": 0,
              "ticks": ""
             }
            },
            "type": "parcoords"
           }
          ],
          "pie": [
           {
            "automargin": true,
            "type": "pie"
           }
          ],
          "scatter": [
           {
            "fillpattern": {
             "fillmode": "overlay",
             "size": 10,
             "solidity": 0.2
            },
            "type": "scatter"
           }
          ],
          "scatter3d": [
           {
            "line": {
             "colorbar": {
              "outlinewidth": 0,
              "ticks": ""
             }
            },
            "marker": {
             "colorbar": {
              "outlinewidth": 0,
              "ticks": ""
             }
            },
            "type": "scatter3d"
           }
          ],
          "scattercarpet": [
           {
            "marker": {
             "colorbar": {
              "outlinewidth": 0,
              "ticks": ""
             }
            },
            "type": "scattercarpet"
           }
          ],
          "scattergeo": [
           {
            "marker": {
             "colorbar": {
              "outlinewidth": 0,
              "ticks": ""
             }
            },
            "type": "scattergeo"
           }
          ],
          "scattergl": [
           {
            "marker": {
             "colorbar": {
              "outlinewidth": 0,
              "ticks": ""
             }
            },
            "type": "scattergl"
           }
          ],
          "scattermapbox": [
           {
            "marker": {
             "colorbar": {
              "outlinewidth": 0,
              "ticks": ""
             }
            },
            "type": "scattermapbox"
           }
          ],
          "scatterpolar": [
           {
            "marker": {
             "colorbar": {
              "outlinewidth": 0,
              "ticks": ""
             }
            },
            "type": "scatterpolar"
           }
          ],
          "scatterpolargl": [
           {
            "marker": {
             "colorbar": {
              "outlinewidth": 0,
              "ticks": ""
             }
            },
            "type": "scatterpolargl"
           }
          ],
          "scatterternary": [
           {
            "marker": {
             "colorbar": {
              "outlinewidth": 0,
              "ticks": ""
             }
            },
            "type": "scatterternary"
           }
          ],
          "surface": [
           {
            "colorbar": {
             "outlinewidth": 0,
             "ticks": ""
            },
            "colorscale": [
             [
              0,
              "#0d0887"
             ],
             [
              0.1111111111111111,
              "#46039f"
             ],
             [
              0.2222222222222222,
              "#7201a8"
             ],
             [
              0.3333333333333333,
              "#9c179e"
             ],
             [
              0.4444444444444444,
              "#bd3786"
             ],
             [
              0.5555555555555556,
              "#d8576b"
             ],
             [
              0.6666666666666666,
              "#ed7953"
             ],
             [
              0.7777777777777778,
              "#fb9f3a"
             ],
             [
              0.8888888888888888,
              "#fdca26"
             ],
             [
              1,
              "#f0f921"
             ]
            ],
            "type": "surface"
           }
          ],
          "table": [
           {
            "cells": {
             "fill": {
              "color": "#EBF0F8"
             },
             "line": {
              "color": "white"
             }
            },
            "header": {
             "fill": {
              "color": "#C8D4E3"
             },
             "line": {
              "color": "white"
             }
            },
            "type": "table"
           }
          ]
         },
         "layout": {
          "annotationdefaults": {
           "arrowcolor": "#2a3f5f",
           "arrowhead": 0,
           "arrowwidth": 1
          },
          "autotypenumbers": "strict",
          "coloraxis": {
           "colorbar": {
            "outlinewidth": 0,
            "ticks": ""
           }
          },
          "colorscale": {
           "diverging": [
            [
             0,
             "#8e0152"
            ],
            [
             0.1,
             "#c51b7d"
            ],
            [
             0.2,
             "#de77ae"
            ],
            [
             0.3,
             "#f1b6da"
            ],
            [
             0.4,
             "#fde0ef"
            ],
            [
             0.5,
             "#f7f7f7"
            ],
            [
             0.6,
             "#e6f5d0"
            ],
            [
             0.7,
             "#b8e186"
            ],
            [
             0.8,
             "#7fbc41"
            ],
            [
             0.9,
             "#4d9221"
            ],
            [
             1,
             "#276419"
            ]
           ],
           "sequential": [
            [
             0,
             "#0d0887"
            ],
            [
             0.1111111111111111,
             "#46039f"
            ],
            [
             0.2222222222222222,
             "#7201a8"
            ],
            [
             0.3333333333333333,
             "#9c179e"
            ],
            [
             0.4444444444444444,
             "#bd3786"
            ],
            [
             0.5555555555555556,
             "#d8576b"
            ],
            [
             0.6666666666666666,
             "#ed7953"
            ],
            [
             0.7777777777777778,
             "#fb9f3a"
            ],
            [
             0.8888888888888888,
             "#fdca26"
            ],
            [
             1,
             "#f0f921"
            ]
           ],
           "sequentialminus": [
            [
             0,
             "#0d0887"
            ],
            [
             0.1111111111111111,
             "#46039f"
            ],
            [
             0.2222222222222222,
             "#7201a8"
            ],
            [
             0.3333333333333333,
             "#9c179e"
            ],
            [
             0.4444444444444444,
             "#bd3786"
            ],
            [
             0.5555555555555556,
             "#d8576b"
            ],
            [
             0.6666666666666666,
             "#ed7953"
            ],
            [
             0.7777777777777778,
             "#fb9f3a"
            ],
            [
             0.8888888888888888,
             "#fdca26"
            ],
            [
             1,
             "#f0f921"
            ]
           ]
          },
          "colorway": [
           "#636efa",
           "#EF553B",
           "#00cc96",
           "#ab63fa",
           "#FFA15A",
           "#19d3f3",
           "#FF6692",
           "#B6E880",
           "#FF97FF",
           "#FECB52"
          ],
          "font": {
           "color": "#2a3f5f"
          },
          "geo": {
           "bgcolor": "white",
           "lakecolor": "white",
           "landcolor": "white",
           "showlakes": true,
           "showland": true,
           "subunitcolor": "#C8D4E3"
          },
          "hoverlabel": {
           "align": "left"
          },
          "hovermode": "closest",
          "mapbox": {
           "style": "light"
          },
          "paper_bgcolor": "white",
          "plot_bgcolor": "white",
          "polar": {
           "angularaxis": {
            "gridcolor": "#EBF0F8",
            "linecolor": "#EBF0F8",
            "ticks": ""
           },
           "bgcolor": "white",
           "radialaxis": {
            "gridcolor": "#EBF0F8",
            "linecolor": "#EBF0F8",
            "ticks": ""
           }
          },
          "scene": {
           "xaxis": {
            "backgroundcolor": "white",
            "gridcolor": "#DFE8F3",
            "gridwidth": 2,
            "linecolor": "#EBF0F8",
            "showbackground": true,
            "ticks": "",
            "zerolinecolor": "#EBF0F8"
           },
           "yaxis": {
            "backgroundcolor": "white",
            "gridcolor": "#DFE8F3",
            "gridwidth": 2,
            "linecolor": "#EBF0F8",
            "showbackground": true,
            "ticks": "",
            "zerolinecolor": "#EBF0F8"
           },
           "zaxis": {
            "backgroundcolor": "white",
            "gridcolor": "#DFE8F3",
            "gridwidth": 2,
            "linecolor": "#EBF0F8",
            "showbackground": true,
            "ticks": "",
            "zerolinecolor": "#EBF0F8"
           }
          },
          "shapedefaults": {
           "line": {
            "color": "#2a3f5f"
           }
          },
          "ternary": {
           "aaxis": {
            "gridcolor": "#DFE8F3",
            "linecolor": "#A2B1C6",
            "ticks": ""
           },
           "baxis": {
            "gridcolor": "#DFE8F3",
            "linecolor": "#A2B1C6",
            "ticks": ""
           },
           "bgcolor": "white",
           "caxis": {
            "gridcolor": "#DFE8F3",
            "linecolor": "#A2B1C6",
            "ticks": ""
           }
          },
          "title": {
           "x": 0.05
          },
          "xaxis": {
           "automargin": true,
           "gridcolor": "#EBF0F8",
           "linecolor": "#EBF0F8",
           "ticks": "",
           "title": {
            "standoff": 15
           },
           "zerolinecolor": "#EBF0F8",
           "zerolinewidth": 2
          },
          "yaxis": {
           "automargin": true,
           "gridcolor": "#EBF0F8",
           "linecolor": "#EBF0F8",
           "ticks": "",
           "title": {
            "standoff": 15
           },
           "zerolinecolor": "#EBF0F8",
           "zerolinewidth": 2
          }
         }
        },
        "title": {
         "text": "Mean percentage loss by flat tax rate"
        },
        "width": 800,
        "xaxis": {
         "anchor": "y",
         "domain": [
          0,
          1
         ],
         "tickformat": ".0%",
         "title": {
          "text": "Flat tax rate"
         }
        },
        "yaxis": {
         "anchor": "x",
         "domain": [
          0,
          1
         ],
         "tickformat": ".1%",
         "title": {
          "text": "Loss"
         }
        }
       }
      }
     },
     "metadata": {},
     "output_type": "display_data"
    }
   ],
   "source": [
    "import plotly.express as px\n",
    "from policyengine_core.charts import *\n",
    "\n",
    "fig = px.line(\n",
    "    df.sort_values(\"flat_tax_rate\"),\n",
    "    x=\"flat_tax_rate\",\n",
    "    y=\"loss\",\n",
    ")\n",
    "\n",
    "\n",
    "format_fig(fig).update_traces(\n",
    "    # Set color to BLUE\n",
    "    line=dict(color=BLUE_PRIMARY),\n",
    ").update_layout(\n",
    "    title=\"Mean percentage loss by flat tax rate\",\n",
    "    xaxis_title=\"Flat tax rate\",\n",
    "    yaxis_title=\"Loss\",\n",
    "    xaxis_tickformat=\".0%\",\n",
    "    yaxis_tickformat=\".1%\",\n",
    ")"
   ]
  },
  {
   "cell_type": "code",
   "execution_count": 27,
   "metadata": {},
   "outputs": [
    {
     "data": {
      "text/html": [
       "<div>\n",
       "<style scoped>\n",
       "    .dataframe tbody tr th:only-of-type {\n",
       "        vertical-align: middle;\n",
       "    }\n",
       "\n",
       "    .dataframe tbody tr th {\n",
       "        vertical-align: top;\n",
       "    }\n",
       "\n",
       "    .dataframe thead th {\n",
       "        text-align: right;\n",
       "    }\n",
       "</style>\n",
       "<table border=\"1\" class=\"dataframe\">\n",
       "  <thead>\n",
       "    <tr style=\"text-align: right;\">\n",
       "      <th></th>\n",
       "      <th>flat_tax_rate</th>\n",
       "      <th>loss</th>\n",
       "    </tr>\n",
       "  </thead>\n",
       "  <tbody>\n",
       "    <tr>\n",
       "      <th>0</th>\n",
       "      <td>0.3</td>\n",
       "      <td>0.025409</td>\n",
       "    </tr>\n",
       "  </tbody>\n",
       "</table>\n",
       "</div>"
      ],
      "text/plain": [
       "   flat_tax_rate      loss\n",
       "0            0.3  0.025409"
      ]
     },
     "execution_count": 27,
     "metadata": {},
     "output_type": "execute_result"
    }
   ],
   "source": [
    "df"
   ]
  },
  {
   "cell_type": "code",
   "execution_count": 34,
   "metadata": {},
   "outputs": [
    {
     "data": {
      "text/plain": [
       "{'reform': policyengine_core.reforms.reform.Reform.from_dict.<locals>.reform,\n",
       " 'amounts': {'young_child': 3237.7089459591953,\n",
       "  'older_child': 3017.637297485982,\n",
       "  'young_adult': 3999.307512656774,\n",
       "  'adult': 4281.81795818974,\n",
       "  'senior': 3444.625036429992},\n",
       " 'loss': 0.054036227650283854}"
      ]
     },
     "execution_count": 34,
     "metadata": {},
     "output_type": "execute_result"
    }
   ],
   "source": [
    "data"
   ]
  },
  {
   "cell_type": "code",
   "execution_count": 36,
   "metadata": {},
   "outputs": [],
   "source": [
    "from policyengine_us import Microsimulation\n",
    "from policyengine_core.reforms import Reform\n",
    "from policyengine_core.periods import instant\n",
    "import pandas as pd\n",
    "\n",
    "\n",
    "def modify_parameters(parameters):\n",
    "    parameters.gov.contrib.ubi_center.basic_income.amount.person.by_age[0].amount.update(start=instant(\"2023-01-01\"), stop=instant(\"2032-12-31\"), value=data[\"amounts\"][\"young_child\"])\n",
    "    parameters.gov.contrib.ubi_center.basic_income.amount.person.by_age[1].amount.update(start=instant(\"2023-01-01\"), stop=instant(\"2032-12-31\"), value=data[\"amounts\"][\"older_child\"])\n",
    "    parameters.gov.contrib.ubi_center.basic_income.amount.person.by_age[2].amount.update(start=instant(\"2023-01-01\"), stop=instant(\"2032-12-31\"), value=data[\"amounts\"][\"young_adult\"])\n",
    "    parameters.gov.contrib.ubi_center.basic_income.amount.person.by_age[3].amount.update(start=instant(\"2023-01-01\"), stop=instant(\"2032-12-31\"), value=data[\"amounts\"][\"adult\"])\n",
    "    parameters.gov.contrib.ubi_center.basic_income.amount.person.by_age[4].amount.update(start=instant(\"2023-01-01\"), stop=instant(\"2032-12-31\"), value=data[\"amounts\"][\"senior\"])\n",
    "    parameters.gov.contrib.ubi_center.flat_tax.abolish_federal_income_tax.update(start=instant(\"2023-01-01\"), stop=instant(\"2032-12-31\"), value=True)\n",
    "    parameters.gov.contrib.ubi_center.flat_tax.abolish_payroll_tax.update(start=instant(\"2023-01-01\"), stop=instant(\"2032-12-31\"), value=True)\n",
    "    parameters.gov.contrib.ubi_center.flat_tax.abolish_self_emp_tax.update(start=instant(\"2023-01-01\"), stop=instant(\"2032-12-31\"), value=True)\n",
    "    parameters.gov.contrib.ubi_center.flat_tax.deduct_ptc.update(start=instant(\"2023-01-01\"), stop=instant(\"2032-12-31\"), value=True)\n",
    "    parameters.gov.contrib.ubi_center.flat_tax.rate.update(start=instant(\"2023-01-01\"), stop=instant(\"2032-12-31\"), value=0.1)\n",
    "    parameters.gov.simulation.labor_supply_responses.income_elasticity.update(start=instant(\"2023-01-01\"), stop=instant(\"2032-12-31\"), value=-0.05)\n",
    "    parameters.gov.simulation.labor_supply_responses.substitution_elasticity.update(start=instant(\"2023-01-01\"), stop=instant(\"2032-12-31\"), value=0.25)\n",
    "    parameters.gov.ssa.ssi.abolish_ssi.update(start=instant(\"2023-01-01\"), stop=instant(\"2032-12-31\"), value=True)\n",
    "    parameters.gov.usda.snap.abolish_snap.update(start=instant(\"2023-01-01\"), stop=instant(\"2032-12-31\"), value=True)\n",
    "    parameters.gov.usda.snap.emergency_allotment.allowed.update(start=instant(\"2023-01-01\"), stop=instant(\"2032-12-31\"), value=False)\n",
    "    parameters.gov.usda.wic.abolish_wic.update(start=instant(\"2023-01-01\"), stop=instant(\"2032-12-31\"), value=True)\n",
    "    parameters.simulation.reported_state_income_tax.update(start=instant(\"2023-01-01\"), stop=instant(\"2032-12-31\"), value=True)\n",
    "    return parameters\n",
    "\n",
    "class reform(Reform):\n",
    "    def apply(self):\n",
    "        self.modify_parameters(modify_parameters)\n",
    "\n",
    "\n",
    "def baseline_modify_parameters(parameters):\n",
    "    parameters.simulation.reported_state_income_tax.update(start=instant(\"2023-01-01\"), stop=instant(\"2032-12-31\"), value=True)\n",
    "    return parameters\n",
    "\n",
    "class baseline_reform(Reform):\n",
    "    def apply(self):\n",
    "        self.modify_parameters(baseline_modify_parameters)\n",
    "\n",
    "\n",
    "baseline = Microsimulation(reform=baseline_reform)\n",
    "reformed = Microsimulation(reform=reform)"
   ]
  },
  {
   "cell_type": "code",
   "execution_count": 41,
   "metadata": {},
   "outputs": [
    {
     "data": {
      "text/plain": [
       "750.1940368158139"
      ]
     },
     "execution_count": 41,
     "metadata": {},
     "output_type": "execute_result"
    }
   ],
   "source": [
    "reformed.calculate(\"employment_income\").sum()/1e9 - baseline.calculate(\"employment_income\").sum()/1e9"
   ]
  }
 ],
 "metadata": {
  "kernelspec": {
   "display_name": "Python 3",
   "language": "python",
   "name": "python3"
  },
  "language_info": {
   "codemirror_mode": {
    "name": "ipython",
    "version": 3
   },
   "file_extension": ".py",
   "mimetype": "text/x-python",
   "name": "python",
   "nbconvert_exporter": "python",
   "pygments_lexer": "ipython3",
   "version": "3.9.12"
  }
 },
 "nbformat": 4,
 "nbformat_minor": 2
}
