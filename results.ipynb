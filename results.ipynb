{
 "cells": [
  {
   "cell_type": "code",
   "execution_count": 5,
   "metadata": {},
   "outputs": [
    {
     "name": "stdout",
     "output_type": "stream",
     "text": [
      "    flat_tax_rate      loss  api_id       ubi_0_5      ubi_6_17    ubi_18_64  \\\n",
      "0            0.20  0.122087   42769   3367.894501   2986.456072     1.079484   \n",
      "1            0.21  0.109379   42770   3782.959548   2757.879855     3.791090   \n",
      "2            0.22  0.097328   42771   3420.056606   2998.128273   126.155659   \n",
      "3            0.23  0.086060   42772   3997.103949   3259.325831   441.807162   \n",
      "4            0.24  0.076013   42773   3591.126570   3043.123157  1265.118286   \n",
      "5            0.25  0.066969   42774   3646.868923   2738.901635  1979.095180   \n",
      "6            0.26  0.059289   42775   3203.727719   2729.013652  2576.632906   \n",
      "7            0.27  0.053623   42776   3144.393360   2657.716620  3164.894607   \n",
      "8            0.28  0.050584   42777   3062.033136   2935.843323  3404.934731   \n",
      "9            0.29  0.049405   42778   3628.349032   3076.113013  3682.353393   \n",
      "10           0.30  0.049753   42767   4055.114707   3053.475804  4191.389918   \n",
      "11           0.30  0.049753   42779   4055.114707   3053.475804  4191.389918   \n",
      "12           0.31  0.051001   42764   3696.700630   3264.179627  4664.710124   \n",
      "13           0.32  0.053071   42760   4677.212178   3266.282079  5017.949293   \n",
      "14           0.33  0.055422   42758   3982.187730   3415.069925  5622.604212   \n",
      "15           0.34  0.061239   42757   3758.372238   3469.882364  6029.238606   \n",
      "16           0.35  0.093698   42759   5243.375238   4511.829236  5714.629724   \n",
      "17           0.36  0.179060   42762   4659.645156   4730.601822  5870.195210   \n",
      "18           0.37  0.594883   42766  10880.528075   8250.978103  3601.972672   \n",
      "19           0.38  1.760803   42768   9678.312055  11192.646386  3963.873297   \n",
      "20           0.39  2.983062   42780  10914.192886  11170.841427  5618.690575   \n",
      "21           0.40  4.200264   42781   5029.876779  11948.042324  4583.792904   \n",
      "\n",
      "     ubi_65_plus  ubi_disability  \n",
      "0   -4746.692269     3591.060930  \n",
      "1   -2596.987127     5097.539045  \n",
      "2    -850.566331     4787.619240  \n",
      "3     -32.723981     4168.619034  \n",
      "4       4.929704     3047.947040  \n",
      "5     246.103698     2491.961241  \n",
      "6     785.526729     1298.949261  \n",
      "7    1154.334211     1889.681774  \n",
      "8    2326.585978     1821.891280  \n",
      "9    3184.686179     3145.276609  \n",
      "10   3570.699270     3322.750860  \n",
      "11   3570.699270     3322.750860  \n",
      "12   4169.900421     2788.998960  \n",
      "13   4811.271939     2639.667578  \n",
      "14   5130.474919     2446.666374  \n",
      "15   6002.972412     1547.422999  \n",
      "16   7648.613844      391.221060  \n",
      "17   9120.795266     1778.483082  \n",
      "18  12994.925263       22.787180  \n",
      "19  11466.909433     4941.978980  \n",
      "20   8025.223315     3340.869021  \n",
      "21  14560.928661     3749.519490  \n"
     ]
    }
   ],
   "source": [
    "import requests\n",
    "import pandas as pd\n",
    "\n",
    "def get_basic_income_amounts(policy_id):\n",
    "    # API endpoint URL\n",
    "    api_url = f\"https://api.policyengine.org/us/policy/{policy_id}\"\n",
    "\n",
    "    # Making a GET request to the API\n",
    "    response = requests.get(api_url)\n",
    "\n",
    "    if response.status_code == 200:\n",
    "        # Parsing the JSON response\n",
    "        policy_data = response.json()\n",
    "\n",
    "        # Extracting and renaming the basic income amounts\n",
    "        basic_income_amounts = {}\n",
    "        age_group_mapping = {\n",
    "            \"gov.contrib.ubi_center.basic_income.amount.person.by_age[0].amount\": \"ubi_0_5\",\n",
    "            \"gov.contrib.ubi_center.basic_income.amount.person.by_age[1].amount\": \"ubi_6_17\",\n",
    "            \"gov.contrib.ubi_center.basic_income.amount.person.by_age[2].amount\": \"ubi_18_64\",\n",
    "            \"gov.contrib.ubi_center.basic_income.amount.person.by_age[4].amount\": \"ubi_65_plus\",\n",
    "            \"gov.contrib.ubi_center.basic_income.amount.person.disability\": \"ubi_disability\"\n",
    "        }\n",
    "\n",
    "        for key, value in policy_data[\"result\"][\"policy_json\"].items():\n",
    "            if key in age_group_mapping:\n",
    "                # Assuming the amount is the first value in the dictionary\n",
    "                amount = next(iter(value.values()))\n",
    "                basic_income_amounts[age_group_mapping[key]] = amount\n",
    "        return basic_income_amounts\n",
    "    else:\n",
    "        return None\n",
    "\n",
    "# Read the CSV file into a DataFrame\n",
    "df = pd.read_csv('loss_by_rate.csv')\n",
    "\n",
    "# Fetch and add basic income amounts for each reform ID\n",
    "for i, row in df.iterrows():\n",
    "    reform_id = row['api_id']\n",
    "    amounts = get_basic_income_amounts(reform_id)\n",
    "    if amounts:\n",
    "        for column_name, amount in amounts.items():\n",
    "            df.loc[i, column_name] = amount\n",
    "\n",
    "print(df)\n"
   ]
  },
  {
   "cell_type": "code",
   "execution_count": 6,
   "metadata": {},
   "outputs": [
    {
     "data": {
      "application/vnd.plotly.v1+json": {
       "config": {
        "plotlyServerURL": "https://plot.ly"
       },
       "data": [
        {
         "hovertemplate": "UBI Category=ubi_0_5<br>Flat Tax Rate=%{x}<br>UBI Amount=%{y}<extra></extra>",
         "legendgroup": "ubi_0_5",
         "line": {
          "color": "#636efa",
          "dash": "solid"
         },
         "marker": {
          "symbol": "circle"
         },
         "mode": "lines",
         "name": "ubi_0_5",
         "orientation": "v",
         "showlegend": true,
         "type": "scatter",
         "x": [
          0.2,
          0.21,
          0.22,
          0.23,
          0.24,
          0.25,
          0.26,
          0.27,
          0.28,
          0.29,
          0.3,
          0.3,
          0.31,
          0.32,
          0.33,
          0.34,
          0.35,
          0.36,
          0.37,
          0.38,
          0.39,
          0.4
         ],
         "xaxis": "x",
         "y": [
          3367.8945007267585,
          3782.959547652673,
          3420.0566059393627,
          3997.1039490725007,
          3591.1265699317605,
          3646.8689233875034,
          3203.7277187789796,
          3144.393359522591,
          3062.033136089197,
          3628.3490320388246,
          4055.1147067601696,
          4055.1147067601705,
          3696.7006304138545,
          4677.212177716603,
          3982.187730228211,
          3758.372238042319,
          5243.3752380182805,
          4659.645155765073,
          10880.528074841552,
          9678.312055077831,
          10914.192885977502,
          5029.876779007453
         ],
         "yaxis": "y"
        },
        {
         "hovertemplate": "UBI Category=ubi_6_17<br>Flat Tax Rate=%{x}<br>UBI Amount=%{y}<extra></extra>",
         "legendgroup": "ubi_6_17",
         "line": {
          "color": "#EF553B",
          "dash": "solid"
         },
         "marker": {
          "symbol": "circle"
         },
         "mode": "lines",
         "name": "ubi_6_17",
         "orientation": "v",
         "showlegend": true,
         "type": "scatter",
         "x": [
          0.2,
          0.21,
          0.22,
          0.23,
          0.24,
          0.25,
          0.26,
          0.27,
          0.28,
          0.29,
          0.3,
          0.3,
          0.31,
          0.32,
          0.33,
          0.34,
          0.35,
          0.36,
          0.37,
          0.38,
          0.39,
          0.4
         ],
         "xaxis": "x",
         "y": [
          2986.456072002601,
          2757.8798551749537,
          2998.128273076952,
          3259.3258310717283,
          3043.1231573895557,
          2738.9016354633504,
          2729.0136515359627,
          2657.716619533842,
          2935.8433225104905,
          3076.1130127290344,
          3053.4758035601553,
          3053.475803560156,
          3264.1796272003453,
          3266.282079122347,
          3415.069925052751,
          3469.8823639361835,
          4511.8292356255515,
          4730.601822374105,
          8250.978102801208,
          11192.646385906988,
          11170.841427117084,
          11948.042323630643
         ],
         "yaxis": "y"
        },
        {
         "hovertemplate": "UBI Category=ubi_18_64<br>Flat Tax Rate=%{x}<br>UBI Amount=%{y}<extra></extra>",
         "legendgroup": "ubi_18_64",
         "line": {
          "color": "#00cc96",
          "dash": "solid"
         },
         "marker": {
          "symbol": "circle"
         },
         "mode": "lines",
         "name": "ubi_18_64",
         "orientation": "v",
         "showlegend": true,
         "type": "scatter",
         "x": [
          0.2,
          0.21,
          0.22,
          0.23,
          0.24,
          0.25,
          0.26,
          0.27,
          0.28,
          0.29,
          0.3,
          0.3,
          0.31,
          0.32,
          0.33,
          0.34,
          0.35,
          0.36,
          0.37,
          0.38,
          0.39,
          0.4
         ],
         "xaxis": "x",
         "y": [
          1.0794837214075417,
          3.7910902921516936,
          126.1556585064559,
          441.80716239709454,
          1265.1182857752806,
          1979.0951800410971,
          2576.6329063594153,
          3164.8946074152036,
          3404.934730556614,
          3682.353393478262,
          4191.389918475225,
          4191.389918475226,
          4664.7101243373945,
          5017.949292906061,
          5622.604211606077,
          6029.238605733626,
          5714.629723900639,
          5870.195209615193,
          3601.972671754992,
          3963.873297304416,
          5618.690574841983,
          4583.792904187869
         ],
         "yaxis": "y"
        },
        {
         "hovertemplate": "UBI Category=ubi_65_plus<br>Flat Tax Rate=%{x}<br>UBI Amount=%{y}<extra></extra>",
         "legendgroup": "ubi_65_plus",
         "line": {
          "color": "#ab63fa",
          "dash": "solid"
         },
         "marker": {
          "symbol": "circle"
         },
         "mode": "lines",
         "name": "ubi_65_plus",
         "orientation": "v",
         "showlegend": true,
         "type": "scatter",
         "x": [
          0.2,
          0.21,
          0.22,
          0.23,
          0.24,
          0.25,
          0.26,
          0.27,
          0.28,
          0.29,
          0.3,
          0.3,
          0.31,
          0.32,
          0.33,
          0.34,
          0.35,
          0.36,
          0.37,
          0.38,
          0.39,
          0.4
         ],
         "xaxis": "x",
         "y": [
          -4746.692269467263,
          -2596.9871265638017,
          -850.5663314118543,
          -32.723981408400974,
          4.9297038638378,
          246.1036984095218,
          785.5267289413347,
          1154.33421086236,
          2326.585978180651,
          3184.6861789900054,
          3570.699270000107,
          3570.6992700001047,
          4169.900420777692,
          4811.271938664609,
          5130.474918858747,
          6002.972412439543,
          7648.613843998719,
          9120.795266450315,
          12994.925262615236,
          11466.909433175815,
          8025.223314959653,
          14560.92866057909
         ],
         "yaxis": "y"
        },
        {
         "hovertemplate": "UBI Category=ubi_disability<br>Flat Tax Rate=%{x}<br>UBI Amount=%{y}<extra></extra>",
         "legendgroup": "ubi_disability",
         "line": {
          "color": "#FFA15A",
          "dash": "solid"
         },
         "marker": {
          "symbol": "circle"
         },
         "mode": "lines",
         "name": "ubi_disability",
         "orientation": "v",
         "showlegend": true,
         "type": "scatter",
         "x": [
          0.2,
          0.21,
          0.22,
          0.23,
          0.24,
          0.25,
          0.26,
          0.27,
          0.28,
          0.29,
          0.3,
          0.3,
          0.31,
          0.32,
          0.33,
          0.34,
          0.35,
          0.36,
          0.37,
          0.38,
          0.39,
          0.4
         ],
         "xaxis": "x",
         "y": [
          3591.0609303188057,
          5097.539045126469,
          4787.6192399347765,
          4168.619034433996,
          3047.9470402415295,
          2491.9612405951966,
          1298.949260551251,
          1889.681774051952,
          1821.8912798850715,
          3145.276609017385,
          3322.750859604792,
          3322.7508596047924,
          2788.998960130205,
          2639.6675778692884,
          2446.666373690354,
          1547.4229986474988,
          391.2210602671066,
          1778.4830818418525,
          22.787179616339927,
          4941.978979725916,
          3340.8690206753427,
          3749.5194897030274
         ],
         "yaxis": "y"
        }
       ],
       "layout": {
        "legend": {
         "title": {
          "text": "UBI Category"
         },
         "tracegroupgap": 0
        },
        "template": {
         "data": {
          "bar": [
           {
            "error_x": {
             "color": "#2a3f5f"
            },
            "error_y": {
             "color": "#2a3f5f"
            },
            "marker": {
             "line": {
              "color": "#E5ECF6",
              "width": 0.5
             },
             "pattern": {
              "fillmode": "overlay",
              "size": 10,
              "solidity": 0.2
             }
            },
            "type": "bar"
           }
          ],
          "barpolar": [
           {
            "marker": {
             "line": {
              "color": "#E5ECF6",
              "width": 0.5
             },
             "pattern": {
              "fillmode": "overlay",
              "size": 10,
              "solidity": 0.2
             }
            },
            "type": "barpolar"
           }
          ],
          "carpet": [
           {
            "aaxis": {
             "endlinecolor": "#2a3f5f",
             "gridcolor": "white",
             "linecolor": "white",
             "minorgridcolor": "white",
             "startlinecolor": "#2a3f5f"
            },
            "baxis": {
             "endlinecolor": "#2a3f5f",
             "gridcolor": "white",
             "linecolor": "white",
             "minorgridcolor": "white",
             "startlinecolor": "#2a3f5f"
            },
            "type": "carpet"
           }
          ],
          "choropleth": [
           {
            "colorbar": {
             "outlinewidth": 0,
             "ticks": ""
            },
            "type": "choropleth"
           }
          ],
          "contour": [
           {
            "colorbar": {
             "outlinewidth": 0,
             "ticks": ""
            },
            "colorscale": [
             [
              0,
              "#0d0887"
             ],
             [
              0.1111111111111111,
              "#46039f"
             ],
             [
              0.2222222222222222,
              "#7201a8"
             ],
             [
              0.3333333333333333,
              "#9c179e"
             ],
             [
              0.4444444444444444,
              "#bd3786"
             ],
             [
              0.5555555555555556,
              "#d8576b"
             ],
             [
              0.6666666666666666,
              "#ed7953"
             ],
             [
              0.7777777777777778,
              "#fb9f3a"
             ],
             [
              0.8888888888888888,
              "#fdca26"
             ],
             [
              1,
              "#f0f921"
             ]
            ],
            "type": "contour"
           }
          ],
          "contourcarpet": [
           {
            "colorbar": {
             "outlinewidth": 0,
             "ticks": ""
            },
            "type": "contourcarpet"
           }
          ],
          "heatmap": [
           {
            "colorbar": {
             "outlinewidth": 0,
             "ticks": ""
            },
            "colorscale": [
             [
              0,
              "#0d0887"
             ],
             [
              0.1111111111111111,
              "#46039f"
             ],
             [
              0.2222222222222222,
              "#7201a8"
             ],
             [
              0.3333333333333333,
              "#9c179e"
             ],
             [
              0.4444444444444444,
              "#bd3786"
             ],
             [
              0.5555555555555556,
              "#d8576b"
             ],
             [
              0.6666666666666666,
              "#ed7953"
             ],
             [
              0.7777777777777778,
              "#fb9f3a"
             ],
             [
              0.8888888888888888,
              "#fdca26"
             ],
             [
              1,
              "#f0f921"
             ]
            ],
            "type": "heatmap"
           }
          ],
          "heatmapgl": [
           {
            "colorbar": {
             "outlinewidth": 0,
             "ticks": ""
            },
            "colorscale": [
             [
              0,
              "#0d0887"
             ],
             [
              0.1111111111111111,
              "#46039f"
             ],
             [
              0.2222222222222222,
              "#7201a8"
             ],
             [
              0.3333333333333333,
              "#9c179e"
             ],
             [
              0.4444444444444444,
              "#bd3786"
             ],
             [
              0.5555555555555556,
              "#d8576b"
             ],
             [
              0.6666666666666666,
              "#ed7953"
             ],
             [
              0.7777777777777778,
              "#fb9f3a"
             ],
             [
              0.8888888888888888,
              "#fdca26"
             ],
             [
              1,
              "#f0f921"
             ]
            ],
            "type": "heatmapgl"
           }
          ],
          "histogram": [
           {
            "marker": {
             "pattern": {
              "fillmode": "overlay",
              "size": 10,
              "solidity": 0.2
             }
            },
            "type": "histogram"
           }
          ],
          "histogram2d": [
           {
            "colorbar": {
             "outlinewidth": 0,
             "ticks": ""
            },
            "colorscale": [
             [
              0,
              "#0d0887"
             ],
             [
              0.1111111111111111,
              "#46039f"
             ],
             [
              0.2222222222222222,
              "#7201a8"
             ],
             [
              0.3333333333333333,
              "#9c179e"
             ],
             [
              0.4444444444444444,
              "#bd3786"
             ],
             [
              0.5555555555555556,
              "#d8576b"
             ],
             [
              0.6666666666666666,
              "#ed7953"
             ],
             [
              0.7777777777777778,
              "#fb9f3a"
             ],
             [
              0.8888888888888888,
              "#fdca26"
             ],
             [
              1,
              "#f0f921"
             ]
            ],
            "type": "histogram2d"
           }
          ],
          "histogram2dcontour": [
           {
            "colorbar": {
             "outlinewidth": 0,
             "ticks": ""
            },
            "colorscale": [
             [
              0,
              "#0d0887"
             ],
             [
              0.1111111111111111,
              "#46039f"
             ],
             [
              0.2222222222222222,
              "#7201a8"
             ],
             [
              0.3333333333333333,
              "#9c179e"
             ],
             [
              0.4444444444444444,
              "#bd3786"
             ],
             [
              0.5555555555555556,
              "#d8576b"
             ],
             [
              0.6666666666666666,
              "#ed7953"
             ],
             [
              0.7777777777777778,
              "#fb9f3a"
             ],
             [
              0.8888888888888888,
              "#fdca26"
             ],
             [
              1,
              "#f0f921"
             ]
            ],
            "type": "histogram2dcontour"
           }
          ],
          "mesh3d": [
           {
            "colorbar": {
             "outlinewidth": 0,
             "ticks": ""
            },
            "type": "mesh3d"
           }
          ],
          "parcoords": [
           {
            "line": {
             "colorbar": {
              "outlinewidth": 0,
              "ticks": ""
             }
            },
            "type": "parcoords"
           }
          ],
          "pie": [
           {
            "automargin": true,
            "type": "pie"
           }
          ],
          "scatter": [
           {
            "fillpattern": {
             "fillmode": "overlay",
             "size": 10,
             "solidity": 0.2
            },
            "type": "scatter"
           }
          ],
          "scatter3d": [
           {
            "line": {
             "colorbar": {
              "outlinewidth": 0,
              "ticks": ""
             }
            },
            "marker": {
             "colorbar": {
              "outlinewidth": 0,
              "ticks": ""
             }
            },
            "type": "scatter3d"
           }
          ],
          "scattercarpet": [
           {
            "marker": {
             "colorbar": {
              "outlinewidth": 0,
              "ticks": ""
             }
            },
            "type": "scattercarpet"
           }
          ],
          "scattergeo": [
           {
            "marker": {
             "colorbar": {
              "outlinewidth": 0,
              "ticks": ""
             }
            },
            "type": "scattergeo"
           }
          ],
          "scattergl": [
           {
            "marker": {
             "colorbar": {
              "outlinewidth": 0,
              "ticks": ""
             }
            },
            "type": "scattergl"
           }
          ],
          "scattermapbox": [
           {
            "marker": {
             "colorbar": {
              "outlinewidth": 0,
              "ticks": ""
             }
            },
            "type": "scattermapbox"
           }
          ],
          "scatterpolar": [
           {
            "marker": {
             "colorbar": {
              "outlinewidth": 0,
              "ticks": ""
             }
            },
            "type": "scatterpolar"
           }
          ],
          "scatterpolargl": [
           {
            "marker": {
             "colorbar": {
              "outlinewidth": 0,
              "ticks": ""
             }
            },
            "type": "scatterpolargl"
           }
          ],
          "scatterternary": [
           {
            "marker": {
             "colorbar": {
              "outlinewidth": 0,
              "ticks": ""
             }
            },
            "type": "scatterternary"
           }
          ],
          "surface": [
           {
            "colorbar": {
             "outlinewidth": 0,
             "ticks": ""
            },
            "colorscale": [
             [
              0,
              "#0d0887"
             ],
             [
              0.1111111111111111,
              "#46039f"
             ],
             [
              0.2222222222222222,
              "#7201a8"
             ],
             [
              0.3333333333333333,
              "#9c179e"
             ],
             [
              0.4444444444444444,
              "#bd3786"
             ],
             [
              0.5555555555555556,
              "#d8576b"
             ],
             [
              0.6666666666666666,
              "#ed7953"
             ],
             [
              0.7777777777777778,
              "#fb9f3a"
             ],
             [
              0.8888888888888888,
              "#fdca26"
             ],
             [
              1,
              "#f0f921"
             ]
            ],
            "type": "surface"
           }
          ],
          "table": [
           {
            "cells": {
             "fill": {
              "color": "#EBF0F8"
             },
             "line": {
              "color": "white"
             }
            },
            "header": {
             "fill": {
              "color": "#C8D4E3"
             },
             "line": {
              "color": "white"
             }
            },
            "type": "table"
           }
          ]
         },
         "layout": {
          "annotationdefaults": {
           "arrowcolor": "#2a3f5f",
           "arrowhead": 0,
           "arrowwidth": 1
          },
          "autotypenumbers": "strict",
          "coloraxis": {
           "colorbar": {
            "outlinewidth": 0,
            "ticks": ""
           }
          },
          "colorscale": {
           "diverging": [
            [
             0,
             "#8e0152"
            ],
            [
             0.1,
             "#c51b7d"
            ],
            [
             0.2,
             "#de77ae"
            ],
            [
             0.3,
             "#f1b6da"
            ],
            [
             0.4,
             "#fde0ef"
            ],
            [
             0.5,
             "#f7f7f7"
            ],
            [
             0.6,
             "#e6f5d0"
            ],
            [
             0.7,
             "#b8e186"
            ],
            [
             0.8,
             "#7fbc41"
            ],
            [
             0.9,
             "#4d9221"
            ],
            [
             1,
             "#276419"
            ]
           ],
           "sequential": [
            [
             0,
             "#0d0887"
            ],
            [
             0.1111111111111111,
             "#46039f"
            ],
            [
             0.2222222222222222,
             "#7201a8"
            ],
            [
             0.3333333333333333,
             "#9c179e"
            ],
            [
             0.4444444444444444,
             "#bd3786"
            ],
            [
             0.5555555555555556,
             "#d8576b"
            ],
            [
             0.6666666666666666,
             "#ed7953"
            ],
            [
             0.7777777777777778,
             "#fb9f3a"
            ],
            [
             0.8888888888888888,
             "#fdca26"
            ],
            [
             1,
             "#f0f921"
            ]
           ],
           "sequentialminus": [
            [
             0,
             "#0d0887"
            ],
            [
             0.1111111111111111,
             "#46039f"
            ],
            [
             0.2222222222222222,
             "#7201a8"
            ],
            [
             0.3333333333333333,
             "#9c179e"
            ],
            [
             0.4444444444444444,
             "#bd3786"
            ],
            [
             0.5555555555555556,
             "#d8576b"
            ],
            [
             0.6666666666666666,
             "#ed7953"
            ],
            [
             0.7777777777777778,
             "#fb9f3a"
            ],
            [
             0.8888888888888888,
             "#fdca26"
            ],
            [
             1,
             "#f0f921"
            ]
           ]
          },
          "colorway": [
           "#636efa",
           "#EF553B",
           "#00cc96",
           "#ab63fa",
           "#FFA15A",
           "#19d3f3",
           "#FF6692",
           "#B6E880",
           "#FF97FF",
           "#FECB52"
          ],
          "font": {
           "color": "#2a3f5f"
          },
          "geo": {
           "bgcolor": "white",
           "lakecolor": "white",
           "landcolor": "#E5ECF6",
           "showlakes": true,
           "showland": true,
           "subunitcolor": "white"
          },
          "hoverlabel": {
           "align": "left"
          },
          "hovermode": "closest",
          "mapbox": {
           "style": "light"
          },
          "paper_bgcolor": "white",
          "plot_bgcolor": "#E5ECF6",
          "polar": {
           "angularaxis": {
            "gridcolor": "white",
            "linecolor": "white",
            "ticks": ""
           },
           "bgcolor": "#E5ECF6",
           "radialaxis": {
            "gridcolor": "white",
            "linecolor": "white",
            "ticks": ""
           }
          },
          "scene": {
           "xaxis": {
            "backgroundcolor": "#E5ECF6",
            "gridcolor": "white",
            "gridwidth": 2,
            "linecolor": "white",
            "showbackground": true,
            "ticks": "",
            "zerolinecolor": "white"
           },
           "yaxis": {
            "backgroundcolor": "#E5ECF6",
            "gridcolor": "white",
            "gridwidth": 2,
            "linecolor": "white",
            "showbackground": true,
            "ticks": "",
            "zerolinecolor": "white"
           },
           "zaxis": {
            "backgroundcolor": "#E5ECF6",
            "gridcolor": "white",
            "gridwidth": 2,
            "linecolor": "white",
            "showbackground": true,
            "ticks": "",
            "zerolinecolor": "white"
           }
          },
          "shapedefaults": {
           "line": {
            "color": "#2a3f5f"
           }
          },
          "ternary": {
           "aaxis": {
            "gridcolor": "white",
            "linecolor": "white",
            "ticks": ""
           },
           "baxis": {
            "gridcolor": "white",
            "linecolor": "white",
            "ticks": ""
           },
           "bgcolor": "#E5ECF6",
           "caxis": {
            "gridcolor": "white",
            "linecolor": "white",
            "ticks": ""
           }
          },
          "title": {
           "x": 0.05
          },
          "xaxis": {
           "automargin": true,
           "gridcolor": "white",
           "linecolor": "white",
           "ticks": "",
           "title": {
            "standoff": 15
           },
           "zerolinecolor": "white",
           "zerolinewidth": 2
          },
          "yaxis": {
           "automargin": true,
           "gridcolor": "white",
           "linecolor": "white",
           "ticks": "",
           "title": {
            "standoff": 15
           },
           "zerolinecolor": "white",
           "zerolinewidth": 2
          }
         }
        },
        "title": {
         "text": "UBI Amounts by Flat Tax Rate"
        },
        "xaxis": {
         "anchor": "y",
         "domain": [
          0,
          1
         ],
         "title": {
          "text": "Flat Tax Rate"
         }
        },
        "yaxis": {
         "anchor": "x",
         "domain": [
          0,
          1
         ],
         "title": {
          "text": "UBI Amount"
         }
        }
       }
      }
     },
     "metadata": {},
     "output_type": "display_data"
    }
   ],
   "source": [
    "import plotly.express as px\n",
    "\n",
    "# Melt the DataFrame to make it suitable for Plotly\n",
    "melted_df = df.melt(id_vars=['flat_tax_rate'], \n",
    "                    value_vars=['ubi_0_5', 'ubi_6_17', 'ubi_18_64', 'ubi_65_plus', 'ubi_disability'],\n",
    "                    var_name='UBI Category', value_name='Amount')\n",
    "\n",
    "# Create the plot\n",
    "fig = px.line(melted_df, x='flat_tax_rate', y='Amount', color='UBI Category',\n",
    "              labels={'flat_tax_rate': 'Flat Tax Rate', 'Amount': 'UBI Amount'},\n",
    "              title='UBI Amounts by Flat Tax Rate')\n",
    "\n",
    "# Show the plot\n",
    "fig.show()"
   ]
  },
  {
   "cell_type": "code",
   "execution_count": null,
   "metadata": {},
   "outputs": [],
   "source": []
  }
 ],
 "metadata": {
  "kernelspec": {
   "display_name": "policyengine",
   "language": "python",
   "name": "python3"
  },
  "language_info": {
   "codemirror_mode": {
    "name": "ipython",
    "version": 3
   },
   "file_extension": ".py",
   "mimetype": "text/x-python",
   "name": "python",
   "nbconvert_exporter": "python",
   "pygments_lexer": "ipython3",
   "version": "3.9.16"
  }
 },
 "nbformat": 4,
 "nbformat_minor": 2
}
