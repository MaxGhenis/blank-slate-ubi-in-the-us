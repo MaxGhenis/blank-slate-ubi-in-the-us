{
 "cells": [
  {
   "cell_type": "code",
   "execution_count": null,
   "metadata": {},
   "outputs": [],
   "source": [
    "from policyengine_core.model_api import *\n",
    "from policyengine_us import *\n",
    "from scipy.optimize import differential_evolution\n",
    "\n",
    "INCOME_ELASTICITY = -0.05\n",
    "SUBSTITUTION_ELASTICITY = 0.25\n",
    "\n",
    "def create_funding_reform(flat_tax_rate: float, include_lsrs: bool = True):\n",
    "    return Reform.from_dict({\n",
    "        \"gov.contrib.ubi_center.flat_tax.abolish_federal_income_tax\": {\n",
    "            \"year:2023:10\": True\n",
    "        },\n",
    "        \"gov.contrib.ubi_center.flat_tax.abolish_payroll_tax\": {\n",
    "            \"year:2023:10\": True\n",
    "        },\n",
    "        \"gov.contrib.ubi_center.flat_tax.abolish_self_emp_tax\": {\n",
    "            \"year:2023:10\": True\n",
    "        },\n",
    "        \"gov.ssa.ssi.abolish_ssi\": {\n",
    "            \"year:2023:10\": True\n",
    "        },\n",
    "        \"gov.usda.snap.abolish_snap\": {\n",
    "            \"year:2023:10\": True\n",
    "        },\n",
    "        \"gov.usda.wic.abolish_wic\": {\n",
    "            \"year:2023:10\": True\n",
    "        },\n",
    "        \"gov.contrib.ubi_center.flat_tax.rate\": {\n",
    "            \"year:2023:10\": flat_tax_rate\n",
    "        },\n",
    "        \"gov.contrib.ubi_center.flat_tax.deduct_ptc\": {\n",
    "            \"year:2023:10\": True\n",
    "        },\n",
    "        \"gov.usda.snap.emergency_allotment.allowed\": {\n",
    "            \"year:2023:10\": False\n",
    "        },\n",
    "        \"simulation.reported_state_income_tax\": {\n",
    "            \"year:2023:10\": True\n",
    "        },\n",
    "        \"gov.simulation.labor_supply_responses.income_elasticity\": {\n",
    "            \"year:2023:10\": INCOME_ELASTICITY\n",
    "        } if include_lsrs else {},\n",
    "        \"gov.simulation.labor_supply_responses.substitution_elasticity\": {\n",
    "            \"year:2023:10\": SUBSTITUTION_ELASTICITY\n",
    "        } if include_lsrs else {},\n",
    "    },\n",
    "    \"us\",\n",
    "    )\n",
    "\n",
    "def create_baseline_reform():\n",
    "    return Reform.from_dict({\n",
    "            \"gov.usda.snap.emergency_allotment.allowed\": {\n",
    "                \"year:2023:10\": False\n",
    "            },\n",
    "            \"simulation.reported_state_income_tax\": {\n",
    "                \"year:2023:10\": True\n",
    "            },\n",
    "        },\n",
    "        \"us\",\n",
    "    )\n",
    "\n",
    "baseline = Microsimulation(reform=create_baseline_reform(), dataset=\"enhanced_cps_2023\")\n",
    "\n",
    "class BlankSlatePolicy:\n",
    "    young_child: float = 0\n",
    "    older_child: float = 0\n",
    "    young_adult: float = 0\n",
    "    adult: float = 0\n",
    "    senior: float = 0\n",
    "    flat_tax_rate: float = 0.40\n",
    "\n",
    "    def __init__(self, flat_tax_rate: float = 0.40, year: int = 2024, include_lsrs: bool = True):\n",
    "        self.baseline = baseline\n",
    "        self.blank_slate_funded = Microsimulation(reform=create_funding_reform(flat_tax_rate, include_lsrs), dataset=\"enhanced_cps_2023\")\n",
    "        self.baseline.default_calculation_period = year\n",
    "        self.blank_slate_funded.default_calculation_period = year\n",
    "        self.df = self.create_dataframe()\n",
    "        self.ubi_funding = self.get_ubi_funding()\n",
    "        self.flat_tax_rate = flat_tax_rate\n",
    "        self.include_lsrs = include_lsrs\n",
    "\n",
    "    def create_dataframe(self) -> pd.DataFrame:\n",
    "        age = self.baseline.calc(\"age\").values\n",
    "        df = pd.DataFrame(\n",
    "            dict(\n",
    "                baseline_net_income=self.baseline.calc(\n",
    "                    \"household_net_income\"\n",
    "                ).values,\n",
    "                baseline_tax=self.baseline.calculate(\n",
    "                    \"household_tax\"\n",
    "                ).values,\n",
    "                baseline_benefits=self.baseline.calculate(\n",
    "                    \"household_benefits\"\n",
    "                ).values,\n",
    "                count_young_child=self.baseline.map_result(\n",
    "                    age < 6, \"person\", \"household\"\n",
    "                ),\n",
    "                count_older_child=self.baseline.map_result(\n",
    "                    (age >= 6) & (age < 18), \"person\", \"household\"\n",
    "                ),\n",
    "                count_adult=self.baseline.map_result(\n",
    "                    (age >= 18) & (age < 65), \"person\", \"household\"\n",
    "                ),\n",
    "                count_senior=self.baseline.map_result(\n",
    "                    age >= 65, \"person\", \"household\"\n",
    "                ),\n",
    "                count_person=self.baseline.map_result(\n",
    "                    age >= 0, \"person\", \"household\"\n",
    "                ),\n",
    "                funded_net_income=self.blank_slate_funded.calculate(\n",
    "                    \"household_net_income\"\n",
    "                ).values,\n",
    "                funded_tax=self.blank_slate_funded.calculate(\n",
    "                    \"household_tax\"\n",
    "                ).values,\n",
    "                funded_benefits=self.blank_slate_funded.calculate(\n",
    "                    \"household_benefits\"\n",
    "                ).values,\n",
    "                count_disabled=self.baseline.calculate(\"is_ssi_disabled\", map_to=\"household\").values,\n",
    "                weight=self.baseline.calculate(\"household_weight\").values,\n",
    "            )\n",
    "        )\n",
    "\n",
    "        df[\"total_employment_income\"] = self.baseline.calculate(\"employment_income\", map_to=\"household\").values\n",
    "        return df\n",
    "\n",
    "    def get_ubi_funding(self) -> float:\n",
    "        return (\n",
    "            (self.df.funded_tax - self.df.funded_benefits - self.df.baseline_tax + self.df.baseline_benefits)\n",
    "            * self.df.weight\n",
    "        ).sum()\n",
    "\n",
    "    def get_senior_amount(\n",
    "        self,\n",
    "        young_child: float,\n",
    "        older_child: float,\n",
    "        adult: float,\n",
    "        disabled: float,\n",
    "        funding_offset: float = 0,\n",
    "    ) -> float:\n",
    "        return (\n",
    "            self.ubi_funding + funding_offset\n",
    "            - young_child * (self.df.count_young_child * self.df.weight).sum()\n",
    "            - older_child * (self.df.count_older_child * self.df.weight).sum()\n",
    "            - adult * (self.df.count_adult * self.df.weight).sum()\n",
    "            - disabled * (self.df.count_disabled * self.df.weight).sum()\n",
    "        ) / (self.df.count_senior * self.df.weight).sum()\n",
    "\n",
    "    def mean_percentage_loss(\n",
    "        self,\n",
    "        young_child: float,\n",
    "        older_child: float,\n",
    "        adult: float,\n",
    "        disabled: float,\n",
    "        return_extras: bool = False\n",
    "    ) -> float:\n",
    "        senior_amount = self.get_senior_amount(\n",
    "            young_child, older_child, adult, disabled,\n",
    "        )\n",
    "        final_net_income = (\n",
    "            self.df.funded_net_income\n",
    "            + self.df.count_young_child * young_child\n",
    "            + self.df.count_older_child * older_child\n",
    "            + self.df.count_adult * adult\n",
    "            + self.df.count_senior * senior_amount\n",
    "            + self.df.count_disabled * disabled\n",
    "        )\n",
    "        gain = final_net_income - self.df.baseline_net_income\n",
    "        income_rel_change = final_net_income / self.df.funded_net_income - 1\n",
    "        income_rel_change_c = np.clip(income_rel_change, -1, 1)\n",
    "        income_effect = income_rel_change_c * self.df.total_employment_income * INCOME_ELASTICITY\n",
    "        employment_income_change = income_effect\n",
    "        MTR_GUESS = self.flat_tax_rate\n",
    "        rough_net_income_change_from_lsr = employment_income_change * (1 - MTR_GUESS)\n",
    "        rough_tax_change_from_lsr = employment_income_change * MTR_GUESS\n",
    "        total_ubi_funding_change = (rough_tax_change_from_lsr * self.df.weight).sum()\n",
    "        if self.include_lsrs:\n",
    "            senior_amount = self.get_senior_amount(\n",
    "                young_child, older_child, adult, disabled, total_ubi_funding_change\n",
    "            )\n",
    "        final_net_income = (\n",
    "            self.df.funded_net_income\n",
    "            + self.df.count_young_child * young_child\n",
    "            + self.df.count_older_child * older_child\n",
    "            + self.df.count_adult * adult\n",
    "            + self.df.count_senior * senior_amount\n",
    "            + self.df.count_disabled * disabled\n",
    "        )\n",
    "        gain = final_net_income - self.df.baseline_net_income + rough_net_income_change_from_lsr\n",
    "        if not self.include_lsrs:\n",
    "            gain = gain - rough_net_income_change_from_lsr\n",
    "        absolute_loss = np.maximum(0, -gain)\n",
    "        pct_loss = absolute_loss / np.maximum(100, self.df.baseline_net_income)\n",
    "        average = np.average(\n",
    "            pct_loss, weights=self.df.weight * self.df.count_person\n",
    "        )\n",
    "        if return_extras:\n",
    "            return average, senior_amount, total_ubi_funding_change\n",
    "        return average\n",
    "\n",
    "    def solve(self, return_amounts: bool = False, return_loss: bool = False) -> dict:\n",
    "        (\n",
    "            self.young_child,\n",
    "            self.older_child,\n",
    "            self.adult,\n",
    "            self.disabled,\n",
    "        ) = differential_evolution(\n",
    "            lambda x: self.mean_percentage_loss(*x),\n",
    "            bounds=[(0, 30e3 * self.flat_tax_rate)] * 4,\n",
    "            maxiter=int(1e2),\n",
    "            seed=0,\n",
    "        ).x\n",
    "        _, self.senior, _ = self.mean_percentage_loss(\n",
    "            self.young_child, self.older_child, self.adult, self.disabled, return_extras=True\n",
    "        )\n",
    "        self.reform = Reform.from_dict(\n",
    "            {\n",
    "                **create_funding_reform(self.flat_tax_rate).parameter_values,\n",
    "                \"gov.contrib.ubi_center.basic_income.amount.person.by_age[0].amount\": {\n",
    "                    \"year:2023:10\": self.young_child\n",
    "                },\n",
    "                \"gov.contrib.ubi_center.basic_income.amount.person.by_age[1].amount\": {\n",
    "                    \"year:2023:10\": self.older_child\n",
    "                },\n",
    "                \"gov.contrib.ubi_center.basic_income.amount.person.by_age[2].amount\": {\n",
    "                    \"year:2023:10\": self.adult\n",
    "                },\n",
    "                \"gov.contrib.ubi_center.basic_income.amount.person.by_age[3].amount\": {\n",
    "                    \"year:2023:10\": self.adult\n",
    "                },\n",
    "                \"gov.contrib.ubi_center.basic_income.amount.person.by_age[4].amount\": {\n",
    "                    \"year:2023:10\": self.senior\n",
    "                },\n",
    "                \"gov.contrib.ubi_center.basic_income.amount.person.disability\": {\n",
    "                    \"year:2023:10\": self.disabled\n",
    "                },\n",
    "            },\n",
    "            \"us\",\n",
    "        )\n",
    "        if not return_amounts and not return_loss:\n",
    "            return self.reform\n",
    "        \n",
    "        data = dict(reform=self.reform)\n",
    "\n",
    "        if return_amounts:\n",
    "            data[\"amounts\"] = dict(\n",
    "                young_child=self.young_child,\n",
    "                older_child=self.older_child,\n",
    "                adult=self.adult,\n",
    "                senior=self.senior,\n",
    "                disabled=self.disabled,\n",
    "            )\n",
    "        \n",
    "        if return_loss:\n",
    "            data[\"loss\"] = self.mean_percentage_loss(\n",
    "                self.young_child, self.older_child, self.adult, self.disabled\n",
    "            )\n",
    "        \n",
    "        public_reform = Reform.from_dict(\n",
    "            {\n",
    "                path: value for path, value in self.reform.parameter_values.items()\n",
    "                if path.startswith(\"gov\")\n",
    "            },\n",
    "            \"us\",\n",
    "        )\n",
    "        data[\"id\"] = public_reform.api_id\n",
    "        data[\"reform\"] = public_reform\n",
    "        \n",
    "        return data"
   ]
  },
  {
   "cell_type": "code",
   "execution_count": 1,
   "metadata": {},
   "outputs": [],
   "source": [
    "import requests\n",
    "import pandas as pd\n",
    "import time\n",
    "\n",
    "def get_basic_income_amounts(policy_id):\n",
    "    # API endpoint URL\n",
    "    api_url = f\"https://api.policyengine.org/us/policy/{policy_id}\"\n",
    "\n",
    "    # Making a GET request to the API\n",
    "    response = requests.get(api_url)\n",
    "\n",
    "    if response.status_code == 200:\n",
    "        # Parsing the JSON response\n",
    "        policy_data = response.json()\n",
    "\n",
    "        # Extracting and renaming the basic income amounts\n",
    "        basic_income_amounts = {}\n",
    "        age_group_mapping = {\n",
    "            \"gov.contrib.ubi_center.basic_income.amount.person.by_age[0].amount\": \"ubi_0_5\",\n",
    "            \"gov.contrib.ubi_center.basic_income.amount.person.by_age[1].amount\": \"ubi_6_17\",\n",
    "            \"gov.contrib.ubi_center.basic_income.amount.person.by_age[2].amount\": \"ubi_18_64\",\n",
    "            \"gov.contrib.ubi_center.basic_income.amount.person.by_age[4].amount\": \"ubi_65_plus\",\n",
    "            \"gov.contrib.ubi_center.basic_income.amount.person.disability\": \"ubi_disability\"\n",
    "        }\n",
    "\n",
    "        for key, value in policy_data[\"result\"][\"policy_json\"].items():\n",
    "            if key in age_group_mapping:\n",
    "                # Assuming the amount is the first value in the dictionary\n",
    "                amount = next(iter(value.values()))\n",
    "                basic_income_amounts[age_group_mapping[key]] = amount\n",
    "        return basic_income_amounts\n",
    "    else:\n",
    "        return None\n",
    "\n",
    "# Read the CSV file into a DataFrame\n",
    "df = pd.read_csv('loss_by_rate.csv')\n",
    "\n",
    "def get_json_from_id(id):\n",
    "    res = requests.get(f\"https://api.policyengine.org/us/economy/{id}/over/2?time_period=2024&region=enhanced_us\").json()\n",
    "\n",
    "    while res[\"status\"] == \"computing\":\n",
    "        time.sleep(5)\n",
    "        res = requests.get(f\"https://api.policyengine.org/us/economy/{id}/over/2?time_period=2024&region=enhanced_us\").json()\n",
    "    \n",
    "    return res[\"result\"]\n"
   ]
  },
  {
   "cell_type": "code",
   "execution_count": 2,
   "metadata": {},
   "outputs": [
    {
     "name": "stdout",
     "output_type": "stream",
     "text": [
      "42843\n",
      "42844\n",
      "42845\n",
      "42846\n",
      "42847\n",
      "42848\n",
      "42849\n",
      "42850\n",
      "42851\n",
      "42852\n",
      "42853\n",
      "42854\n",
      "42855\n",
      "42856\n",
      "42857\n",
      "42858\n",
      "42859\n"
     ]
    },
    {
     "ename": "KeyboardInterrupt",
     "evalue": "",
     "output_type": "error",
     "traceback": [
      "\u001b[0;31m---------------------------------------------------------------------------\u001b[0m",
      "\u001b[0;31mKeyboardInterrupt\u001b[0m                         Traceback (most recent call last)",
      "Cell \u001b[0;32mIn[2], line 11\u001b[0m\n\u001b[1;32m      9\u001b[0m         \u001b[38;5;28;01mfor\u001b[39;00m column_name, amount \u001b[38;5;129;01min\u001b[39;00m amounts\u001b[38;5;241m.\u001b[39mitems():\n\u001b[1;32m     10\u001b[0m             df\u001b[38;5;241m.\u001b[39mloc[i, column_name] \u001b[38;5;241m=\u001b[39m amount\n\u001b[0;32m---> 11\u001b[0m     json_data[reform_id] \u001b[38;5;241m=\u001b[39m \u001b[43mget_json_from_id\u001b[49m\u001b[43m(\u001b[49m\u001b[43mreform_id\u001b[49m\u001b[43m)\u001b[49m\n\u001b[1;32m     14\u001b[0m df\u001b[38;5;241m.\u001b[39mto_csv(\u001b[38;5;124m'\u001b[39m\u001b[38;5;124mubi_amounts.csv\u001b[39m\u001b[38;5;124m'\u001b[39m, index\u001b[38;5;241m=\u001b[39m\u001b[38;5;28;01mFalse\u001b[39;00m)\n\u001b[1;32m     15\u001b[0m \u001b[38;5;28mprint\u001b[39m(json_data)\n",
      "Cell \u001b[0;32mIn[1], line 42\u001b[0m, in \u001b[0;36mget_json_from_id\u001b[0;34m(id)\u001b[0m\n\u001b[1;32m     39\u001b[0m res \u001b[38;5;241m=\u001b[39m requests\u001b[38;5;241m.\u001b[39mget(\u001b[38;5;124mf\u001b[39m\u001b[38;5;124m\"\u001b[39m\u001b[38;5;124mhttps://api.policyengine.org/us/economy/\u001b[39m\u001b[38;5;132;01m{\u001b[39;00m\u001b[38;5;28mid\u001b[39m\u001b[38;5;132;01m}\u001b[39;00m\u001b[38;5;124m/over/2?time_period=2024&region=enhanced_us\u001b[39m\u001b[38;5;124m\"\u001b[39m)\u001b[38;5;241m.\u001b[39mjson()\n\u001b[1;32m     41\u001b[0m \u001b[38;5;28;01mwhile\u001b[39;00m res[\u001b[38;5;124m\"\u001b[39m\u001b[38;5;124mstatus\u001b[39m\u001b[38;5;124m\"\u001b[39m] \u001b[38;5;241m==\u001b[39m \u001b[38;5;124m\"\u001b[39m\u001b[38;5;124mcomputing\u001b[39m\u001b[38;5;124m\"\u001b[39m:\n\u001b[0;32m---> 42\u001b[0m     \u001b[43mtime\u001b[49m\u001b[38;5;241;43m.\u001b[39;49m\u001b[43msleep\u001b[49m\u001b[43m(\u001b[49m\u001b[38;5;241;43m5\u001b[39;49m\u001b[43m)\u001b[49m\n\u001b[1;32m     43\u001b[0m     res \u001b[38;5;241m=\u001b[39m requests\u001b[38;5;241m.\u001b[39mget(\u001b[38;5;124mf\u001b[39m\u001b[38;5;124m\"\u001b[39m\u001b[38;5;124mhttps://api.policyengine.org/us/economy/\u001b[39m\u001b[38;5;132;01m{\u001b[39;00m\u001b[38;5;28mid\u001b[39m\u001b[38;5;132;01m}\u001b[39;00m\u001b[38;5;124m/over/2?time_period=2024&region=enhanced_us\u001b[39m\u001b[38;5;124m\"\u001b[39m)\u001b[38;5;241m.\u001b[39mjson()\n\u001b[1;32m     45\u001b[0m \u001b[38;5;28;01mreturn\u001b[39;00m res[\u001b[38;5;124m\"\u001b[39m\u001b[38;5;124mresult\u001b[39m\u001b[38;5;124m\"\u001b[39m]\n",
      "\u001b[0;31mKeyboardInterrupt\u001b[0m: "
     ]
    }
   ],
   "source": [
    "# Fetch and add basic income amounts for each reform ID\n",
    "json_data = {}\n",
    "\n",
    "for i, row in df.iterrows():\n",
    "    reform_id = int(row['rounded_ubi_api_id'])\n",
    "    print(reform_id)\n",
    "    amounts = get_basic_income_amounts(reform_id)\n",
    "    if amounts:\n",
    "        for column_name, amount in amounts.items():\n",
    "            df.loc[i, column_name] = amount\n",
    "    json_data[reform_id] = get_json_from_id(reform_id)\n",
    "\n",
    "\n",
    "df.to_csv('ubi_amounts.csv', index=False)\n",
    "print(json_data)"
   ]
  },
  {
   "cell_type": "code",
   "execution_count": 3,
   "metadata": {},
   "outputs": [],
   "source": [
    "import json\n",
    "\n",
    "# Write the dictionary to disk as JSON\n",
    "with open(\"json_data.json\", \"w\") as file:\n",
    "    json.dump(json_data, file)\n"
   ]
  },
  {
   "cell_type": "code",
   "execution_count": 4,
   "metadata": {},
   "outputs": [
    {
     "name": "stdout",
     "output_type": "stream",
     "text": [
      "{'42843': {'budget': {'baseline_net_income': 11960548612504.346, 'benefit_spending_impact': 1647098001884.5273, 'budgetary_impact': 11796789632.61084, 'households': 134663334.54167563, 'state_tax_revenue_impact': 0.0, 'tax_revenue_impact': 1658894791517.1382}, 'decile': {'average': {'1': 4818.422874405689, '10': 1447.5518621563926, '2': 3270.7464003411555, '3': 1934.981687166351, '4': 843.1499615263713, '5': -865.3422572166522, '6': -2929.7743648762053, '7': -5861.31794942731, '8': -7817.053189444653, '9': -10859.867292481309}, 'relative': {'1': 1.6036084700984756, '10': 0.003118725145287242, '2': 0.10154581823087647, '3': 0.04404145487125268, '4': 0.015535132542524761, '5': -0.013336952399254831, '6': -0.03798883959694355, '7': -0.06319506891073584, '8': -0.0686128927772255, '9': -0.07363681499650471}}, 'detailed_budget': {}, 'inequality': {'gini': {'baseline': 0.5275276822147373, 'reform': 0.5032447186436113}, 'top_10_pct_share': {'baseline': 0.3844596297892297, 'reform': 0.38168631607032216}, 'top_1_pct_share': {'baseline': 0.16468817634807265, 'reform': 0.17567086809822996}}, 'intra_decile': {'all': {'Gain less than 5%': 0.06025382602211691, 'Gain more than 5%': 0.4109047288287223, 'Lose less than 5%': 0.07305752294000076, 'Lose more than 5%': 0.4528169368989044, 'No change': 0.0029669853102556607}, 'deciles': {'Gain less than 5%': [0.020174491124982614, 0.05240953715632702, 0.0800285948119821, 0.07878946536516979, 0.07570912478463512, 0.07668801398548167, 0.05872166084658058, 0.05563499060951243, 0.03436161692587574, 0.07002076461062204], 'Gain more than 5%': [0.8697748472286579, 0.7558260314568747, 0.6467145406203627, 0.5847583006342679, 0.44423597943764104, 0.29551215526188224, 0.18026756694187612, 0.11851130931271715, 0.06189414494069149, 0.15155241245225093], 'Lose less than 5%': [0.026264300872434313, 0.030464737493584675, 0.08029507620848042, 0.06629471515412194, 0.0989127667485525, 0.08982873334655558, 0.08245861507706966, 0.0767392457365603, 0.0790735821345349, 0.10024345662811333], 'Lose more than 5%': [0.08334544467994894, 0.1594577484813003, 0.18836660679584216, 0.2679838292302735, 0.37631301761648134, 0.5344209325925213, 0.6761971970900579, 0.7448850987893763, 0.8220021828818761, 0.6751973108313667], 'No change': [0.0004409160939761463, 0.00184194541191339, 0.0045951815633326325, 0.002173689616166825, 0.0048291114126899765, 0.0035501648135591603, 0.002354960044415781, 0.004229355551833887, 0.0026684731170218226, 0.0029860554776469867]}}, 'intra_wealth_decile': {}, 'labour_supply_response': {'income_lsr': 18008101521.282448, 'substitution_lsr': -87241790432.65504, 'total_change': -69233688911.37259}, 'poverty': {'deep_poverty': {'adult': {'baseline': 0.03211651505583843, 'reform': 0.01570377290321672}, 'all': {'baseline': 0.02625313779408773, 'reform': 0.012563321952473616}, 'child': {'baseline': 0.019272355540465358, 'reform': 0.005085152463291501}, 'senior': {'baseline': 0.016831565569610775, 'reform': 0.011996086351944943}}, 'poverty': {'adult': {'baseline': 0.1037320892571561, 'reform': 0.08322119013575201}, 'all': {'baseline': 0.09588894292130189, 'reform': 0.07748883877389104}, 'child': {'baseline': 0.08779296042038127, 'reform': 0.08437606110926767}, 'senior': {'baseline': 0.08179862718036526, 'reform': 0.05185301541945008}}}, 'poverty_by_gender': {'deep_poverty': {'female': {'baseline': 0.02685362527847479, 'reform': 0.013020372809728814}, 'male': {'baseline': 0.025614185838012934, 'reform': 0.01207699451541311}}, 'poverty': {'female': {'baseline': 0.10008418065134399, 'reform': 0.08149854387568009}, 'male': {'baseline': 0.0914249775206819, 'reform': 0.07322229036999496}}}, 'poverty_by_race': {'poverty': {'black': {'baseline': 0.13640082599109205, 'reform': 0.10451869354050577}, 'hispanic': {'baseline': 0.14154179445816786, 'reform': 0.11957373967740617}, 'other': {'baseline': 0.09577244758327383, 'reform': 0.08159387713759231}, 'white': {'baseline': 0.07102615945350867, 'reform': 0.056085757262207846}}}, 'wealth_decile': {}}, '42844': {'budget': {'baseline_net_income': 11960548612504.346, 'benefit_spending_impact': 1525258371202.296, 'budgetary_impact': 2902572149.7993164, 'households': 134663334.54167563, 'state_tax_revenue_impact': 0.0, 'tax_revenue_impact': 1528160943352.0952}, 'decile': {'average': {'1': 4737.469291910798, '10': 6953.165259437264, '2': 2703.9413058172295, '3': 1465.723587923391, '4': 484.76272128307653, '5': -1114.71288600436, '6': -3023.8047762120414, '7': -5731.845201997215, '8': -7279.94520806621, '9': -9800.104367393675}, 'relative': {'1': 1.576666490542637, '10': 0.014980472825091672, '2': 0.08394840159996375, '3': 0.033360832135725, '4': 0.008931807472509786, '5': -0.017180338271350556, '6': -0.039208082367409476, '7': -0.06179913044322675, '8': -0.06389851621575181, '9': -0.06645094758642492}}, 'detailed_budget': {}, 'inequality': {'gini': {'baseline': 0.5275276822147373, 'reform': 0.5068196889882461}, 'top_10_pct_share': {'baseline': 0.3844596297892297, 'reform': 0.3853343813742342}, 'top_1_pct_share': {'baseline': 0.16468817634807265, 'reform': 0.177124107440115}}, 'intra_decile': {'all': {'Gain less than 5%': 0.06358379844787268, 'Gain more than 5%': 0.4021724161918067, 'Lose less than 5%': 0.08199605973974551, 'Lose more than 5%': 0.4495466545438015, 'No change': 0.0027010710767736046}, 'deciles': {'Gain less than 5%': [0.023888145568564053, 0.05467926165392736, 0.07934768820272654, 0.08819160354811663, 0.07312130639451161, 0.07802819559308288, 0.061382947423125125, 0.06070304301753331, 0.043899976017066564, 0.07259581706007283], 'Gain more than 5%': [0.8552841306476271, 0.7298519277150451, 0.6261786845151938, 0.5634999962206545, 0.4284003761503121, 0.28464583355154377, 0.17053693325782981, 0.11624072886269639, 0.06060439985309572, 0.18648115114406882], 'Lose less than 5%': [0.024780837415840393, 0.04059444642867227, 0.08633716318343786, 0.07146248083809971, 0.10605064134051134, 0.09738959091720172, 0.08973792910393312, 0.08737392979270249, 0.09199476089382236, 0.12423881748323383], 'Lose more than 5%': [0.0956821545893122, 0.17256170080954195, 0.20500385318583753, 0.2738513542944211, 0.38854437150428206, 0.5381382565184735, 0.6757318897897878, 0.7332341084896264, 0.8000651562217543, 0.6126537000349781], 'No change': [0.0003647317786562875, 0.002312663392813374, 0.003132610912804317, 0.0029945650987080645, 0.003883304610382867, 0.0017981234196981586, 0.0026103004253240913, 0.0024481898374414074, 0.0034357070142610217, 0.004030514277646456]}}, 'intra_wealth_decile': {}, 'labour_supply_response': {'income_lsr': 15445502010.66498, 'substitution_lsr': -50000598122.449875, 'total_change': -34555096111.7849}, 'poverty': {'deep_poverty': {'adult': {'baseline': 0.03211651505583843, 'reform': 0.017927463659948354}, 'all': {'baseline': 0.02625313779408773, 'reform': 0.01459105124709018}, 'child': {'baseline': 0.019272355540465358, 'reform': 0.005843661015393917}, 'senior': {'baseline': 0.016831565569610775, 'reform': 0.01494979411689739}}, 'poverty': {'adult': {'baseline': 0.1037320892571561, 'reform': 0.08703400987274403}, 'all': {'baseline': 0.09588894292130189, 'reform': 0.08192828073372406}, 'child': {'baseline': 0.08779296042038127, 'reform': 0.08894976944565512}, 'senior': {'baseline': 0.08179862718036526, 'reform': 0.05803215245624294}}}, 'poverty_by_gender': {'deep_poverty': {'female': {'baseline': 0.02685362527847479, 'reform': 0.015129422059494265}, 'male': {'baseline': 0.025614185838012934, 'reform': 0.014018194871856496}}, 'poverty': {'female': {'baseline': 0.10008418065134399, 'reform': 0.08637862401756022}, 'male': {'baseline': 0.0914249775206819, 'reform': 0.07719286888860635}}}, 'poverty_by_race': {'poverty': {'black': {'baseline': 0.13640082599109205, 'reform': 0.11129530732753976}, 'hispanic': {'baseline': 0.14154179445816786, 'reform': 0.12639340571171817}, 'other': {'baseline': 0.09577244758327383, 'reform': 0.08754214574376308}, 'white': {'baseline': 0.07102615945350867, 'reform': 0.05894120879632901}}}, 'wealth_decile': {}}, '42845': {'budget': {'baseline_net_income': 11960548612504.346, 'benefit_spending_impact': 1797124735133.016, 'budgetary_impact': -7890073062.416016, 'households': 134663334.54167563, 'state_tax_revenue_impact': 0.0, 'tax_revenue_impact': 1789234662070.6}, 'decile': {'average': {'1': 5001.318466042234, '10': -3984.3631801651945, '2': 4110.753088552079, '3': 2765.856804320251, '4': 1619.865047756507, '5': -244.41077256685531, '6': -2537.5621313965858, '7': -5848.859226186962, '8': -8237.894144259948, '9': -11957.264620152559}, 'relative': {'1': 1.6644775402354988, '10': -0.008584240718965911, '2': 0.12762523743160992, '3': 0.06295271858939573, '4': 0.029846195061604658, '5': -0.003766942862670269, '6': -0.03290323034175922, '7': -0.06306074248782093, '8': -0.07230675472356574, '9': -0.0810778676188819}}, 'detailed_budget': {}, 'inequality': {'gini': {'baseline': 0.5275276822147373, 'reform': 0.4969461945330063}, 'top_10_pct_share': {'baseline': 0.3844596297892297, 'reform': 0.37665069882087493}, 'top_1_pct_share': {'baseline': 0.16468817634807265, 'reform': 0.17360354715341242}}, 'intra_decile': {'all': {'Gain less than 5%': 0.052957856307229066, 'Gain more than 5%': 0.43435766704463746, 'Lose less than 5%': 0.06460001671997656, 'Lose more than 5%': 0.44586982899713484, 'No change': 0.002214630931022127}, 'deciles': {'Gain less than 5%': [0.015299100589788573, 0.04288240182160932, 0.0547928395371698, 0.05242112011297086, 0.0673194613481686, 0.07494722118854676, 0.06938963103318121, 0.0512502977527008, 0.03803937804856144, 0.06323711163959328], 'Gain more than 5%': [0.8731784582805323, 0.7779147988809147, 0.6896609588201286, 0.6325315444250629, 0.5038658341745894, 0.33943721818510086, 0.20091469988105912, 0.13375570298698636, 0.06548113188889679, 0.12683632292310368], 'Lose less than 5%': [0.01784376519606807, 0.03385064619670033, 0.05227109984229554, 0.06481820025262787, 0.07304401158211173, 0.09145642581219593, 0.07925901000505427, 0.0872519058542654, 0.060588850952080504, 0.08561625150636602], 'Lose more than 5%': [0.09288620713698949, 0.14463726609135194, 0.19965152264583455, 0.24794870330754593, 0.3526707741607183, 0.4907633988552112, 0.6478658368281079, 0.725702959404787, 0.8347485680978072, 0.7218230534429942], 'No change': [0.0007924687966215071, 0.0007148870094236927, 0.0036235791545715795, 0.0022804319017924444, 0.0030999187344120174, 0.0033957359589452964, 0.002570822252597465, 0.0020391340012604394, 0.0011420710126540568, 0.002487260487942772]}}, 'intra_wealth_decile': {}, 'labour_supply_response': {'income_lsr': 21238981873.943104, 'substitution_lsr': -124492539561.2319, 'total_change': -103253557687.2888}, 'poverty': {'deep_poverty': {'adult': {'baseline': 0.03211651505583843, 'reform': 0.017840675951839892}, 'all': {'baseline': 0.02625313779408773, 'reform': 0.012197783425351277}, 'child': {'baseline': 0.019272355540465358, 'reform': 0.0035024234431603554}, 'senior': {'baseline': 0.016831565569610775, 'reform': 0.00549872369802796}}, 'poverty': {'adult': {'baseline': 0.1037320892571561, 'reform': 0.0813053935945256}, 'all': {'baseline': 0.09588894292130189, 'reform': 0.07011257704493404}, 'child': {'baseline': 0.08779296042038127, 'reform': 0.06571105815148248}, 'senior': {'baseline': 0.08179862718036526, 'reform': 0.0414374454877113}}}, 'poverty_by_gender': {'deep_poverty': {'female': {'baseline': 0.02685362527847479, 'reform': 0.012484252883553674}, 'male': {'baseline': 0.025614185838012934, 'reform': 0.011892964048706075}}, 'poverty': {'female': {'baseline': 0.10008418065134399, 'reform': 0.07265222037998702}, 'male': {'baseline': 0.0914249775206819, 'reform': 0.06741025581617309}}}, 'poverty_by_race': {'poverty': {'black': {'baseline': 0.13640082599109205, 'reform': 0.09349969853202858}, 'hispanic': {'baseline': 0.14154179445816786, 'reform': 0.10727922326294204}, 'other': {'baseline': 0.09577244758327383, 'reform': 0.0759797127570211}, 'white': {'baseline': 0.07102615945350867, 'reform': 0.050957946971011095}}}, 'wealth_decile': {}}, '42846': {'budget': {'baseline_net_income': 11960548612504.346, 'benefit_spending_impact': 1395906671053.436, 'budgetary_impact': 1141630010.9980469, 'households': 134663334.54167563, 'state_tax_revenue_impact': 0.0, 'tax_revenue_impact': 1397048301064.434}, 'decile': {'average': {'1': 4680.920056520828, '10': 12249.2618980785, '2': 2203.2118792719502, '3': 1029.641024237075, '4': 130.63769669781544, '5': -1376.7114960933125, '6': -3177.4113432798545, '7': -5705.760584495452, '8': -6913.930552877283, '9': -8955.96950587286}, 'relative': {'1': 1.5578464668102594, '10': 0.026390820316335595, '2': 0.06840241511641544, '3': 0.0234353063924522, '4': 0.002407014203709047, '5': -0.021218350933145762, '6': -0.04119981774039027, '7': -0.06151789349024843, '8': -0.06068588305556281, '9': -0.060727175743195895}}, 'detailed_budget': {}, 'inequality': {'gini': {'baseline': 0.5275276822147373, 'reform': 0.510631917185872}, 'top_10_pct_share': {'baseline': 0.3844596297892297, 'reform': 0.3890541009618483}, 'top_1_pct_share': {'baseline': 0.16468817634807265, 'reform': 0.1788217132549443}}, 'intra_decile': {'all': {'Gain less than 5%': 0.07031423753685791, 'Gain more than 5%': 0.3838914457180311, 'Lose less than 5%': 0.08889014806077944, 'Lose more than 5%': 0.4537203965348383, 'No change': 0.003183772149493106}, 'deciles': {'Gain less than 5%': [0.030984255528737622, 0.06498102230200481, 0.07443177405587967, 0.0988442011249151, 0.08495496216328048, 0.08105391016080608, 0.06927895297672308, 0.062879702107113, 0.05036716527432227, 0.08536642967479693], 'Gain more than 5%': [0.8251940022834098, 0.6868207939743809, 0.5916706884014972, 0.531435776193082, 0.4057838485408578, 0.2663550492474524, 0.153692732633853, 0.10422772609459018, 0.05877691171257116, 0.21495692809861716], 'Lose less than 5%': [0.028406150846073848, 0.0567838664879315, 0.0877225168969406, 0.07322575739398889, 0.09148647360236645, 0.09838613380608012, 0.0908387387640804, 0.11228991404437824, 0.11458673835719262, 0.13517519040876164], 'Lose more than 5%': [0.11405435189811257, 0.18808286741376756, 0.2419503982225619, 0.2921805593710504, 0.4133325741920223, 0.5522478289715489, 0.6843385937860509, 0.7177625897441816, 0.774330038932063, 0.5589241628170248], 'No change': [0.0013612394436661483, 0.0033314498219152444, 0.0042246224231206764, 0.0043137059169635695, 0.004442141501473008, 0.001957077814112469, 0.0018509818392926222, 0.002840068009736967, 0.0019391457238509136, 0.005577289000799445]}}, 'intra_wealth_decile': {}, 'labour_supply_response': {'income_lsr': 14155966976.197153, 'substitution_lsr': -12670826365.80537, 'total_change': 1485140610.3917828}, 'poverty': {'deep_poverty': {'adult': {'baseline': 0.03211651505583843, 'reform': 0.0208912881266593}, 'all': {'baseline': 0.02625313779408773, 'reform': 0.016820285817888848}, 'child': {'baseline': 0.019272355540465358, 'reform': 0.00638786385651336}, 'senior': {'baseline': 0.016831565569610775, 'reform': 0.01696943971440367}}, 'poverty': {'adult': {'baseline': 0.1037320892571561, 'reform': 0.09241171876347679}, 'all': {'baseline': 0.09588894292130189, 'reform': 0.08641216492317289}, 'child': {'baseline': 0.08779296042038127, 'reform': 0.09222298669060915}, 'senior': {'baseline': 0.08179862718036526, 'reform': 0.061255280681301726}}}, 'poverty_by_gender': {'deep_poverty': {'female': {'baseline': 0.02685362527847479, 'reform': 0.017443451545965723}, 'male': {'baseline': 0.025614185838012934, 'reform': 0.016157202953938868}}, 'poverty': {'female': {'baseline': 0.10008418065134399, 'reform': 0.09063539919368337}, 'male': {'baseline': 0.0914249775206819, 'reform': 0.08191840965222139}}}, 'poverty_by_race': {'poverty': {'black': {'baseline': 0.13640082599109205, 'reform': 0.11851625953713923}, 'hispanic': {'baseline': 0.14154179445816786, 'reform': 0.13423019052032417}, 'other': {'baseline': 0.09577244758327383, 'reform': 0.09303461521362552}, 'white': {'baseline': 0.07102615945350867, 'reform': 0.06148834138345514}}}, 'wealth_decile': {}}, '42847': {'budget': {'baseline_net_income': 11960548612504.346, 'benefit_spending_impact': 1911300705681.016, 'budgetary_impact': 8086875452.12793, 'households': 134663334.54167563, 'state_tax_revenue_impact': 0.0, 'tax_revenue_impact': 1919387581133.144}, 'decile': {'average': {'1': 5325.353483160869, '10': -9816.382938817227, '2': 4847.4751089046285, '3': 3271.1876096540727, '4': 1914.3972869509191, '5': -104.64499344416517, '6': -2561.730780774917, '7': -6154.536450156514, '8': -9031.827035491022, '9': -13319.17693132407}, 'relative': {'1': 1.772318904848819, '10': -0.021149225190075005, '2': 0.15049801055691275, '3': 0.07445437982255963, '4': 0.035272984580338076, '5': -0.001612824619098363, '6': -0.03321661247640937, '7': -0.0663564676813477, '8': -0.07927536949670126, '9': -0.09031250025280287}}, 'detailed_budget': {}, 'inequality': {'gini': {'baseline': 0.5275276822147373, 'reform': 0.49408868269672296}, 'top_10_pct_share': {'baseline': 0.3844596297892297, 'reform': 0.37300983801030674}, 'top_1_pct_share': {'baseline': 0.16468817634807265, 'reform': 0.17187387037169244}}, 'intra_decile': {'all': {'Gain less than 5%': 0.048634788077514306, 'Gain more than 5%': 0.43311642191396826, 'Lose less than 5%': 0.058399425218664036, 'Lose more than 5%': 0.45783654481598235, 'No change': 0.0020128199738710184}, 'deciles': {'Gain less than 5%': [0.013369037886711479, 0.045309816866820216, 0.05661134723553088, 0.05071237015825907, 0.05868379217745921, 0.06404418329687149, 0.06007524197249284, 0.050079146292243394, 0.03138769850887446, 0.05607524637988], 'Gain more than 5%': [0.8836870029647906, 0.7845425325586121, 0.6990134073374972, 0.6329456785862005, 0.50445816059095, 0.34088263257063184, 0.2008296387881724, 0.12554375626164035, 0.062236743889528164, 0.09702466559165959], 'Lose less than 5%': [0.01942911853542121, 0.03006633379085947, 0.0413749900882064, 0.058037052279157904, 0.07749969656395594, 0.0936111098144445, 0.07507658718835897, 0.06793666566728593, 0.0493723594388349, 0.07159033882011512], 'Lose more than 5%': [0.08241183362306916, 0.13845773556083438, 0.20148553348314138, 0.2573810331789052, 0.3569158565700999, 0.49736692984106634, 0.6628523947380595, 0.7548534468572228, 0.8553264186353267, 0.7713142656720985], 'No change': [0.001103006990007534, 0.001623581222873942, 0.001514721855624199, 0.0009238657974773204, 0.002442494097534908, 0.004095144476985807, 0.0011661373129163272, 0.0015869849216075416, 0.0016767795274357745, 0.00399548353624683]}}, 'intra_wealth_decile': {}, 'labour_supply_response': {'income_lsr': 25685480640.299095, 'substitution_lsr': -161833974207.58496, 'total_change': -136148493567.28586}, 'poverty': {'deep_poverty': {'adult': {'baseline': 0.03211651505583843, 'reform': 0.015572252939767146}, 'all': {'baseline': 0.02625313779408773, 'reform': 0.0104825523242042}, 'child': {'baseline': 0.019272355540465358, 'reform': 0.0033937973205102963}, 'senior': {'baseline': 0.016831565569610775, 'reform': 0.003536850106109025}}, 'poverty': {'adult': {'baseline': 0.1037320892571561, 'reform': 0.0797125000948993}, 'all': {'baseline': 0.09588894292130189, 'reform': 0.0674536578955353}, 'child': {'baseline': 0.08779296042038127, 'reform': 0.06586878518924923}, 'senior': {'baseline': 0.08179862718036526, 'reform': 0.03217141441685759}}}, 'poverty_by_gender': {'deep_poverty': {'female': {'baseline': 0.02685362527847479, 'reform': 0.010666782703683736}, 'male': {'baseline': 0.025614185838012934, 'reform': 0.010286520992332219}}, 'poverty': {'female': {'baseline': 0.10008418065134399, 'reform': 0.06983671065239216}, 'male': {'baseline': 0.0914249775206819, 'reform': 0.06491795771857431}}}, 'poverty_by_race': {'poverty': {'black': {'baseline': 0.13640082599109205, 'reform': 0.09097828827725364}, 'hispanic': {'baseline': 0.14154179445816786, 'reform': 0.1049270303111984}, 'other': {'baseline': 0.09577244758327383, 'reform': 0.07303140363611743}, 'white': {'baseline': 0.07102615945350867, 'reform': 0.048206234552194686}}}, 'wealth_decile': {}}, '42848': {'budget': {'baseline_net_income': 11960548612504.346, 'benefit_spending_impact': 1266689019962.4653, 'budgetary_impact': -1679431130.6269531, 'households': 134663334.54167563, 'state_tax_revenue_impact': 0.0, 'tax_revenue_impact': 1265009588831.8384}, 'decile': {'average': {'1': 4625.8505394299555, '10': 17687.271112856786, '2': 1656.275050646906, '3': 530.4726018495082, '4': -314.67364967033575, '5': -1708.8333005592715, '6': -3335.5302884824296, '7': -5633.100692449442, '8': -6475.791627719388, '9': -7954.068987399474}, 'relative': {'1': 1.5395189047940159, '10': 0.038106915968458395, '2': 0.051421842187392944, '3': 0.012073905045067541, '4': -0.00579789726422916, '5': -0.026337126377170013, '6': -0.04325006274169513, '7': -0.06073449512754011, '8': -0.056840191032642956, '9': -0.05393365229242544}}, 'detailed_budget': {}, 'inequality': {'gini': {'baseline': 0.5275276822147373, 'reform': 0.5151725816184394}, 'top_10_pct_share': {'baseline': 0.3844596297892297, 'reform': 0.3927144056425952}, 'top_1_pct_share': {'baseline': 0.16468817634807265, 'reform': 0.1803967573714512}}, 'intra_decile': {'all': {'Gain less than 5%': 0.07840626298064687, 'Gain more than 5%': 0.36015452078333354, 'Lose less than 5%': 0.09930197829432832, 'Lose more than 5%': 0.4584380547864203, 'No change': 0.003699183155271006}, 'deciles': {'Gain less than 5%': [0.05195134645721408, 0.07857759127824661, 0.09044997207304994, 0.1096061394148043, 0.08371440894585136, 0.07673872357174961, 0.06782753472130228, 0.06407610600444556, 0.05731075912829803, 0.10381004821150687], 'Gain more than 5%': [0.7854927315480422, 0.6398710380585824, 0.5450548347014377, 0.47675307465694333, 0.36738462847828873, 0.24250612117280315, 0.14139870020249307, 0.09693783575910848, 0.056862951994351846, 0.24928329126128407], 'Lose less than 5%': [0.029843991814086614, 0.06293501295551472, 0.08982116277718614, 0.09439493983188427, 0.10409723774674347, 0.09400345082479784, 0.09084622925622851, 0.1172682738614127, 0.15044863385272167, 0.15936085002270728], 'Lose more than 5%': [0.13134015513038416, 0.21562961721466828, 0.26944939734319534, 0.3143369412698158, 0.4407386935931484, 0.5830900209775448, 0.6962432772069772, 0.7185878660139572, 0.7325925361101796, 0.48237204300433234], 'No change': [0.0013717750502729132, 0.0029867404929881354, 0.005224633105130913, 0.004908904826552283, 0.004065031235968101, 0.0036616834531045315, 0.003684258612998927, 0.0031299183610760395, 0.0027851189144487963, 0.005173767500169424]}}, 'intra_wealth_decile': {}, 'labour_supply_response': {'income_lsr': 12353726258.368294, 'substitution_lsr': 24571204567.20025, 'total_change': 36924930825.56854}, 'poverty': {'deep_poverty': {'adult': {'baseline': 0.03211651505583843, 'reform': 0.023458418959299444}, 'all': {'baseline': 0.02625313779408773, 'reform': 0.019615630989713303}, 'child': {'baseline': 0.019272355540465358, 'reform': 0.008444706284627639}, 'senior': {'baseline': 0.016831565569610775, 'reform': 0.02134155951555016}}, 'poverty': {'adult': {'baseline': 0.1037320892571561, 'reform': 0.09852359598881445}, 'all': {'baseline': 0.09588894292130189, 'reform': 0.09356152026185371}, 'child': {'baseline': 0.08779296042038127, 'reform': 0.10410088457026762}, 'senior': {'baseline': 0.08179862718036526, 'reform': 0.06588723654018458}}}, 'poverty_by_gender': {'deep_poverty': {'female': {'baseline': 0.02685362527847479, 'reform': 0.020402566172559984}, 'male': {'baseline': 0.025614185838012934, 'reform': 0.018778288351511272}}, 'poverty': {'female': {'baseline': 0.10008418065134399, 'reform': 0.09790148386917025}, 'male': {'baseline': 0.0914249775206819, 'reform': 0.0889435585086311}}}, 'poverty_by_race': {'poverty': {'black': {'baseline': 0.13640082599109205, 'reform': 0.12683274143720843}, 'hispanic': {'baseline': 0.14154179445816786, 'reform': 0.14694765151908637}, 'other': {'baseline': 0.09577244758327383, 'reform': 0.0990330313292241}, 'white': {'baseline': 0.07102615945350867, 'reform': 0.0665844645923462}}}, 'wealth_decile': {}}, '42849': {'budget': {'baseline_net_income': 11960548612504.346, 'benefit_spending_impact': 2042417383369.4404, 'budgetary_impact': 7864829358.589355, 'households': 134663334.54167563, 'state_tax_revenue_impact': 0.0, 'tax_revenue_impact': 2050282212728.0298}, 'decile': {'average': {'1': 5405.281178795135, '10': -16079.683114035754, '2': 5927.393184830188, '3': 4482.340805468084, '4': 3148.5827904040493, '5': 792.3908267592678, '6': -2185.1802230710155, '7': -6573.579205658465, '8': -10065.672913131395, '9': -15491.426399666425}, 'relative': {'1': 1.7989194613079431, '10': -0.034643395768417726, '2': 0.18402588194148006, '3': 0.10202102253003167, '4': 0.05801299081066197, '5': 0.012212599870121273, '6': -0.02833407991409118, '7': -0.0708744679056962, '8': -0.08834978086779173, '9': -0.1050417347746028}}, 'detailed_budget': {}, 'inequality': {'gini': {'baseline': 0.5275276822147373, 'reform': 0.48772672570051384}, 'top_10_pct_share': {'baseline': 0.3844596297892297, 'reform': 0.3672168426865852}, 'top_1_pct_share': {'baseline': 0.16468817634807265, 'reform': 0.1706552367078538}}, 'intra_decile': {'all': {'Gain less than 5%': 0.041013212262984725, 'Gain more than 5%': 0.4391976276530015, 'Lose less than 5%': 0.04623757013981631, 'Lose more than 5%': 0.47224995937310366, 'No change': 0.0013016305710938324}, 'deciles': {'Gain less than 5%': [0.02176952811062097, 0.01699873013791744, 0.02623691999661737, 0.03632866005562071, 0.03332783430426247, 0.06064933561500162, 0.06967097409136687, 0.05138814631921609, 0.03556726215279369, 0.05819473184642998], 'Gain more than 5%': [0.7273407657286743, 0.7063613532315405, 0.6870309220116486, 0.6336646848171261, 0.5585883948423398, 0.43449273576967107, 0.2744154384741815, 0.19433875219322663, 0.08923302681797832, 0.08651020264362888], 'Lose less than 5%': [0.009846954039316564, 0.017088734644036197, 0.026119160831109593, 0.04062295178288279, 0.033163121156073554, 0.061360974994634755, 0.07596336311405202, 0.06852988014300739, 0.055079066379063304, 0.07460149431398691], 'Lose more than 5%': [0.24104275212138815, 0.25820893999635686, 0.25962636617917145, 0.28772834438302053, 0.3739678449358465, 0.44223225772152996, 0.5779950608528471, 0.6835958853945895, 0.8182111472722966, 0.7798909948739889], 'No change': [0.0, 0.001342241990149059, 0.0009866309814529474, 0.0016553589613498155, 0.0009528047614776685, 0.001264695899162576, 0.0019551634675524327, 0.0021473359499604564, 0.0019094973778680843, 0.0008025763219652847]}}, 'intra_wealth_decile': {}, 'labour_supply_response': {'income_lsr': 34713731207.16876, 'substitution_lsr': -199176095093.17932, 'total_change': -164462363886.01056}, 'poverty': {'deep_poverty': {'adult': {'baseline': 0.03211651505583843, 'reform': 0.029122097782333302}, 'all': {'baseline': 0.02625313779408773, 'reform': 0.017712510010421765}, 'child': {'baseline': 0.019272355540465358, 'reform': 0.0018826583331948245}, 'senior': {'baseline': 0.016831565569610775, 'reform': 0.0020692307423353156}}, 'poverty': {'adult': {'baseline': 0.1037320892571561, 'reform': 0.09396047160756336}, 'all': {'baseline': 0.09588894292130189, 'reform': 0.06640715136343746}, 'child': {'baseline': 0.08779296042038127, 'reform': 0.037180083619712506}, 'senior': {'baseline': 0.08179862718036526, 'reform': 0.017848179053881662}}}, 'poverty_by_gender': {'deep_poverty': {'female': {'baseline': 0.02685362527847479, 'reform': 0.017054004412732877}, 'male': {'baseline': 0.025614185838012934, 'reform': 0.018413196453801992}}, 'poverty': {'female': {'baseline': 0.10008418065134399, 'reform': 0.0664615254278502}, 'male': {'baseline': 0.0914249775206819, 'reform': 0.06634929434606476}}}, 'poverty_by_race': {'poverty': {'black': {'baseline': 0.13640082599109205, 'reform': 0.08721190030764195}, 'hispanic': {'baseline': 0.14154179445816786, 'reform': 0.10100101367376042}, 'other': {'baseline': 0.09577244758327383, 'reform': 0.07853716222370495}, 'white': {'baseline': 0.07102615945350867, 'reform': 0.0477255808017008}}}, 'wealth_decile': {}}, '42850': {'budget': {'baseline_net_income': 11960548612504.346, 'benefit_spending_impact': 1132127915054.3364, 'budgetary_impact': 468260403.44140625, 'households': 134663334.54167563, 'state_tax_revenue_impact': 0.0, 'tax_revenue_impact': 1132596175457.7778}, 'decile': {'average': {'1': 4541.669796838067, '10': 23050.083008579782, '2': 1083.905238464896, '3': 23.138449927852925, '4': -741.3733467920795, '5': -2038.7095396223617, '6': -3535.273614423049, '7': -5618.298020034664, '8': -6096.158316204359, '9': -7061.027532533646}, 'relative': {'1': 1.5115029013509425, '10': 0.049661000313126855, '2': 0.0336516595457143, '3': 0.0005266463269637478, '4': -0.013659887008783194, '5': -0.03142129239511145, '6': -0.04584002914343843, '7': -0.06057489690895066, '8': -0.053508022366729836, '9': -0.0478782626062464}}, 'detailed_budget': {}, 'inequality': {'gini': {'baseline': 0.5275276822147373, 'reform': 0.5194438328524664}, 'top_10_pct_share': {'baseline': 0.3844596297892297, 'reform': 0.3967774908049273}, 'top_1_pct_share': {'baseline': 0.16468817634807265, 'reform': 0.18216916084901713}}, 'intra_decile': {'all': {'Gain less than 5%': 0.08322574429178434, 'Gain more than 5%': 0.3328544741367713, 'Lose less than 5%': 0.12016964383085224, 'Lose more than 5%': 0.46011132538790134, 'No change': 0.00363881235269079}, 'deciles': {'Gain less than 5%': [0.047834587672062626, 0.0802989661225038, 0.09750946007338625, 0.1182718438530556, 0.09039396357702366, 0.08276127126387188, 0.06345123206931799, 0.06508849260997214, 0.07273089331341483, 0.11391673236323446], 'Gain more than 5%': [0.7218635560147604, 0.5813689323799203, 0.49313752883398015, 0.4258846158368382, 0.3297431541228015, 0.21667704201533367, 0.1292475851637286, 0.09056719411656723, 0.055593233180168504, 0.2844618997036141], 'Lose less than 5%': [0.06563179275669472, 0.08610604075100683, 0.09604621405880719, 0.11230859177673373, 0.10316024986611097, 0.1026263724320068, 0.10190827593090389, 0.14481232901688518, 0.19610063175305936, 0.1929959399663136], 'Lose more than 5%': [0.16270427102995846, 0.24733265842365065, 0.3089137760673175, 0.3386075256714673, 0.47345577324927407, 0.596480219402512, 0.7022899319577242, 0.6953506301166908, 0.6720667594655891, 0.40391170849483016], 'No change': [0.0019657925265238563, 0.004893402322918448, 0.0043930209665089155, 0.004927422861905217, 0.0032468591847898353, 0.0014550948862756684, 0.0031029748783253427, 0.0041813541398846524, 0.0035084822877682097, 0.004713719472007756]}}, 'intra_wealth_decile': {}, 'labour_supply_response': {'income_lsr': 10867780991.29229, 'substitution_lsr': 61878910405.96155, 'total_change': 72746691397.25385}, 'poverty': {'deep_poverty': {'adult': {'baseline': 0.03211651505583843, 'reform': 0.026818544988689824}, 'all': {'baseline': 0.02625313779408773, 'reform': 0.022886721615517285}, 'child': {'baseline': 0.019272355540465358, 'reform': 0.011535072759439572}, 'senior': {'baseline': 0.016831565569610775, 'reform': 0.02455908726456716}}, 'poverty': {'adult': {'baseline': 0.1037320892571561, 'reform': 0.10391268384105329}, 'all': {'baseline': 0.09588894292130189, 'reform': 0.09957227391834526}, 'child': {'baseline': 0.08779296042038127, 'reform': 0.11178735088611162}, 'senior': {'baseline': 0.08179862718036526, 'reform': 0.07177624684978348}}}, 'poverty_by_gender': {'deep_poverty': {'female': {'baseline': 0.02685362527847479, 'reform': 0.023580184373602733}, 'male': {'baseline': 0.025614185838012934, 'reform': 0.02214883881651774}}, 'poverty': {'female': {'baseline': 0.10008418065134399, 'reform': 0.10420871264758852}, 'male': {'baseline': 0.0914249775206819, 'reform': 0.09463884620786635}}}, 'poverty_by_race': {'poverty': {'black': {'baseline': 0.13640082599109205, 'reform': 0.13373561042816776}, 'hispanic': {'baseline': 0.14154179445816786, 'reform': 0.15943557515970713}, 'other': {'baseline': 0.09577244758327383, 'reform': 0.10442573226286839}, 'white': {'baseline': 0.07102615945350867, 'reform': 0.07019111395196292}}}, 'wealth_decile': {}}, '42851': {'budget': {'baseline_net_income': 11960548612504.346, 'benefit_spending_impact': 2169134388250.4438, 'budgetary_impact': 7912178389.53418, 'households': 134663334.54167563, 'state_tax_revenue_impact': 0.0, 'tax_revenue_impact': 2177046566639.978}, 'decile': {'average': {'1': 5050.707672639119, '10': -20604.40121355015, '2': 5904.37147031248, '3': 4754.434495000102, '4': 3616.5909760075247, '5': 1135.6916017909557, '6': -1890.7587102624148, '7': -6486.400580418875, '8': -10060.802076215205, '9': -15965.697242733571}, 'relative': {'1': 1.680914650903162, '10': -0.04439182170133761, '2': 0.18331113412809577, '3': 0.10821405372394748, '4': 0.06663609408540382, '5': 0.0175036694521752, '6': -0.024516471378067284, '7': -0.06993453267660707, '8': -0.08830702790155667, '9': -0.10825759307089623}}, 'detailed_budget': {}, 'inequality': {'gini': {'baseline': 0.5275276822147373, 'reform': 0.4799768095821053}, 'top_10_pct_share': {'baseline': 0.3844596297892297, 'reform': 0.36361864682523065}, 'top_1_pct_share': {'baseline': 0.16468817634807265, 'reform': 0.16972444036391343}}, 'intra_decile': {'all': {'Gain less than 5%': 0.037314989021143115, 'Gain more than 5%': 0.46456641322806586, 'Lose less than 5%': 0.04365751851260705, 'Lose more than 5%': 0.4529552655982628, 'No change': 0.0015058136399211893}, 'deciles': {'Gain less than 5%': [0.012291022970094077, 0.012855578682864984, 0.031961154816186936, 0.03151767443766214, 0.03387042681069087, 0.059430268195209454, 0.050407321241195915, 0.040955851210821424, 0.04776746263039569, 0.052093129216309646], 'Gain more than 5%': [0.7582838581706653, 0.7294994259324187, 0.704992341077803, 0.6483854577719638, 0.5814486915475772, 0.4731775479590744, 0.30697219541411463, 0.24326972455791082, 0.11791464512102773, 0.08172024472810319], 'Lose less than 5%': [0.016458980026636538, 0.019294832518075025, 0.022206905074540984, 0.03425263343489807, 0.023631010515945492, 0.053255854798189665, 0.0823255341962188, 0.054708087428688046, 0.05130059073810873, 0.07914075639476918], 'Lose more than 5%': [0.21221327423636008, 0.23808437076333325, 0.23917885534054703, 0.2847662504064251, 0.36062592021664297, 0.4114848910500279, 0.5572070940658888, 0.6600710282096997, 0.7815537577358729, 0.7843672139578302], 'No change': [0.0007528645962439834, 0.00026579210330810317, 0.0016607436909221085, 0.0010779839490508442, 0.0004239509091435581, 0.0026514379974985646, 0.00308785508258189, 0.000995308592880048, 0.0014635437745949748, 0.0026786557029878184]}}, 'intra_wealth_decile': {}, 'labour_supply_response': {'income_lsr': 33453592909.414444, 'substitution_lsr': -236440963527.70663, 'total_change': -202987370618.29218}, 'poverty': {'deep_poverty': {'adult': {'baseline': 0.03211651505583843, 'reform': 0.024153399657759773}, 'all': {'baseline': 0.02625313779408773, 'reform': 0.014753863320587602}, 'child': {'baseline': 0.019272355540465358, 'reform': 0.0014718669996509211}, 'senior': {'baseline': 0.016831565569610775, 'reform': 0.0021550816113043102}}, 'poverty': {'adult': {'baseline': 0.1037320892571561, 'reform': 0.08336842915622761}, 'all': {'baseline': 0.09588894292130189, 'reform': 0.05784542687682788}, 'child': {'baseline': 0.08779296042038127, 'reform': 0.022740297444044443}, 'senior': {'baseline': 0.08179862718036526, 'reform': 0.022485318972253695}}}, 'poverty_by_gender': {'deep_poverty': {'female': {'baseline': 0.02685362527847479, 'reform': 0.014119011565563071}, 'male': {'baseline': 0.025614185838012934, 'reform': 0.015429380764726313}}, 'poverty': {'female': {'baseline': 0.10008418065134399, 'reform': 0.057547990359478905}, 'male': {'baseline': 0.0914249775206819, 'reform': 0.05816191581208383}}}, 'poverty_by_race': {'poverty': {'black': {'baseline': 0.13640082599109205, 'reform': 0.07351173305126962}, 'hispanic': {'baseline': 0.14154179445816786, 'reform': 0.08644990261484645}, 'other': {'baseline': 0.09577244758327383, 'reform': 0.06911092613164298}, 'white': {'baseline': 0.07102615945350867, 'reform': 0.04252776745021446}}}, 'wealth_decile': {}}, '42852': {'budget': {'baseline_net_income': 11960548612504.346, 'benefit_spending_impact': 64946017879.39014, 'budgetary_impact': -300139054725.52686, 'households': 134663334.54167563, 'state_tax_revenue_impact': 0.0, 'tax_revenue_impact': -235193036846.13672}, 'decile': {'average': {'1': 5024.905173980163, '10': 80668.60509696654, '2': -2779.9855390032976, '3': -2979.3045418442703, '4': -2801.0730229355304, '5': -2965.14138892899, '6': -2852.2632509523264, '7': -2800.6857126576647, '8': 508.15041853706254, '9': 4921.063093140962}, 'relative': {'1': 1.6723273794083768, '10': 0.17379909744744967, '2': -0.08630932260558298, '3': -0.06781092937344795, '4': -0.051610084395684264, '5': -0.045699778592119926, '6': -0.03698379384695827, '7': -0.030196199581018723, '8': 0.004460206338222792, '9': 0.03336794113742361}}, 'detailed_budget': {}, 'inequality': {'gini': {'baseline': 0.5275276822147373, 'reform': 0.551900075095409}, 'top_10_pct_share': {'baseline': 0.3844596297892297, 'reform': 0.4257678805647793}, 'top_1_pct_share': {'baseline': 0.16468817634807265, 'reform': 0.19608829755533266}}, 'intra_decile': {'all': {'Gain less than 5%': 0.07438943714440924, 'Gain more than 5%': 0.24336629561549689, 'Lose less than 5%': 0.12281579843079644, 'Lose more than 5%': 0.5438232854476154, 'No change': 0.015605183361682009}, 'deciles': {'Gain less than 5%': [0.009407961570669665, 0.018121311999800254, 0.043157681162868784, 0.06664175418311154, 0.07443787076937389, 0.08253236969630107, 0.1156039359255459, 0.17843776931877514, 0.10347505531851924, 0.05207866149912683], 'Gain more than 5%': [0.055705715593127425, 0.04060164009023292, 0.058172385559962986, 0.08605791080168149, 0.11712706324408613, 0.1168597981327485, 0.10846145928420592, 0.3875391558366624, 0.6231905103125027, 0.8399473172997586], 'Lose less than 5%': [0.12215443845240018, 0.1032466533263573, 0.09941744103420838, 0.12188292159688585, 0.14841429231913975, 0.1679278720180318, 0.23029652468741246, 0.12049681712530876, 0.07911454257650176, 0.03520648117171817], 'Lose more than 5%': [0.781624794524166, 0.7913395572620917, 0.7694164260601455, 0.7102060461236914, 0.6495145606900719, 0.6291377017607634, 0.535018411419229, 0.3095667249987322, 0.1902195812778962, 0.0721890503593666], 'No change': [0.031107089859636717, 0.046690837321517874, 0.029836066182814314, 0.015211367294629704, 0.010506212977328329, 0.0035422583921551616, 0.01061966868360668, 0.003959532720521448, 0.0040003105145800435, 0.0005784896700298441]}}, 'intra_wealth_decile': {}, 'labour_supply_response': {'income_lsr': -12181965886.09454, 'substitution_lsr': 434628333365.8636, 'total_change': 422446367479.76904}, 'poverty': {'deep_poverty': {'adult': {'baseline': 0.03211651505583843, 'reform': 0.05677095240459499}, 'all': {'baseline': 0.02625313779408773, 'reform': 0.049359443072173666}, 'child': {'baseline': 0.019272355540465358, 'reform': 0.033593961593574244}, 'senior': {'baseline': 0.016831565569610775, 'reform': 0.04576509966181165}}, 'poverty': {'adult': {'baseline': 0.1037320892571561, 'reform': 0.15370130833973591}, 'all': {'baseline': 0.09588894292130189, 'reform': 0.1515143390326454}, 'child': {'baseline': 0.08779296042038127, 'reform': 0.1715748521860826}, 'senior': {'baseline': 0.08179862718036526, 'reform': 0.12085205084304586}}}, 'poverty_by_gender': {'deep_poverty': {'female': {'baseline': 0.02685362527847479, 'reform': 0.050897261143955395}, 'male': {'baseline': 0.025614185838012934, 'reform': 0.04772311943412971}}, 'poverty': {'female': {'baseline': 0.10008418065134399, 'reform': 0.15704859743488214}, 'male': {'baseline': 0.0914249775206819, 'reform': 0.14562558144239862}}}, 'poverty_by_race': {'poverty': {'black': {'baseline': 0.13640082599109205, 'reform': 0.20421892740178083}, 'hispanic': {'baseline': 0.14154179445816786, 'reform': 0.2383437972837175}, 'other': {'baseline': 0.09577244758327383, 'reform': 0.16057307541226976}, 'white': {'baseline': 0.07102615945350867, 'reform': 0.10791076760440366}}}, 'wealth_decile': {}}, '42853': {'budget': {'baseline_net_income': 11960548612504.346, 'benefit_spending_impact': 69135716247.33936, 'budgetary_impact': -163327932333.27588, 'households': 134663334.54167563, 'state_tax_revenue_impact': 0.0, 'tax_revenue_impact': -94192216085.93652}, 'decile': {'average': {'1': 4562.235510718152, '10': 73743.79170004484, '2': -2956.677207728035, '3': -3348.788391448289, '4': -3337.8394389727223, '5': -3687.373354498116, '6': -3801.0630807209777, '7': -4012.428417477337, '8': -1139.7731424518365, '9': 2657.4406843098477}, 'relative': {'1': 1.5183473302919774, '10': 0.15887970821380273, '2': -0.09179501237760593, '3': -0.0762206246154852, '4': -0.0615000657726839, '5': -0.056831065970824775, '6': -0.04928638102732349, '7': -0.04326086599118039, '8': -0.010004170435862804, '9': 0.01801913989963666}}, 'detailed_budget': {}, 'inequality': {'gini': {'baseline': 0.5275276822147373, 'reform': 0.5524972037410949}, 'top_10_pct_share': {'baseline': 0.3844596297892297, 'reform': 0.42552042202483004}, 'top_1_pct_share': {'baseline': 0.16468817634807265, 'reform': 0.19540073499324037}}, 'intra_decile': {'all': {'Gain less than 5%': 0.07549475993166924, 'Gain more than 5%': 0.20334938167435798, 'Lose less than 5%': 0.1129436027472821, 'Lose more than 5%': 0.5930587183497639, 'No change': 0.015153537296926933}, 'deciles': {'Gain less than 5%': [0.0034679457293403672, 0.013386512418939647, 0.037261959098889484, 0.04772078502960927, 0.06725891762449625, 0.06619555943231849, 0.06533004595632048, 0.21319905387743585, 0.1693707895402349, 0.07175603060910765], 'Gain more than 5%': [0.06509000571082513, 0.043896388690273534, 0.05126374167448936, 0.06558553553077391, 0.0934451669142204, 0.08708212680964819, 0.07822012531896712, 0.2566409046688753, 0.4975638309906394, 0.7947059904348674], 'Lose less than 5%': [0.11731204321111117, 0.10438879308503902, 0.08613226541269212, 0.11802264239884717, 0.11459589360272392, 0.11830593025906239, 0.18090180221104948, 0.15273528684634077, 0.09631169184619005, 0.04072967859976501], 'Lose more than 5%': [0.7830992725714642, 0.7920940862114872, 0.7947414963033599, 0.7552052371071127, 0.7174406931104785, 0.7265955468715866, 0.6667364167529218, 0.3719068959224411, 0.2318998805254093, 0.09086765812137616], 'No change': [0.0310307327772592, 0.04623421959426055, 0.030600537510569174, 0.013465799933656951, 0.007259328748080863, 0.0018208366273844, 0.00881160976074111, 0.005517858684907014, 0.004853807097526327, 0.0019406422348837527]}}, 'intra_wealth_decile': {}, 'labour_supply_response': {'income_lsr': -5852954234.667419, 'substitution_lsr': 397408321889.6261, 'total_change': 391555367654.9587}, 'poverty': {'deep_poverty': {'adult': {'baseline': 0.03211651505583843, 'reform': 0.05609378922371874}, 'all': {'baseline': 0.02625313779408773, 'reform': 0.04889226026442187}, 'child': {'baseline': 0.019272355540465358, 'reform': 0.03344075748153265}, 'senior': {'baseline': 0.016831565569610775, 'reform': 0.04555868426231154}}, 'poverty': {'adult': {'baseline': 0.1037320892571561, 'reform': 0.1547229652143087}, 'all': {'baseline': 0.09588894292130189, 'reform': 0.15284411043185467}, 'child': {'baseline': 0.08779296042038127, 'reform': 0.1746140945702564}, 'senior': {'baseline': 0.08179862718036526, 'reform': 0.12106865105976791}}}, 'poverty_by_gender': {'deep_poverty': {'female': {'baseline': 0.02685362527847479, 'reform': 0.05037693237176483}, 'male': {'baseline': 0.025614185838012934, 'reform': 0.047312486877329925}}, 'poverty': {'female': {'baseline': 0.10008418065134399, 'reform': 0.1585410638951581}, 'male': {'baseline': 0.0914249775206819, 'reform': 0.14678223628178752}}}, 'poverty_by_race': {'poverty': {'black': {'baseline': 0.13640082599109205, 'reform': 0.20410489301672313}, 'hispanic': {'baseline': 0.14154179445816786, 'reform': 0.24236145151505545}, 'other': {'baseline': 0.09577244758327383, 'reform': 0.16187580205569096}, 'white': {'baseline': 0.07102615945350867, 'reform': 0.10859060365929744}}}, 'wealth_decile': {}}, '42854': {'budget': {'baseline_net_income': 11960548612504.346, 'benefit_spending_impact': 98778086053.78369, 'budgetary_impact': -53108313556.75781, 'households': 134663334.54167563, 'state_tax_revenue_impact': 0.0, 'tax_revenue_impact': 45669772497.02588}, 'decile': {'average': {'1': 4100.473870275545, '10': 67208.65090580357, '2': -3054.0636492606664, '3': -3564.0806291665544, '4': -3689.693646939944, '5': -4193.13892576983, '6': -4485.204801389314, '7': -4962.133673537209, '8': -2489.6819938357175, '9': 742.3591268929237}, 'relative': {'1': 1.3646694782060573, '10': 0.14479986178078377, '2': -0.0948185381052481, '3': -0.0811208174361653, '4': -0.06798301899078102, '5': -0.06462609885287664, '6': -0.05815728603612765, '7': -0.0535003188957026, '8': -0.02185277233665273, '9': 0.005033667559255312}}, 'detailed_budget': {}, 'inequality': {'gini': {'baseline': 0.5275276822147373, 'reform': 0.5522002562325621}, 'top_10_pct_share': {'baseline': 0.3844596297892297, 'reform': 0.4248769766193161}, 'top_1_pct_share': {'baseline': 0.16468817634807265, 'reform': 0.19525190386905217}}, 'intra_decile': {'all': {'Gain less than 5%': 0.082475071855993, 'Gain more than 5%': 0.17209400826338214, 'Lose less than 5%': 0.11099973291531988, 'Lose more than 5%': 0.621588823406768, 'No change': 0.012842363558536915}, 'deciles': {'Gain less than 5%': [0.014187548630460766, 0.030210705632286988, 0.039283712537886664, 0.05079396195940627, 0.06145410193634475, 0.06107136214171596, 0.053040950274007626, 0.1969009973327481, 0.22421458226549715, 0.09359279584957571], 'Gain more than 5%': [0.06990296724175207, 0.041978672020083416, 0.051657071761148025, 0.05161309377369558, 0.07852036300527843, 0.07349298053792178, 0.06474699313261366, 0.16392956445434137, 0.3770453238417262, 0.748053052865261], 'Lose less than 5%': [0.12080787548328613, 0.09574129920910994, 0.08135690205944708, 0.10538935624322987, 0.1078309655158563, 0.0886428262210043, 0.1357834810770446, 0.2053543104046621, 0.12143081528634099, 0.04765949765321753], 'Lose more than 5%': [0.773489225865236, 0.7942732655983842, 0.8031342208393843, 0.780245140689832, 0.7455583158091217, 0.7723810890089151, 0.7430845602641379, 0.424992720888177, 0.2712404665744129, 0.10748922853007939], 'No change': [0.02161238277926496, 0.03779605754013547, 0.024568092802133863, 0.011958447333836367, 0.0066362537333988884, 0.004411742090442816, 0.00334401525219623, 0.008822406920071408, 0.006068812032022754, 0.0032054251018663843]}}, 'intra_wealth_decile': {}, 'labour_supply_response': {'income_lsr': -696366736.4278711, 'substitution_lsr': 360098948644.11395, 'total_change': 359402581907.6861}, 'poverty': {'deep_poverty': {'adult': {'baseline': 0.03211651505583843, 'reform': 0.05602472198656048}, 'all': {'baseline': 0.02625313779408773, 'reform': 0.04869998948483293}, 'child': {'baseline': 0.019272355540465358, 'reform': 0.03283584524928872}, 'senior': {'baseline': 0.016831565569610775, 'reform': 0.04548701954265505}}, 'poverty': {'adult': {'baseline': 0.1037320892571561, 'reform': 0.15531187416932152}, 'all': {'baseline': 0.09588894292130189, 'reform': 0.15311774901648775}, 'child': {'baseline': 0.08779296042038127, 'reform': 0.17441869191042877}, 'senior': {'baseline': 0.08179862718036526, 'reform': 0.12094792121927367}}}, 'poverty_by_gender': {'deep_poverty': {'female': {'baseline': 0.02685362527847479, 'reform': 0.050077668976274}, 'male': {'baseline': 0.025614185838012934, 'reform': 0.04723406216946361}}, 'poverty': {'female': {'baseline': 0.10008418065134399, 'reform': 0.15883833692471971}, 'male': {'baseline': 0.0914249775206819, 'reform': 0.14703072650744484}}}, 'poverty_by_race': {'poverty': {'black': {'baseline': 0.13640082599109205, 'reform': 0.20412008289254768}, 'hispanic': {'baseline': 0.14154179445816786, 'reform': 0.24247454067901397}, 'other': {'baseline': 0.09577244758327383, 'reform': 0.16233587130925722}, 'white': {'baseline': 0.07102615945350867, 'reform': 0.10894675451338948}}}, 'wealth_decile': {}}, '42855': {'budget': {'baseline_net_income': 11960548612504.346, 'benefit_spending_impact': 192412051204.92114, 'budgetary_impact': -8043476607.721436, 'households': 134663334.54167563, 'state_tax_revenue_impact': 0.0, 'tax_revenue_impact': 184368574597.1997}, 'decile': {'average': {'1': 3844.634390493749, '10': 61394.09640419606, '2': -2855.405096984858, '3': -3378.4182002642096, '4': -3549.376938204877, '5': -4162.841969450067, '6': -4641.289984068663, '7': -5327.063206511907, '8': -3195.5743632403055, '9': -518.0535615193329}, 'relative': {'1': 1.2795241168591085, '10': 0.1322725059002196, '2': -0.08865084951976064, '3': -0.07689501853686706, '4': -0.06539766790544871, '5': -0.06415915174505983, '6': -0.06018116031100411, '7': -0.05743488569158031, '8': -0.028048625976182524, '9': -0.0035127330049687286}}, 'detailed_budget': {}, 'inequality': {'gini': {'baseline': 0.5275276822147373, 'reform': 0.5490392210334455}, 'top_10_pct_share': {'baseline': 0.3844596297892297, 'reform': 0.42262198754776625}, 'top_1_pct_share': {'baseline': 0.16468817634807265, 'reform': 0.1945073754468365}}, 'intra_decile': {'all': {'Gain less than 5%': 0.09624815399161282, 'Gain more than 5%': 0.17010608885198128, 'Lose less than 5%': 0.11842732491030872, 'Lose more than 5%': 0.6023109649857634, 'No change': 0.012907467260333802}, 'deciles': {'Gain less than 5%': [0.031607714676565014, 0.0456936825559114, 0.05633708187443273, 0.06831239357531285, 0.08917147460482812, 0.0710707170446122, 0.06803161369039118, 0.18446847552412765, 0.2332060034141164, 0.1145823829558307], 'Gain more than 5%': [0.08997309817868943, 0.07034625047916535, 0.07573887765938554, 0.06909755301951313, 0.09542056909622479, 0.084759268579097, 0.06735764492784553, 0.14283453497561552, 0.30915512722263944, 0.6963779643816371], 'Lose less than 5%': [0.1060305219417185, 0.09188600692137949, 0.09161310931330353, 0.12382491465764996, 0.10707067162449992, 0.10388073970401429, 0.12954038424400557, 0.21141750827892625, 0.1526826757877379, 0.0663267166298518], 'Lose more than 5%': [0.751330772584296, 0.7559119418527593, 0.7541570280805694, 0.7248723052882626, 0.7017834850511028, 0.7365956195516976, 0.7335479731001744, 0.45120163118492734, 0.29484852598807254, 0.11886036717577171], 'No change': [0.021057892618731, 0.036162118190784444, 0.022153903072308793, 0.013892833459261475, 0.0065537996233443535, 0.0036936551205789194, 0.0015223840375833732, 0.010077850036403274, 0.01010766758743375, 0.003852568856908668]}}, 'intra_wealth_decile': {}, 'labour_supply_response': {'income_lsr': 1566424010.7396324, 'substitution_lsr': 322783867995.7503, 'total_change': 324350292006.4899}, 'poverty': {'deep_poverty': {'adult': {'baseline': 0.03211651505583843, 'reform': 0.05325816796428288}, 'all': {'baseline': 0.02625313779408773, 'reform': 0.04620762129320896}, 'child': {'baseline': 0.019272355540465358, 'reform': 0.02968163386412879}, 'senior': {'baseline': 0.016831565569610775, 'reform': 0.04461903014598722}}, 'poverty': {'adult': {'baseline': 0.1037320892571561, 'reform': 0.14971379744119326}, 'all': {'baseline': 0.09588894292130189, 'reform': 0.14656066346013255}, 'child': {'baseline': 0.08779296042038127, 'reform': 0.16067439688491958}, 'senior': {'baseline': 0.08179862718036526, 'reform': 0.1200913191155576}}}, 'poverty_by_gender': {'deep_poverty': {'female': {'baseline': 0.02685362527847479, 'reform': 0.04759753280558632}, 'male': {'baseline': 0.025614185838012934, 'reform': 0.044728678429793764}}, 'poverty': {'female': {'baseline': 0.10008418065134399, 'reform': 0.1521760761693557}, 'male': {'baseline': 0.0914249775206819, 'reform': 0.14058555319053595}}}, 'poverty_by_race': {'poverty': {'black': {'baseline': 0.13640082599109205, 'reform': 0.1966802591840155}, 'hispanic': {'baseline': 0.14154179445816786, 'reform': 0.23334324971825365}, 'other': {'baseline': 0.09577244758327383, 'reform': 0.15357993146539747}, 'white': {'baseline': 0.07102615945350867, 'reform': 0.10384434505160561}}}, 'wealth_decile': {}}, '42856': {'budget': {'baseline_net_income': 11960548612504.346, 'benefit_spending_impact': 330021399481.60596, 'budgetary_impact': -8094422961.789551, 'households': 134663334.54167563, 'state_tax_revenue_impact': 0.0, 'tax_revenue_impact': 321926976519.8164}, 'decile': {'average': {'1': 3826.0341364204232, '10': 56089.473028917404, '2': -2418.6473186903672, '3': -2966.106165974351, '4': -3195.341280518854, '5': -3867.9313983429824, '6': -4454.001386885605, '7': -5274.218690813681, '8': -3457.371240949322, '9': -1238.6381984224179}, 'relative': {'1': 1.2733338081719225, '10': 0.12084378770416462, '2': -0.07509097035548555, '3': -0.06751052566466653, '4': -0.05887452123178279, '5': -0.05961388862391826, '6': -0.05775268781086179, '7': -0.05686513110056206, '8': -0.030346504814197352, '9': -0.008398755657721814}}, 'detailed_budget': {}, 'inequality': {'gini': {'baseline': 0.5275276822147373, 'reform': 0.5451807647824357}, 'top_10_pct_share': {'baseline': 0.3844596297892297, 'reform': 0.4192366077944288}, 'top_1_pct_share': {'baseline': 0.16468817634807265, 'reform': 0.19297520714416092}}, 'intra_decile': {'all': {'Gain less than 5%': 0.10160123787052248, 'Gain more than 5%': 0.17154582246661057, 'Lose less than 5%': 0.13458796917333118, 'Lose more than 5%': 0.5790387336450367, 'No change': 0.013226236844499062}, 'deciles': {'Gain less than 5%': [0.01383297432090064, 0.0329210271196389, 0.058002308128338835, 0.08366721687076417, 0.09821536878146803, 0.08046040954479179, 0.06461728580661123, 0.18547042927804394, 0.2533587275171042, 0.14546663133756316], 'Gain more than 5%': [0.13060491617665096, 0.1076954200764754, 0.10580508905275707, 0.07927971188429503, 0.10872940454115596, 0.09116555502837213, 0.07470674129011737, 0.11816691647105342, 0.2520640555880733, 0.6472404145571551], 'Lose less than 5%': [0.10720708374092286, 0.10101175620859655, 0.10360174191448739, 0.153518514554576, 0.125662360567477, 0.12394566301549595, 0.12974746412988516, 0.23077394268715995, 0.18953054744615708, 0.08088061746855396], 'Lose more than 5%': [0.7263904860981368, 0.7210434174843737, 0.7108165937598174, 0.6708044947960372, 0.6608904808150291, 0.700002529941843, 0.7271533926788348, 0.4547961937882587, 0.29710369380159846, 0.1213860532864376], 'No change': [0.021964539663388745, 0.037328379110915466, 0.021774267144599298, 0.012730061894327566, 0.006502385294869953, 0.004425842469497108, 0.003775116094551405, 0.010792517775484003, 0.007942975647066936, 0.005026283350290145]}}, 'intra_wealth_decile': {}, 'labour_supply_response': {'income_lsr': 1664772700.8873763, 'substitution_lsr': 285564150675.5438, 'total_change': 287228923376.4312}, 'poverty': {'deep_poverty': {'adult': {'baseline': 0.03211651505583843, 'reform': 0.04729951746227333}, 'all': {'baseline': 0.02625313779408773, 'reform': 0.04191680849293}, 'child': {'baseline': 0.019272355540465358, 'reform': 0.026746422249801276}, 'senior': {'baseline': 0.016831565569610775, 'reform': 0.04376292139771267}}, 'poverty': {'adult': {'baseline': 0.1037320892571561, 'reform': 0.14034253839888616}, 'all': {'baseline': 0.09588894292130189, 'reform': 0.1397624641940958}, 'child': {'baseline': 0.08779296042038127, 'reform': 0.15600754933820316}, 'senior': {'baseline': 0.08179862718036526, 'reform': 0.11854410793019844}}}, 'poverty_by_gender': {'deep_poverty': {'female': {'baseline': 0.02685362527847479, 'reform': 0.043246482696652364}, 'male': {'baseline': 0.025614185838012934, 'reform': 0.04050196146364044}}, 'poverty': {'female': {'baseline': 0.10008418065134399, 'reform': 0.14562801129014413}, 'male': {'baseline': 0.0914249775206819, 'reform': 0.13352119707710597}}}, 'poverty_by_race': {'poverty': {'black': {'baseline': 0.13640082599109205, 'reform': 0.19346326011823978}, 'hispanic': {'baseline': 0.14154179445816786, 'reform': 0.2214931556721897}, 'other': {'baseline': 0.09577244758327383, 'reform': 0.14537607051616824}, 'white': {'baseline': 0.07102615945350867, 'reform': 0.09831483584053519}}}, 'wealth_decile': {}}, '42857': {'budget': {'baseline_net_income': 11960548612504.346, 'benefit_spending_impact': 447068196719.71924, 'budgetary_impact': 11677633850.14502, 'households': 134663334.54167563, 'state_tax_revenue_impact': 0.0, 'tax_revenue_impact': 458745830569.86426}, 'decile': {'average': {'1': 3795.3317494943108, '10': 50468.439614300965, '2': -2005.2382497508117, '3': -2637.2256462016303, '4': -2948.016454374797, '5': -3707.6669329922997, '6': -4439.7969627266775, '7': -5442.599420455637, '8': -3984.145777132514, '9': -2273.647822025747}, 'relative': {'1': 1.2631158158930638, '10': 0.10873336961762417, '2': -0.06225599110880557, '3': -0.06002498889412697, '4': -0.05431753358957361, '5': -0.05714383758012769, '6': -0.05756850653143987, '7': -0.05868056440494424, '8': -0.034970181267840336, '9': -0.015416779922681905}}, 'detailed_budget': {}, 'inequality': {'gini': {'baseline': 0.5275276822147373, 'reform': 0.5418889160898361}, 'top_10_pct_share': {'baseline': 0.3844596297892297, 'reform': 0.41608615204009924}, 'top_1_pct_share': {'baseline': 0.16468817634807265, 'reform': 0.1911676576942449}}, 'intra_decile': {'all': {'Gain less than 5%': 0.11929968723229264, 'Gain more than 5%': 0.1642657191803774, 'Lose less than 5%': 0.14927723281165087, 'Lose more than 5%': 0.5617262218924571, 'No change': 0.005431138883221921}, 'deciles': {'Gain less than 5%': [0.04564896733647373, 0.11944917553063765, 0.09550824075084305, 0.0959908368699041, 0.10289556046274405, 0.08779138731259734, 0.06524650598327056, 0.15770148152717892, 0.25254153974474164, 0.1702231768045355], 'Gain more than 5%': [0.15055836373170922, 0.1295099779392925, 0.12804381387421593, 0.10443927547477769, 0.1250169713461501, 0.09259631626881229, 0.07168830684759862, 0.09404953778142058, 0.1714365983869655, 0.5753180301528318], 'Lose less than 5%': [0.12282779760550466, 0.08827628650638976, 0.1132042104909961, 0.16912095993644358, 0.13492200961206174, 0.130697415855647, 0.11979157198915737, 0.25427390903759756, 0.24882903347665028, 0.11082913360606074], 'Lose more than 5%': [0.6796796120685962, 0.6592719040181539, 0.6595565858577939, 0.626399351439032, 0.6324236265744254, 0.6855344723097501, 0.7382269038933028, 0.4822454604572365, 0.31704996440308014, 0.13687433790320033], 'No change': [0.0012852592577161622, 0.003492656005526151, 0.0036871490261510213, 0.004049576279842576, 0.004741832004618733, 0.0033804082531933444, 0.005046711286670668, 0.011729611196566507, 0.010142863988562388, 0.0067553215333716644]}}, 'intra_wealth_decile': {}, 'labour_supply_response': {'income_lsr': 3102181473.305671, 'substitution_lsr': 248245611020.73828, 'total_change': 251347792494.04395}, 'poverty': {'deep_poverty': {'adult': {'baseline': 0.03211651505583843, 'reform': 0.04334611698420874}, 'all': {'baseline': 0.02625313779408773, 'reform': 0.038775161435181935}, 'child': {'baseline': 0.019272355540465358, 'reform': 0.024448555204514888}, 'senior': {'baseline': 0.016831565569610775, 'reform': 0.04207258257935445}}, 'poverty': {'adult': {'baseline': 0.1037320892571561, 'reform': 0.135002759560311}, 'all': {'baseline': 0.09588894292130189, 'reform': 0.1352757443882053}, 'child': {'baseline': 0.08779296042038127, 'reform': 0.152631029008982}, 'senior': {'baseline': 0.08179862718036526, 'reform': 0.11531484708570366}}}, 'poverty_by_gender': {'deep_poverty': {'female': {'baseline': 0.02685362527847479, 'reform': 0.03986103453464577}, 'male': {'baseline': 0.025614185838012934, 'reform': 0.037619732289710855}}, 'poverty': {'female': {'baseline': 0.10008418065134399, 'reform': 0.1413513397328786}, 'male': {'baseline': 0.0914249775206819, 'reform': 0.1288109742960186}}}, 'poverty_by_race': {'poverty': {'black': {'baseline': 0.13640082599109205, 'reform': 0.18777398021348005}, 'hispanic': {'baseline': 0.14154179445816786, 'reform': 0.21547216594405916}, 'other': {'baseline': 0.09577244758327383, 'reform': 0.1393810977332163}, 'white': {'baseline': 0.07102615945350867, 'reform': 0.09486967634429405}}}, 'wealth_decile': {}}, '42858': {'budget': {'baseline_net_income': 11960548612504.346, 'benefit_spending_impact': 589639524678.3384, 'budgetary_impact': 5419746716.555176, 'households': 134663334.54167563, 'state_tax_revenue_impact': 0.0, 'tax_revenue_impact': 595059271394.8936}, 'decile': {'average': {'1': 3901.539183969356, '10': 45067.27525064222, '2': -1403.3777923467305, '3': -2097.975833284795, '4': -2505.7350240846527, '5': -3341.6682737729984, '6': -4218.734608682651, '7': -5407.102767896854, '8': -4319.1509805206915, '9': -3108.892012348045}, 'relative': {'1': 1.2984624730775722, '10': 0.0970966555522099, '2': -0.04357022182949604, '3': -0.04775130875677768, '4': -0.04616844866496983, '5': -0.051502940402750164, '6': -0.05470210753178308, '7': -0.05829784955754854, '8': -0.03791063408846629, '9': -0.021080267354268704}}, 'detailed_budget': {}, 'inequality': {'gini': {'baseline': 0.5275276822147373, 'reform': 0.537661971325473}, 'top_10_pct_share': {'baseline': 0.3844596297892297, 'reform': 0.41216440460271103}, 'top_1_pct_share': {'baseline': 0.16468817634807265, 'reform': 0.18899897847497235}}, 'intra_decile': {'all': {'Gain less than 5%': 0.11986293222384695, 'Gain more than 5%': 0.18888614622736868, 'Lose less than 5%': 0.15781653065423462, 'Lose more than 5%': 0.5280676616335099, 'No change': 0.005366729261039884}, 'deciles': {'Gain less than 5%': [0.06377011777934785, 0.0904046592957653, 0.09146640255472602, 0.11079927748748872, 0.12040307446062415, 0.09812470982349086, 0.07585745927111602, 0.1311270648911393, 0.22746705602735523, 0.18920950064741596], 'Gain more than 5%': [0.27320685381334897, 0.23965535540409338, 0.19344623623082013, 0.14633433177024244, 0.14601526398244669, 0.10839901187166896, 0.076807964683341, 0.08243677355819569, 0.12074924220801361, 0.5018104287515156], 'Lose less than 5%': [0.04966485421981323, 0.0890085769269139, 0.14802956091826625, 0.19517660439704906, 0.13565520724647367, 0.12742731839590377, 0.11990717499489094, 0.2657693204499397, 0.2980963235743861, 0.14943036541870947], 'Lose more than 5%': [0.6111375204856608, 0.5780815882151438, 0.5642820770478387, 0.5400503155980138, 0.59406504507234, 0.6608889437720327, 0.7222076743651964, 0.5143337523869003, 0.34443157946031, 0.15119811993166263], 'No change': [0.002220653701829052, 0.0028498201580836437, 0.002775723248348874, 0.007639470747206031, 0.0038614092381154437, 0.005160016136903694, 0.005219726685455618, 0.006333088713825019, 0.00925579872993508, 0.008351585250696389]}}, 'intra_wealth_decile': {}, 'labour_supply_response': {'income_lsr': 4083470655.4894724, 'substitution_lsr': 211001099375.94073, 'total_change': 215084570031.4302}, 'poverty': {'deep_poverty': {'adult': {'baseline': 0.03211651505583843, 'reform': 0.0407800149875777}, 'all': {'baseline': 0.02625313779408773, 'reform': 0.036516135384818654}, 'child': {'baseline': 0.019272355540465358, 'reform': 0.02305755751987002}, 'senior': {'baseline': 0.016831565569610775, 'reform': 0.03970514886457415}}, 'poverty': {'adult': {'baseline': 0.1037320892571561, 'reform': 0.12903860791758295}, 'all': {'baseline': 0.09588894292130189, 'reform': 0.12897711202761755}, 'child': {'baseline': 0.08779296042038127, 'reform': 0.14673875874677125}, 'senior': {'baseline': 0.08179862718036526, 'reform': 0.10751498894487792}}}, 'poverty_by_gender': {'deep_poverty': {'female': {'baseline': 0.02685362527847479, 'reform': 0.03758849712870089}, 'male': {'baseline': 0.025614185838012934, 'reform': 0.035375083070343316}}, 'poverty': {'female': {'baseline': 0.10008418065134399, 'reform': 0.1348564390694203}, 'male': {'baseline': 0.0914249775206819, 'reform': 0.12272118228480573}}}, 'poverty_by_race': {'poverty': {'black': {'baseline': 0.13640082599109205, 'reform': 0.17928403197015966}, 'hispanic': {'baseline': 0.14154179445816786, 'reform': 0.20515875856098598}, 'other': {'baseline': 0.09577244758327383, 'reform': 0.1332506145824315}, 'white': {'baseline': 0.07102615945350867, 'reform': 0.0904421360081135}}}, 'wealth_decile': {}}}\n"
     ]
    }
   ],
   "source": [
    "import json\n",
    "\n",
    "# Load the JSON file as a dictionary\n",
    "with open(\"json_data.json\", \"r\") as file:\n",
    "    json_data = json.load(file)\n",
    "\n",
    "# Print the dictionary\n",
    "print(json_data)\n"
   ]
  },
  {
   "cell_type": "code",
   "execution_count": 5,
   "metadata": {},
   "outputs": [
    {
     "data": {
      "application/vnd.plotly.v1+json": {
       "config": {
        "plotlyServerURL": "https://plot.ly"
       },
       "data": [
        {
         "hovertemplate": "UBI Category=ubi_0_5<br>Flat Tax Rate=%{x}<br>UBI Amount=%{y}<extra></extra>",
         "legendgroup": "ubi_0_5",
         "line": {
          "color": "#636efa",
          "dash": "solid"
         },
         "marker": {
          "symbol": "circle"
         },
         "mode": "lines",
         "name": "ubi_0_5",
         "orientation": "v",
         "showlegend": true,
         "type": "scatter",
         "x": [
          0.2,
          0.21,
          0.22,
          0.23,
          0.24,
          0.25,
          0.26,
          0.27,
          0.28,
          0.29,
          0.3,
          0.3,
          0.31,
          0.32,
          0.33,
          0.34,
          0.35,
          0.36,
          0.37,
          0.38,
          0.39,
          0.4
         ],
         "xaxis": "x",
         "y": [
          3360,
          3840,
          3480,
          3960,
          3600,
          3600,
          3240,
          3120,
          null,
          null,
          null,
          4080,
          3720,
          4680,
          3960,
          3720,
          5280,
          4680,
          10920,
          9720,
          null,
          null
         ],
         "yaxis": "y"
        },
        {
         "hovertemplate": "UBI Category=ubi_6_17<br>Flat Tax Rate=%{x}<br>UBI Amount=%{y}<extra></extra>",
         "legendgroup": "ubi_6_17",
         "line": {
          "color": "#EF553B",
          "dash": "solid"
         },
         "marker": {
          "symbol": "circle"
         },
         "mode": "lines",
         "name": "ubi_6_17",
         "orientation": "v",
         "showlegend": true,
         "type": "scatter",
         "x": [
          0.2,
          0.21,
          0.22,
          0.23,
          0.24,
          0.25,
          0.26,
          0.27,
          0.28,
          0.29,
          0.3,
          0.3,
          0.31,
          0.32,
          0.33,
          0.34,
          0.35,
          0.36,
          0.37,
          0.38,
          0.39,
          0.4
         ],
         "xaxis": "x",
         "y": [
          3000,
          2760,
          3000,
          3240,
          3000,
          2760,
          2760,
          2640,
          null,
          null,
          null,
          3000,
          3240,
          3240,
          3360,
          3480,
          4560,
          4680,
          8280,
          11160,
          null,
          null
         ],
         "yaxis": "y"
        },
        {
         "hovertemplate": "UBI Category=ubi_18_64<br>Flat Tax Rate=%{x}<br>UBI Amount=%{y}<extra></extra>",
         "legendgroup": "ubi_18_64",
         "line": {
          "color": "#00cc96",
          "dash": "solid"
         },
         "marker": {
          "symbol": "circle"
         },
         "mode": "lines",
         "name": "ubi_18_64",
         "orientation": "v",
         "showlegend": true,
         "type": "scatter",
         "x": [
          0.2,
          0.21,
          0.22,
          0.23,
          0.24,
          0.25,
          0.26,
          0.27,
          0.28,
          0.29,
          0.3,
          0.3,
          0.31,
          0.32,
          0.33,
          0.34,
          0.35,
          0.36,
          0.37,
          0.38,
          0.39,
          0.4
         ],
         "xaxis": "x",
         "y": [
          0,
          0,
          120,
          480,
          1320,
          1920,
          2520,
          3120,
          null,
          null,
          null,
          4200,
          4680,
          5040,
          5640,
          6000,
          5760,
          5880,
          3600,
          3960,
          null,
          null
         ],
         "yaxis": "y"
        },
        {
         "hovertemplate": "UBI Category=ubi_65_plus<br>Flat Tax Rate=%{x}<br>UBI Amount=%{y}<extra></extra>",
         "legendgroup": "ubi_65_plus",
         "line": {
          "color": "#ab63fa",
          "dash": "solid"
         },
         "marker": {
          "symbol": "circle"
         },
         "mode": "lines",
         "name": "ubi_65_plus",
         "orientation": "v",
         "showlegend": true,
         "type": "scatter",
         "x": [
          0.2,
          0.21,
          0.22,
          0.23,
          0.24,
          0.25,
          0.26,
          0.27,
          0.28,
          0.29,
          0.3,
          0.3,
          0.31,
          0.32,
          0.33,
          0.34,
          0.35,
          0.36,
          0.37,
          0.38,
          0.39,
          0.4
         ],
         "xaxis": "x",
         "y": [
          -4800,
          -2640,
          -840,
          0,
          0,
          240,
          840,
          1200,
          null,
          null,
          null,
          3600,
          4200,
          4800,
          5160,
          6000,
          7680,
          9120,
          12960,
          11520,
          null,
          null
         ],
         "yaxis": "y"
        },
        {
         "hovertemplate": "UBI Category=ubi_disability<br>Flat Tax Rate=%{x}<br>UBI Amount=%{y}<extra></extra>",
         "legendgroup": "ubi_disability",
         "line": {
          "color": "#FFA15A",
          "dash": "solid"
         },
         "marker": {
          "symbol": "circle"
         },
         "mode": "lines",
         "name": "ubi_disability",
         "orientation": "v",
         "showlegend": true,
         "type": "scatter",
         "x": [
          0.2,
          0.21,
          0.22,
          0.23,
          0.24,
          0.25,
          0.26,
          0.27,
          0.28,
          0.29,
          0.3,
          0.3,
          0.31,
          0.32,
          0.33,
          0.34,
          0.35,
          0.36,
          0.37,
          0.38,
          0.39,
          0.4
         ],
         "xaxis": "x",
         "y": [
          3600,
          5040,
          4800,
          4200,
          3000,
          2520,
          1320,
          1920,
          null,
          null,
          null,
          3360,
          2760,
          2640,
          2400,
          1560,
          360,
          1800,
          0,
          4920,
          null,
          null
         ],
         "yaxis": "y"
        }
       ],
       "layout": {
        "legend": {
         "title": {
          "text": "UBI Category"
         },
         "tracegroupgap": 0
        },
        "template": {
         "data": {
          "bar": [
           {
            "error_x": {
             "color": "#2a3f5f"
            },
            "error_y": {
             "color": "#2a3f5f"
            },
            "marker": {
             "line": {
              "color": "#E5ECF6",
              "width": 0.5
             },
             "pattern": {
              "fillmode": "overlay",
              "size": 10,
              "solidity": 0.2
             }
            },
            "type": "bar"
           }
          ],
          "barpolar": [
           {
            "marker": {
             "line": {
              "color": "#E5ECF6",
              "width": 0.5
             },
             "pattern": {
              "fillmode": "overlay",
              "size": 10,
              "solidity": 0.2
             }
            },
            "type": "barpolar"
           }
          ],
          "carpet": [
           {
            "aaxis": {
             "endlinecolor": "#2a3f5f",
             "gridcolor": "white",
             "linecolor": "white",
             "minorgridcolor": "white",
             "startlinecolor": "#2a3f5f"
            },
            "baxis": {
             "endlinecolor": "#2a3f5f",
             "gridcolor": "white",
             "linecolor": "white",
             "minorgridcolor": "white",
             "startlinecolor": "#2a3f5f"
            },
            "type": "carpet"
           }
          ],
          "choropleth": [
           {
            "colorbar": {
             "outlinewidth": 0,
             "ticks": ""
            },
            "type": "choropleth"
           }
          ],
          "contour": [
           {
            "colorbar": {
             "outlinewidth": 0,
             "ticks": ""
            },
            "colorscale": [
             [
              0,
              "#0d0887"
             ],
             [
              0.1111111111111111,
              "#46039f"
             ],
             [
              0.2222222222222222,
              "#7201a8"
             ],
             [
              0.3333333333333333,
              "#9c179e"
             ],
             [
              0.4444444444444444,
              "#bd3786"
             ],
             [
              0.5555555555555556,
              "#d8576b"
             ],
             [
              0.6666666666666666,
              "#ed7953"
             ],
             [
              0.7777777777777778,
              "#fb9f3a"
             ],
             [
              0.8888888888888888,
              "#fdca26"
             ],
             [
              1,
              "#f0f921"
             ]
            ],
            "type": "contour"
           }
          ],
          "contourcarpet": [
           {
            "colorbar": {
             "outlinewidth": 0,
             "ticks": ""
            },
            "type": "contourcarpet"
           }
          ],
          "heatmap": [
           {
            "colorbar": {
             "outlinewidth": 0,
             "ticks": ""
            },
            "colorscale": [
             [
              0,
              "#0d0887"
             ],
             [
              0.1111111111111111,
              "#46039f"
             ],
             [
              0.2222222222222222,
              "#7201a8"
             ],
             [
              0.3333333333333333,
              "#9c179e"
             ],
             [
              0.4444444444444444,
              "#bd3786"
             ],
             [
              0.5555555555555556,
              "#d8576b"
             ],
             [
              0.6666666666666666,
              "#ed7953"
             ],
             [
              0.7777777777777778,
              "#fb9f3a"
             ],
             [
              0.8888888888888888,
              "#fdca26"
             ],
             [
              1,
              "#f0f921"
             ]
            ],
            "type": "heatmap"
           }
          ],
          "heatmapgl": [
           {
            "colorbar": {
             "outlinewidth": 0,
             "ticks": ""
            },
            "colorscale": [
             [
              0,
              "#0d0887"
             ],
             [
              0.1111111111111111,
              "#46039f"
             ],
             [
              0.2222222222222222,
              "#7201a8"
             ],
             [
              0.3333333333333333,
              "#9c179e"
             ],
             [
              0.4444444444444444,
              "#bd3786"
             ],
             [
              0.5555555555555556,
              "#d8576b"
             ],
             [
              0.6666666666666666,
              "#ed7953"
             ],
             [
              0.7777777777777778,
              "#fb9f3a"
             ],
             [
              0.8888888888888888,
              "#fdca26"
             ],
             [
              1,
              "#f0f921"
             ]
            ],
            "type": "heatmapgl"
           }
          ],
          "histogram": [
           {
            "marker": {
             "pattern": {
              "fillmode": "overlay",
              "size": 10,
              "solidity": 0.2
             }
            },
            "type": "histogram"
           }
          ],
          "histogram2d": [
           {
            "colorbar": {
             "outlinewidth": 0,
             "ticks": ""
            },
            "colorscale": [
             [
              0,
              "#0d0887"
             ],
             [
              0.1111111111111111,
              "#46039f"
             ],
             [
              0.2222222222222222,
              "#7201a8"
             ],
             [
              0.3333333333333333,
              "#9c179e"
             ],
             [
              0.4444444444444444,
              "#bd3786"
             ],
             [
              0.5555555555555556,
              "#d8576b"
             ],
             [
              0.6666666666666666,
              "#ed7953"
             ],
             [
              0.7777777777777778,
              "#fb9f3a"
             ],
             [
              0.8888888888888888,
              "#fdca26"
             ],
             [
              1,
              "#f0f921"
             ]
            ],
            "type": "histogram2d"
           }
          ],
          "histogram2dcontour": [
           {
            "colorbar": {
             "outlinewidth": 0,
             "ticks": ""
            },
            "colorscale": [
             [
              0,
              "#0d0887"
             ],
             [
              0.1111111111111111,
              "#46039f"
             ],
             [
              0.2222222222222222,
              "#7201a8"
             ],
             [
              0.3333333333333333,
              "#9c179e"
             ],
             [
              0.4444444444444444,
              "#bd3786"
             ],
             [
              0.5555555555555556,
              "#d8576b"
             ],
             [
              0.6666666666666666,
              "#ed7953"
             ],
             [
              0.7777777777777778,
              "#fb9f3a"
             ],
             [
              0.8888888888888888,
              "#fdca26"
             ],
             [
              1,
              "#f0f921"
             ]
            ],
            "type": "histogram2dcontour"
           }
          ],
          "mesh3d": [
           {
            "colorbar": {
             "outlinewidth": 0,
             "ticks": ""
            },
            "type": "mesh3d"
           }
          ],
          "parcoords": [
           {
            "line": {
             "colorbar": {
              "outlinewidth": 0,
              "ticks": ""
             }
            },
            "type": "parcoords"
           }
          ],
          "pie": [
           {
            "automargin": true,
            "type": "pie"
           }
          ],
          "scatter": [
           {
            "fillpattern": {
             "fillmode": "overlay",
             "size": 10,
             "solidity": 0.2
            },
            "type": "scatter"
           }
          ],
          "scatter3d": [
           {
            "line": {
             "colorbar": {
              "outlinewidth": 0,
              "ticks": ""
             }
            },
            "marker": {
             "colorbar": {
              "outlinewidth": 0,
              "ticks": ""
             }
            },
            "type": "scatter3d"
           }
          ],
          "scattercarpet": [
           {
            "marker": {
             "colorbar": {
              "outlinewidth": 0,
              "ticks": ""
             }
            },
            "type": "scattercarpet"
           }
          ],
          "scattergeo": [
           {
            "marker": {
             "colorbar": {
              "outlinewidth": 0,
              "ticks": ""
             }
            },
            "type": "scattergeo"
           }
          ],
          "scattergl": [
           {
            "marker": {
             "colorbar": {
              "outlinewidth": 0,
              "ticks": ""
             }
            },
            "type": "scattergl"
           }
          ],
          "scattermapbox": [
           {
            "marker": {
             "colorbar": {
              "outlinewidth": 0,
              "ticks": ""
             }
            },
            "type": "scattermapbox"
           }
          ],
          "scatterpolar": [
           {
            "marker": {
             "colorbar": {
              "outlinewidth": 0,
              "ticks": ""
             }
            },
            "type": "scatterpolar"
           }
          ],
          "scatterpolargl": [
           {
            "marker": {
             "colorbar": {
              "outlinewidth": 0,
              "ticks": ""
             }
            },
            "type": "scatterpolargl"
           }
          ],
          "scatterternary": [
           {
            "marker": {
             "colorbar": {
              "outlinewidth": 0,
              "ticks": ""
             }
            },
            "type": "scatterternary"
           }
          ],
          "surface": [
           {
            "colorbar": {
             "outlinewidth": 0,
             "ticks": ""
            },
            "colorscale": [
             [
              0,
              "#0d0887"
             ],
             [
              0.1111111111111111,
              "#46039f"
             ],
             [
              0.2222222222222222,
              "#7201a8"
             ],
             [
              0.3333333333333333,
              "#9c179e"
             ],
             [
              0.4444444444444444,
              "#bd3786"
             ],
             [
              0.5555555555555556,
              "#d8576b"
             ],
             [
              0.6666666666666666,
              "#ed7953"
             ],
             [
              0.7777777777777778,
              "#fb9f3a"
             ],
             [
              0.8888888888888888,
              "#fdca26"
             ],
             [
              1,
              "#f0f921"
             ]
            ],
            "type": "surface"
           }
          ],
          "table": [
           {
            "cells": {
             "fill": {
              "color": "#EBF0F8"
             },
             "line": {
              "color": "white"
             }
            },
            "header": {
             "fill": {
              "color": "#C8D4E3"
             },
             "line": {
              "color": "white"
             }
            },
            "type": "table"
           }
          ]
         },
         "layout": {
          "annotationdefaults": {
           "arrowcolor": "#2a3f5f",
           "arrowhead": 0,
           "arrowwidth": 1
          },
          "autotypenumbers": "strict",
          "coloraxis": {
           "colorbar": {
            "outlinewidth": 0,
            "ticks": ""
           }
          },
          "colorscale": {
           "diverging": [
            [
             0,
             "#8e0152"
            ],
            [
             0.1,
             "#c51b7d"
            ],
            [
             0.2,
             "#de77ae"
            ],
            [
             0.3,
             "#f1b6da"
            ],
            [
             0.4,
             "#fde0ef"
            ],
            [
             0.5,
             "#f7f7f7"
            ],
            [
             0.6,
             "#e6f5d0"
            ],
            [
             0.7,
             "#b8e186"
            ],
            [
             0.8,
             "#7fbc41"
            ],
            [
             0.9,
             "#4d9221"
            ],
            [
             1,
             "#276419"
            ]
           ],
           "sequential": [
            [
             0,
             "#0d0887"
            ],
            [
             0.1111111111111111,
             "#46039f"
            ],
            [
             0.2222222222222222,
             "#7201a8"
            ],
            [
             0.3333333333333333,
             "#9c179e"
            ],
            [
             0.4444444444444444,
             "#bd3786"
            ],
            [
             0.5555555555555556,
             "#d8576b"
            ],
            [
             0.6666666666666666,
             "#ed7953"
            ],
            [
             0.7777777777777778,
             "#fb9f3a"
            ],
            [
             0.8888888888888888,
             "#fdca26"
            ],
            [
             1,
             "#f0f921"
            ]
           ],
           "sequentialminus": [
            [
             0,
             "#0d0887"
            ],
            [
             0.1111111111111111,
             "#46039f"
            ],
            [
             0.2222222222222222,
             "#7201a8"
            ],
            [
             0.3333333333333333,
             "#9c179e"
            ],
            [
             0.4444444444444444,
             "#bd3786"
            ],
            [
             0.5555555555555556,
             "#d8576b"
            ],
            [
             0.6666666666666666,
             "#ed7953"
            ],
            [
             0.7777777777777778,
             "#fb9f3a"
            ],
            [
             0.8888888888888888,
             "#fdca26"
            ],
            [
             1,
             "#f0f921"
            ]
           ]
          },
          "colorway": [
           "#636efa",
           "#EF553B",
           "#00cc96",
           "#ab63fa",
           "#FFA15A",
           "#19d3f3",
           "#FF6692",
           "#B6E880",
           "#FF97FF",
           "#FECB52"
          ],
          "font": {
           "color": "#2a3f5f"
          },
          "geo": {
           "bgcolor": "white",
           "lakecolor": "white",
           "landcolor": "#E5ECF6",
           "showlakes": true,
           "showland": true,
           "subunitcolor": "white"
          },
          "hoverlabel": {
           "align": "left"
          },
          "hovermode": "closest",
          "mapbox": {
           "style": "light"
          },
          "paper_bgcolor": "white",
          "plot_bgcolor": "#E5ECF6",
          "polar": {
           "angularaxis": {
            "gridcolor": "white",
            "linecolor": "white",
            "ticks": ""
           },
           "bgcolor": "#E5ECF6",
           "radialaxis": {
            "gridcolor": "white",
            "linecolor": "white",
            "ticks": ""
           }
          },
          "scene": {
           "xaxis": {
            "backgroundcolor": "#E5ECF6",
            "gridcolor": "white",
            "gridwidth": 2,
            "linecolor": "white",
            "showbackground": true,
            "ticks": "",
            "zerolinecolor": "white"
           },
           "yaxis": {
            "backgroundcolor": "#E5ECF6",
            "gridcolor": "white",
            "gridwidth": 2,
            "linecolor": "white",
            "showbackground": true,
            "ticks": "",
            "zerolinecolor": "white"
           },
           "zaxis": {
            "backgroundcolor": "#E5ECF6",
            "gridcolor": "white",
            "gridwidth": 2,
            "linecolor": "white",
            "showbackground": true,
            "ticks": "",
            "zerolinecolor": "white"
           }
          },
          "shapedefaults": {
           "line": {
            "color": "#2a3f5f"
           }
          },
          "ternary": {
           "aaxis": {
            "gridcolor": "white",
            "linecolor": "white",
            "ticks": ""
           },
           "baxis": {
            "gridcolor": "white",
            "linecolor": "white",
            "ticks": ""
           },
           "bgcolor": "#E5ECF6",
           "caxis": {
            "gridcolor": "white",
            "linecolor": "white",
            "ticks": ""
           }
          },
          "title": {
           "x": 0.05
          },
          "xaxis": {
           "automargin": true,
           "gridcolor": "white",
           "linecolor": "white",
           "ticks": "",
           "title": {
            "standoff": 15
           },
           "zerolinecolor": "white",
           "zerolinewidth": 2
          },
          "yaxis": {
           "automargin": true,
           "gridcolor": "white",
           "linecolor": "white",
           "ticks": "",
           "title": {
            "standoff": 15
           },
           "zerolinecolor": "white",
           "zerolinewidth": 2
          }
         }
        },
        "title": {
         "text": "UBI Amounts by Flat Tax Rate"
        },
        "xaxis": {
         "anchor": "y",
         "domain": [
          0,
          1
         ],
         "title": {
          "text": "Flat Tax Rate"
         }
        },
        "yaxis": {
         "anchor": "x",
         "domain": [
          0,
          1
         ],
         "title": {
          "text": "UBI Amount"
         }
        }
       }
      }
     },
     "metadata": {},
     "output_type": "display_data"
    }
   ],
   "source": [
    "import plotly.express as px\n",
    "\n",
    "# Melt the DataFrame to make it suitable for Plotly\n",
    "melted_df = df.sort_values(\"flat_tax_rate\").melt(id_vars=['flat_tax_rate'], \n",
    "                    value_vars=['ubi_0_5', 'ubi_6_17', 'ubi_18_64', 'ubi_65_plus', 'ubi_disability'],\n",
    "                    var_name='UBI Category', value_name='Amount')\n",
    "\n",
    "# Create the plot\n",
    "fig = px.line(melted_df, x='flat_tax_rate', y='Amount', color='UBI Category',\n",
    "              labels={'flat_tax_rate': 'Flat Tax Rate', 'Amount': 'UBI Amount'},\n",
    "              title='UBI Amounts by Flat Tax Rate')\n",
    "\n",
    "# Show the plot\n",
    "fig.show()"
   ]
  },
  {
   "cell_type": "code",
   "execution_count": 6,
   "metadata": {},
   "outputs": [
    {
     "name": "stdout",
     "output_type": "stream",
     "text": [
      "   rounded_ubi_api_id  baseline_net_income  benefit_spending_impact  \\\n",
      "9               42852         1.196055e+13             6.494602e+10   \n",
      "10              42853         1.196055e+13             6.913572e+10   \n",
      "11              42854         1.196055e+13             9.877809e+10   \n",
      "12              42855         1.196055e+13             1.924121e+11   \n",
      "13              42856         1.196055e+13             3.300214e+11   \n",
      "14              42857         1.196055e+13             4.470682e+11   \n",
      "15              42858         1.196055e+13             5.896395e+11   \n",
      "7               42850         1.196055e+13             1.132128e+12   \n",
      "5               42848         1.196055e+13             1.266689e+12   \n",
      "3               42846         1.196055e+13             1.395907e+12   \n",
      "1               42844         1.196055e+13             1.525258e+12   \n",
      "0               42843         1.196055e+13             1.647098e+12   \n",
      "2               42845         1.196055e+13             1.797125e+12   \n",
      "4               42847         1.196055e+13             1.911301e+12   \n",
      "6               42849         1.196055e+13             2.042417e+12   \n",
      "8               42851         1.196055e+13             2.169134e+12   \n",
      "\n",
      "    budgetary_impact    households  state_tax_revenue_impact  \\\n",
      "9      -3.001391e+11  1.346633e+08                       0.0   \n",
      "10     -1.633279e+11  1.346633e+08                       0.0   \n",
      "11     -5.310831e+10  1.346633e+08                       0.0   \n",
      "12     -8.043477e+09  1.346633e+08                       0.0   \n",
      "13     -8.094423e+09  1.346633e+08                       0.0   \n",
      "14      1.167763e+10  1.346633e+08                       0.0   \n",
      "15      5.419747e+09  1.346633e+08                       0.0   \n",
      "7       4.682604e+08  1.346633e+08                       0.0   \n",
      "5      -1.679431e+09  1.346633e+08                       0.0   \n",
      "3       1.141630e+09  1.346633e+08                       0.0   \n",
      "1       2.902572e+09  1.346633e+08                       0.0   \n",
      "0       1.179679e+10  1.346633e+08                       0.0   \n",
      "2      -7.890073e+09  1.346633e+08                       0.0   \n",
      "4       8.086875e+09  1.346633e+08                       0.0   \n",
      "6       7.864829e+09  1.346633e+08                       0.0   \n",
      "8       7.912178e+09  1.346633e+08                       0.0   \n",
      "\n",
      "    tax_revenue_impact  flat_tax_rate  \n",
      "9        -2.351930e+11           0.20  \n",
      "10       -9.419222e+10           0.21  \n",
      "11        4.566977e+10           0.22  \n",
      "12        1.843686e+11           0.23  \n",
      "13        3.219270e+11           0.24  \n",
      "14        4.587458e+11           0.25  \n",
      "15        5.950593e+11           0.26  \n",
      "7         1.132596e+12           0.30  \n",
      "5         1.265010e+12           0.31  \n",
      "3         1.397048e+12           0.32  \n",
      "1         1.528161e+12           0.33  \n",
      "0         1.658895e+12           0.34  \n",
      "2         1.789235e+12           0.35  \n",
      "4         1.919388e+12           0.36  \n",
      "6         2.050282e+12           0.37  \n",
      "8         2.177047e+12           0.38  \n"
     ]
    }
   ],
   "source": [
    "import pandas as pd\n",
    "\n",
    "def create_dataframes_from_json(json_data, df):\n",
    "    dataframes = {}\n",
    "    for api_id, metrics in json_data.items():\n",
    "        for metric_name, metric_data in metrics.items():\n",
    "            if metric_name not in dataframes:\n",
    "                dataframes[metric_name] = pd.DataFrame()\n",
    "\n",
    "            # Flatten the metric data and add API ID\n",
    "            flat_data = pd.DataFrame([{**{\"rounded_ubi_api_id\": api_id}, **metric_data}])\n",
    "            dataframes[metric_name] = pd.concat([dataframes[metric_name], flat_data], ignore_index=True)\n",
    "\n",
    "    # Ensure data type consistency for merging\n",
    "    df['rounded_ubi_api_id'] = df['rounded_ubi_api_id'].astype(str)\n",
    "\n",
    "    # Merge each dataframe with the df dataframe to add the flat_tax_rate\n",
    "    for metric_name, metric_df in dataframes.items():\n",
    "        metric_df['rounded_ubi_api_id'] = metric_df['rounded_ubi_api_id'].astype(str)\n",
    "        merged_df = metric_df.merge(df[['rounded_ubi_api_id', 'flat_tax_rate']], on='rounded_ubi_api_id', how='left')\n",
    "        # Sort the DataFrame by flat_tax_rate\n",
    "        dataframes[metric_name] = merged_df.sort_values(by='flat_tax_rate')\n",
    "\n",
    "    return dataframes\n",
    "\n",
    "# Assuming 'json_data' is your JSON data and 'df' is your existing DataFrame\n",
    "dfs = create_dataframes_from_json(json_data, df)\n",
    "\n",
    "# Accessing and printing a specific dataframe, for example, 'budget'\n",
    "budget_df = dfs.get('budget', None)\n",
    "if budget_df is not None:\n",
    "    print(budget_df)\n"
   ]
  },
  {
   "cell_type": "code",
   "execution_count": 7,
   "metadata": {},
   "outputs": [
    {
     "data": {
      "application/vnd.plotly.v1+json": {
       "config": {
        "plotlyServerURL": "https://plot.ly"
       },
       "data": [
        {
         "hovertemplate": "flat_tax_rate=%{x}<br>tax_revenue_impact=%{y}<extra></extra>",
         "legendgroup": "",
         "line": {
          "color": "#636efa",
          "dash": "solid"
         },
         "marker": {
          "symbol": "circle"
         },
         "mode": "lines",
         "name": "",
         "orientation": "v",
         "showlegend": false,
         "type": "scatter",
         "x": [
          0.2,
          0.21,
          0.22,
          0.23,
          0.24,
          0.25,
          0.26,
          0.3,
          0.31,
          0.32,
          0.33,
          0.34,
          0.35,
          0.36,
          0.37,
          0.38
         ],
         "xaxis": "x",
         "y": [
          -235193036846.13672,
          -94192216085.93652,
          45669772497.02588,
          184368574597.1997,
          321926976519.8164,
          458745830569.86426,
          595059271394.8936,
          1132596175457.7778,
          1265009588831.8384,
          1397048301064.434,
          1528160943352.0952,
          1658894791517.1382,
          1789234662070.6,
          1919387581133.144,
          2050282212728.0298,
          2177046566639.978
         ],
         "yaxis": "y"
        }
       ],
       "layout": {
        "legend": {
         "tracegroupgap": 0
        },
        "margin": {
         "t": 60
        },
        "template": {
         "data": {
          "bar": [
           {
            "error_x": {
             "color": "#2a3f5f"
            },
            "error_y": {
             "color": "#2a3f5f"
            },
            "marker": {
             "line": {
              "color": "#E5ECF6",
              "width": 0.5
             },
             "pattern": {
              "fillmode": "overlay",
              "size": 10,
              "solidity": 0.2
             }
            },
            "type": "bar"
           }
          ],
          "barpolar": [
           {
            "marker": {
             "line": {
              "color": "#E5ECF6",
              "width": 0.5
             },
             "pattern": {
              "fillmode": "overlay",
              "size": 10,
              "solidity": 0.2
             }
            },
            "type": "barpolar"
           }
          ],
          "carpet": [
           {
            "aaxis": {
             "endlinecolor": "#2a3f5f",
             "gridcolor": "white",
             "linecolor": "white",
             "minorgridcolor": "white",
             "startlinecolor": "#2a3f5f"
            },
            "baxis": {
             "endlinecolor": "#2a3f5f",
             "gridcolor": "white",
             "linecolor": "white",
             "minorgridcolor": "white",
             "startlinecolor": "#2a3f5f"
            },
            "type": "carpet"
           }
          ],
          "choropleth": [
           {
            "colorbar": {
             "outlinewidth": 0,
             "ticks": ""
            },
            "type": "choropleth"
           }
          ],
          "contour": [
           {
            "colorbar": {
             "outlinewidth": 0,
             "ticks": ""
            },
            "colorscale": [
             [
              0,
              "#0d0887"
             ],
             [
              0.1111111111111111,
              "#46039f"
             ],
             [
              0.2222222222222222,
              "#7201a8"
             ],
             [
              0.3333333333333333,
              "#9c179e"
             ],
             [
              0.4444444444444444,
              "#bd3786"
             ],
             [
              0.5555555555555556,
              "#d8576b"
             ],
             [
              0.6666666666666666,
              "#ed7953"
             ],
             [
              0.7777777777777778,
              "#fb9f3a"
             ],
             [
              0.8888888888888888,
              "#fdca26"
             ],
             [
              1,
              "#f0f921"
             ]
            ],
            "type": "contour"
           }
          ],
          "contourcarpet": [
           {
            "colorbar": {
             "outlinewidth": 0,
             "ticks": ""
            },
            "type": "contourcarpet"
           }
          ],
          "heatmap": [
           {
            "colorbar": {
             "outlinewidth": 0,
             "ticks": ""
            },
            "colorscale": [
             [
              0,
              "#0d0887"
             ],
             [
              0.1111111111111111,
              "#46039f"
             ],
             [
              0.2222222222222222,
              "#7201a8"
             ],
             [
              0.3333333333333333,
              "#9c179e"
             ],
             [
              0.4444444444444444,
              "#bd3786"
             ],
             [
              0.5555555555555556,
              "#d8576b"
             ],
             [
              0.6666666666666666,
              "#ed7953"
             ],
             [
              0.7777777777777778,
              "#fb9f3a"
             ],
             [
              0.8888888888888888,
              "#fdca26"
             ],
             [
              1,
              "#f0f921"
             ]
            ],
            "type": "heatmap"
           }
          ],
          "heatmapgl": [
           {
            "colorbar": {
             "outlinewidth": 0,
             "ticks": ""
            },
            "colorscale": [
             [
              0,
              "#0d0887"
             ],
             [
              0.1111111111111111,
              "#46039f"
             ],
             [
              0.2222222222222222,
              "#7201a8"
             ],
             [
              0.3333333333333333,
              "#9c179e"
             ],
             [
              0.4444444444444444,
              "#bd3786"
             ],
             [
              0.5555555555555556,
              "#d8576b"
             ],
             [
              0.6666666666666666,
              "#ed7953"
             ],
             [
              0.7777777777777778,
              "#fb9f3a"
             ],
             [
              0.8888888888888888,
              "#fdca26"
             ],
             [
              1,
              "#f0f921"
             ]
            ],
            "type": "heatmapgl"
           }
          ],
          "histogram": [
           {
            "marker": {
             "pattern": {
              "fillmode": "overlay",
              "size": 10,
              "solidity": 0.2
             }
            },
            "type": "histogram"
           }
          ],
          "histogram2d": [
           {
            "colorbar": {
             "outlinewidth": 0,
             "ticks": ""
            },
            "colorscale": [
             [
              0,
              "#0d0887"
             ],
             [
              0.1111111111111111,
              "#46039f"
             ],
             [
              0.2222222222222222,
              "#7201a8"
             ],
             [
              0.3333333333333333,
              "#9c179e"
             ],
             [
              0.4444444444444444,
              "#bd3786"
             ],
             [
              0.5555555555555556,
              "#d8576b"
             ],
             [
              0.6666666666666666,
              "#ed7953"
             ],
             [
              0.7777777777777778,
              "#fb9f3a"
             ],
             [
              0.8888888888888888,
              "#fdca26"
             ],
             [
              1,
              "#f0f921"
             ]
            ],
            "type": "histogram2d"
           }
          ],
          "histogram2dcontour": [
           {
            "colorbar": {
             "outlinewidth": 0,
             "ticks": ""
            },
            "colorscale": [
             [
              0,
              "#0d0887"
             ],
             [
              0.1111111111111111,
              "#46039f"
             ],
             [
              0.2222222222222222,
              "#7201a8"
             ],
             [
              0.3333333333333333,
              "#9c179e"
             ],
             [
              0.4444444444444444,
              "#bd3786"
             ],
             [
              0.5555555555555556,
              "#d8576b"
             ],
             [
              0.6666666666666666,
              "#ed7953"
             ],
             [
              0.7777777777777778,
              "#fb9f3a"
             ],
             [
              0.8888888888888888,
              "#fdca26"
             ],
             [
              1,
              "#f0f921"
             ]
            ],
            "type": "histogram2dcontour"
           }
          ],
          "mesh3d": [
           {
            "colorbar": {
             "outlinewidth": 0,
             "ticks": ""
            },
            "type": "mesh3d"
           }
          ],
          "parcoords": [
           {
            "line": {
             "colorbar": {
              "outlinewidth": 0,
              "ticks": ""
             }
            },
            "type": "parcoords"
           }
          ],
          "pie": [
           {
            "automargin": true,
            "type": "pie"
           }
          ],
          "scatter": [
           {
            "fillpattern": {
             "fillmode": "overlay",
             "size": 10,
             "solidity": 0.2
            },
            "type": "scatter"
           }
          ],
          "scatter3d": [
           {
            "line": {
             "colorbar": {
              "outlinewidth": 0,
              "ticks": ""
             }
            },
            "marker": {
             "colorbar": {
              "outlinewidth": 0,
              "ticks": ""
             }
            },
            "type": "scatter3d"
           }
          ],
          "scattercarpet": [
           {
            "marker": {
             "colorbar": {
              "outlinewidth": 0,
              "ticks": ""
             }
            },
            "type": "scattercarpet"
           }
          ],
          "scattergeo": [
           {
            "marker": {
             "colorbar": {
              "outlinewidth": 0,
              "ticks": ""
             }
            },
            "type": "scattergeo"
           }
          ],
          "scattergl": [
           {
            "marker": {
             "colorbar": {
              "outlinewidth": 0,
              "ticks": ""
             }
            },
            "type": "scattergl"
           }
          ],
          "scattermapbox": [
           {
            "marker": {
             "colorbar": {
              "outlinewidth": 0,
              "ticks": ""
             }
            },
            "type": "scattermapbox"
           }
          ],
          "scatterpolar": [
           {
            "marker": {
             "colorbar": {
              "outlinewidth": 0,
              "ticks": ""
             }
            },
            "type": "scatterpolar"
           }
          ],
          "scatterpolargl": [
           {
            "marker": {
             "colorbar": {
              "outlinewidth": 0,
              "ticks": ""
             }
            },
            "type": "scatterpolargl"
           }
          ],
          "scatterternary": [
           {
            "marker": {
             "colorbar": {
              "outlinewidth": 0,
              "ticks": ""
             }
            },
            "type": "scatterternary"
           }
          ],
          "surface": [
           {
            "colorbar": {
             "outlinewidth": 0,
             "ticks": ""
            },
            "colorscale": [
             [
              0,
              "#0d0887"
             ],
             [
              0.1111111111111111,
              "#46039f"
             ],
             [
              0.2222222222222222,
              "#7201a8"
             ],
             [
              0.3333333333333333,
              "#9c179e"
             ],
             [
              0.4444444444444444,
              "#bd3786"
             ],
             [
              0.5555555555555556,
              "#d8576b"
             ],
             [
              0.6666666666666666,
              "#ed7953"
             ],
             [
              0.7777777777777778,
              "#fb9f3a"
             ],
             [
              0.8888888888888888,
              "#fdca26"
             ],
             [
              1,
              "#f0f921"
             ]
            ],
            "type": "surface"
           }
          ],
          "table": [
           {
            "cells": {
             "fill": {
              "color": "#EBF0F8"
             },
             "line": {
              "color": "white"
             }
            },
            "header": {
             "fill": {
              "color": "#C8D4E3"
             },
             "line": {
              "color": "white"
             }
            },
            "type": "table"
           }
          ]
         },
         "layout": {
          "annotationdefaults": {
           "arrowcolor": "#2a3f5f",
           "arrowhead": 0,
           "arrowwidth": 1
          },
          "autotypenumbers": "strict",
          "coloraxis": {
           "colorbar": {
            "outlinewidth": 0,
            "ticks": ""
           }
          },
          "colorscale": {
           "diverging": [
            [
             0,
             "#8e0152"
            ],
            [
             0.1,
             "#c51b7d"
            ],
            [
             0.2,
             "#de77ae"
            ],
            [
             0.3,
             "#f1b6da"
            ],
            [
             0.4,
             "#fde0ef"
            ],
            [
             0.5,
             "#f7f7f7"
            ],
            [
             0.6,
             "#e6f5d0"
            ],
            [
             0.7,
             "#b8e186"
            ],
            [
             0.8,
             "#7fbc41"
            ],
            [
             0.9,
             "#4d9221"
            ],
            [
             1,
             "#276419"
            ]
           ],
           "sequential": [
            [
             0,
             "#0d0887"
            ],
            [
             0.1111111111111111,
             "#46039f"
            ],
            [
             0.2222222222222222,
             "#7201a8"
            ],
            [
             0.3333333333333333,
             "#9c179e"
            ],
            [
             0.4444444444444444,
             "#bd3786"
            ],
            [
             0.5555555555555556,
             "#d8576b"
            ],
            [
             0.6666666666666666,
             "#ed7953"
            ],
            [
             0.7777777777777778,
             "#fb9f3a"
            ],
            [
             0.8888888888888888,
             "#fdca26"
            ],
            [
             1,
             "#f0f921"
            ]
           ],
           "sequentialminus": [
            [
             0,
             "#0d0887"
            ],
            [
             0.1111111111111111,
             "#46039f"
            ],
            [
             0.2222222222222222,
             "#7201a8"
            ],
            [
             0.3333333333333333,
             "#9c179e"
            ],
            [
             0.4444444444444444,
             "#bd3786"
            ],
            [
             0.5555555555555556,
             "#d8576b"
            ],
            [
             0.6666666666666666,
             "#ed7953"
            ],
            [
             0.7777777777777778,
             "#fb9f3a"
            ],
            [
             0.8888888888888888,
             "#fdca26"
            ],
            [
             1,
             "#f0f921"
            ]
           ]
          },
          "colorway": [
           "#636efa",
           "#EF553B",
           "#00cc96",
           "#ab63fa",
           "#FFA15A",
           "#19d3f3",
           "#FF6692",
           "#B6E880",
           "#FF97FF",
           "#FECB52"
          ],
          "font": {
           "color": "#2a3f5f"
          },
          "geo": {
           "bgcolor": "white",
           "lakecolor": "white",
           "landcolor": "#E5ECF6",
           "showlakes": true,
           "showland": true,
           "subunitcolor": "white"
          },
          "hoverlabel": {
           "align": "left"
          },
          "hovermode": "closest",
          "mapbox": {
           "style": "light"
          },
          "paper_bgcolor": "white",
          "plot_bgcolor": "#E5ECF6",
          "polar": {
           "angularaxis": {
            "gridcolor": "white",
            "linecolor": "white",
            "ticks": ""
           },
           "bgcolor": "#E5ECF6",
           "radialaxis": {
            "gridcolor": "white",
            "linecolor": "white",
            "ticks": ""
           }
          },
          "scene": {
           "xaxis": {
            "backgroundcolor": "#E5ECF6",
            "gridcolor": "white",
            "gridwidth": 2,
            "linecolor": "white",
            "showbackground": true,
            "ticks": "",
            "zerolinecolor": "white"
           },
           "yaxis": {
            "backgroundcolor": "#E5ECF6",
            "gridcolor": "white",
            "gridwidth": 2,
            "linecolor": "white",
            "showbackground": true,
            "ticks": "",
            "zerolinecolor": "white"
           },
           "zaxis": {
            "backgroundcolor": "#E5ECF6",
            "gridcolor": "white",
            "gridwidth": 2,
            "linecolor": "white",
            "showbackground": true,
            "ticks": "",
            "zerolinecolor": "white"
           }
          },
          "shapedefaults": {
           "line": {
            "color": "#2a3f5f"
           }
          },
          "ternary": {
           "aaxis": {
            "gridcolor": "white",
            "linecolor": "white",
            "ticks": ""
           },
           "baxis": {
            "gridcolor": "white",
            "linecolor": "white",
            "ticks": ""
           },
           "bgcolor": "#E5ECF6",
           "caxis": {
            "gridcolor": "white",
            "linecolor": "white",
            "ticks": ""
           }
          },
          "title": {
           "x": 0.05
          },
          "xaxis": {
           "automargin": true,
           "gridcolor": "white",
           "linecolor": "white",
           "ticks": "",
           "title": {
            "standoff": 15
           },
           "zerolinecolor": "white",
           "zerolinewidth": 2
          },
          "yaxis": {
           "automargin": true,
           "gridcolor": "white",
           "linecolor": "white",
           "ticks": "",
           "title": {
            "standoff": 15
           },
           "zerolinecolor": "white",
           "zerolinewidth": 2
          }
         }
        },
        "xaxis": {
         "anchor": "y",
         "domain": [
          0,
          1
         ],
         "title": {
          "text": "flat_tax_rate"
         }
        },
        "yaxis": {
         "anchor": "x",
         "domain": [
          0,
          1
         ],
         "title": {
          "text": "tax_revenue_impact"
         }
        }
       }
      }
     },
     "metadata": {},
     "output_type": "display_data"
    }
   ],
   "source": [
    "px.line(budget_df, \"flat_tax_rate\", \"tax_revenue_impact\")"
   ]
  },
  {
   "cell_type": "code",
   "execution_count": 17,
   "metadata": {},
   "outputs": [
    {
     "data": {
      "text/plain": [
       "9     4.224464e+11\n",
       "10    3.915554e+11\n",
       "11    3.594026e+11\n",
       "12    3.243503e+11\n",
       "13    2.872289e+11\n",
       "14    2.513478e+11\n",
       "15    2.150846e+11\n",
       "7     7.274669e+10\n",
       "5     3.692493e+10\n",
       "3     1.485141e+09\n",
       "1    -3.455510e+10\n",
       "0    -6.923369e+10\n",
       "2    -1.032536e+11\n",
       "4    -1.361485e+11\n",
       "6    -1.644624e+11\n",
       "8    -2.029874e+11\n",
       "Name: total_change, dtype: float64"
      ]
     },
     "execution_count": 17,
     "metadata": {},
     "output_type": "execute_result"
    }
   ],
   "source": [
    "dfs[\"labour_supply_response\"][\"total_change\"]"
   ]
  },
  {
   "cell_type": "code",
   "execution_count": 27,
   "metadata": {},
   "outputs": [
    {
     "data": {
      "application/vnd.plotly.v1+json": {
       "config": {
        "plotlyServerURL": "https://plot.ly"
       },
       "data": [
        {
         "hovertemplate": "Metric=% change gini<br>flat_tax_rate=%{x}<br>% Change=%{y}<extra></extra>",
         "legendgroup": "% change gini",
         "line": {
          "color": "#636efa",
          "dash": "solid"
         },
         "marker": {
          "symbol": "circle"
         },
         "mode": "lines",
         "name": "% change gini",
         "orientation": "v",
         "showlegend": true,
         "type": "scatter",
         "x": [
          0.2,
          0.21,
          0.22,
          0.23,
          0.24,
          0.25,
          0.26,
          0.3,
          0.31,
          0.32,
          0.33,
          0.34,
          0.35,
          0.36,
          0.37,
          0.38
         ],
         "xaxis": "x",
         "y": [
          0.04620116384859306,
          0.04733310187917945,
          0.04677019775387149,
          0.0407780284219314,
          0.033463803252153215,
          0.027223659268089107,
          0.01921091433190488,
          -0.015324028737851658,
          -0.023420762573875036,
          -0.03202820553024118,
          -0.03925479917859879,
          -0.04603163850886088,
          -0.057971342003020065,
          -0.06338814178931103,
          -0.07544809088904263,
          -0.0901391040428392
         ],
         "yaxis": "y"
        },
        {
         "hovertemplate": "Metric=% change top_10_pct_share<br>flat_tax_rate=%{x}<br>% Change=%{y}<extra></extra>",
         "legendgroup": "% change top_10_pct_share",
         "line": {
          "color": "#EF553B",
          "dash": "solid"
         },
         "marker": {
          "symbol": "circle"
         },
         "mode": "lines",
         "name": "% change top_10_pct_share",
         "orientation": "v",
         "showlegend": true,
         "type": "scatter",
         "x": [
          0.2,
          0.21,
          0.22,
          0.23,
          0.24,
          0.25,
          0.26,
          0.3,
          0.31,
          0.32,
          0.33,
          0.34,
          0.35,
          0.36,
          0.37,
          0.38
         ],
         "xaxis": "x",
         "y": [
          0.10744496320249755,
          0.10680131034332753,
          0.1051276745291676,
          0.09926232769734002,
          0.09045677441937058,
          0.08226227099112586,
          0.07206159676288969,
          0.03203941340330206,
          0.021471112215061317,
          0.011950464539377977,
          0.0022752755223846436,
          -0.0072135368814352325,
          -0.02031144589260471,
          -0.029781519025027486,
          -0.04484940879773881,
          -0.05420850812197005
         ],
         "yaxis": "y"
        },
        {
         "hovertemplate": "Metric=% change top_1_pct_share<br>flat_tax_rate=%{x}<br>% Change=%{y}<extra></extra>",
         "legendgroup": "% change top_1_pct_share",
         "line": {
          "color": "#00cc96",
          "dash": "solid"
         },
         "marker": {
          "symbol": "circle"
         },
         "mode": "lines",
         "name": "% change top_1_pct_share",
         "orientation": "v",
         "showlegend": true,
         "type": "scatter",
         "x": [
          0.2,
          0.21,
          0.22,
          0.23,
          0.24,
          0.25,
          0.26,
          0.3,
          0.31,
          0.32,
          0.33,
          0.34,
          0.35,
          0.36,
          0.37,
          0.38
         ],
         "xaxis": "x",
         "y": [
          0.19066408957553252,
          0.1864891537826975,
          0.18558543909298206,
          0.18106460196474708,
          0.1717611514277923,
          0.16078556416950784,
          0.14761716758292476,
          0.10614595952533945,
          0.09538378146939987,
          0.08581998550399923,
          0.07551198493909302,
          0.06668779747093147,
          0.05413485656976922,
          0.04363211848574148,
          0.03623247577391113,
          0.030580604676783314
         ],
         "yaxis": "y"
        }
       ],
       "layout": {
        "legend": {
         "title": {
          "text": "Metric"
         },
         "tracegroupgap": 0
        },
        "template": {
         "data": {
          "bar": [
           {
            "error_x": {
             "color": "#2a3f5f"
            },
            "error_y": {
             "color": "#2a3f5f"
            },
            "marker": {
             "line": {
              "color": "#E5ECF6",
              "width": 0.5
             },
             "pattern": {
              "fillmode": "overlay",
              "size": 10,
              "solidity": 0.2
             }
            },
            "type": "bar"
           }
          ],
          "barpolar": [
           {
            "marker": {
             "line": {
              "color": "#E5ECF6",
              "width": 0.5
             },
             "pattern": {
              "fillmode": "overlay",
              "size": 10,
              "solidity": 0.2
             }
            },
            "type": "barpolar"
           }
          ],
          "carpet": [
           {
            "aaxis": {
             "endlinecolor": "#2a3f5f",
             "gridcolor": "white",
             "linecolor": "white",
             "minorgridcolor": "white",
             "startlinecolor": "#2a3f5f"
            },
            "baxis": {
             "endlinecolor": "#2a3f5f",
             "gridcolor": "white",
             "linecolor": "white",
             "minorgridcolor": "white",
             "startlinecolor": "#2a3f5f"
            },
            "type": "carpet"
           }
          ],
          "choropleth": [
           {
            "colorbar": {
             "outlinewidth": 0,
             "ticks": ""
            },
            "type": "choropleth"
           }
          ],
          "contour": [
           {
            "colorbar": {
             "outlinewidth": 0,
             "ticks": ""
            },
            "colorscale": [
             [
              0,
              "#0d0887"
             ],
             [
              0.1111111111111111,
              "#46039f"
             ],
             [
              0.2222222222222222,
              "#7201a8"
             ],
             [
              0.3333333333333333,
              "#9c179e"
             ],
             [
              0.4444444444444444,
              "#bd3786"
             ],
             [
              0.5555555555555556,
              "#d8576b"
             ],
             [
              0.6666666666666666,
              "#ed7953"
             ],
             [
              0.7777777777777778,
              "#fb9f3a"
             ],
             [
              0.8888888888888888,
              "#fdca26"
             ],
             [
              1,
              "#f0f921"
             ]
            ],
            "type": "contour"
           }
          ],
          "contourcarpet": [
           {
            "colorbar": {
             "outlinewidth": 0,
             "ticks": ""
            },
            "type": "contourcarpet"
           }
          ],
          "heatmap": [
           {
            "colorbar": {
             "outlinewidth": 0,
             "ticks": ""
            },
            "colorscale": [
             [
              0,
              "#0d0887"
             ],
             [
              0.1111111111111111,
              "#46039f"
             ],
             [
              0.2222222222222222,
              "#7201a8"
             ],
             [
              0.3333333333333333,
              "#9c179e"
             ],
             [
              0.4444444444444444,
              "#bd3786"
             ],
             [
              0.5555555555555556,
              "#d8576b"
             ],
             [
              0.6666666666666666,
              "#ed7953"
             ],
             [
              0.7777777777777778,
              "#fb9f3a"
             ],
             [
              0.8888888888888888,
              "#fdca26"
             ],
             [
              1,
              "#f0f921"
             ]
            ],
            "type": "heatmap"
           }
          ],
          "heatmapgl": [
           {
            "colorbar": {
             "outlinewidth": 0,
             "ticks": ""
            },
            "colorscale": [
             [
              0,
              "#0d0887"
             ],
             [
              0.1111111111111111,
              "#46039f"
             ],
             [
              0.2222222222222222,
              "#7201a8"
             ],
             [
              0.3333333333333333,
              "#9c179e"
             ],
             [
              0.4444444444444444,
              "#bd3786"
             ],
             [
              0.5555555555555556,
              "#d8576b"
             ],
             [
              0.6666666666666666,
              "#ed7953"
             ],
             [
              0.7777777777777778,
              "#fb9f3a"
             ],
             [
              0.8888888888888888,
              "#fdca26"
             ],
             [
              1,
              "#f0f921"
             ]
            ],
            "type": "heatmapgl"
           }
          ],
          "histogram": [
           {
            "marker": {
             "pattern": {
              "fillmode": "overlay",
              "size": 10,
              "solidity": 0.2
             }
            },
            "type": "histogram"
           }
          ],
          "histogram2d": [
           {
            "colorbar": {
             "outlinewidth": 0,
             "ticks": ""
            },
            "colorscale": [
             [
              0,
              "#0d0887"
             ],
             [
              0.1111111111111111,
              "#46039f"
             ],
             [
              0.2222222222222222,
              "#7201a8"
             ],
             [
              0.3333333333333333,
              "#9c179e"
             ],
             [
              0.4444444444444444,
              "#bd3786"
             ],
             [
              0.5555555555555556,
              "#d8576b"
             ],
             [
              0.6666666666666666,
              "#ed7953"
             ],
             [
              0.7777777777777778,
              "#fb9f3a"
             ],
             [
              0.8888888888888888,
              "#fdca26"
             ],
             [
              1,
              "#f0f921"
             ]
            ],
            "type": "histogram2d"
           }
          ],
          "histogram2dcontour": [
           {
            "colorbar": {
             "outlinewidth": 0,
             "ticks": ""
            },
            "colorscale": [
             [
              0,
              "#0d0887"
             ],
             [
              0.1111111111111111,
              "#46039f"
             ],
             [
              0.2222222222222222,
              "#7201a8"
             ],
             [
              0.3333333333333333,
              "#9c179e"
             ],
             [
              0.4444444444444444,
              "#bd3786"
             ],
             [
              0.5555555555555556,
              "#d8576b"
             ],
             [
              0.6666666666666666,
              "#ed7953"
             ],
             [
              0.7777777777777778,
              "#fb9f3a"
             ],
             [
              0.8888888888888888,
              "#fdca26"
             ],
             [
              1,
              "#f0f921"
             ]
            ],
            "type": "histogram2dcontour"
           }
          ],
          "mesh3d": [
           {
            "colorbar": {
             "outlinewidth": 0,
             "ticks": ""
            },
            "type": "mesh3d"
           }
          ],
          "parcoords": [
           {
            "line": {
             "colorbar": {
              "outlinewidth": 0,
              "ticks": ""
             }
            },
            "type": "parcoords"
           }
          ],
          "pie": [
           {
            "automargin": true,
            "type": "pie"
           }
          ],
          "scatter": [
           {
            "fillpattern": {
             "fillmode": "overlay",
             "size": 10,
             "solidity": 0.2
            },
            "type": "scatter"
           }
          ],
          "scatter3d": [
           {
            "line": {
             "colorbar": {
              "outlinewidth": 0,
              "ticks": ""
             }
            },
            "marker": {
             "colorbar": {
              "outlinewidth": 0,
              "ticks": ""
             }
            },
            "type": "scatter3d"
           }
          ],
          "scattercarpet": [
           {
            "marker": {
             "colorbar": {
              "outlinewidth": 0,
              "ticks": ""
             }
            },
            "type": "scattercarpet"
           }
          ],
          "scattergeo": [
           {
            "marker": {
             "colorbar": {
              "outlinewidth": 0,
              "ticks": ""
             }
            },
            "type": "scattergeo"
           }
          ],
          "scattergl": [
           {
            "marker": {
             "colorbar": {
              "outlinewidth": 0,
              "ticks": ""
             }
            },
            "type": "scattergl"
           }
          ],
          "scattermapbox": [
           {
            "marker": {
             "colorbar": {
              "outlinewidth": 0,
              "ticks": ""
             }
            },
            "type": "scattermapbox"
           }
          ],
          "scatterpolar": [
           {
            "marker": {
             "colorbar": {
              "outlinewidth": 0,
              "ticks": ""
             }
            },
            "type": "scatterpolar"
           }
          ],
          "scatterpolargl": [
           {
            "marker": {
             "colorbar": {
              "outlinewidth": 0,
              "ticks": ""
             }
            },
            "type": "scatterpolargl"
           }
          ],
          "scatterternary": [
           {
            "marker": {
             "colorbar": {
              "outlinewidth": 0,
              "ticks": ""
             }
            },
            "type": "scatterternary"
           }
          ],
          "surface": [
           {
            "colorbar": {
             "outlinewidth": 0,
             "ticks": ""
            },
            "colorscale": [
             [
              0,
              "#0d0887"
             ],
             [
              0.1111111111111111,
              "#46039f"
             ],
             [
              0.2222222222222222,
              "#7201a8"
             ],
             [
              0.3333333333333333,
              "#9c179e"
             ],
             [
              0.4444444444444444,
              "#bd3786"
             ],
             [
              0.5555555555555556,
              "#d8576b"
             ],
             [
              0.6666666666666666,
              "#ed7953"
             ],
             [
              0.7777777777777778,
              "#fb9f3a"
             ],
             [
              0.8888888888888888,
              "#fdca26"
             ],
             [
              1,
              "#f0f921"
             ]
            ],
            "type": "surface"
           }
          ],
          "table": [
           {
            "cells": {
             "fill": {
              "color": "#EBF0F8"
             },
             "line": {
              "color": "white"
             }
            },
            "header": {
             "fill": {
              "color": "#C8D4E3"
             },
             "line": {
              "color": "white"
             }
            },
            "type": "table"
           }
          ]
         },
         "layout": {
          "annotationdefaults": {
           "arrowcolor": "#2a3f5f",
           "arrowhead": 0,
           "arrowwidth": 1
          },
          "autotypenumbers": "strict",
          "coloraxis": {
           "colorbar": {
            "outlinewidth": 0,
            "ticks": ""
           }
          },
          "colorscale": {
           "diverging": [
            [
             0,
             "#8e0152"
            ],
            [
             0.1,
             "#c51b7d"
            ],
            [
             0.2,
             "#de77ae"
            ],
            [
             0.3,
             "#f1b6da"
            ],
            [
             0.4,
             "#fde0ef"
            ],
            [
             0.5,
             "#f7f7f7"
            ],
            [
             0.6,
             "#e6f5d0"
            ],
            [
             0.7,
             "#b8e186"
            ],
            [
             0.8,
             "#7fbc41"
            ],
            [
             0.9,
             "#4d9221"
            ],
            [
             1,
             "#276419"
            ]
           ],
           "sequential": [
            [
             0,
             "#0d0887"
            ],
            [
             0.1111111111111111,
             "#46039f"
            ],
            [
             0.2222222222222222,
             "#7201a8"
            ],
            [
             0.3333333333333333,
             "#9c179e"
            ],
            [
             0.4444444444444444,
             "#bd3786"
            ],
            [
             0.5555555555555556,
             "#d8576b"
            ],
            [
             0.6666666666666666,
             "#ed7953"
            ],
            [
             0.7777777777777778,
             "#fb9f3a"
            ],
            [
             0.8888888888888888,
             "#fdca26"
            ],
            [
             1,
             "#f0f921"
            ]
           ],
           "sequentialminus": [
            [
             0,
             "#0d0887"
            ],
            [
             0.1111111111111111,
             "#46039f"
            ],
            [
             0.2222222222222222,
             "#7201a8"
            ],
            [
             0.3333333333333333,
             "#9c179e"
            ],
            [
             0.4444444444444444,
             "#bd3786"
            ],
            [
             0.5555555555555556,
             "#d8576b"
            ],
            [
             0.6666666666666666,
             "#ed7953"
            ],
            [
             0.7777777777777778,
             "#fb9f3a"
            ],
            [
             0.8888888888888888,
             "#fdca26"
            ],
            [
             1,
             "#f0f921"
            ]
           ]
          },
          "colorway": [
           "#636efa",
           "#EF553B",
           "#00cc96",
           "#ab63fa",
           "#FFA15A",
           "#19d3f3",
           "#FF6692",
           "#B6E880",
           "#FF97FF",
           "#FECB52"
          ],
          "font": {
           "color": "#2a3f5f"
          },
          "geo": {
           "bgcolor": "white",
           "lakecolor": "white",
           "landcolor": "#E5ECF6",
           "showlakes": true,
           "showland": true,
           "subunitcolor": "white"
          },
          "hoverlabel": {
           "align": "left"
          },
          "hovermode": "closest",
          "mapbox": {
           "style": "light"
          },
          "paper_bgcolor": "white",
          "plot_bgcolor": "#E5ECF6",
          "polar": {
           "angularaxis": {
            "gridcolor": "white",
            "linecolor": "white",
            "ticks": ""
           },
           "bgcolor": "#E5ECF6",
           "radialaxis": {
            "gridcolor": "white",
            "linecolor": "white",
            "ticks": ""
           }
          },
          "scene": {
           "xaxis": {
            "backgroundcolor": "#E5ECF6",
            "gridcolor": "white",
            "gridwidth": 2,
            "linecolor": "white",
            "showbackground": true,
            "ticks": "",
            "zerolinecolor": "white"
           },
           "yaxis": {
            "backgroundcolor": "#E5ECF6",
            "gridcolor": "white",
            "gridwidth": 2,
            "linecolor": "white",
            "showbackground": true,
            "ticks": "",
            "zerolinecolor": "white"
           },
           "zaxis": {
            "backgroundcolor": "#E5ECF6",
            "gridcolor": "white",
            "gridwidth": 2,
            "linecolor": "white",
            "showbackground": true,
            "ticks": "",
            "zerolinecolor": "white"
           }
          },
          "shapedefaults": {
           "line": {
            "color": "#2a3f5f"
           }
          },
          "ternary": {
           "aaxis": {
            "gridcolor": "white",
            "linecolor": "white",
            "ticks": ""
           },
           "baxis": {
            "gridcolor": "white",
            "linecolor": "white",
            "ticks": ""
           },
           "bgcolor": "#E5ECF6",
           "caxis": {
            "gridcolor": "white",
            "linecolor": "white",
            "ticks": ""
           }
          },
          "title": {
           "x": 0.05
          },
          "xaxis": {
           "automargin": true,
           "gridcolor": "white",
           "linecolor": "white",
           "ticks": "",
           "title": {
            "standoff": 15
           },
           "zerolinecolor": "white",
           "zerolinewidth": 2
          },
          "yaxis": {
           "automargin": true,
           "gridcolor": "white",
           "linecolor": "white",
           "ticks": "",
           "title": {
            "standoff": 15
           },
           "zerolinecolor": "white",
           "zerolinewidth": 2
          }
         }
        },
        "title": {
         "text": "Percentage Change in Inequality Metrics with Respect to Tax Rate"
        },
        "xaxis": {
         "anchor": "y",
         "domain": [
          0,
          1
         ],
         "title": {
          "text": "flat_tax_rate"
         }
        },
        "yaxis": {
         "anchor": "x",
         "domain": [
          0,
          1
         ],
         "title": {
          "text": "% Change"
         }
        }
       }
      }
     },
     "metadata": {},
     "output_type": "display_data"
    }
   ],
   "source": [
    "import pandas as pd\n",
    "import plotly.express as px\n",
    "\n",
    "def calculate_percentage_change(dataframe, column_name):\n",
    "    data = dataframe[column_name].apply(pd.Series)\n",
    "    data['% change'] = ((data['reform'] - data['baseline']) / data['baseline'])\n",
    "    data['flat_tax_rate'] = dataframe['flat_tax_rate']\n",
    "    return data[['flat_tax_rate', '% change']].rename(columns={'% change': f'% change {column_name}'})\n",
    "\n",
    "# Assuming dfs['inequality'] is your DataFrame\n",
    "gini_change = calculate_percentage_change(dfs['inequality'], 'gini')\n",
    "top_10_pct_share_change = calculate_percentage_change(dfs['inequality'], 'top_10_pct_share')\n",
    "top_1_pct_share_change = calculate_percentage_change(dfs['inequality'], 'top_1_pct_share')\n",
    "\n",
    "labour_supply_response = dfs[\"labour_supply_response\"][[\"total_change\", \"flat_tax_rate\"]].rename(columns=dict(total_change=\"labor_supply\"))\n",
    "labour_supply_response.labor_supply /= 10320e9\n",
    "# Combine the data\n",
    "combined_data = gini_change\n",
    "combined_data = combined_data.merge(top_10_pct_share_change, on='flat_tax_rate')\n",
    "combined_data = combined_data.merge(top_1_pct_share_change, on='flat_tax_rate')\n",
    "combined_data = combined_data.merge(labour_supply_response, on='flat_tax_rate')\n",
    "\n",
    "fig = px.line(combined_data, x='flat_tax_rate', y=['% change gini', '% change top_10_pct_share', '% change top_1_pct_share'],\n",
    "              labels={'value': '% Change', 'variable': 'Metric'},\n",
    "              title='Percentage Change in Inequality Metrics with Respect to Tax Rate')\n",
    "fig.show()"
   ]
  },
  {
   "cell_type": "code",
   "execution_count": 22,
   "metadata": {},
   "outputs": [
    {
     "data": {
      "application/vnd.plotly.v1+json": {
       "config": {
        "plotlyServerURL": "https://plot.ly"
       },
       "data": [
        {
         "hovertemplate": "Category=% change adult<br>flat_tax_rate=%{x}<br>% Change=%{y}<extra></extra>",
         "legendgroup": "% change adult",
         "line": {
          "color": "#636efa",
          "dash": "solid"
         },
         "marker": {
          "symbol": "circle"
         },
         "mode": "lines",
         "name": "% change adult",
         "orientation": "v",
         "showlegend": true,
         "type": "scatter",
         "x": [
          0.2,
          0.21,
          0.22,
          0.23,
          0.24,
          0.25,
          0.26,
          0.3,
          0.31,
          0.32,
          0.33,
          0.34,
          0.35,
          0.36,
          0.37,
          0.38
         ],
         "xaxis": "x",
         "y": [
          0.4817141873880904,
          0.49156318283288525,
          0.4972403938023172,
          0.4432737112818254,
          0.3529327270269401,
          0.30145609258513645,
          0.24396036792135706,
          0.0017409712384128828,
          -0.05021101286632317,
          -0.10913084441609629,
          -0.16097313284625794,
          -0.19772954799509276,
          -0.2161982451450853,
          -0.23155408643810552,
          -0.09420052868470138,
          -0.19631013167435726
         ],
         "yaxis": "y"
        },
        {
         "hovertemplate": "Category=% change all<br>flat_tax_rate=%{x}<br>% Change=%{y}<extra></extra>",
         "legendgroup": "% change all",
         "line": {
          "color": "#EF553B",
          "dash": "solid"
         },
         "marker": {
          "symbol": "circle"
         },
         "mode": "lines",
         "name": "% change all",
         "orientation": "v",
         "showlegend": true,
         "type": "scatter",
         "x": [
          0.2,
          0.21,
          0.22,
          0.23,
          0.24,
          0.25,
          0.26,
          0.3,
          0.31,
          0.32,
          0.33,
          0.34,
          0.35,
          0.36,
          0.37,
          0.38
         ],
         "xaxis": "x",
         "y": [
          0.5801022976861522,
          0.5939701260164805,
          0.596823829230809,
          0.5284417472452275,
          0.4575451552198448,
          0.4107543608988266,
          0.34506761779063344,
          0.03841246847476842,
          -0.0242720650425601,
          -0.09883076931932389,
          -0.1455919917590044,
          -0.19188973813708854,
          -0.2688147881400994,
          -0.2965439409328356,
          -0.30745767613749553,
          -0.39674559845442386
         ],
         "yaxis": "y"
        },
        {
         "hovertemplate": "Category=% change child<br>flat_tax_rate=%{x}<br>% Change=%{y}<extra></extra>",
         "legendgroup": "% change child",
         "line": {
          "color": "#00cc96",
          "dash": "solid"
         },
         "marker": {
          "symbol": "circle"
         },
         "mode": "lines",
         "name": "% change child",
         "orientation": "v",
         "showlegend": true,
         "type": "scatter",
         "x": [
          0.2,
          0.21,
          0.22,
          0.23,
          0.24,
          0.25,
          0.26,
          0.3,
          0.31,
          0.32,
          0.33,
          0.34,
          0.35,
          0.36,
          0.37,
          0.38
         ],
         "xaxis": "x",
         "y": [
          0.9543121836252741,
          0.9889304761355269,
          0.986704754860245,
          0.8301512571800548,
          0.7769938340293826,
          0.7385337990441939,
          0.6714182782325406,
          0.2733065424703461,
          0.18575434831903026,
          0.05045992581882948,
          0.013176557889546827,
          -0.03891996914960359,
          -0.2515224701748689,
          -0.24972589061983969,
          -0.5765026780999051,
          -0.74097812244676
         ],
         "yaxis": "y"
        },
        {
         "hovertemplate": "Category=% change senior<br>flat_tax_rate=%{x}<br>% Change=%{y}<extra></extra>",
         "legendgroup": "% change senior",
         "line": {
          "color": "#ab63fa",
          "dash": "solid"
         },
         "marker": {
          "symbol": "circle"
         },
         "mode": "lines",
         "name": "% change senior",
         "orientation": "v",
         "showlegend": true,
         "type": "scatter",
         "x": [
          0.2,
          0.21,
          0.22,
          0.23,
          0.24,
          0.25,
          0.26,
          0.3,
          0.31,
          0.32,
          0.33,
          0.34,
          0.35,
          0.36,
          0.37,
          0.38
         ],
         "xaxis": "x",
         "y": [
          0.477433729744243,
          0.48008169859394567,
          0.4786057589033194,
          0.46813367479575513,
          0.4492187951860086,
          0.40974061620172947,
          0.3143862268960615,
          -0.12252504321964378,
          -0.1945190425396285,
          -0.25114537012663596,
          -0.2905485769549341,
          -0.36608941730629985,
          -0.4934212600372609,
          -0.6066998246080597,
          -0.781803440117319,
          -0.7251137366563162
         ],
         "yaxis": "y"
        }
       ],
       "layout": {
        "legend": {
         "title": {
          "text": "Category"
         },
         "tracegroupgap": 0
        },
        "template": {
         "data": {
          "bar": [
           {
            "error_x": {
             "color": "#2a3f5f"
            },
            "error_y": {
             "color": "#2a3f5f"
            },
            "marker": {
             "line": {
              "color": "#E5ECF6",
              "width": 0.5
             },
             "pattern": {
              "fillmode": "overlay",
              "size": 10,
              "solidity": 0.2
             }
            },
            "type": "bar"
           }
          ],
          "barpolar": [
           {
            "marker": {
             "line": {
              "color": "#E5ECF6",
              "width": 0.5
             },
             "pattern": {
              "fillmode": "overlay",
              "size": 10,
              "solidity": 0.2
             }
            },
            "type": "barpolar"
           }
          ],
          "carpet": [
           {
            "aaxis": {
             "endlinecolor": "#2a3f5f",
             "gridcolor": "white",
             "linecolor": "white",
             "minorgridcolor": "white",
             "startlinecolor": "#2a3f5f"
            },
            "baxis": {
             "endlinecolor": "#2a3f5f",
             "gridcolor": "white",
             "linecolor": "white",
             "minorgridcolor": "white",
             "startlinecolor": "#2a3f5f"
            },
            "type": "carpet"
           }
          ],
          "choropleth": [
           {
            "colorbar": {
             "outlinewidth": 0,
             "ticks": ""
            },
            "type": "choropleth"
           }
          ],
          "contour": [
           {
            "colorbar": {
             "outlinewidth": 0,
             "ticks": ""
            },
            "colorscale": [
             [
              0,
              "#0d0887"
             ],
             [
              0.1111111111111111,
              "#46039f"
             ],
             [
              0.2222222222222222,
              "#7201a8"
             ],
             [
              0.3333333333333333,
              "#9c179e"
             ],
             [
              0.4444444444444444,
              "#bd3786"
             ],
             [
              0.5555555555555556,
              "#d8576b"
             ],
             [
              0.6666666666666666,
              "#ed7953"
             ],
             [
              0.7777777777777778,
              "#fb9f3a"
             ],
             [
              0.8888888888888888,
              "#fdca26"
             ],
             [
              1,
              "#f0f921"
             ]
            ],
            "type": "contour"
           }
          ],
          "contourcarpet": [
           {
            "colorbar": {
             "outlinewidth": 0,
             "ticks": ""
            },
            "type": "contourcarpet"
           }
          ],
          "heatmap": [
           {
            "colorbar": {
             "outlinewidth": 0,
             "ticks": ""
            },
            "colorscale": [
             [
              0,
              "#0d0887"
             ],
             [
              0.1111111111111111,
              "#46039f"
             ],
             [
              0.2222222222222222,
              "#7201a8"
             ],
             [
              0.3333333333333333,
              "#9c179e"
             ],
             [
              0.4444444444444444,
              "#bd3786"
             ],
             [
              0.5555555555555556,
              "#d8576b"
             ],
             [
              0.6666666666666666,
              "#ed7953"
             ],
             [
              0.7777777777777778,
              "#fb9f3a"
             ],
             [
              0.8888888888888888,
              "#fdca26"
             ],
             [
              1,
              "#f0f921"
             ]
            ],
            "type": "heatmap"
           }
          ],
          "heatmapgl": [
           {
            "colorbar": {
             "outlinewidth": 0,
             "ticks": ""
            },
            "colorscale": [
             [
              0,
              "#0d0887"
             ],
             [
              0.1111111111111111,
              "#46039f"
             ],
             [
              0.2222222222222222,
              "#7201a8"
             ],
             [
              0.3333333333333333,
              "#9c179e"
             ],
             [
              0.4444444444444444,
              "#bd3786"
             ],
             [
              0.5555555555555556,
              "#d8576b"
             ],
             [
              0.6666666666666666,
              "#ed7953"
             ],
             [
              0.7777777777777778,
              "#fb9f3a"
             ],
             [
              0.8888888888888888,
              "#fdca26"
             ],
             [
              1,
              "#f0f921"
             ]
            ],
            "type": "heatmapgl"
           }
          ],
          "histogram": [
           {
            "marker": {
             "pattern": {
              "fillmode": "overlay",
              "size": 10,
              "solidity": 0.2
             }
            },
            "type": "histogram"
           }
          ],
          "histogram2d": [
           {
            "colorbar": {
             "outlinewidth": 0,
             "ticks": ""
            },
            "colorscale": [
             [
              0,
              "#0d0887"
             ],
             [
              0.1111111111111111,
              "#46039f"
             ],
             [
              0.2222222222222222,
              "#7201a8"
             ],
             [
              0.3333333333333333,
              "#9c179e"
             ],
             [
              0.4444444444444444,
              "#bd3786"
             ],
             [
              0.5555555555555556,
              "#d8576b"
             ],
             [
              0.6666666666666666,
              "#ed7953"
             ],
             [
              0.7777777777777778,
              "#fb9f3a"
             ],
             [
              0.8888888888888888,
              "#fdca26"
             ],
             [
              1,
              "#f0f921"
             ]
            ],
            "type": "histogram2d"
           }
          ],
          "histogram2dcontour": [
           {
            "colorbar": {
             "outlinewidth": 0,
             "ticks": ""
            },
            "colorscale": [
             [
              0,
              "#0d0887"
             ],
             [
              0.1111111111111111,
              "#46039f"
             ],
             [
              0.2222222222222222,
              "#7201a8"
             ],
             [
              0.3333333333333333,
              "#9c179e"
             ],
             [
              0.4444444444444444,
              "#bd3786"
             ],
             [
              0.5555555555555556,
              "#d8576b"
             ],
             [
              0.6666666666666666,
              "#ed7953"
             ],
             [
              0.7777777777777778,
              "#fb9f3a"
             ],
             [
              0.8888888888888888,
              "#fdca26"
             ],
             [
              1,
              "#f0f921"
             ]
            ],
            "type": "histogram2dcontour"
           }
          ],
          "mesh3d": [
           {
            "colorbar": {
             "outlinewidth": 0,
             "ticks": ""
            },
            "type": "mesh3d"
           }
          ],
          "parcoords": [
           {
            "line": {
             "colorbar": {
              "outlinewidth": 0,
              "ticks": ""
             }
            },
            "type": "parcoords"
           }
          ],
          "pie": [
           {
            "automargin": true,
            "type": "pie"
           }
          ],
          "scatter": [
           {
            "fillpattern": {
             "fillmode": "overlay",
             "size": 10,
             "solidity": 0.2
            },
            "type": "scatter"
           }
          ],
          "scatter3d": [
           {
            "line": {
             "colorbar": {
              "outlinewidth": 0,
              "ticks": ""
             }
            },
            "marker": {
             "colorbar": {
              "outlinewidth": 0,
              "ticks": ""
             }
            },
            "type": "scatter3d"
           }
          ],
          "scattercarpet": [
           {
            "marker": {
             "colorbar": {
              "outlinewidth": 0,
              "ticks": ""
             }
            },
            "type": "scattercarpet"
           }
          ],
          "scattergeo": [
           {
            "marker": {
             "colorbar": {
              "outlinewidth": 0,
              "ticks": ""
             }
            },
            "type": "scattergeo"
           }
          ],
          "scattergl": [
           {
            "marker": {
             "colorbar": {
              "outlinewidth": 0,
              "ticks": ""
             }
            },
            "type": "scattergl"
           }
          ],
          "scattermapbox": [
           {
            "marker": {
             "colorbar": {
              "outlinewidth": 0,
              "ticks": ""
             }
            },
            "type": "scattermapbox"
           }
          ],
          "scatterpolar": [
           {
            "marker": {
             "colorbar": {
              "outlinewidth": 0,
              "ticks": ""
             }
            },
            "type": "scatterpolar"
           }
          ],
          "scatterpolargl": [
           {
            "marker": {
             "colorbar": {
              "outlinewidth": 0,
              "ticks": ""
             }
            },
            "type": "scatterpolargl"
           }
          ],
          "scatterternary": [
           {
            "marker": {
             "colorbar": {
              "outlinewidth": 0,
              "ticks": ""
             }
            },
            "type": "scatterternary"
           }
          ],
          "surface": [
           {
            "colorbar": {
             "outlinewidth": 0,
             "ticks": ""
            },
            "colorscale": [
             [
              0,
              "#0d0887"
             ],
             [
              0.1111111111111111,
              "#46039f"
             ],
             [
              0.2222222222222222,
              "#7201a8"
             ],
             [
              0.3333333333333333,
              "#9c179e"
             ],
             [
              0.4444444444444444,
              "#bd3786"
             ],
             [
              0.5555555555555556,
              "#d8576b"
             ],
             [
              0.6666666666666666,
              "#ed7953"
             ],
             [
              0.7777777777777778,
              "#fb9f3a"
             ],
             [
              0.8888888888888888,
              "#fdca26"
             ],
             [
              1,
              "#f0f921"
             ]
            ],
            "type": "surface"
           }
          ],
          "table": [
           {
            "cells": {
             "fill": {
              "color": "#EBF0F8"
             },
             "line": {
              "color": "white"
             }
            },
            "header": {
             "fill": {
              "color": "#C8D4E3"
             },
             "line": {
              "color": "white"
             }
            },
            "type": "table"
           }
          ]
         },
         "layout": {
          "annotationdefaults": {
           "arrowcolor": "#2a3f5f",
           "arrowhead": 0,
           "arrowwidth": 1
          },
          "autotypenumbers": "strict",
          "coloraxis": {
           "colorbar": {
            "outlinewidth": 0,
            "ticks": ""
           }
          },
          "colorscale": {
           "diverging": [
            [
             0,
             "#8e0152"
            ],
            [
             0.1,
             "#c51b7d"
            ],
            [
             0.2,
             "#de77ae"
            ],
            [
             0.3,
             "#f1b6da"
            ],
            [
             0.4,
             "#fde0ef"
            ],
            [
             0.5,
             "#f7f7f7"
            ],
            [
             0.6,
             "#e6f5d0"
            ],
            [
             0.7,
             "#b8e186"
            ],
            [
             0.8,
             "#7fbc41"
            ],
            [
             0.9,
             "#4d9221"
            ],
            [
             1,
             "#276419"
            ]
           ],
           "sequential": [
            [
             0,
             "#0d0887"
            ],
            [
             0.1111111111111111,
             "#46039f"
            ],
            [
             0.2222222222222222,
             "#7201a8"
            ],
            [
             0.3333333333333333,
             "#9c179e"
            ],
            [
             0.4444444444444444,
             "#bd3786"
            ],
            [
             0.5555555555555556,
             "#d8576b"
            ],
            [
             0.6666666666666666,
             "#ed7953"
            ],
            [
             0.7777777777777778,
             "#fb9f3a"
            ],
            [
             0.8888888888888888,
             "#fdca26"
            ],
            [
             1,
             "#f0f921"
            ]
           ],
           "sequentialminus": [
            [
             0,
             "#0d0887"
            ],
            [
             0.1111111111111111,
             "#46039f"
            ],
            [
             0.2222222222222222,
             "#7201a8"
            ],
            [
             0.3333333333333333,
             "#9c179e"
            ],
            [
             0.4444444444444444,
             "#bd3786"
            ],
            [
             0.5555555555555556,
             "#d8576b"
            ],
            [
             0.6666666666666666,
             "#ed7953"
            ],
            [
             0.7777777777777778,
             "#fb9f3a"
            ],
            [
             0.8888888888888888,
             "#fdca26"
            ],
            [
             1,
             "#f0f921"
            ]
           ]
          },
          "colorway": [
           "#636efa",
           "#EF553B",
           "#00cc96",
           "#ab63fa",
           "#FFA15A",
           "#19d3f3",
           "#FF6692",
           "#B6E880",
           "#FF97FF",
           "#FECB52"
          ],
          "font": {
           "color": "#2a3f5f"
          },
          "geo": {
           "bgcolor": "white",
           "lakecolor": "white",
           "landcolor": "#E5ECF6",
           "showlakes": true,
           "showland": true,
           "subunitcolor": "white"
          },
          "hoverlabel": {
           "align": "left"
          },
          "hovermode": "closest",
          "mapbox": {
           "style": "light"
          },
          "paper_bgcolor": "white",
          "plot_bgcolor": "#E5ECF6",
          "polar": {
           "angularaxis": {
            "gridcolor": "white",
            "linecolor": "white",
            "ticks": ""
           },
           "bgcolor": "#E5ECF6",
           "radialaxis": {
            "gridcolor": "white",
            "linecolor": "white",
            "ticks": ""
           }
          },
          "scene": {
           "xaxis": {
            "backgroundcolor": "#E5ECF6",
            "gridcolor": "white",
            "gridwidth": 2,
            "linecolor": "white",
            "showbackground": true,
            "ticks": "",
            "zerolinecolor": "white"
           },
           "yaxis": {
            "backgroundcolor": "#E5ECF6",
            "gridcolor": "white",
            "gridwidth": 2,
            "linecolor": "white",
            "showbackground": true,
            "ticks": "",
            "zerolinecolor": "white"
           },
           "zaxis": {
            "backgroundcolor": "#E5ECF6",
            "gridcolor": "white",
            "gridwidth": 2,
            "linecolor": "white",
            "showbackground": true,
            "ticks": "",
            "zerolinecolor": "white"
           }
          },
          "shapedefaults": {
           "line": {
            "color": "#2a3f5f"
           }
          },
          "ternary": {
           "aaxis": {
            "gridcolor": "white",
            "linecolor": "white",
            "ticks": ""
           },
           "baxis": {
            "gridcolor": "white",
            "linecolor": "white",
            "ticks": ""
           },
           "bgcolor": "#E5ECF6",
           "caxis": {
            "gridcolor": "white",
            "linecolor": "white",
            "ticks": ""
           }
          },
          "title": {
           "x": 0.05
          },
          "xaxis": {
           "automargin": true,
           "gridcolor": "white",
           "linecolor": "white",
           "ticks": "",
           "title": {
            "standoff": 15
           },
           "zerolinecolor": "white",
           "zerolinewidth": 2
          },
          "yaxis": {
           "automargin": true,
           "gridcolor": "white",
           "linecolor": "white",
           "ticks": "",
           "title": {
            "standoff": 15
           },
           "zerolinecolor": "white",
           "zerolinewidth": 2
          }
         }
        },
        "title": {
         "text": "Percentage Change in Poverty Metrics with Respect to Tax Rate"
        },
        "xaxis": {
         "anchor": "y",
         "domain": [
          0,
          1
         ],
         "title": {
          "text": "flat_tax_rate"
         }
        },
        "yaxis": {
         "anchor": "x",
         "domain": [
          0,
          1
         ],
         "title": {
          "text": "% Change"
         }
        }
       }
      }
     },
     "metadata": {},
     "output_type": "display_data"
    }
   ],
   "source": [
    "def calculate_percentage_change_poverty(dataframe, column_name):\n",
    "    data = dataframe[column_name].apply(pd.Series)\n",
    "    for category in ['adult', 'all', 'child', 'senior']:\n",
    "        data[f'% change {category}'] = ((data[category].apply(lambda x: x['reform']) - \n",
    "                                         data[category].apply(lambda x: x['baseline'])) / \n",
    "                                         data[category].apply(lambda x: x['baseline']))\n",
    "    data['flat_tax_rate'] = dataframe['flat_tax_rate']\n",
    "    return data[['flat_tax_rate', f'% change adult', f'% change all', f'% change child', f'% change senior']]\n",
    "\n",
    "# Assuming dfs['poverty'] is your DataFrame\n",
    "poverty_change = calculate_percentage_change_poverty(dfs['poverty'], 'poverty')\n",
    "\n",
    "\n",
    "fig = px.line(poverty_change, x='flat_tax_rate', y=[f'% change {category}' for category in ['adult', 'all', 'child', 'senior']],\n",
    "              labels={'value': '% Change', 'variable': 'Category'},\n",
    "              title='Percentage Change in Poverty Metrics with Respect to Tax Rate')\n",
    "fig.show()\n"
   ]
  },
  {
   "cell_type": "code",
   "execution_count": 23,
   "metadata": {},
   "outputs": [
    {
     "data": {
      "application/vnd.plotly.v1+json": {
       "config": {
        "plotlyServerURL": "https://plot.ly"
       },
       "data": [
        {
         "hovertemplate": "Category=% change adult<br>flat_tax_rate=%{x}<br>% Change=%{y}<extra></extra>",
         "legendgroup": "% change adult",
         "line": {
          "color": "#636efa",
          "dash": "solid"
         },
         "marker": {
          "symbol": "circle"
         },
         "mode": "lines",
         "name": "% change adult",
         "orientation": "v",
         "showlegend": true,
         "type": "scatter",
         "x": [
          0.2,
          0.21,
          0.22,
          0.23,
          0.24,
          0.25,
          0.26,
          0.3,
          0.31,
          0.32,
          0.33,
          0.34,
          0.35,
          0.36,
          0.37,
          0.38
         ],
         "xaxis": "x",
         "y": [
          0.7676560581337001,
          0.7465714796948839,
          0.7444209587856825,
          0.6582797937972765,
          0.4727475063853417,
          0.3496519441429525,
          0.2697521794216069,
          -0.16496092611347918,
          -0.26958392221216537,
          -0.3495157214181776,
          -0.44179922296116814,
          -0.5110374560903068,
          -0.4445014995922899,
          -0.515132544340726,
          -0.0932360584048105,
          -0.24794456634643644
         ],
         "yaxis": "y"
        },
        {
         "hovertemplate": "Category=% change all<br>flat_tax_rate=%{x}<br>% Change=%{y}<extra></extra>",
         "legendgroup": "% change all",
         "line": {
          "color": "#EF553B",
          "dash": "solid"
         },
         "marker": {
          "symbol": "circle"
         },
         "mode": "lines",
         "name": "% change all",
         "orientation": "v",
         "showlegend": true,
         "type": "scatter",
         "x": [
          0.2,
          0.21,
          0.22,
          0.23,
          0.24,
          0.25,
          0.26,
          0.3,
          0.31,
          0.32,
          0.33,
          0.34,
          0.35,
          0.36,
          0.37,
          0.38
         ],
         "xaxis": "x",
         "y": [
          0.8801349941220944,
          0.8623396809897722,
          0.8550159553042184,
          0.7600799438006618,
          0.5966399453542567,
          0.476972457132884,
          0.3909246076117491,
          -0.12822909798342538,
          -0.2528271803711482,
          -0.3593037925669663,
          -0.44421686422656415,
          -0.5214544619004396,
          -0.535378074764905,
          -0.6007124022117882,
          -0.32531836196697733,
          -0.4380152408330326
         ],
         "yaxis": "y"
        },
        {
         "hovertemplate": "Category=% change child<br>flat_tax_rate=%{x}<br>% Change=%{y}<extra></extra>",
         "legendgroup": "% change child",
         "line": {
          "color": "#00cc96",
          "dash": "solid"
         },
         "marker": {
          "symbol": "circle"
         },
         "mode": "lines",
         "name": "% change child",
         "orientation": "v",
         "showlegend": true,
         "type": "scatter",
         "x": [
          0.2,
          0.21,
          0.22,
          0.23,
          0.24,
          0.25,
          0.26,
          0.3,
          0.31,
          0.32,
          0.33,
          0.34,
          0.35,
          0.36,
          0.37,
          0.38
         ],
         "xaxis": "x",
         "y": [
          0.7431165340966448,
          0.7351671108037878,
          0.7037795499540608,
          0.5401144816889406,
          0.3878128282577048,
          0.2685815780630074,
          0.1964057777710168,
          -0.4014705293693932,
          -0.561822826125398,
          -0.6685478408126588,
          -0.6967853253265162,
          -0.7361426602672195,
          -0.8182669764572128,
          -0.823903346252383,
          -0.9023130136198512,
          -0.9236280694095487
         ],
         "yaxis": "y"
        },
        {
         "hovertemplate": "Category=% change senior<br>flat_tax_rate=%{x}<br>% Change=%{y}<extra></extra>",
         "legendgroup": "% change senior",
         "line": {
          "color": "#ab63fa",
          "dash": "solid"
         },
         "marker": {
          "symbol": "circle"
         },
         "mode": "lines",
         "name": "% change senior",
         "orientation": "v",
         "showlegend": true,
         "type": "scatter",
         "x": [
          0.2,
          0.21,
          0.22,
          0.23,
          0.24,
          0.25,
          0.26,
          0.3,
          0.31,
          0.32,
          0.33,
          0.34,
          0.35,
          0.36,
          0.37,
          0.38
         ],
         "xaxis": "x",
         "y": [
          1.7190043298432134,
          1.7067407410138542,
          1.7024829838040385,
          1.6509138417014777,
          1.6000505548174433,
          1.499623841011919,
          1.3589694434759774,
          0.45910890837797935,
          0.2679485712298882,
          0.008191403480721155,
          -0.11180014389813533,
          -0.28728636071716596,
          -0.6733088389617273,
          -0.7898680255570062,
          -0.8770624910809668,
          -0.8719619038174744
         ],
         "yaxis": "y"
        }
       ],
       "layout": {
        "legend": {
         "title": {
          "text": "Category"
         },
         "tracegroupgap": 0
        },
        "template": {
         "data": {
          "bar": [
           {
            "error_x": {
             "color": "#2a3f5f"
            },
            "error_y": {
             "color": "#2a3f5f"
            },
            "marker": {
             "line": {
              "color": "#E5ECF6",
              "width": 0.5
             },
             "pattern": {
              "fillmode": "overlay",
              "size": 10,
              "solidity": 0.2
             }
            },
            "type": "bar"
           }
          ],
          "barpolar": [
           {
            "marker": {
             "line": {
              "color": "#E5ECF6",
              "width": 0.5
             },
             "pattern": {
              "fillmode": "overlay",
              "size": 10,
              "solidity": 0.2
             }
            },
            "type": "barpolar"
           }
          ],
          "carpet": [
           {
            "aaxis": {
             "endlinecolor": "#2a3f5f",
             "gridcolor": "white",
             "linecolor": "white",
             "minorgridcolor": "white",
             "startlinecolor": "#2a3f5f"
            },
            "baxis": {
             "endlinecolor": "#2a3f5f",
             "gridcolor": "white",
             "linecolor": "white",
             "minorgridcolor": "white",
             "startlinecolor": "#2a3f5f"
            },
            "type": "carpet"
           }
          ],
          "choropleth": [
           {
            "colorbar": {
             "outlinewidth": 0,
             "ticks": ""
            },
            "type": "choropleth"
           }
          ],
          "contour": [
           {
            "colorbar": {
             "outlinewidth": 0,
             "ticks": ""
            },
            "colorscale": [
             [
              0,
              "#0d0887"
             ],
             [
              0.1111111111111111,
              "#46039f"
             ],
             [
              0.2222222222222222,
              "#7201a8"
             ],
             [
              0.3333333333333333,
              "#9c179e"
             ],
             [
              0.4444444444444444,
              "#bd3786"
             ],
             [
              0.5555555555555556,
              "#d8576b"
             ],
             [
              0.6666666666666666,
              "#ed7953"
             ],
             [
              0.7777777777777778,
              "#fb9f3a"
             ],
             [
              0.8888888888888888,
              "#fdca26"
             ],
             [
              1,
              "#f0f921"
             ]
            ],
            "type": "contour"
           }
          ],
          "contourcarpet": [
           {
            "colorbar": {
             "outlinewidth": 0,
             "ticks": ""
            },
            "type": "contourcarpet"
           }
          ],
          "heatmap": [
           {
            "colorbar": {
             "outlinewidth": 0,
             "ticks": ""
            },
            "colorscale": [
             [
              0,
              "#0d0887"
             ],
             [
              0.1111111111111111,
              "#46039f"
             ],
             [
              0.2222222222222222,
              "#7201a8"
             ],
             [
              0.3333333333333333,
              "#9c179e"
             ],
             [
              0.4444444444444444,
              "#bd3786"
             ],
             [
              0.5555555555555556,
              "#d8576b"
             ],
             [
              0.6666666666666666,
              "#ed7953"
             ],
             [
              0.7777777777777778,
              "#fb9f3a"
             ],
             [
              0.8888888888888888,
              "#fdca26"
             ],
             [
              1,
              "#f0f921"
             ]
            ],
            "type": "heatmap"
           }
          ],
          "heatmapgl": [
           {
            "colorbar": {
             "outlinewidth": 0,
             "ticks": ""
            },
            "colorscale": [
             [
              0,
              "#0d0887"
             ],
             [
              0.1111111111111111,
              "#46039f"
             ],
             [
              0.2222222222222222,
              "#7201a8"
             ],
             [
              0.3333333333333333,
              "#9c179e"
             ],
             [
              0.4444444444444444,
              "#bd3786"
             ],
             [
              0.5555555555555556,
              "#d8576b"
             ],
             [
              0.6666666666666666,
              "#ed7953"
             ],
             [
              0.7777777777777778,
              "#fb9f3a"
             ],
             [
              0.8888888888888888,
              "#fdca26"
             ],
             [
              1,
              "#f0f921"
             ]
            ],
            "type": "heatmapgl"
           }
          ],
          "histogram": [
           {
            "marker": {
             "pattern": {
              "fillmode": "overlay",
              "size": 10,
              "solidity": 0.2
             }
            },
            "type": "histogram"
           }
          ],
          "histogram2d": [
           {
            "colorbar": {
             "outlinewidth": 0,
             "ticks": ""
            },
            "colorscale": [
             [
              0,
              "#0d0887"
             ],
             [
              0.1111111111111111,
              "#46039f"
             ],
             [
              0.2222222222222222,
              "#7201a8"
             ],
             [
              0.3333333333333333,
              "#9c179e"
             ],
             [
              0.4444444444444444,
              "#bd3786"
             ],
             [
              0.5555555555555556,
              "#d8576b"
             ],
             [
              0.6666666666666666,
              "#ed7953"
             ],
             [
              0.7777777777777778,
              "#fb9f3a"
             ],
             [
              0.8888888888888888,
              "#fdca26"
             ],
             [
              1,
              "#f0f921"
             ]
            ],
            "type": "histogram2d"
           }
          ],
          "histogram2dcontour": [
           {
            "colorbar": {
             "outlinewidth": 0,
             "ticks": ""
            },
            "colorscale": [
             [
              0,
              "#0d0887"
             ],
             [
              0.1111111111111111,
              "#46039f"
             ],
             [
              0.2222222222222222,
              "#7201a8"
             ],
             [
              0.3333333333333333,
              "#9c179e"
             ],
             [
              0.4444444444444444,
              "#bd3786"
             ],
             [
              0.5555555555555556,
              "#d8576b"
             ],
             [
              0.6666666666666666,
              "#ed7953"
             ],
             [
              0.7777777777777778,
              "#fb9f3a"
             ],
             [
              0.8888888888888888,
              "#fdca26"
             ],
             [
              1,
              "#f0f921"
             ]
            ],
            "type": "histogram2dcontour"
           }
          ],
          "mesh3d": [
           {
            "colorbar": {
             "outlinewidth": 0,
             "ticks": ""
            },
            "type": "mesh3d"
           }
          ],
          "parcoords": [
           {
            "line": {
             "colorbar": {
              "outlinewidth": 0,
              "ticks": ""
             }
            },
            "type": "parcoords"
           }
          ],
          "pie": [
           {
            "automargin": true,
            "type": "pie"
           }
          ],
          "scatter": [
           {
            "fillpattern": {
             "fillmode": "overlay",
             "size": 10,
             "solidity": 0.2
            },
            "type": "scatter"
           }
          ],
          "scatter3d": [
           {
            "line": {
             "colorbar": {
              "outlinewidth": 0,
              "ticks": ""
             }
            },
            "marker": {
             "colorbar": {
              "outlinewidth": 0,
              "ticks": ""
             }
            },
            "type": "scatter3d"
           }
          ],
          "scattercarpet": [
           {
            "marker": {
             "colorbar": {
              "outlinewidth": 0,
              "ticks": ""
             }
            },
            "type": "scattercarpet"
           }
          ],
          "scattergeo": [
           {
            "marker": {
             "colorbar": {
              "outlinewidth": 0,
              "ticks": ""
             }
            },
            "type": "scattergeo"
           }
          ],
          "scattergl": [
           {
            "marker": {
             "colorbar": {
              "outlinewidth": 0,
              "ticks": ""
             }
            },
            "type": "scattergl"
           }
          ],
          "scattermapbox": [
           {
            "marker": {
             "colorbar": {
              "outlinewidth": 0,
              "ticks": ""
             }
            },
            "type": "scattermapbox"
           }
          ],
          "scatterpolar": [
           {
            "marker": {
             "colorbar": {
              "outlinewidth": 0,
              "ticks": ""
             }
            },
            "type": "scatterpolar"
           }
          ],
          "scatterpolargl": [
           {
            "marker": {
             "colorbar": {
              "outlinewidth": 0,
              "ticks": ""
             }
            },
            "type": "scatterpolargl"
           }
          ],
          "scatterternary": [
           {
            "marker": {
             "colorbar": {
              "outlinewidth": 0,
              "ticks": ""
             }
            },
            "type": "scatterternary"
           }
          ],
          "surface": [
           {
            "colorbar": {
             "outlinewidth": 0,
             "ticks": ""
            },
            "colorscale": [
             [
              0,
              "#0d0887"
             ],
             [
              0.1111111111111111,
              "#46039f"
             ],
             [
              0.2222222222222222,
              "#7201a8"
             ],
             [
              0.3333333333333333,
              "#9c179e"
             ],
             [
              0.4444444444444444,
              "#bd3786"
             ],
             [
              0.5555555555555556,
              "#d8576b"
             ],
             [
              0.6666666666666666,
              "#ed7953"
             ],
             [
              0.7777777777777778,
              "#fb9f3a"
             ],
             [
              0.8888888888888888,
              "#fdca26"
             ],
             [
              1,
              "#f0f921"
             ]
            ],
            "type": "surface"
           }
          ],
          "table": [
           {
            "cells": {
             "fill": {
              "color": "#EBF0F8"
             },
             "line": {
              "color": "white"
             }
            },
            "header": {
             "fill": {
              "color": "#C8D4E3"
             },
             "line": {
              "color": "white"
             }
            },
            "type": "table"
           }
          ]
         },
         "layout": {
          "annotationdefaults": {
           "arrowcolor": "#2a3f5f",
           "arrowhead": 0,
           "arrowwidth": 1
          },
          "autotypenumbers": "strict",
          "coloraxis": {
           "colorbar": {
            "outlinewidth": 0,
            "ticks": ""
           }
          },
          "colorscale": {
           "diverging": [
            [
             0,
             "#8e0152"
            ],
            [
             0.1,
             "#c51b7d"
            ],
            [
             0.2,
             "#de77ae"
            ],
            [
             0.3,
             "#f1b6da"
            ],
            [
             0.4,
             "#fde0ef"
            ],
            [
             0.5,
             "#f7f7f7"
            ],
            [
             0.6,
             "#e6f5d0"
            ],
            [
             0.7,
             "#b8e186"
            ],
            [
             0.8,
             "#7fbc41"
            ],
            [
             0.9,
             "#4d9221"
            ],
            [
             1,
             "#276419"
            ]
           ],
           "sequential": [
            [
             0,
             "#0d0887"
            ],
            [
             0.1111111111111111,
             "#46039f"
            ],
            [
             0.2222222222222222,
             "#7201a8"
            ],
            [
             0.3333333333333333,
             "#9c179e"
            ],
            [
             0.4444444444444444,
             "#bd3786"
            ],
            [
             0.5555555555555556,
             "#d8576b"
            ],
            [
             0.6666666666666666,
             "#ed7953"
            ],
            [
             0.7777777777777778,
             "#fb9f3a"
            ],
            [
             0.8888888888888888,
             "#fdca26"
            ],
            [
             1,
             "#f0f921"
            ]
           ],
           "sequentialminus": [
            [
             0,
             "#0d0887"
            ],
            [
             0.1111111111111111,
             "#46039f"
            ],
            [
             0.2222222222222222,
             "#7201a8"
            ],
            [
             0.3333333333333333,
             "#9c179e"
            ],
            [
             0.4444444444444444,
             "#bd3786"
            ],
            [
             0.5555555555555556,
             "#d8576b"
            ],
            [
             0.6666666666666666,
             "#ed7953"
            ],
            [
             0.7777777777777778,
             "#fb9f3a"
            ],
            [
             0.8888888888888888,
             "#fdca26"
            ],
            [
             1,
             "#f0f921"
            ]
           ]
          },
          "colorway": [
           "#636efa",
           "#EF553B",
           "#00cc96",
           "#ab63fa",
           "#FFA15A",
           "#19d3f3",
           "#FF6692",
           "#B6E880",
           "#FF97FF",
           "#FECB52"
          ],
          "font": {
           "color": "#2a3f5f"
          },
          "geo": {
           "bgcolor": "white",
           "lakecolor": "white",
           "landcolor": "#E5ECF6",
           "showlakes": true,
           "showland": true,
           "subunitcolor": "white"
          },
          "hoverlabel": {
           "align": "left"
          },
          "hovermode": "closest",
          "mapbox": {
           "style": "light"
          },
          "paper_bgcolor": "white",
          "plot_bgcolor": "#E5ECF6",
          "polar": {
           "angularaxis": {
            "gridcolor": "white",
            "linecolor": "white",
            "ticks": ""
           },
           "bgcolor": "#E5ECF6",
           "radialaxis": {
            "gridcolor": "white",
            "linecolor": "white",
            "ticks": ""
           }
          },
          "scene": {
           "xaxis": {
            "backgroundcolor": "#E5ECF6",
            "gridcolor": "white",
            "gridwidth": 2,
            "linecolor": "white",
            "showbackground": true,
            "ticks": "",
            "zerolinecolor": "white"
           },
           "yaxis": {
            "backgroundcolor": "#E5ECF6",
            "gridcolor": "white",
            "gridwidth": 2,
            "linecolor": "white",
            "showbackground": true,
            "ticks": "",
            "zerolinecolor": "white"
           },
           "zaxis": {
            "backgroundcolor": "#E5ECF6",
            "gridcolor": "white",
            "gridwidth": 2,
            "linecolor": "white",
            "showbackground": true,
            "ticks": "",
            "zerolinecolor": "white"
           }
          },
          "shapedefaults": {
           "line": {
            "color": "#2a3f5f"
           }
          },
          "ternary": {
           "aaxis": {
            "gridcolor": "white",
            "linecolor": "white",
            "ticks": ""
           },
           "baxis": {
            "gridcolor": "white",
            "linecolor": "white",
            "ticks": ""
           },
           "bgcolor": "#E5ECF6",
           "caxis": {
            "gridcolor": "white",
            "linecolor": "white",
            "ticks": ""
           }
          },
          "title": {
           "x": 0.05
          },
          "xaxis": {
           "automargin": true,
           "gridcolor": "white",
           "linecolor": "white",
           "ticks": "",
           "title": {
            "standoff": 15
           },
           "zerolinecolor": "white",
           "zerolinewidth": 2
          },
          "yaxis": {
           "automargin": true,
           "gridcolor": "white",
           "linecolor": "white",
           "ticks": "",
           "title": {
            "standoff": 15
           },
           "zerolinecolor": "white",
           "zerolinewidth": 2
          }
         }
        },
        "title": {
         "text": "Percentage Change in Deep Poverty Metrics with Respect to Tax Rate"
        },
        "xaxis": {
         "anchor": "y",
         "domain": [
          0,
          1
         ],
         "title": {
          "text": "flat_tax_rate"
         }
        },
        "yaxis": {
         "anchor": "x",
         "domain": [
          0,
          1
         ],
         "title": {
          "text": "% Change"
         }
        }
       }
      }
     },
     "metadata": {},
     "output_type": "display_data"
    }
   ],
   "source": [
    "deep_poverty_change = calculate_percentage_change_poverty(dfs['poverty'], 'deep_poverty')\n",
    "\n",
    "\n",
    "fig = px.line(deep_poverty_change, x='flat_tax_rate', y=[f'% change {category}' for category in ['adult', 'all', 'child', 'senior']],\n",
    "              labels={'value': '% Change', 'variable': 'Category'},\n",
    "              title='Percentage Change in Deep Poverty Metrics with Respect to Tax Rate')\n",
    "fig.show()\n"
   ]
  },
  {
   "cell_type": "code",
   "execution_count": 42,
   "metadata": {},
   "outputs": [
    {
     "data": {
      "application/vnd.plotly.v1+json": {
       "config": {
        "plotlyServerURL": "https://plot.ly"
       },
       "data": [
        {
         "hovertemplate": "flat_tax_rate=%{x}<br>labor_supply=%{y}<extra></extra>",
         "legendgroup": "",
         "line": {
          "color": "#636efa",
          "dash": "solid"
         },
         "marker": {
          "symbol": "circle"
         },
         "mode": "lines",
         "name": "",
         "orientation": "v",
         "showlegend": false,
         "type": "scatter",
         "x": [
          0.2,
          0.21,
          0.22,
          0.23,
          0.24,
          0.25,
          0.26,
          0.3,
          0.31,
          0.32,
          0.33,
          0.34,
          0.35,
          0.36,
          0.37,
          0.38
         ],
         "xaxis": "x",
         "y": [
          0.04093472553098537,
          0.03794141159447274,
          0.03482583158020214,
          0.031429291861093986,
          0.027832260017096048,
          0.024355406249422864,
          0.020841528103820756,
          0.007049098003609869,
          0.0035779971730202074,
          0.00014390897387517274,
          -0.0033483620263357458,
          -0.006708690785985716,
          -0.010005189698380698,
          -0.013192683485202118,
          -0.01593627557034986,
          -0.019669318858361644
         ],
         "yaxis": "y"
        }
       ],
       "layout": {
        "legend": {
         "tracegroupgap": 0
        },
        "margin": {
         "t": 60
        },
        "template": {
         "data": {
          "bar": [
           {
            "error_x": {
             "color": "#2a3f5f"
            },
            "error_y": {
             "color": "#2a3f5f"
            },
            "marker": {
             "line": {
              "color": "#E5ECF6",
              "width": 0.5
             },
             "pattern": {
              "fillmode": "overlay",
              "size": 10,
              "solidity": 0.2
             }
            },
            "type": "bar"
           }
          ],
          "barpolar": [
           {
            "marker": {
             "line": {
              "color": "#E5ECF6",
              "width": 0.5
             },
             "pattern": {
              "fillmode": "overlay",
              "size": 10,
              "solidity": 0.2
             }
            },
            "type": "barpolar"
           }
          ],
          "carpet": [
           {
            "aaxis": {
             "endlinecolor": "#2a3f5f",
             "gridcolor": "white",
             "linecolor": "white",
             "minorgridcolor": "white",
             "startlinecolor": "#2a3f5f"
            },
            "baxis": {
             "endlinecolor": "#2a3f5f",
             "gridcolor": "white",
             "linecolor": "white",
             "minorgridcolor": "white",
             "startlinecolor": "#2a3f5f"
            },
            "type": "carpet"
           }
          ],
          "choropleth": [
           {
            "colorbar": {
             "outlinewidth": 0,
             "ticks": ""
            },
            "type": "choropleth"
           }
          ],
          "contour": [
           {
            "colorbar": {
             "outlinewidth": 0,
             "ticks": ""
            },
            "colorscale": [
             [
              0,
              "#0d0887"
             ],
             [
              0.1111111111111111,
              "#46039f"
             ],
             [
              0.2222222222222222,
              "#7201a8"
             ],
             [
              0.3333333333333333,
              "#9c179e"
             ],
             [
              0.4444444444444444,
              "#bd3786"
             ],
             [
              0.5555555555555556,
              "#d8576b"
             ],
             [
              0.6666666666666666,
              "#ed7953"
             ],
             [
              0.7777777777777778,
              "#fb9f3a"
             ],
             [
              0.8888888888888888,
              "#fdca26"
             ],
             [
              1,
              "#f0f921"
             ]
            ],
            "type": "contour"
           }
          ],
          "contourcarpet": [
           {
            "colorbar": {
             "outlinewidth": 0,
             "ticks": ""
            },
            "type": "contourcarpet"
           }
          ],
          "heatmap": [
           {
            "colorbar": {
             "outlinewidth": 0,
             "ticks": ""
            },
            "colorscale": [
             [
              0,
              "#0d0887"
             ],
             [
              0.1111111111111111,
              "#46039f"
             ],
             [
              0.2222222222222222,
              "#7201a8"
             ],
             [
              0.3333333333333333,
              "#9c179e"
             ],
             [
              0.4444444444444444,
              "#bd3786"
             ],
             [
              0.5555555555555556,
              "#d8576b"
             ],
             [
              0.6666666666666666,
              "#ed7953"
             ],
             [
              0.7777777777777778,
              "#fb9f3a"
             ],
             [
              0.8888888888888888,
              "#fdca26"
             ],
             [
              1,
              "#f0f921"
             ]
            ],
            "type": "heatmap"
           }
          ],
          "heatmapgl": [
           {
            "colorbar": {
             "outlinewidth": 0,
             "ticks": ""
            },
            "colorscale": [
             [
              0,
              "#0d0887"
             ],
             [
              0.1111111111111111,
              "#46039f"
             ],
             [
              0.2222222222222222,
              "#7201a8"
             ],
             [
              0.3333333333333333,
              "#9c179e"
             ],
             [
              0.4444444444444444,
              "#bd3786"
             ],
             [
              0.5555555555555556,
              "#d8576b"
             ],
             [
              0.6666666666666666,
              "#ed7953"
             ],
             [
              0.7777777777777778,
              "#fb9f3a"
             ],
             [
              0.8888888888888888,
              "#fdca26"
             ],
             [
              1,
              "#f0f921"
             ]
            ],
            "type": "heatmapgl"
           }
          ],
          "histogram": [
           {
            "marker": {
             "pattern": {
              "fillmode": "overlay",
              "size": 10,
              "solidity": 0.2
             }
            },
            "type": "histogram"
           }
          ],
          "histogram2d": [
           {
            "colorbar": {
             "outlinewidth": 0,
             "ticks": ""
            },
            "colorscale": [
             [
              0,
              "#0d0887"
             ],
             [
              0.1111111111111111,
              "#46039f"
             ],
             [
              0.2222222222222222,
              "#7201a8"
             ],
             [
              0.3333333333333333,
              "#9c179e"
             ],
             [
              0.4444444444444444,
              "#bd3786"
             ],
             [
              0.5555555555555556,
              "#d8576b"
             ],
             [
              0.6666666666666666,
              "#ed7953"
             ],
             [
              0.7777777777777778,
              "#fb9f3a"
             ],
             [
              0.8888888888888888,
              "#fdca26"
             ],
             [
              1,
              "#f0f921"
             ]
            ],
            "type": "histogram2d"
           }
          ],
          "histogram2dcontour": [
           {
            "colorbar": {
             "outlinewidth": 0,
             "ticks": ""
            },
            "colorscale": [
             [
              0,
              "#0d0887"
             ],
             [
              0.1111111111111111,
              "#46039f"
             ],
             [
              0.2222222222222222,
              "#7201a8"
             ],
             [
              0.3333333333333333,
              "#9c179e"
             ],
             [
              0.4444444444444444,
              "#bd3786"
             ],
             [
              0.5555555555555556,
              "#d8576b"
             ],
             [
              0.6666666666666666,
              "#ed7953"
             ],
             [
              0.7777777777777778,
              "#fb9f3a"
             ],
             [
              0.8888888888888888,
              "#fdca26"
             ],
             [
              1,
              "#f0f921"
             ]
            ],
            "type": "histogram2dcontour"
           }
          ],
          "mesh3d": [
           {
            "colorbar": {
             "outlinewidth": 0,
             "ticks": ""
            },
            "type": "mesh3d"
           }
          ],
          "parcoords": [
           {
            "line": {
             "colorbar": {
              "outlinewidth": 0,
              "ticks": ""
             }
            },
            "type": "parcoords"
           }
          ],
          "pie": [
           {
            "automargin": true,
            "type": "pie"
           }
          ],
          "scatter": [
           {
            "fillpattern": {
             "fillmode": "overlay",
             "size": 10,
             "solidity": 0.2
            },
            "type": "scatter"
           }
          ],
          "scatter3d": [
           {
            "line": {
             "colorbar": {
              "outlinewidth": 0,
              "ticks": ""
             }
            },
            "marker": {
             "colorbar": {
              "outlinewidth": 0,
              "ticks": ""
             }
            },
            "type": "scatter3d"
           }
          ],
          "scattercarpet": [
           {
            "marker": {
             "colorbar": {
              "outlinewidth": 0,
              "ticks": ""
             }
            },
            "type": "scattercarpet"
           }
          ],
          "scattergeo": [
           {
            "marker": {
             "colorbar": {
              "outlinewidth": 0,
              "ticks": ""
             }
            },
            "type": "scattergeo"
           }
          ],
          "scattergl": [
           {
            "marker": {
             "colorbar": {
              "outlinewidth": 0,
              "ticks": ""
             }
            },
            "type": "scattergl"
           }
          ],
          "scattermapbox": [
           {
            "marker": {
             "colorbar": {
              "outlinewidth": 0,
              "ticks": ""
             }
            },
            "type": "scattermapbox"
           }
          ],
          "scatterpolar": [
           {
            "marker": {
             "colorbar": {
              "outlinewidth": 0,
              "ticks": ""
             }
            },
            "type": "scatterpolar"
           }
          ],
          "scatterpolargl": [
           {
            "marker": {
             "colorbar": {
              "outlinewidth": 0,
              "ticks": ""
             }
            },
            "type": "scatterpolargl"
           }
          ],
          "scatterternary": [
           {
            "marker": {
             "colorbar": {
              "outlinewidth": 0,
              "ticks": ""
             }
            },
            "type": "scatterternary"
           }
          ],
          "surface": [
           {
            "colorbar": {
             "outlinewidth": 0,
             "ticks": ""
            },
            "colorscale": [
             [
              0,
              "#0d0887"
             ],
             [
              0.1111111111111111,
              "#46039f"
             ],
             [
              0.2222222222222222,
              "#7201a8"
             ],
             [
              0.3333333333333333,
              "#9c179e"
             ],
             [
              0.4444444444444444,
              "#bd3786"
             ],
             [
              0.5555555555555556,
              "#d8576b"
             ],
             [
              0.6666666666666666,
              "#ed7953"
             ],
             [
              0.7777777777777778,
              "#fb9f3a"
             ],
             [
              0.8888888888888888,
              "#fdca26"
             ],
             [
              1,
              "#f0f921"
             ]
            ],
            "type": "surface"
           }
          ],
          "table": [
           {
            "cells": {
             "fill": {
              "color": "#EBF0F8"
             },
             "line": {
              "color": "white"
             }
            },
            "header": {
             "fill": {
              "color": "#C8D4E3"
             },
             "line": {
              "color": "white"
             }
            },
            "type": "table"
           }
          ]
         },
         "layout": {
          "annotationdefaults": {
           "arrowcolor": "#2a3f5f",
           "arrowhead": 0,
           "arrowwidth": 1
          },
          "autotypenumbers": "strict",
          "coloraxis": {
           "colorbar": {
            "outlinewidth": 0,
            "ticks": ""
           }
          },
          "colorscale": {
           "diverging": [
            [
             0,
             "#8e0152"
            ],
            [
             0.1,
             "#c51b7d"
            ],
            [
             0.2,
             "#de77ae"
            ],
            [
             0.3,
             "#f1b6da"
            ],
            [
             0.4,
             "#fde0ef"
            ],
            [
             0.5,
             "#f7f7f7"
            ],
            [
             0.6,
             "#e6f5d0"
            ],
            [
             0.7,
             "#b8e186"
            ],
            [
             0.8,
             "#7fbc41"
            ],
            [
             0.9,
             "#4d9221"
            ],
            [
             1,
             "#276419"
            ]
           ],
           "sequential": [
            [
             0,
             "#0d0887"
            ],
            [
             0.1111111111111111,
             "#46039f"
            ],
            [
             0.2222222222222222,
             "#7201a8"
            ],
            [
             0.3333333333333333,
             "#9c179e"
            ],
            [
             0.4444444444444444,
             "#bd3786"
            ],
            [
             0.5555555555555556,
             "#d8576b"
            ],
            [
             0.6666666666666666,
             "#ed7953"
            ],
            [
             0.7777777777777778,
             "#fb9f3a"
            ],
            [
             0.8888888888888888,
             "#fdca26"
            ],
            [
             1,
             "#f0f921"
            ]
           ],
           "sequentialminus": [
            [
             0,
             "#0d0887"
            ],
            [
             0.1111111111111111,
             "#46039f"
            ],
            [
             0.2222222222222222,
             "#7201a8"
            ],
            [
             0.3333333333333333,
             "#9c179e"
            ],
            [
             0.4444444444444444,
             "#bd3786"
            ],
            [
             0.5555555555555556,
             "#d8576b"
            ],
            [
             0.6666666666666666,
             "#ed7953"
            ],
            [
             0.7777777777777778,
             "#fb9f3a"
            ],
            [
             0.8888888888888888,
             "#fdca26"
            ],
            [
             1,
             "#f0f921"
            ]
           ]
          },
          "colorway": [
           "#636efa",
           "#EF553B",
           "#00cc96",
           "#ab63fa",
           "#FFA15A",
           "#19d3f3",
           "#FF6692",
           "#B6E880",
           "#FF97FF",
           "#FECB52"
          ],
          "font": {
           "color": "#2a3f5f"
          },
          "geo": {
           "bgcolor": "white",
           "lakecolor": "white",
           "landcolor": "#E5ECF6",
           "showlakes": true,
           "showland": true,
           "subunitcolor": "white"
          },
          "hoverlabel": {
           "align": "left"
          },
          "hovermode": "closest",
          "mapbox": {
           "style": "light"
          },
          "paper_bgcolor": "white",
          "plot_bgcolor": "#E5ECF6",
          "polar": {
           "angularaxis": {
            "gridcolor": "white",
            "linecolor": "white",
            "ticks": ""
           },
           "bgcolor": "#E5ECF6",
           "radialaxis": {
            "gridcolor": "white",
            "linecolor": "white",
            "ticks": ""
           }
          },
          "scene": {
           "xaxis": {
            "backgroundcolor": "#E5ECF6",
            "gridcolor": "white",
            "gridwidth": 2,
            "linecolor": "white",
            "showbackground": true,
            "ticks": "",
            "zerolinecolor": "white"
           },
           "yaxis": {
            "backgroundcolor": "#E5ECF6",
            "gridcolor": "white",
            "gridwidth": 2,
            "linecolor": "white",
            "showbackground": true,
            "ticks": "",
            "zerolinecolor": "white"
           },
           "zaxis": {
            "backgroundcolor": "#E5ECF6",
            "gridcolor": "white",
            "gridwidth": 2,
            "linecolor": "white",
            "showbackground": true,
            "ticks": "",
            "zerolinecolor": "white"
           }
          },
          "shapedefaults": {
           "line": {
            "color": "#2a3f5f"
           }
          },
          "ternary": {
           "aaxis": {
            "gridcolor": "white",
            "linecolor": "white",
            "ticks": ""
           },
           "baxis": {
            "gridcolor": "white",
            "linecolor": "white",
            "ticks": ""
           },
           "bgcolor": "#E5ECF6",
           "caxis": {
            "gridcolor": "white",
            "linecolor": "white",
            "ticks": ""
           }
          },
          "title": {
           "x": 0.05
          },
          "xaxis": {
           "automargin": true,
           "gridcolor": "white",
           "linecolor": "white",
           "ticks": "",
           "title": {
            "standoff": 15
           },
           "zerolinecolor": "white",
           "zerolinewidth": 2
          },
          "yaxis": {
           "automargin": true,
           "gridcolor": "white",
           "linecolor": "white",
           "ticks": "",
           "title": {
            "standoff": 15
           },
           "zerolinecolor": "white",
           "zerolinewidth": 2
          }
         }
        },
        "xaxis": {
         "anchor": "y",
         "domain": [
          0,
          1
         ],
         "title": {
          "text": "flat_tax_rate"
         }
        },
        "yaxis": {
         "anchor": "x",
         "domain": [
          0,
          1
         ],
         "title": {
          "text": "labor_supply"
         }
        }
       }
      }
     },
     "metadata": {},
     "output_type": "display_data"
    }
   ],
   "source": [
    "labor_supply_change = combined_data[[\"flat_tax_rate\", \"labor_supply\"]]\n",
    "\n",
    "px.line(\n",
    "    combined_data,\n",
    "    x=\"flat_tax_rate\",\n",
    "    y=\"labor_supply\"\n",
    ")"
   ]
  },
  {
   "cell_type": "code",
   "execution_count": 40,
   "metadata": {},
   "outputs": [
    {
     "data": {
      "text/html": [
       "<div>\n",
       "<style scoped>\n",
       "    .dataframe tbody tr th:only-of-type {\n",
       "        vertical-align: middle;\n",
       "    }\n",
       "\n",
       "    .dataframe tbody tr th {\n",
       "        vertical-align: top;\n",
       "    }\n",
       "\n",
       "    .dataframe thead th {\n",
       "        text-align: right;\n",
       "    }\n",
       "</style>\n",
       "<table border=\"1\" class=\"dataframe\">\n",
       "  <thead>\n",
       "    <tr style=\"text-align: right;\">\n",
       "      <th></th>\n",
       "      <th>flat_tax_rate</th>\n",
       "      <th>labor_supply</th>\n",
       "      <th>% change gini</th>\n",
       "      <th>% change top_10_pct_share</th>\n",
       "      <th>% change top_1_pct_share</th>\n",
       "      <th>% change adult</th>\n",
       "      <th>% change all</th>\n",
       "      <th>% change child</th>\n",
       "      <th>% change senior</th>\n",
       "    </tr>\n",
       "  </thead>\n",
       "  <tbody>\n",
       "    <tr>\n",
       "      <th>9</th>\n",
       "      <td>0.20</td>\n",
       "      <td>0.000144</td>\n",
       "      <td>0.046201</td>\n",
       "      <td>0.107445</td>\n",
       "      <td>0.190664</td>\n",
       "      <td>0.767656</td>\n",
       "      <td>0.880135</td>\n",
       "      <td>0.743117</td>\n",
       "      <td>1.719004</td>\n",
       "    </tr>\n",
       "    <tr>\n",
       "      <th>10</th>\n",
       "      <td>0.21</td>\n",
       "      <td>-0.003348</td>\n",
       "      <td>0.047333</td>\n",
       "      <td>0.106801</td>\n",
       "      <td>0.186489</td>\n",
       "      <td>0.746571</td>\n",
       "      <td>0.862340</td>\n",
       "      <td>0.735167</td>\n",
       "      <td>1.706741</td>\n",
       "    </tr>\n",
       "    <tr>\n",
       "      <th>11</th>\n",
       "      <td>0.22</td>\n",
       "      <td>-0.006709</td>\n",
       "      <td>0.046770</td>\n",
       "      <td>0.105128</td>\n",
       "      <td>0.185585</td>\n",
       "      <td>0.744421</td>\n",
       "      <td>0.855016</td>\n",
       "      <td>0.703780</td>\n",
       "      <td>1.702483</td>\n",
       "    </tr>\n",
       "    <tr>\n",
       "      <th>12</th>\n",
       "      <td>0.23</td>\n",
       "      <td>-0.010005</td>\n",
       "      <td>0.040778</td>\n",
       "      <td>0.099262</td>\n",
       "      <td>0.181065</td>\n",
       "      <td>0.658280</td>\n",
       "      <td>0.760080</td>\n",
       "      <td>0.540114</td>\n",
       "      <td>1.650914</td>\n",
       "    </tr>\n",
       "    <tr>\n",
       "      <th>13</th>\n",
       "      <td>0.24</td>\n",
       "      <td>-0.013193</td>\n",
       "      <td>0.033464</td>\n",
       "      <td>0.090457</td>\n",
       "      <td>0.171761</td>\n",
       "      <td>0.472748</td>\n",
       "      <td>0.596640</td>\n",
       "      <td>0.387813</td>\n",
       "      <td>1.600051</td>\n",
       "    </tr>\n",
       "    <tr>\n",
       "      <th>14</th>\n",
       "      <td>0.25</td>\n",
       "      <td>-0.015936</td>\n",
       "      <td>0.027224</td>\n",
       "      <td>0.082262</td>\n",
       "      <td>0.160786</td>\n",
       "      <td>0.349652</td>\n",
       "      <td>0.476972</td>\n",
       "      <td>0.268582</td>\n",
       "      <td>1.499624</td>\n",
       "    </tr>\n",
       "    <tr>\n",
       "      <th>15</th>\n",
       "      <td>0.26</td>\n",
       "      <td>-0.019669</td>\n",
       "      <td>0.019211</td>\n",
       "      <td>0.072062</td>\n",
       "      <td>0.147617</td>\n",
       "      <td>0.269752</td>\n",
       "      <td>0.390925</td>\n",
       "      <td>0.196406</td>\n",
       "      <td>1.358969</td>\n",
       "    </tr>\n",
       "    <tr>\n",
       "      <th>7</th>\n",
       "      <td>0.30</td>\n",
       "      <td>0.007049</td>\n",
       "      <td>-0.015324</td>\n",
       "      <td>0.032039</td>\n",
       "      <td>0.106146</td>\n",
       "      <td>-0.164961</td>\n",
       "      <td>-0.128229</td>\n",
       "      <td>-0.401471</td>\n",
       "      <td>0.459109</td>\n",
       "    </tr>\n",
       "    <tr>\n",
       "      <th>5</th>\n",
       "      <td>0.31</td>\n",
       "      <td>0.024355</td>\n",
       "      <td>-0.023421</td>\n",
       "      <td>0.021471</td>\n",
       "      <td>0.095384</td>\n",
       "      <td>-0.269584</td>\n",
       "      <td>-0.252827</td>\n",
       "      <td>-0.561823</td>\n",
       "      <td>0.267949</td>\n",
       "    </tr>\n",
       "    <tr>\n",
       "      <th>3</th>\n",
       "      <td>0.32</td>\n",
       "      <td>0.031429</td>\n",
       "      <td>-0.032028</td>\n",
       "      <td>0.011950</td>\n",
       "      <td>0.085820</td>\n",
       "      <td>-0.349516</td>\n",
       "      <td>-0.359304</td>\n",
       "      <td>-0.668548</td>\n",
       "      <td>0.008191</td>\n",
       "    </tr>\n",
       "    <tr>\n",
       "      <th>1</th>\n",
       "      <td>0.33</td>\n",
       "      <td>0.037941</td>\n",
       "      <td>-0.039255</td>\n",
       "      <td>0.002275</td>\n",
       "      <td>0.075512</td>\n",
       "      <td>-0.441799</td>\n",
       "      <td>-0.444217</td>\n",
       "      <td>-0.696785</td>\n",
       "      <td>-0.111800</td>\n",
       "    </tr>\n",
       "    <tr>\n",
       "      <th>0</th>\n",
       "      <td>0.34</td>\n",
       "      <td>0.040935</td>\n",
       "      <td>-0.046032</td>\n",
       "      <td>-0.007214</td>\n",
       "      <td>0.066688</td>\n",
       "      <td>-0.511037</td>\n",
       "      <td>-0.521454</td>\n",
       "      <td>-0.736143</td>\n",
       "      <td>-0.287286</td>\n",
       "    </tr>\n",
       "    <tr>\n",
       "      <th>2</th>\n",
       "      <td>0.35</td>\n",
       "      <td>0.034826</td>\n",
       "      <td>-0.057971</td>\n",
       "      <td>-0.020311</td>\n",
       "      <td>0.054135</td>\n",
       "      <td>-0.444501</td>\n",
       "      <td>-0.535378</td>\n",
       "      <td>-0.818267</td>\n",
       "      <td>-0.673309</td>\n",
       "    </tr>\n",
       "    <tr>\n",
       "      <th>4</th>\n",
       "      <td>0.36</td>\n",
       "      <td>0.027832</td>\n",
       "      <td>-0.063388</td>\n",
       "      <td>-0.029782</td>\n",
       "      <td>0.043632</td>\n",
       "      <td>-0.515133</td>\n",
       "      <td>-0.600712</td>\n",
       "      <td>-0.823903</td>\n",
       "      <td>-0.789868</td>\n",
       "    </tr>\n",
       "    <tr>\n",
       "      <th>6</th>\n",
       "      <td>0.37</td>\n",
       "      <td>0.020842</td>\n",
       "      <td>-0.075448</td>\n",
       "      <td>-0.044849</td>\n",
       "      <td>0.036232</td>\n",
       "      <td>-0.093236</td>\n",
       "      <td>-0.325318</td>\n",
       "      <td>-0.902313</td>\n",
       "      <td>-0.877062</td>\n",
       "    </tr>\n",
       "    <tr>\n",
       "      <th>8</th>\n",
       "      <td>0.38</td>\n",
       "      <td>0.003578</td>\n",
       "      <td>-0.090139</td>\n",
       "      <td>-0.054209</td>\n",
       "      <td>0.030581</td>\n",
       "      <td>-0.247945</td>\n",
       "      <td>-0.438015</td>\n",
       "      <td>-0.923628</td>\n",
       "      <td>-0.871962</td>\n",
       "    </tr>\n",
       "  </tbody>\n",
       "</table>\n",
       "</div>"
      ],
      "text/plain": [
       "    flat_tax_rate  labor_supply  % change gini  % change top_10_pct_share  \\\n",
       "9            0.20      0.000144       0.046201                   0.107445   \n",
       "10           0.21     -0.003348       0.047333                   0.106801   \n",
       "11           0.22     -0.006709       0.046770                   0.105128   \n",
       "12           0.23     -0.010005       0.040778                   0.099262   \n",
       "13           0.24     -0.013193       0.033464                   0.090457   \n",
       "14           0.25     -0.015936       0.027224                   0.082262   \n",
       "15           0.26     -0.019669       0.019211                   0.072062   \n",
       "7            0.30      0.007049      -0.015324                   0.032039   \n",
       "5            0.31      0.024355      -0.023421                   0.021471   \n",
       "3            0.32      0.031429      -0.032028                   0.011950   \n",
       "1            0.33      0.037941      -0.039255                   0.002275   \n",
       "0            0.34      0.040935      -0.046032                  -0.007214   \n",
       "2            0.35      0.034826      -0.057971                  -0.020311   \n",
       "4            0.36      0.027832      -0.063388                  -0.029782   \n",
       "6            0.37      0.020842      -0.075448                  -0.044849   \n",
       "8            0.38      0.003578      -0.090139                  -0.054209   \n",
       "\n",
       "    % change top_1_pct_share  % change adult  % change all  % change child  \\\n",
       "9                   0.190664        0.767656      0.880135        0.743117   \n",
       "10                  0.186489        0.746571      0.862340        0.735167   \n",
       "11                  0.185585        0.744421      0.855016        0.703780   \n",
       "12                  0.181065        0.658280      0.760080        0.540114   \n",
       "13                  0.171761        0.472748      0.596640        0.387813   \n",
       "14                  0.160786        0.349652      0.476972        0.268582   \n",
       "15                  0.147617        0.269752      0.390925        0.196406   \n",
       "7                   0.106146       -0.164961     -0.128229       -0.401471   \n",
       "5                   0.095384       -0.269584     -0.252827       -0.561823   \n",
       "3                   0.085820       -0.349516     -0.359304       -0.668548   \n",
       "1                   0.075512       -0.441799     -0.444217       -0.696785   \n",
       "0                   0.066688       -0.511037     -0.521454       -0.736143   \n",
       "2                   0.054135       -0.444501     -0.535378       -0.818267   \n",
       "4                   0.043632       -0.515133     -0.600712       -0.823903   \n",
       "6                   0.036232       -0.093236     -0.325318       -0.902313   \n",
       "8                   0.030581       -0.247945     -0.438015       -0.923628   \n",
       "\n",
       "    % change senior  \n",
       "9          1.719004  \n",
       "10         1.706741  \n",
       "11         1.702483  \n",
       "12         1.650914  \n",
       "13         1.600051  \n",
       "14         1.499624  \n",
       "15         1.358969  \n",
       "7          0.459109  \n",
       "5          0.267949  \n",
       "3          0.008191  \n",
       "1         -0.111800  \n",
       "0         -0.287286  \n",
       "2         -0.673309  \n",
       "4         -0.789868  \n",
       "6         -0.877062  \n",
       "8         -0.871962  "
      ]
     },
     "execution_count": 40,
     "metadata": {},
     "output_type": "execute_result"
    }
   ],
   "source": [
    "combined_change"
   ]
  },
  {
   "cell_type": "code",
   "execution_count": 39,
   "metadata": {},
   "outputs": [
    {
     "data": {
      "application/vnd.plotly.v1+json": {
       "config": {
        "plotlyServerURL": "https://plot.ly"
       },
       "data": [
        {
         "colorscale": [
          [
           0,
           "#2C6496"
          ],
          [
           1,
           "#616161"
          ]
         ],
         "reversescale": false,
         "showscale": false,
         "type": "heatmap",
         "x": [
          0.2,
          0.21,
          0.22,
          0.23,
          0.24,
          0.25,
          0.26,
          0.3,
          0.31,
          0.32,
          0.33,
          0.34,
          0.35,
          0.36,
          0.37,
          0.38
         ],
         "y": [
          "Labor supply",
          "Gini index",
          "Top 10% income share",
          "Top 1% income share",
          "Adult poverty rate",
          "Poverty rate",
          "Child poverty rate",
          "Senior poverty rate"
         ],
         "z": [
          [
           -1,
           1,
           1,
           1,
           1,
           1,
           1,
           -1,
           -1,
           -1,
           -1,
           -1,
           -1,
           -1,
           -1,
           -1
          ],
          [
           1,
           1,
           1,
           1,
           1,
           1,
           1,
           -1,
           -1,
           -1,
           -1,
           -1,
           -1,
           -1,
           -1,
           -1
          ],
          [
           1,
           1,
           1,
           1,
           1,
           1,
           1,
           1,
           1,
           1,
           1,
           -1,
           -1,
           -1,
           -1,
           -1
          ],
          [
           1,
           1,
           1,
           1,
           1,
           1,
           1,
           1,
           1,
           1,
           1,
           1,
           1,
           1,
           1,
           1
          ],
          [
           1,
           1,
           1,
           1,
           1,
           1,
           1,
           -1,
           -1,
           -1,
           -1,
           -1,
           -1,
           -1,
           -1,
           -1
          ],
          [
           1,
           1,
           1,
           1,
           1,
           1,
           1,
           -1,
           -1,
           -1,
           -1,
           -1,
           -1,
           -1,
           -1,
           -1
          ],
          [
           1,
           1,
           1,
           1,
           1,
           1,
           1,
           -1,
           -1,
           -1,
           -1,
           -1,
           -1,
           -1,
           -1,
           -1
          ],
          [
           1,
           1,
           1,
           1,
           1,
           1,
           1,
           1,
           1,
           1,
           -1,
           -1,
           -1,
           -1,
           -1,
           -1
          ]
         ]
        }
       ],
       "layout": {
        "annotations": [
         {
          "font": {
           "color": "#FFFFFF"
          },
          "showarrow": false,
          "text": "+0%",
          "x": 0.2,
          "xref": "x",
          "y": "Labor supply",
          "yref": "y"
         },
         {
          "font": {
           "color": "#FFFFFF"
          },
          "showarrow": false,
          "text": "-0%",
          "x": 0.21,
          "xref": "x",
          "y": "Labor supply",
          "yref": "y"
         },
         {
          "font": {
           "color": "#FFFFFF"
          },
          "showarrow": false,
          "text": "-1%",
          "x": 0.22,
          "xref": "x",
          "y": "Labor supply",
          "yref": "y"
         },
         {
          "font": {
           "color": "#FFFFFF"
          },
          "showarrow": false,
          "text": "-1%",
          "x": 0.23,
          "xref": "x",
          "y": "Labor supply",
          "yref": "y"
         },
         {
          "font": {
           "color": "#FFFFFF"
          },
          "showarrow": false,
          "text": "-1%",
          "x": 0.24,
          "xref": "x",
          "y": "Labor supply",
          "yref": "y"
         },
         {
          "font": {
           "color": "#FFFFFF"
          },
          "showarrow": false,
          "text": "-2%",
          "x": 0.25,
          "xref": "x",
          "y": "Labor supply",
          "yref": "y"
         },
         {
          "font": {
           "color": "#FFFFFF"
          },
          "showarrow": false,
          "text": "-2%",
          "x": 0.26,
          "xref": "x",
          "y": "Labor supply",
          "yref": "y"
         },
         {
          "font": {
           "color": "#FFFFFF"
          },
          "showarrow": false,
          "text": "+1%",
          "x": 0.3,
          "xref": "x",
          "y": "Labor supply",
          "yref": "y"
         },
         {
          "font": {
           "color": "#FFFFFF"
          },
          "showarrow": false,
          "text": "+2%",
          "x": 0.31,
          "xref": "x",
          "y": "Labor supply",
          "yref": "y"
         },
         {
          "font": {
           "color": "#FFFFFF"
          },
          "showarrow": false,
          "text": "+3%",
          "x": 0.32,
          "xref": "x",
          "y": "Labor supply",
          "yref": "y"
         },
         {
          "font": {
           "color": "#FFFFFF"
          },
          "showarrow": false,
          "text": "+4%",
          "x": 0.33,
          "xref": "x",
          "y": "Labor supply",
          "yref": "y"
         },
         {
          "font": {
           "color": "#FFFFFF"
          },
          "showarrow": false,
          "text": "+4%",
          "x": 0.34,
          "xref": "x",
          "y": "Labor supply",
          "yref": "y"
         },
         {
          "font": {
           "color": "#FFFFFF"
          },
          "showarrow": false,
          "text": "+3%",
          "x": 0.35,
          "xref": "x",
          "y": "Labor supply",
          "yref": "y"
         },
         {
          "font": {
           "color": "#FFFFFF"
          },
          "showarrow": false,
          "text": "+3%",
          "x": 0.36,
          "xref": "x",
          "y": "Labor supply",
          "yref": "y"
         },
         {
          "font": {
           "color": "#FFFFFF"
          },
          "showarrow": false,
          "text": "+2%",
          "x": 0.37,
          "xref": "x",
          "y": "Labor supply",
          "yref": "y"
         },
         {
          "font": {
           "color": "#FFFFFF"
          },
          "showarrow": false,
          "text": "+0%",
          "x": 0.38,
          "xref": "x",
          "y": "Labor supply",
          "yref": "y"
         },
         {
          "font": {
           "color": "#FFFFFF"
          },
          "showarrow": false,
          "text": "+5%",
          "x": 0.2,
          "xref": "x",
          "y": "Gini index",
          "yref": "y"
         },
         {
          "font": {
           "color": "#FFFFFF"
          },
          "showarrow": false,
          "text": "+5%",
          "x": 0.21,
          "xref": "x",
          "y": "Gini index",
          "yref": "y"
         },
         {
          "font": {
           "color": "#FFFFFF"
          },
          "showarrow": false,
          "text": "+5%",
          "x": 0.22,
          "xref": "x",
          "y": "Gini index",
          "yref": "y"
         },
         {
          "font": {
           "color": "#FFFFFF"
          },
          "showarrow": false,
          "text": "+4%",
          "x": 0.23,
          "xref": "x",
          "y": "Gini index",
          "yref": "y"
         },
         {
          "font": {
           "color": "#FFFFFF"
          },
          "showarrow": false,
          "text": "+3%",
          "x": 0.24,
          "xref": "x",
          "y": "Gini index",
          "yref": "y"
         },
         {
          "font": {
           "color": "#FFFFFF"
          },
          "showarrow": false,
          "text": "+3%",
          "x": 0.25,
          "xref": "x",
          "y": "Gini index",
          "yref": "y"
         },
         {
          "font": {
           "color": "#FFFFFF"
          },
          "showarrow": false,
          "text": "+2%",
          "x": 0.26,
          "xref": "x",
          "y": "Gini index",
          "yref": "y"
         },
         {
          "font": {
           "color": "#FFFFFF"
          },
          "showarrow": false,
          "text": "-2%",
          "x": 0.3,
          "xref": "x",
          "y": "Gini index",
          "yref": "y"
         },
         {
          "font": {
           "color": "#FFFFFF"
          },
          "showarrow": false,
          "text": "-2%",
          "x": 0.31,
          "xref": "x",
          "y": "Gini index",
          "yref": "y"
         },
         {
          "font": {
           "color": "#FFFFFF"
          },
          "showarrow": false,
          "text": "-3%",
          "x": 0.32,
          "xref": "x",
          "y": "Gini index",
          "yref": "y"
         },
         {
          "font": {
           "color": "#FFFFFF"
          },
          "showarrow": false,
          "text": "-4%",
          "x": 0.33,
          "xref": "x",
          "y": "Gini index",
          "yref": "y"
         },
         {
          "font": {
           "color": "#FFFFFF"
          },
          "showarrow": false,
          "text": "-5%",
          "x": 0.34,
          "xref": "x",
          "y": "Gini index",
          "yref": "y"
         },
         {
          "font": {
           "color": "#FFFFFF"
          },
          "showarrow": false,
          "text": "-6%",
          "x": 0.35,
          "xref": "x",
          "y": "Gini index",
          "yref": "y"
         },
         {
          "font": {
           "color": "#FFFFFF"
          },
          "showarrow": false,
          "text": "-6%",
          "x": 0.36,
          "xref": "x",
          "y": "Gini index",
          "yref": "y"
         },
         {
          "font": {
           "color": "#FFFFFF"
          },
          "showarrow": false,
          "text": "-8%",
          "x": 0.37,
          "xref": "x",
          "y": "Gini index",
          "yref": "y"
         },
         {
          "font": {
           "color": "#FFFFFF"
          },
          "showarrow": false,
          "text": "-9%",
          "x": 0.38,
          "xref": "x",
          "y": "Gini index",
          "yref": "y"
         },
         {
          "font": {
           "color": "#FFFFFF"
          },
          "showarrow": false,
          "text": "+11%",
          "x": 0.2,
          "xref": "x",
          "y": "Top 10% income share",
          "yref": "y"
         },
         {
          "font": {
           "color": "#FFFFFF"
          },
          "showarrow": false,
          "text": "+11%",
          "x": 0.21,
          "xref": "x",
          "y": "Top 10% income share",
          "yref": "y"
         },
         {
          "font": {
           "color": "#FFFFFF"
          },
          "showarrow": false,
          "text": "+11%",
          "x": 0.22,
          "xref": "x",
          "y": "Top 10% income share",
          "yref": "y"
         },
         {
          "font": {
           "color": "#FFFFFF"
          },
          "showarrow": false,
          "text": "+10%",
          "x": 0.23,
          "xref": "x",
          "y": "Top 10% income share",
          "yref": "y"
         },
         {
          "font": {
           "color": "#FFFFFF"
          },
          "showarrow": false,
          "text": "+9%",
          "x": 0.24,
          "xref": "x",
          "y": "Top 10% income share",
          "yref": "y"
         },
         {
          "font": {
           "color": "#FFFFFF"
          },
          "showarrow": false,
          "text": "+8%",
          "x": 0.25,
          "xref": "x",
          "y": "Top 10% income share",
          "yref": "y"
         },
         {
          "font": {
           "color": "#FFFFFF"
          },
          "showarrow": false,
          "text": "+7%",
          "x": 0.26,
          "xref": "x",
          "y": "Top 10% income share",
          "yref": "y"
         },
         {
          "font": {
           "color": "#FFFFFF"
          },
          "showarrow": false,
          "text": "+3%",
          "x": 0.3,
          "xref": "x",
          "y": "Top 10% income share",
          "yref": "y"
         },
         {
          "font": {
           "color": "#FFFFFF"
          },
          "showarrow": false,
          "text": "+2%",
          "x": 0.31,
          "xref": "x",
          "y": "Top 10% income share",
          "yref": "y"
         },
         {
          "font": {
           "color": "#FFFFFF"
          },
          "showarrow": false,
          "text": "+1%",
          "x": 0.32,
          "xref": "x",
          "y": "Top 10% income share",
          "yref": "y"
         },
         {
          "font": {
           "color": "#FFFFFF"
          },
          "showarrow": false,
          "text": "+0%",
          "x": 0.33,
          "xref": "x",
          "y": "Top 10% income share",
          "yref": "y"
         },
         {
          "font": {
           "color": "#FFFFFF"
          },
          "showarrow": false,
          "text": "-1%",
          "x": 0.34,
          "xref": "x",
          "y": "Top 10% income share",
          "yref": "y"
         },
         {
          "font": {
           "color": "#FFFFFF"
          },
          "showarrow": false,
          "text": "-2%",
          "x": 0.35,
          "xref": "x",
          "y": "Top 10% income share",
          "yref": "y"
         },
         {
          "font": {
           "color": "#FFFFFF"
          },
          "showarrow": false,
          "text": "-3%",
          "x": 0.36,
          "xref": "x",
          "y": "Top 10% income share",
          "yref": "y"
         },
         {
          "font": {
           "color": "#FFFFFF"
          },
          "showarrow": false,
          "text": "-4%",
          "x": 0.37,
          "xref": "x",
          "y": "Top 10% income share",
          "yref": "y"
         },
         {
          "font": {
           "color": "#FFFFFF"
          },
          "showarrow": false,
          "text": "-5%",
          "x": 0.38,
          "xref": "x",
          "y": "Top 10% income share",
          "yref": "y"
         },
         {
          "font": {
           "color": "#FFFFFF"
          },
          "showarrow": false,
          "text": "+19%",
          "x": 0.2,
          "xref": "x",
          "y": "Top 1% income share",
          "yref": "y"
         },
         {
          "font": {
           "color": "#FFFFFF"
          },
          "showarrow": false,
          "text": "+19%",
          "x": 0.21,
          "xref": "x",
          "y": "Top 1% income share",
          "yref": "y"
         },
         {
          "font": {
           "color": "#FFFFFF"
          },
          "showarrow": false,
          "text": "+19%",
          "x": 0.22,
          "xref": "x",
          "y": "Top 1% income share",
          "yref": "y"
         },
         {
          "font": {
           "color": "#FFFFFF"
          },
          "showarrow": false,
          "text": "+18%",
          "x": 0.23,
          "xref": "x",
          "y": "Top 1% income share",
          "yref": "y"
         },
         {
          "font": {
           "color": "#FFFFFF"
          },
          "showarrow": false,
          "text": "+17%",
          "x": 0.24,
          "xref": "x",
          "y": "Top 1% income share",
          "yref": "y"
         },
         {
          "font": {
           "color": "#FFFFFF"
          },
          "showarrow": false,
          "text": "+16%",
          "x": 0.25,
          "xref": "x",
          "y": "Top 1% income share",
          "yref": "y"
         },
         {
          "font": {
           "color": "#FFFFFF"
          },
          "showarrow": false,
          "text": "+15%",
          "x": 0.26,
          "xref": "x",
          "y": "Top 1% income share",
          "yref": "y"
         },
         {
          "font": {
           "color": "#FFFFFF"
          },
          "showarrow": false,
          "text": "+11%",
          "x": 0.3,
          "xref": "x",
          "y": "Top 1% income share",
          "yref": "y"
         },
         {
          "font": {
           "color": "#FFFFFF"
          },
          "showarrow": false,
          "text": "+10%",
          "x": 0.31,
          "xref": "x",
          "y": "Top 1% income share",
          "yref": "y"
         },
         {
          "font": {
           "color": "#FFFFFF"
          },
          "showarrow": false,
          "text": "+9%",
          "x": 0.32,
          "xref": "x",
          "y": "Top 1% income share",
          "yref": "y"
         },
         {
          "font": {
           "color": "#FFFFFF"
          },
          "showarrow": false,
          "text": "+8%",
          "x": 0.33,
          "xref": "x",
          "y": "Top 1% income share",
          "yref": "y"
         },
         {
          "font": {
           "color": "#FFFFFF"
          },
          "showarrow": false,
          "text": "+7%",
          "x": 0.34,
          "xref": "x",
          "y": "Top 1% income share",
          "yref": "y"
         },
         {
          "font": {
           "color": "#FFFFFF"
          },
          "showarrow": false,
          "text": "+5%",
          "x": 0.35,
          "xref": "x",
          "y": "Top 1% income share",
          "yref": "y"
         },
         {
          "font": {
           "color": "#FFFFFF"
          },
          "showarrow": false,
          "text": "+4%",
          "x": 0.36,
          "xref": "x",
          "y": "Top 1% income share",
          "yref": "y"
         },
         {
          "font": {
           "color": "#FFFFFF"
          },
          "showarrow": false,
          "text": "+4%",
          "x": 0.37,
          "xref": "x",
          "y": "Top 1% income share",
          "yref": "y"
         },
         {
          "font": {
           "color": "#FFFFFF"
          },
          "showarrow": false,
          "text": "+3%",
          "x": 0.38,
          "xref": "x",
          "y": "Top 1% income share",
          "yref": "y"
         },
         {
          "font": {
           "color": "#FFFFFF"
          },
          "showarrow": false,
          "text": "+77%",
          "x": 0.2,
          "xref": "x",
          "y": "Adult poverty rate",
          "yref": "y"
         },
         {
          "font": {
           "color": "#FFFFFF"
          },
          "showarrow": false,
          "text": "+75%",
          "x": 0.21,
          "xref": "x",
          "y": "Adult poverty rate",
          "yref": "y"
         },
         {
          "font": {
           "color": "#FFFFFF"
          },
          "showarrow": false,
          "text": "+74%",
          "x": 0.22,
          "xref": "x",
          "y": "Adult poverty rate",
          "yref": "y"
         },
         {
          "font": {
           "color": "#FFFFFF"
          },
          "showarrow": false,
          "text": "+66%",
          "x": 0.23,
          "xref": "x",
          "y": "Adult poverty rate",
          "yref": "y"
         },
         {
          "font": {
           "color": "#FFFFFF"
          },
          "showarrow": false,
          "text": "+47%",
          "x": 0.24,
          "xref": "x",
          "y": "Adult poverty rate",
          "yref": "y"
         },
         {
          "font": {
           "color": "#FFFFFF"
          },
          "showarrow": false,
          "text": "+35%",
          "x": 0.25,
          "xref": "x",
          "y": "Adult poverty rate",
          "yref": "y"
         },
         {
          "font": {
           "color": "#FFFFFF"
          },
          "showarrow": false,
          "text": "+27%",
          "x": 0.26,
          "xref": "x",
          "y": "Adult poverty rate",
          "yref": "y"
         },
         {
          "font": {
           "color": "#FFFFFF"
          },
          "showarrow": false,
          "text": "-16%",
          "x": 0.3,
          "xref": "x",
          "y": "Adult poverty rate",
          "yref": "y"
         },
         {
          "font": {
           "color": "#FFFFFF"
          },
          "showarrow": false,
          "text": "-27%",
          "x": 0.31,
          "xref": "x",
          "y": "Adult poverty rate",
          "yref": "y"
         },
         {
          "font": {
           "color": "#FFFFFF"
          },
          "showarrow": false,
          "text": "-35%",
          "x": 0.32,
          "xref": "x",
          "y": "Adult poverty rate",
          "yref": "y"
         },
         {
          "font": {
           "color": "#FFFFFF"
          },
          "showarrow": false,
          "text": "-44%",
          "x": 0.33,
          "xref": "x",
          "y": "Adult poverty rate",
          "yref": "y"
         },
         {
          "font": {
           "color": "#FFFFFF"
          },
          "showarrow": false,
          "text": "-51%",
          "x": 0.34,
          "xref": "x",
          "y": "Adult poverty rate",
          "yref": "y"
         },
         {
          "font": {
           "color": "#FFFFFF"
          },
          "showarrow": false,
          "text": "-44%",
          "x": 0.35,
          "xref": "x",
          "y": "Adult poverty rate",
          "yref": "y"
         },
         {
          "font": {
           "color": "#FFFFFF"
          },
          "showarrow": false,
          "text": "-52%",
          "x": 0.36,
          "xref": "x",
          "y": "Adult poverty rate",
          "yref": "y"
         },
         {
          "font": {
           "color": "#FFFFFF"
          },
          "showarrow": false,
          "text": "-9%",
          "x": 0.37,
          "xref": "x",
          "y": "Adult poverty rate",
          "yref": "y"
         },
         {
          "font": {
           "color": "#FFFFFF"
          },
          "showarrow": false,
          "text": "-25%",
          "x": 0.38,
          "xref": "x",
          "y": "Adult poverty rate",
          "yref": "y"
         },
         {
          "font": {
           "color": "#FFFFFF"
          },
          "showarrow": false,
          "text": "+88%",
          "x": 0.2,
          "xref": "x",
          "y": "Poverty rate",
          "yref": "y"
         },
         {
          "font": {
           "color": "#FFFFFF"
          },
          "showarrow": false,
          "text": "+86%",
          "x": 0.21,
          "xref": "x",
          "y": "Poverty rate",
          "yref": "y"
         },
         {
          "font": {
           "color": "#FFFFFF"
          },
          "showarrow": false,
          "text": "+86%",
          "x": 0.22,
          "xref": "x",
          "y": "Poverty rate",
          "yref": "y"
         },
         {
          "font": {
           "color": "#FFFFFF"
          },
          "showarrow": false,
          "text": "+76%",
          "x": 0.23,
          "xref": "x",
          "y": "Poverty rate",
          "yref": "y"
         },
         {
          "font": {
           "color": "#FFFFFF"
          },
          "showarrow": false,
          "text": "+60%",
          "x": 0.24,
          "xref": "x",
          "y": "Poverty rate",
          "yref": "y"
         },
         {
          "font": {
           "color": "#FFFFFF"
          },
          "showarrow": false,
          "text": "+48%",
          "x": 0.25,
          "xref": "x",
          "y": "Poverty rate",
          "yref": "y"
         },
         {
          "font": {
           "color": "#FFFFFF"
          },
          "showarrow": false,
          "text": "+39%",
          "x": 0.26,
          "xref": "x",
          "y": "Poverty rate",
          "yref": "y"
         },
         {
          "font": {
           "color": "#FFFFFF"
          },
          "showarrow": false,
          "text": "-13%",
          "x": 0.3,
          "xref": "x",
          "y": "Poverty rate",
          "yref": "y"
         },
         {
          "font": {
           "color": "#FFFFFF"
          },
          "showarrow": false,
          "text": "-25%",
          "x": 0.31,
          "xref": "x",
          "y": "Poverty rate",
          "yref": "y"
         },
         {
          "font": {
           "color": "#FFFFFF"
          },
          "showarrow": false,
          "text": "-36%",
          "x": 0.32,
          "xref": "x",
          "y": "Poverty rate",
          "yref": "y"
         },
         {
          "font": {
           "color": "#FFFFFF"
          },
          "showarrow": false,
          "text": "-44%",
          "x": 0.33,
          "xref": "x",
          "y": "Poverty rate",
          "yref": "y"
         },
         {
          "font": {
           "color": "#FFFFFF"
          },
          "showarrow": false,
          "text": "-52%",
          "x": 0.34,
          "xref": "x",
          "y": "Poverty rate",
          "yref": "y"
         },
         {
          "font": {
           "color": "#FFFFFF"
          },
          "showarrow": false,
          "text": "-54%",
          "x": 0.35,
          "xref": "x",
          "y": "Poverty rate",
          "yref": "y"
         },
         {
          "font": {
           "color": "#FFFFFF"
          },
          "showarrow": false,
          "text": "-60%",
          "x": 0.36,
          "xref": "x",
          "y": "Poverty rate",
          "yref": "y"
         },
         {
          "font": {
           "color": "#FFFFFF"
          },
          "showarrow": false,
          "text": "-33%",
          "x": 0.37,
          "xref": "x",
          "y": "Poverty rate",
          "yref": "y"
         },
         {
          "font": {
           "color": "#FFFFFF"
          },
          "showarrow": false,
          "text": "-44%",
          "x": 0.38,
          "xref": "x",
          "y": "Poverty rate",
          "yref": "y"
         },
         {
          "font": {
           "color": "#FFFFFF"
          },
          "showarrow": false,
          "text": "+74%",
          "x": 0.2,
          "xref": "x",
          "y": "Child poverty rate",
          "yref": "y"
         },
         {
          "font": {
           "color": "#FFFFFF"
          },
          "showarrow": false,
          "text": "+74%",
          "x": 0.21,
          "xref": "x",
          "y": "Child poverty rate",
          "yref": "y"
         },
         {
          "font": {
           "color": "#FFFFFF"
          },
          "showarrow": false,
          "text": "+70%",
          "x": 0.22,
          "xref": "x",
          "y": "Child poverty rate",
          "yref": "y"
         },
         {
          "font": {
           "color": "#FFFFFF"
          },
          "showarrow": false,
          "text": "+54%",
          "x": 0.23,
          "xref": "x",
          "y": "Child poverty rate",
          "yref": "y"
         },
         {
          "font": {
           "color": "#FFFFFF"
          },
          "showarrow": false,
          "text": "+39%",
          "x": 0.24,
          "xref": "x",
          "y": "Child poverty rate",
          "yref": "y"
         },
         {
          "font": {
           "color": "#FFFFFF"
          },
          "showarrow": false,
          "text": "+27%",
          "x": 0.25,
          "xref": "x",
          "y": "Child poverty rate",
          "yref": "y"
         },
         {
          "font": {
           "color": "#FFFFFF"
          },
          "showarrow": false,
          "text": "+20%",
          "x": 0.26,
          "xref": "x",
          "y": "Child poverty rate",
          "yref": "y"
         },
         {
          "font": {
           "color": "#FFFFFF"
          },
          "showarrow": false,
          "text": "-40%",
          "x": 0.3,
          "xref": "x",
          "y": "Child poverty rate",
          "yref": "y"
         },
         {
          "font": {
           "color": "#FFFFFF"
          },
          "showarrow": false,
          "text": "-56%",
          "x": 0.31,
          "xref": "x",
          "y": "Child poverty rate",
          "yref": "y"
         },
         {
          "font": {
           "color": "#FFFFFF"
          },
          "showarrow": false,
          "text": "-67%",
          "x": 0.32,
          "xref": "x",
          "y": "Child poverty rate",
          "yref": "y"
         },
         {
          "font": {
           "color": "#FFFFFF"
          },
          "showarrow": false,
          "text": "-70%",
          "x": 0.33,
          "xref": "x",
          "y": "Child poverty rate",
          "yref": "y"
         },
         {
          "font": {
           "color": "#FFFFFF"
          },
          "showarrow": false,
          "text": "-74%",
          "x": 0.34,
          "xref": "x",
          "y": "Child poverty rate",
          "yref": "y"
         },
         {
          "font": {
           "color": "#FFFFFF"
          },
          "showarrow": false,
          "text": "-82%",
          "x": 0.35,
          "xref": "x",
          "y": "Child poverty rate",
          "yref": "y"
         },
         {
          "font": {
           "color": "#FFFFFF"
          },
          "showarrow": false,
          "text": "-82%",
          "x": 0.36,
          "xref": "x",
          "y": "Child poverty rate",
          "yref": "y"
         },
         {
          "font": {
           "color": "#FFFFFF"
          },
          "showarrow": false,
          "text": "-90%",
          "x": 0.37,
          "xref": "x",
          "y": "Child poverty rate",
          "yref": "y"
         },
         {
          "font": {
           "color": "#FFFFFF"
          },
          "showarrow": false,
          "text": "-92%",
          "x": 0.38,
          "xref": "x",
          "y": "Child poverty rate",
          "yref": "y"
         },
         {
          "font": {
           "color": "#FFFFFF"
          },
          "showarrow": false,
          "text": "+172%",
          "x": 0.2,
          "xref": "x",
          "y": "Senior poverty rate",
          "yref": "y"
         },
         {
          "font": {
           "color": "#FFFFFF"
          },
          "showarrow": false,
          "text": "+171%",
          "x": 0.21,
          "xref": "x",
          "y": "Senior poverty rate",
          "yref": "y"
         },
         {
          "font": {
           "color": "#FFFFFF"
          },
          "showarrow": false,
          "text": "+170%",
          "x": 0.22,
          "xref": "x",
          "y": "Senior poverty rate",
          "yref": "y"
         },
         {
          "font": {
           "color": "#FFFFFF"
          },
          "showarrow": false,
          "text": "+165%",
          "x": 0.23,
          "xref": "x",
          "y": "Senior poverty rate",
          "yref": "y"
         },
         {
          "font": {
           "color": "#FFFFFF"
          },
          "showarrow": false,
          "text": "+160%",
          "x": 0.24,
          "xref": "x",
          "y": "Senior poverty rate",
          "yref": "y"
         },
         {
          "font": {
           "color": "#FFFFFF"
          },
          "showarrow": false,
          "text": "+150%",
          "x": 0.25,
          "xref": "x",
          "y": "Senior poverty rate",
          "yref": "y"
         },
         {
          "font": {
           "color": "#FFFFFF"
          },
          "showarrow": false,
          "text": "+136%",
          "x": 0.26,
          "xref": "x",
          "y": "Senior poverty rate",
          "yref": "y"
         },
         {
          "font": {
           "color": "#FFFFFF"
          },
          "showarrow": false,
          "text": "+46%",
          "x": 0.3,
          "xref": "x",
          "y": "Senior poverty rate",
          "yref": "y"
         },
         {
          "font": {
           "color": "#FFFFFF"
          },
          "showarrow": false,
          "text": "+27%",
          "x": 0.31,
          "xref": "x",
          "y": "Senior poverty rate",
          "yref": "y"
         },
         {
          "font": {
           "color": "#FFFFFF"
          },
          "showarrow": false,
          "text": "+1%",
          "x": 0.32,
          "xref": "x",
          "y": "Senior poverty rate",
          "yref": "y"
         },
         {
          "font": {
           "color": "#FFFFFF"
          },
          "showarrow": false,
          "text": "-11%",
          "x": 0.33,
          "xref": "x",
          "y": "Senior poverty rate",
          "yref": "y"
         },
         {
          "font": {
           "color": "#FFFFFF"
          },
          "showarrow": false,
          "text": "-29%",
          "x": 0.34,
          "xref": "x",
          "y": "Senior poverty rate",
          "yref": "y"
         },
         {
          "font": {
           "color": "#FFFFFF"
          },
          "showarrow": false,
          "text": "-67%",
          "x": 0.35,
          "xref": "x",
          "y": "Senior poverty rate",
          "yref": "y"
         },
         {
          "font": {
           "color": "#FFFFFF"
          },
          "showarrow": false,
          "text": "-79%",
          "x": 0.36,
          "xref": "x",
          "y": "Senior poverty rate",
          "yref": "y"
         },
         {
          "font": {
           "color": "#FFFFFF"
          },
          "showarrow": false,
          "text": "-88%",
          "x": 0.37,
          "xref": "x",
          "y": "Senior poverty rate",
          "yref": "y"
         },
         {
          "font": {
           "color": "#FFFFFF"
          },
          "showarrow": false,
          "text": "-87%",
          "x": 0.38,
          "xref": "x",
          "y": "Senior poverty rate",
          "yref": "y"
         }
        ],
        "font": {
         "color": "black",
         "family": "Roboto Serif"
        },
        "height": 600,
        "images": [
         {
          "sizex": 0.2,
          "sizey": 0.2,
          "source": "https://raw.githubusercontent.com/PolicyEngine/policyengine-app/master/src/images/logos/policyengine/blue.png",
          "x": 1,
          "xanchor": "right",
          "xref": "paper",
          "y": -0.15,
          "yanchor": "bottom",
          "yref": "paper"
         }
        ],
        "margin": {
         "l": 150,
         "t": 150
        },
        "modebar": {
         "bgcolor": "rgba(0,0,0,0)",
         "color": "rgba(0,0,0,0)"
        },
        "template": {
         "data": {
          "bar": [
           {
            "error_x": {
             "color": "#2a3f5f"
            },
            "error_y": {
             "color": "#2a3f5f"
            },
            "marker": {
             "line": {
              "color": "white",
              "width": 0.5
             },
             "pattern": {
              "fillmode": "overlay",
              "size": 10,
              "solidity": 0.2
             }
            },
            "type": "bar"
           }
          ],
          "barpolar": [
           {
            "marker": {
             "line": {
              "color": "white",
              "width": 0.5
             },
             "pattern": {
              "fillmode": "overlay",
              "size": 10,
              "solidity": 0.2
             }
            },
            "type": "barpolar"
           }
          ],
          "carpet": [
           {
            "aaxis": {
             "endlinecolor": "#2a3f5f",
             "gridcolor": "#C8D4E3",
             "linecolor": "#C8D4E3",
             "minorgridcolor": "#C8D4E3",
             "startlinecolor": "#2a3f5f"
            },
            "baxis": {
             "endlinecolor": "#2a3f5f",
             "gridcolor": "#C8D4E3",
             "linecolor": "#C8D4E3",
             "minorgridcolor": "#C8D4E3",
             "startlinecolor": "#2a3f5f"
            },
            "type": "carpet"
           }
          ],
          "choropleth": [
           {
            "colorbar": {
             "outlinewidth": 0,
             "ticks": ""
            },
            "type": "choropleth"
           }
          ],
          "contour": [
           {
            "colorbar": {
             "outlinewidth": 0,
             "ticks": ""
            },
            "colorscale": [
             [
              0,
              "#0d0887"
             ],
             [
              0.1111111111111111,
              "#46039f"
             ],
             [
              0.2222222222222222,
              "#7201a8"
             ],
             [
              0.3333333333333333,
              "#9c179e"
             ],
             [
              0.4444444444444444,
              "#bd3786"
             ],
             [
              0.5555555555555556,
              "#d8576b"
             ],
             [
              0.6666666666666666,
              "#ed7953"
             ],
             [
              0.7777777777777778,
              "#fb9f3a"
             ],
             [
              0.8888888888888888,
              "#fdca26"
             ],
             [
              1,
              "#f0f921"
             ]
            ],
            "type": "contour"
           }
          ],
          "contourcarpet": [
           {
            "colorbar": {
             "outlinewidth": 0,
             "ticks": ""
            },
            "type": "contourcarpet"
           }
          ],
          "heatmap": [
           {
            "colorbar": {
             "outlinewidth": 0,
             "ticks": ""
            },
            "colorscale": [
             [
              0,
              "#0d0887"
             ],
             [
              0.1111111111111111,
              "#46039f"
             ],
             [
              0.2222222222222222,
              "#7201a8"
             ],
             [
              0.3333333333333333,
              "#9c179e"
             ],
             [
              0.4444444444444444,
              "#bd3786"
             ],
             [
              0.5555555555555556,
              "#d8576b"
             ],
             [
              0.6666666666666666,
              "#ed7953"
             ],
             [
              0.7777777777777778,
              "#fb9f3a"
             ],
             [
              0.8888888888888888,
              "#fdca26"
             ],
             [
              1,
              "#f0f921"
             ]
            ],
            "type": "heatmap"
           }
          ],
          "heatmapgl": [
           {
            "colorbar": {
             "outlinewidth": 0,
             "ticks": ""
            },
            "colorscale": [
             [
              0,
              "#0d0887"
             ],
             [
              0.1111111111111111,
              "#46039f"
             ],
             [
              0.2222222222222222,
              "#7201a8"
             ],
             [
              0.3333333333333333,
              "#9c179e"
             ],
             [
              0.4444444444444444,
              "#bd3786"
             ],
             [
              0.5555555555555556,
              "#d8576b"
             ],
             [
              0.6666666666666666,
              "#ed7953"
             ],
             [
              0.7777777777777778,
              "#fb9f3a"
             ],
             [
              0.8888888888888888,
              "#fdca26"
             ],
             [
              1,
              "#f0f921"
             ]
            ],
            "type": "heatmapgl"
           }
          ],
          "histogram": [
           {
            "marker": {
             "pattern": {
              "fillmode": "overlay",
              "size": 10,
              "solidity": 0.2
             }
            },
            "type": "histogram"
           }
          ],
          "histogram2d": [
           {
            "colorbar": {
             "outlinewidth": 0,
             "ticks": ""
            },
            "colorscale": [
             [
              0,
              "#0d0887"
             ],
             [
              0.1111111111111111,
              "#46039f"
             ],
             [
              0.2222222222222222,
              "#7201a8"
             ],
             [
              0.3333333333333333,
              "#9c179e"
             ],
             [
              0.4444444444444444,
              "#bd3786"
             ],
             [
              0.5555555555555556,
              "#d8576b"
             ],
             [
              0.6666666666666666,
              "#ed7953"
             ],
             [
              0.7777777777777778,
              "#fb9f3a"
             ],
             [
              0.8888888888888888,
              "#fdca26"
             ],
             [
              1,
              "#f0f921"
             ]
            ],
            "type": "histogram2d"
           }
          ],
          "histogram2dcontour": [
           {
            "colorbar": {
             "outlinewidth": 0,
             "ticks": ""
            },
            "colorscale": [
             [
              0,
              "#0d0887"
             ],
             [
              0.1111111111111111,
              "#46039f"
             ],
             [
              0.2222222222222222,
              "#7201a8"
             ],
             [
              0.3333333333333333,
              "#9c179e"
             ],
             [
              0.4444444444444444,
              "#bd3786"
             ],
             [
              0.5555555555555556,
              "#d8576b"
             ],
             [
              0.6666666666666666,
              "#ed7953"
             ],
             [
              0.7777777777777778,
              "#fb9f3a"
             ],
             [
              0.8888888888888888,
              "#fdca26"
             ],
             [
              1,
              "#f0f921"
             ]
            ],
            "type": "histogram2dcontour"
           }
          ],
          "mesh3d": [
           {
            "colorbar": {
             "outlinewidth": 0,
             "ticks": ""
            },
            "type": "mesh3d"
           }
          ],
          "parcoords": [
           {
            "line": {
             "colorbar": {
              "outlinewidth": 0,
              "ticks": ""
             }
            },
            "type": "parcoords"
           }
          ],
          "pie": [
           {
            "automargin": true,
            "type": "pie"
           }
          ],
          "scatter": [
           {
            "fillpattern": {
             "fillmode": "overlay",
             "size": 10,
             "solidity": 0.2
            },
            "type": "scatter"
           }
          ],
          "scatter3d": [
           {
            "line": {
             "colorbar": {
              "outlinewidth": 0,
              "ticks": ""
             }
            },
            "marker": {
             "colorbar": {
              "outlinewidth": 0,
              "ticks": ""
             }
            },
            "type": "scatter3d"
           }
          ],
          "scattercarpet": [
           {
            "marker": {
             "colorbar": {
              "outlinewidth": 0,
              "ticks": ""
             }
            },
            "type": "scattercarpet"
           }
          ],
          "scattergeo": [
           {
            "marker": {
             "colorbar": {
              "outlinewidth": 0,
              "ticks": ""
             }
            },
            "type": "scattergeo"
           }
          ],
          "scattergl": [
           {
            "marker": {
             "colorbar": {
              "outlinewidth": 0,
              "ticks": ""
             }
            },
            "type": "scattergl"
           }
          ],
          "scattermapbox": [
           {
            "marker": {
             "colorbar": {
              "outlinewidth": 0,
              "ticks": ""
             }
            },
            "type": "scattermapbox"
           }
          ],
          "scatterpolar": [
           {
            "marker": {
             "colorbar": {
              "outlinewidth": 0,
              "ticks": ""
             }
            },
            "type": "scatterpolar"
           }
          ],
          "scatterpolargl": [
           {
            "marker": {
             "colorbar": {
              "outlinewidth": 0,
              "ticks": ""
             }
            },
            "type": "scatterpolargl"
           }
          ],
          "scatterternary": [
           {
            "marker": {
             "colorbar": {
              "outlinewidth": 0,
              "ticks": ""
             }
            },
            "type": "scatterternary"
           }
          ],
          "surface": [
           {
            "colorbar": {
             "outlinewidth": 0,
             "ticks": ""
            },
            "colorscale": [
             [
              0,
              "#0d0887"
             ],
             [
              0.1111111111111111,
              "#46039f"
             ],
             [
              0.2222222222222222,
              "#7201a8"
             ],
             [
              0.3333333333333333,
              "#9c179e"
             ],
             [
              0.4444444444444444,
              "#bd3786"
             ],
             [
              0.5555555555555556,
              "#d8576b"
             ],
             [
              0.6666666666666666,
              "#ed7953"
             ],
             [
              0.7777777777777778,
              "#fb9f3a"
             ],
             [
              0.8888888888888888,
              "#fdca26"
             ],
             [
              1,
              "#f0f921"
             ]
            ],
            "type": "surface"
           }
          ],
          "table": [
           {
            "cells": {
             "fill": {
              "color": "#EBF0F8"
             },
             "line": {
              "color": "white"
             }
            },
            "header": {
             "fill": {
              "color": "#C8D4E3"
             },
             "line": {
              "color": "white"
             }
            },
            "type": "table"
           }
          ]
         },
         "layout": {
          "annotationdefaults": {
           "arrowcolor": "#2a3f5f",
           "arrowhead": 0,
           "arrowwidth": 1
          },
          "autotypenumbers": "strict",
          "coloraxis": {
           "colorbar": {
            "outlinewidth": 0,
            "ticks": ""
           }
          },
          "colorscale": {
           "diverging": [
            [
             0,
             "#8e0152"
            ],
            [
             0.1,
             "#c51b7d"
            ],
            [
             0.2,
             "#de77ae"
            ],
            [
             0.3,
             "#f1b6da"
            ],
            [
             0.4,
             "#fde0ef"
            ],
            [
             0.5,
             "#f7f7f7"
            ],
            [
             0.6,
             "#e6f5d0"
            ],
            [
             0.7,
             "#b8e186"
            ],
            [
             0.8,
             "#7fbc41"
            ],
            [
             0.9,
             "#4d9221"
            ],
            [
             1,
             "#276419"
            ]
           ],
           "sequential": [
            [
             0,
             "#0d0887"
            ],
            [
             0.1111111111111111,
             "#46039f"
            ],
            [
             0.2222222222222222,
             "#7201a8"
            ],
            [
             0.3333333333333333,
             "#9c179e"
            ],
            [
             0.4444444444444444,
             "#bd3786"
            ],
            [
             0.5555555555555556,
             "#d8576b"
            ],
            [
             0.6666666666666666,
             "#ed7953"
            ],
            [
             0.7777777777777778,
             "#fb9f3a"
            ],
            [
             0.8888888888888888,
             "#fdca26"
            ],
            [
             1,
             "#f0f921"
            ]
           ],
           "sequentialminus": [
            [
             0,
             "#0d0887"
            ],
            [
             0.1111111111111111,
             "#46039f"
            ],
            [
             0.2222222222222222,
             "#7201a8"
            ],
            [
             0.3333333333333333,
             "#9c179e"
            ],
            [
             0.4444444444444444,
             "#bd3786"
            ],
            [
             0.5555555555555556,
             "#d8576b"
            ],
            [
             0.6666666666666666,
             "#ed7953"
            ],
            [
             0.7777777777777778,
             "#fb9f3a"
            ],
            [
             0.8888888888888888,
             "#fdca26"
            ],
            [
             1,
             "#f0f921"
            ]
           ]
          },
          "colorway": [
           "#636efa",
           "#EF553B",
           "#00cc96",
           "#ab63fa",
           "#FFA15A",
           "#19d3f3",
           "#FF6692",
           "#B6E880",
           "#FF97FF",
           "#FECB52"
          ],
          "font": {
           "color": "#2a3f5f"
          },
          "geo": {
           "bgcolor": "white",
           "lakecolor": "white",
           "landcolor": "white",
           "showlakes": true,
           "showland": true,
           "subunitcolor": "#C8D4E3"
          },
          "hoverlabel": {
           "align": "left"
          },
          "hovermode": "closest",
          "mapbox": {
           "style": "light"
          },
          "paper_bgcolor": "white",
          "plot_bgcolor": "white",
          "polar": {
           "angularaxis": {
            "gridcolor": "#EBF0F8",
            "linecolor": "#EBF0F8",
            "ticks": ""
           },
           "bgcolor": "white",
           "radialaxis": {
            "gridcolor": "#EBF0F8",
            "linecolor": "#EBF0F8",
            "ticks": ""
           }
          },
          "scene": {
           "xaxis": {
            "backgroundcolor": "white",
            "gridcolor": "#DFE8F3",
            "gridwidth": 2,
            "linecolor": "#EBF0F8",
            "showbackground": true,
            "ticks": "",
            "zerolinecolor": "#EBF0F8"
           },
           "yaxis": {
            "backgroundcolor": "white",
            "gridcolor": "#DFE8F3",
            "gridwidth": 2,
            "linecolor": "#EBF0F8",
            "showbackground": true,
            "ticks": "",
            "zerolinecolor": "#EBF0F8"
           },
           "zaxis": {
            "backgroundcolor": "white",
            "gridcolor": "#DFE8F3",
            "gridwidth": 2,
            "linecolor": "#EBF0F8",
            "showbackground": true,
            "ticks": "",
            "zerolinecolor": "#EBF0F8"
           }
          },
          "shapedefaults": {
           "line": {
            "color": "#2a3f5f"
           }
          },
          "ternary": {
           "aaxis": {
            "gridcolor": "#DFE8F3",
            "linecolor": "#A2B1C6",
            "ticks": ""
           },
           "baxis": {
            "gridcolor": "#DFE8F3",
            "linecolor": "#A2B1C6",
            "ticks": ""
           },
           "bgcolor": "white",
           "caxis": {
            "gridcolor": "#DFE8F3",
            "linecolor": "#A2B1C6",
            "ticks": ""
           }
          },
          "title": {
           "x": 0.05
          },
          "xaxis": {
           "automargin": true,
           "gridcolor": "#EBF0F8",
           "linecolor": "#EBF0F8",
           "ticks": "",
           "title": {
            "standoff": 15
           },
           "zerolinecolor": "#EBF0F8",
           "zerolinewidth": 2
          },
          "yaxis": {
           "automargin": true,
           "gridcolor": "#EBF0F8",
           "linecolor": "#EBF0F8",
           "ticks": "",
           "title": {
            "standoff": 15
           },
           "zerolinecolor": "#EBF0F8",
           "zerolinewidth": 2
          }
         }
        },
        "title": {
         "text": "Change in metric under optimal UBI by flat tax rate"
        },
        "width": 1200,
        "xaxis": {
         "dtick": 1,
         "gridcolor": "rgb(0, 0, 0)",
         "side": "top",
         "tickmode": "array",
         "ticks": "",
         "ticktext": [
          "20%",
          "21%",
          "22%",
          "23%",
          "24%",
          "25%",
          "26%",
          "30%",
          "31%",
          "32%",
          "33%",
          "34%",
          "35%",
          "36%",
          "37%",
          "38%"
         ],
         "tickvals": [
          0.2,
          0.21,
          0.22,
          0.23,
          0.24,
          0.25,
          0.26,
          0.3,
          0.31,
          0.32,
          0.33,
          0.34,
          0.35,
          0.36,
          0.37,
          0.38
         ],
         "title": {
          "text": "Flat Tax Rate"
         }
        },
        "yaxis": {
         "dtick": 1,
         "tickmode": "array",
         "ticks": "",
         "ticksuffix": "  ",
         "ticktext": [
          "Labor supply",
          "Gini index",
          "Top 10% income share",
          "Top 1% income share",
          "Adult poverty rate",
          "Poverty rate",
          "Child poverty rate",
          "Senior poverty rate"
         ],
         "tickvals": [
          0,
          1,
          2,
          3,
          4,
          5,
          6,
          7
         ],
         "title": {
          "text": "Metric"
         }
        }
       }
      }
     },
     "metadata": {},
     "output_type": "display_data"
    }
   ],
   "source": [
    "import pandas as pd\n",
    "import plotly.express as px\n",
    "\n",
    "# Define a function to determine increase (1) or decrease (-1)\n",
    "def increase_or_decrease(value):\n",
    "    return 1 if value > 0 else -1\n",
    "        \n",
    "\n",
    "# Combine the percentage change data from poverty, deep poverty, and inequality\n",
    "# Assuming dfs['poverty'] and other DataFrames are already defined\n",
    "combined_change = dfs['poverty'][['flat_tax_rate']].copy()\n",
    "combined_change_categorical = combined_change.copy()\n",
    "\n",
    "# Assume you have other dataframes like gini_change, top_10_pct_share_change, etc.\n",
    "for dataframe in [labor_supply_change, gini_change, top_10_pct_share_change, top_1_pct_share_change, poverty_change, deep_poverty_change]:\n",
    "    dataframe.sort_values('flat_tax_rate', inplace=True)\n",
    "    for col in dataframe.columns:\n",
    "        if col != 'flat_tax_rate':\n",
    "            if col == \"labor_supply\":\n",
    "                combined_change_categorical[col] = dataframe[col].apply(lambda x: -1 if x > 0 else 1)\n",
    "            else:\n",
    "                combined_change_categorical[col] = dataframe[col].apply(increase_or_decrease)\n",
    "            combined_change[col] = dataframe[col]\n",
    "\n",
    "import pandas as pd\n",
    "import plotly.figure_factory as ff\n",
    "\n",
    "# Assume combined_change is a DataFrame with the given structure\n",
    "# Mapping the percentage change to colors\n",
    "combined_change_mapped = combined_change_categorical.copy()\n",
    "\n",
    "import pandas as pd\n",
    "import plotly.figure_factory as ff\n",
    "import numpy as np\n",
    "\n",
    "# Rest of your code where you define combined_change and combined_change_mapped...\n",
    "\n",
    "# Preparing the data for the heatmap\n",
    "heatmap_data = combined_change_mapped.set_index('flat_tax_rate').T\n",
    "\n",
    "# The x and y coordinates for the heatmap should be lists or arrays\n",
    "x_values = combined_change_mapped['flat_tax_rate'].tolist()\n",
    "y_values = heatmap_data.index.tolist()\n",
    "\n",
    "# The z values and annotations must be 2D arrays that match the length of x and y\n",
    "#heatmap_data = heatmap_data.replace({'Increase': \"+\", 'Decrease': \"-\"})\n",
    "z_values = heatmap_data.values.T  # Transposing to match the dimensions\n",
    "annotations = combined_change.set_index('flat_tax_rate').T.values.T  # This should be the same shape as z_values\n",
    "\n",
    "heatmap_annotations = pd.DataFrame(annotations, columns=y_values, index=x_values)\n",
    "heatmap_annotations = heatmap_annotations.apply(lambda x: x.apply(lambda y: f\"{y:+.0%}\"))\n",
    "# Assume combined_change is a DataFrame with the given structure\n",
    "# Mapping the percentage change to colors\n",
    "\n",
    "from policyengine_core.charts import *\n",
    "y_values = [\n",
    "    \"Labor supply\",\n",
    "    \"Gini index\",\n",
    "    \"Top 10% income share\",\n",
    "    \"Top 1% income share\",\n",
    "    \"Adult poverty rate\",\n",
    "    \"Poverty rate\",\n",
    "    \"Child poverty rate\",\n",
    "    \"Senior poverty rate\",\n",
    "]\n",
    "\n",
    "# Creating the heatmap using Figure Factory to properly display categorical data\n",
    "fig = ff.create_annotated_heatmap(\n",
    "    z=z_values.T,  # Transposing to match the dimensions\n",
    "    x=x_values,\n",
    "    y=y_values,\n",
    "    annotation_text=heatmap_annotations.values.T,\n",
    "    colorscale=[BLUE, DARK_GRAY],\n",
    "    showscale=False\n",
    ")\n",
    "\n",
    "# Update the layout to remove the color axis scale (legend)\n",
    "format_fig(fig).update_layout(\n",
    "    title='Change in metric under optimal UBI by flat tax rate',\n",
    "    xaxis=dict(title='Flat Tax Rate', side='top', tickmode='array', tickvals=x_values, ticktext=[f\"{x:.0%}\" for x in x_values]),\n",
    "    yaxis=dict(title='Metric', tickmode='array', tickvals=list(range(len(y_values))), ticktext=y_values),\n",
    "    margin=dict(l=150, t=150),  # Adjust margins to fit y-axis labels\n",
    "    height=600,\n",
    "    width=1200\n",
    ")\n",
    "\n",
    "# Show the figure\n",
    "fig.show()\n"
   ]
  },
  {
   "cell_type": "code",
   "execution_count": null,
   "metadata": {},
   "outputs": [],
   "source": [
    "combined_change.to_csv('combined_change.csv', index=False)"
   ]
  },
  {
   "cell_type": "code",
   "execution_count": null,
   "metadata": {},
   "outputs": [],
   "source": []
  }
 ],
 "metadata": {
  "kernelspec": {
   "display_name": "policyengine",
   "language": "python",
   "name": "python3"
  },
  "language_info": {
   "codemirror_mode": {
    "name": "ipython",
    "version": 3
   },
   "file_extension": ".py",
   "mimetype": "text/x-python",
   "name": "python",
   "nbconvert_exporter": "python",
   "pygments_lexer": "ipython3",
   "version": "3.9.12"
  }
 },
 "nbformat": 4,
 "nbformat_minor": 2
}
