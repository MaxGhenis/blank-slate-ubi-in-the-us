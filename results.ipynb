{
 "cells": [
  {
   "cell_type": "code",
   "execution_count": 4,
   "metadata": {},
   "outputs": [
    {
     "name": "stdout",
     "output_type": "stream",
     "text": [
      "    flat_tax_rate      loss  api_id  Labour supply responses       ubi_0_5  \\\n",
      "0            0.20  0.121484   42518  Labour supply responses   3784.780920   \n",
      "1            0.21  0.108601   42519  Labour supply responses   4202.951551   \n",
      "2            0.22  0.096196   42520  Labour supply responses   4102.708659   \n",
      "3            0.23  0.084663   42521  Labour supply responses   3761.955950   \n",
      "4            0.24  0.074044   42522  Labour supply responses   3976.256888   \n",
      "5            0.25  0.064599   42523  Labour supply responses   3835.308240   \n",
      "6            0.26  0.056402   42524  Labour supply responses   3334.781121   \n",
      "7            0.27  0.050775   42525  Labour supply responses   3017.174890   \n",
      "8            0.28  0.047745   42526  Labour supply responses   3372.771916   \n",
      "9            0.29  0.046852   42527  Labour supply responses   3796.969379   \n",
      "10           0.30  0.047145   42528  Labour supply responses   3985.542299   \n",
      "11           0.31  0.048338   42529  Labour supply responses   3950.065607   \n",
      "12           0.32  0.050234   42530  Labour supply responses   4374.495571   \n",
      "13           0.33  0.052522   42531  Labour supply responses   4041.156228   \n",
      "14           0.34  0.058122   42514  Labour supply responses   3642.066293   \n",
      "15           0.35  0.090033   42533  Labour supply responses   4396.994132   \n",
      "16           0.36  0.174908   42534  Labour supply responses   5354.582524   \n",
      "17           0.37  0.584819   42535  Labour supply responses  10856.418769   \n",
      "18           0.38  1.747918   42536  Labour supply responses   8118.698207   \n",
      "19           0.39  2.964470   42537  Labour supply responses   8173.895352   \n",
      "20           0.40  4.182510   42538  Labour supply responses   8383.482412   \n",
      "\n",
      "        ubi_6_17    ubi_18_64   ubi_65_plus  ubi_disability  \n",
      "0    2469.850857    55.448012  -4594.808211     4132.549330  \n",
      "1    2729.756522    78.674854  -2844.800661     4681.017198  \n",
      "2    2942.950187    31.333529   -601.188488     3882.863955  \n",
      "3    3323.040193   504.788503    -89.145343     4883.609959  \n",
      "4    3004.381882  1283.102321    114.278689     2195.015611  \n",
      "5    2663.629234  2112.443386    189.269611     1339.063041  \n",
      "6    2489.881812  2855.833195    450.280499     1200.819892  \n",
      "7    2727.395124  3207.328162   1481.514016      822.853055  \n",
      "8    2761.719304  3468.981097   2597.818678     2510.616505  \n",
      "9    2799.685276  3910.449886   3168.354941     3708.850944  \n",
      "10   2977.852916  4349.722713   3874.409112     1807.113578  \n",
      "11   3195.169395  4877.422752   4285.786333     1042.301295  \n",
      "12   3321.253419  5305.711421   4804.278852     1935.694657  \n",
      "13   3275.634388  5811.017189   5579.853349     1311.519434  \n",
      "14   3328.288293  6323.692814   6237.026406     1173.286412  \n",
      "15   4223.142651  6188.345048   7664.040512     2077.782494  \n",
      "16   3791.936729  6275.037847   9539.642638     1626.901792  \n",
      "17   7804.054594  3814.023085  13781.301255      455.394048  \n",
      "18  11088.063349  5685.170086   8343.808030     1404.184829  \n",
      "19  11552.597740  5073.518477  11791.313717     1696.996487  \n",
      "20  11848.818194  5203.608694  13115.217527     1740.509217  \n"
     ]
    }
   ],
   "source": [
    "import requests\n",
    "import pandas as pd\n",
    "\n",
    "def get_basic_income_amounts(policy_id):\n",
    "    # API endpoint URL\n",
    "    api_url = f\"https://api.policyengine.org/us/policy/{policy_id}\"\n",
    "\n",
    "    # Making a GET request to the API\n",
    "    response = requests.get(api_url)\n",
    "\n",
    "    if response.status_code == 200:\n",
    "        # Parsing the JSON response\n",
    "        policy_data = response.json()\n",
    "\n",
    "        # Extracting and renaming the basic income amounts\n",
    "        basic_income_amounts = {}\n",
    "        age_group_mapping = {\n",
    "            \"gov.contrib.ubi_center.basic_income.amount.person.by_age[0].amount\": \"ubi_0_5\",\n",
    "            \"gov.contrib.ubi_center.basic_income.amount.person.by_age[1].amount\": \"ubi_6_17\",\n",
    "            \"gov.contrib.ubi_center.basic_income.amount.person.by_age[2].amount\": \"ubi_18_64\",\n",
    "            \"gov.contrib.ubi_center.basic_income.amount.person.by_age[4].amount\": \"ubi_65_plus\",\n",
    "            \"gov.contrib.ubi_center.basic_income.amount.person.disability\": \"ubi_disability\"\n",
    "        }\n",
    "\n",
    "        for key, value in policy_data[\"result\"][\"policy_json\"].items():\n",
    "            if key in age_group_mapping:\n",
    "                # Assuming the amount is the first value in the dictionary\n",
    "                amount = next(iter(value.values()))\n",
    "                basic_income_amounts[age_group_mapping[key]] = amount\n",
    "        return basic_income_amounts\n",
    "    else:\n",
    "        return None\n",
    "\n",
    "# Read the CSV file into a DataFrame\n",
    "df = pd.read_csv('losses_by_rate.csv')\n",
    "\n",
    "# Fetch and add basic income amounts for each reform ID\n",
    "for i, row in df.iterrows():\n",
    "    reform_id = row['api_id']\n",
    "    amounts = get_basic_income_amounts(reform_id)\n",
    "    if amounts:\n",
    "        for column_name, amount in amounts.items():\n",
    "            df.loc[i, column_name] = amount\n",
    "\n",
    "print(df)\n"
   ]
  },
  {
   "cell_type": "code",
   "execution_count": 6,
   "metadata": {},
   "outputs": [
    {
     "data": {
      "application/vnd.plotly.v1+json": {
       "config": {
        "plotlyServerURL": "https://plot.ly"
       },
       "data": [
        {
         "hovertemplate": "UBI Category=ubi_0_5<br>Flat Tax Rate=%{x}<br>UBI Amount=%{y}<extra></extra>",
         "legendgroup": "ubi_0_5",
         "line": {
          "color": "#636efa",
          "dash": "solid"
         },
         "marker": {
          "symbol": "circle"
         },
         "mode": "lines",
         "name": "ubi_0_5",
         "orientation": "v",
         "showlegend": true,
         "type": "scatter",
         "x": [
          0.2,
          0.21,
          0.22,
          0.23,
          0.24,
          0.25,
          0.26,
          0.27,
          0.28,
          0.29,
          0.3,
          0.31,
          0.32,
          0.33,
          0.34,
          0.35,
          0.36,
          0.37,
          0.38,
          0.39,
          0.4
         ],
         "xaxis": "x",
         "y": [
          3784.7809196730736,
          4202.951551418633,
          4102.708659031841,
          3761.9559502889265,
          3976.256887706694,
          3835.308239557578,
          3334.7811205834755,
          3017.17489044163,
          3372.771915744653,
          3796.9693787325023,
          3985.54229872881,
          3950.065607227162,
          4374.495571021604,
          4041.156228230858,
          3642.066293032564,
          4396.994132378586,
          5354.582524402094,
          10856.41876913278,
          8118.69820686057,
          8173.895351960957,
          8383.482412267647
         ],
         "yaxis": "y"
        },
        {
         "hovertemplate": "UBI Category=ubi_6_17<br>Flat Tax Rate=%{x}<br>UBI Amount=%{y}<extra></extra>",
         "legendgroup": "ubi_6_17",
         "line": {
          "color": "#EF553B",
          "dash": "solid"
         },
         "marker": {
          "symbol": "circle"
         },
         "mode": "lines",
         "name": "ubi_6_17",
         "orientation": "v",
         "showlegend": true,
         "type": "scatter",
         "x": [
          0.2,
          0.21,
          0.22,
          0.23,
          0.24,
          0.25,
          0.26,
          0.27,
          0.28,
          0.29,
          0.3,
          0.31,
          0.32,
          0.33,
          0.34,
          0.35,
          0.36,
          0.37,
          0.38,
          0.39,
          0.4
         ],
         "xaxis": "x",
         "y": [
          2469.8508565011653,
          2729.756521518949,
          2942.9501871925486,
          3323.040193375299,
          3004.381882199919,
          2663.6292335199696,
          2489.881812243706,
          2727.3951238556965,
          2761.7193036524895,
          2799.685276288655,
          2977.8529163292437,
          3195.169394522912,
          3321.2534194284035,
          3275.6343879708747,
          3328.2882927112487,
          4223.142650807347,
          3791.936728707323,
          7804.0545938651185,
          11088.063349140037,
          11552.597739559002,
          11848.81819441949
         ],
         "yaxis": "y"
        },
        {
         "hovertemplate": "UBI Category=ubi_18_64<br>Flat Tax Rate=%{x}<br>UBI Amount=%{y}<extra></extra>",
         "legendgroup": "ubi_18_64",
         "line": {
          "color": "#00cc96",
          "dash": "solid"
         },
         "marker": {
          "symbol": "circle"
         },
         "mode": "lines",
         "name": "ubi_18_64",
         "orientation": "v",
         "showlegend": true,
         "type": "scatter",
         "x": [
          0.2,
          0.21,
          0.22,
          0.23,
          0.24,
          0.25,
          0.26,
          0.27,
          0.28,
          0.29,
          0.3,
          0.31,
          0.32,
          0.33,
          0.34,
          0.35,
          0.36,
          0.37,
          0.38,
          0.39,
          0.4
         ],
         "xaxis": "x",
         "y": [
          55.44801152273476,
          78.67485446568753,
          31.333528544279943,
          504.7885033395246,
          1283.1023208318488,
          2112.4433858249763,
          2855.8331950393017,
          3207.328161630438,
          3468.9810969888154,
          3910.449886241184,
          4349.722712609177,
          4877.422751775171,
          5305.711421426218,
          5811.0171889315825,
          6323.692814224545,
          6188.34504841663,
          6275.037847173706,
          3814.0230852221466,
          5685.170085814556,
          5073.518476740643,
          5203.608694092967
         ],
         "yaxis": "y"
        },
        {
         "hovertemplate": "UBI Category=ubi_65_plus<br>Flat Tax Rate=%{x}<br>UBI Amount=%{y}<extra></extra>",
         "legendgroup": "ubi_65_plus",
         "line": {
          "color": "#ab63fa",
          "dash": "solid"
         },
         "marker": {
          "symbol": "circle"
         },
         "mode": "lines",
         "name": "ubi_65_plus",
         "orientation": "v",
         "showlegend": true,
         "type": "scatter",
         "x": [
          0.2,
          0.21,
          0.22,
          0.23,
          0.24,
          0.25,
          0.26,
          0.27,
          0.28,
          0.29,
          0.3,
          0.31,
          0.32,
          0.33,
          0.34,
          0.35,
          0.36,
          0.37,
          0.38,
          0.39,
          0.4
         ],
         "xaxis": "x",
         "y": [
          -4594.808210865196,
          -2844.8006605385726,
          -601.1884878730233,
          -89.14534347151107,
          114.2786885976003,
          189.26961056179272,
          450.2804988887228,
          1481.5140163820638,
          2597.8186775285126,
          3168.3549413694177,
          3874.4091124635615,
          4285.786333450836,
          4804.278852166889,
          5579.853349178298,
          6237.02640626231,
          7664.040512380264,
          9539.642638080208,
          13781.301255436854,
          8343.808029968357,
          11791.313716700452,
          13115.217526962622
         ],
         "yaxis": "y"
        },
        {
         "hovertemplate": "UBI Category=ubi_disability<br>Flat Tax Rate=%{x}<br>UBI Amount=%{y}<extra></extra>",
         "legendgroup": "ubi_disability",
         "line": {
          "color": "#FFA15A",
          "dash": "solid"
         },
         "marker": {
          "symbol": "circle"
         },
         "mode": "lines",
         "name": "ubi_disability",
         "orientation": "v",
         "showlegend": true,
         "type": "scatter",
         "x": [
          0.2,
          0.21,
          0.22,
          0.23,
          0.24,
          0.25,
          0.26,
          0.27,
          0.28,
          0.29,
          0.3,
          0.31,
          0.32,
          0.33,
          0.34,
          0.35,
          0.36,
          0.37,
          0.38,
          0.39,
          0.4
         ],
         "xaxis": "x",
         "y": [
          4132.549329566075,
          4681.017197947607,
          3882.863954781021,
          4883.609958964265,
          2195.01561063831,
          1339.0630407321146,
          1200.8198924239568,
          822.8530546255588,
          2510.616505034624,
          3708.850944268748,
          1807.1135784171704,
          1042.3012947703824,
          1935.694656828227,
          1311.519434459407,
          1173.2864119988822,
          2077.782493778978,
          1626.901792187532,
          455.3940475804502,
          1404.184829403693,
          1696.9964868258085,
          1740.5092172572397
         ],
         "yaxis": "y"
        }
       ],
       "layout": {
        "legend": {
         "title": {
          "text": "UBI Category"
         },
         "tracegroupgap": 0
        },
        "template": {
         "data": {
          "bar": [
           {
            "error_x": {
             "color": "#2a3f5f"
            },
            "error_y": {
             "color": "#2a3f5f"
            },
            "marker": {
             "line": {
              "color": "#E5ECF6",
              "width": 0.5
             },
             "pattern": {
              "fillmode": "overlay",
              "size": 10,
              "solidity": 0.2
             }
            },
            "type": "bar"
           }
          ],
          "barpolar": [
           {
            "marker": {
             "line": {
              "color": "#E5ECF6",
              "width": 0.5
             },
             "pattern": {
              "fillmode": "overlay",
              "size": 10,
              "solidity": 0.2
             }
            },
            "type": "barpolar"
           }
          ],
          "carpet": [
           {
            "aaxis": {
             "endlinecolor": "#2a3f5f",
             "gridcolor": "white",
             "linecolor": "white",
             "minorgridcolor": "white",
             "startlinecolor": "#2a3f5f"
            },
            "baxis": {
             "endlinecolor": "#2a3f5f",
             "gridcolor": "white",
             "linecolor": "white",
             "minorgridcolor": "white",
             "startlinecolor": "#2a3f5f"
            },
            "type": "carpet"
           }
          ],
          "choropleth": [
           {
            "colorbar": {
             "outlinewidth": 0,
             "ticks": ""
            },
            "type": "choropleth"
           }
          ],
          "contour": [
           {
            "colorbar": {
             "outlinewidth": 0,
             "ticks": ""
            },
            "colorscale": [
             [
              0,
              "#0d0887"
             ],
             [
              0.1111111111111111,
              "#46039f"
             ],
             [
              0.2222222222222222,
              "#7201a8"
             ],
             [
              0.3333333333333333,
              "#9c179e"
             ],
             [
              0.4444444444444444,
              "#bd3786"
             ],
             [
              0.5555555555555556,
              "#d8576b"
             ],
             [
              0.6666666666666666,
              "#ed7953"
             ],
             [
              0.7777777777777778,
              "#fb9f3a"
             ],
             [
              0.8888888888888888,
              "#fdca26"
             ],
             [
              1,
              "#f0f921"
             ]
            ],
            "type": "contour"
           }
          ],
          "contourcarpet": [
           {
            "colorbar": {
             "outlinewidth": 0,
             "ticks": ""
            },
            "type": "contourcarpet"
           }
          ],
          "heatmap": [
           {
            "colorbar": {
             "outlinewidth": 0,
             "ticks": ""
            },
            "colorscale": [
             [
              0,
              "#0d0887"
             ],
             [
              0.1111111111111111,
              "#46039f"
             ],
             [
              0.2222222222222222,
              "#7201a8"
             ],
             [
              0.3333333333333333,
              "#9c179e"
             ],
             [
              0.4444444444444444,
              "#bd3786"
             ],
             [
              0.5555555555555556,
              "#d8576b"
             ],
             [
              0.6666666666666666,
              "#ed7953"
             ],
             [
              0.7777777777777778,
              "#fb9f3a"
             ],
             [
              0.8888888888888888,
              "#fdca26"
             ],
             [
              1,
              "#f0f921"
             ]
            ],
            "type": "heatmap"
           }
          ],
          "heatmapgl": [
           {
            "colorbar": {
             "outlinewidth": 0,
             "ticks": ""
            },
            "colorscale": [
             [
              0,
              "#0d0887"
             ],
             [
              0.1111111111111111,
              "#46039f"
             ],
             [
              0.2222222222222222,
              "#7201a8"
             ],
             [
              0.3333333333333333,
              "#9c179e"
             ],
             [
              0.4444444444444444,
              "#bd3786"
             ],
             [
              0.5555555555555556,
              "#d8576b"
             ],
             [
              0.6666666666666666,
              "#ed7953"
             ],
             [
              0.7777777777777778,
              "#fb9f3a"
             ],
             [
              0.8888888888888888,
              "#fdca26"
             ],
             [
              1,
              "#f0f921"
             ]
            ],
            "type": "heatmapgl"
           }
          ],
          "histogram": [
           {
            "marker": {
             "pattern": {
              "fillmode": "overlay",
              "size": 10,
              "solidity": 0.2
             }
            },
            "type": "histogram"
           }
          ],
          "histogram2d": [
           {
            "colorbar": {
             "outlinewidth": 0,
             "ticks": ""
            },
            "colorscale": [
             [
              0,
              "#0d0887"
             ],
             [
              0.1111111111111111,
              "#46039f"
             ],
             [
              0.2222222222222222,
              "#7201a8"
             ],
             [
              0.3333333333333333,
              "#9c179e"
             ],
             [
              0.4444444444444444,
              "#bd3786"
             ],
             [
              0.5555555555555556,
              "#d8576b"
             ],
             [
              0.6666666666666666,
              "#ed7953"
             ],
             [
              0.7777777777777778,
              "#fb9f3a"
             ],
             [
              0.8888888888888888,
              "#fdca26"
             ],
             [
              1,
              "#f0f921"
             ]
            ],
            "type": "histogram2d"
           }
          ],
          "histogram2dcontour": [
           {
            "colorbar": {
             "outlinewidth": 0,
             "ticks": ""
            },
            "colorscale": [
             [
              0,
              "#0d0887"
             ],
             [
              0.1111111111111111,
              "#46039f"
             ],
             [
              0.2222222222222222,
              "#7201a8"
             ],
             [
              0.3333333333333333,
              "#9c179e"
             ],
             [
              0.4444444444444444,
              "#bd3786"
             ],
             [
              0.5555555555555556,
              "#d8576b"
             ],
             [
              0.6666666666666666,
              "#ed7953"
             ],
             [
              0.7777777777777778,
              "#fb9f3a"
             ],
             [
              0.8888888888888888,
              "#fdca26"
             ],
             [
              1,
              "#f0f921"
             ]
            ],
            "type": "histogram2dcontour"
           }
          ],
          "mesh3d": [
           {
            "colorbar": {
             "outlinewidth": 0,
             "ticks": ""
            },
            "type": "mesh3d"
           }
          ],
          "parcoords": [
           {
            "line": {
             "colorbar": {
              "outlinewidth": 0,
              "ticks": ""
             }
            },
            "type": "parcoords"
           }
          ],
          "pie": [
           {
            "automargin": true,
            "type": "pie"
           }
          ],
          "scatter": [
           {
            "fillpattern": {
             "fillmode": "overlay",
             "size": 10,
             "solidity": 0.2
            },
            "type": "scatter"
           }
          ],
          "scatter3d": [
           {
            "line": {
             "colorbar": {
              "outlinewidth": 0,
              "ticks": ""
             }
            },
            "marker": {
             "colorbar": {
              "outlinewidth": 0,
              "ticks": ""
             }
            },
            "type": "scatter3d"
           }
          ],
          "scattercarpet": [
           {
            "marker": {
             "colorbar": {
              "outlinewidth": 0,
              "ticks": ""
             }
            },
            "type": "scattercarpet"
           }
          ],
          "scattergeo": [
           {
            "marker": {
             "colorbar": {
              "outlinewidth": 0,
              "ticks": ""
             }
            },
            "type": "scattergeo"
           }
          ],
          "scattergl": [
           {
            "marker": {
             "colorbar": {
              "outlinewidth": 0,
              "ticks": ""
             }
            },
            "type": "scattergl"
           }
          ],
          "scattermapbox": [
           {
            "marker": {
             "colorbar": {
              "outlinewidth": 0,
              "ticks": ""
             }
            },
            "type": "scattermapbox"
           }
          ],
          "scatterpolar": [
           {
            "marker": {
             "colorbar": {
              "outlinewidth": 0,
              "ticks": ""
             }
            },
            "type": "scatterpolar"
           }
          ],
          "scatterpolargl": [
           {
            "marker": {
             "colorbar": {
              "outlinewidth": 0,
              "ticks": ""
             }
            },
            "type": "scatterpolargl"
           }
          ],
          "scatterternary": [
           {
            "marker": {
             "colorbar": {
              "outlinewidth": 0,
              "ticks": ""
             }
            },
            "type": "scatterternary"
           }
          ],
          "surface": [
           {
            "colorbar": {
             "outlinewidth": 0,
             "ticks": ""
            },
            "colorscale": [
             [
              0,
              "#0d0887"
             ],
             [
              0.1111111111111111,
              "#46039f"
             ],
             [
              0.2222222222222222,
              "#7201a8"
             ],
             [
              0.3333333333333333,
              "#9c179e"
             ],
             [
              0.4444444444444444,
              "#bd3786"
             ],
             [
              0.5555555555555556,
              "#d8576b"
             ],
             [
              0.6666666666666666,
              "#ed7953"
             ],
             [
              0.7777777777777778,
              "#fb9f3a"
             ],
             [
              0.8888888888888888,
              "#fdca26"
             ],
             [
              1,
              "#f0f921"
             ]
            ],
            "type": "surface"
           }
          ],
          "table": [
           {
            "cells": {
             "fill": {
              "color": "#EBF0F8"
             },
             "line": {
              "color": "white"
             }
            },
            "header": {
             "fill": {
              "color": "#C8D4E3"
             },
             "line": {
              "color": "white"
             }
            },
            "type": "table"
           }
          ]
         },
         "layout": {
          "annotationdefaults": {
           "arrowcolor": "#2a3f5f",
           "arrowhead": 0,
           "arrowwidth": 1
          },
          "autotypenumbers": "strict",
          "coloraxis": {
           "colorbar": {
            "outlinewidth": 0,
            "ticks": ""
           }
          },
          "colorscale": {
           "diverging": [
            [
             0,
             "#8e0152"
            ],
            [
             0.1,
             "#c51b7d"
            ],
            [
             0.2,
             "#de77ae"
            ],
            [
             0.3,
             "#f1b6da"
            ],
            [
             0.4,
             "#fde0ef"
            ],
            [
             0.5,
             "#f7f7f7"
            ],
            [
             0.6,
             "#e6f5d0"
            ],
            [
             0.7,
             "#b8e186"
            ],
            [
             0.8,
             "#7fbc41"
            ],
            [
             0.9,
             "#4d9221"
            ],
            [
             1,
             "#276419"
            ]
           ],
           "sequential": [
            [
             0,
             "#0d0887"
            ],
            [
             0.1111111111111111,
             "#46039f"
            ],
            [
             0.2222222222222222,
             "#7201a8"
            ],
            [
             0.3333333333333333,
             "#9c179e"
            ],
            [
             0.4444444444444444,
             "#bd3786"
            ],
            [
             0.5555555555555556,
             "#d8576b"
            ],
            [
             0.6666666666666666,
             "#ed7953"
            ],
            [
             0.7777777777777778,
             "#fb9f3a"
            ],
            [
             0.8888888888888888,
             "#fdca26"
            ],
            [
             1,
             "#f0f921"
            ]
           ],
           "sequentialminus": [
            [
             0,
             "#0d0887"
            ],
            [
             0.1111111111111111,
             "#46039f"
            ],
            [
             0.2222222222222222,
             "#7201a8"
            ],
            [
             0.3333333333333333,
             "#9c179e"
            ],
            [
             0.4444444444444444,
             "#bd3786"
            ],
            [
             0.5555555555555556,
             "#d8576b"
            ],
            [
             0.6666666666666666,
             "#ed7953"
            ],
            [
             0.7777777777777778,
             "#fb9f3a"
            ],
            [
             0.8888888888888888,
             "#fdca26"
            ],
            [
             1,
             "#f0f921"
            ]
           ]
          },
          "colorway": [
           "#636efa",
           "#EF553B",
           "#00cc96",
           "#ab63fa",
           "#FFA15A",
           "#19d3f3",
           "#FF6692",
           "#B6E880",
           "#FF97FF",
           "#FECB52"
          ],
          "font": {
           "color": "#2a3f5f"
          },
          "geo": {
           "bgcolor": "white",
           "lakecolor": "white",
           "landcolor": "#E5ECF6",
           "showlakes": true,
           "showland": true,
           "subunitcolor": "white"
          },
          "hoverlabel": {
           "align": "left"
          },
          "hovermode": "closest",
          "mapbox": {
           "style": "light"
          },
          "paper_bgcolor": "white",
          "plot_bgcolor": "#E5ECF6",
          "polar": {
           "angularaxis": {
            "gridcolor": "white",
            "linecolor": "white",
            "ticks": ""
           },
           "bgcolor": "#E5ECF6",
           "radialaxis": {
            "gridcolor": "white",
            "linecolor": "white",
            "ticks": ""
           }
          },
          "scene": {
           "xaxis": {
            "backgroundcolor": "#E5ECF6",
            "gridcolor": "white",
            "gridwidth": 2,
            "linecolor": "white",
            "showbackground": true,
            "ticks": "",
            "zerolinecolor": "white"
           },
           "yaxis": {
            "backgroundcolor": "#E5ECF6",
            "gridcolor": "white",
            "gridwidth": 2,
            "linecolor": "white",
            "showbackground": true,
            "ticks": "",
            "zerolinecolor": "white"
           },
           "zaxis": {
            "backgroundcolor": "#E5ECF6",
            "gridcolor": "white",
            "gridwidth": 2,
            "linecolor": "white",
            "showbackground": true,
            "ticks": "",
            "zerolinecolor": "white"
           }
          },
          "shapedefaults": {
           "line": {
            "color": "#2a3f5f"
           }
          },
          "ternary": {
           "aaxis": {
            "gridcolor": "white",
            "linecolor": "white",
            "ticks": ""
           },
           "baxis": {
            "gridcolor": "white",
            "linecolor": "white",
            "ticks": ""
           },
           "bgcolor": "#E5ECF6",
           "caxis": {
            "gridcolor": "white",
            "linecolor": "white",
            "ticks": ""
           }
          },
          "title": {
           "x": 0.05
          },
          "xaxis": {
           "automargin": true,
           "gridcolor": "white",
           "linecolor": "white",
           "ticks": "",
           "title": {
            "standoff": 15
           },
           "zerolinecolor": "white",
           "zerolinewidth": 2
          },
          "yaxis": {
           "automargin": true,
           "gridcolor": "white",
           "linecolor": "white",
           "ticks": "",
           "title": {
            "standoff": 15
           },
           "zerolinecolor": "white",
           "zerolinewidth": 2
          }
         }
        },
        "title": {
         "text": "UBI Amounts by Flat Tax Rate"
        },
        "xaxis": {
         "anchor": "y",
         "domain": [
          0,
          1
         ],
         "title": {
          "text": "Flat Tax Rate"
         }
        },
        "yaxis": {
         "anchor": "x",
         "domain": [
          0,
          1
         ],
         "title": {
          "text": "UBI Amount"
         }
        }
       }
      }
     },
     "metadata": {},
     "output_type": "display_data"
    }
   ],
   "source": [
    "import plotly.express as px\n",
    "\n",
    "# Melt the DataFrame to make it suitable for Plotly\n",
    "melted_df = df.melt(id_vars=['flat_tax_rate'], \n",
    "                    value_vars=['ubi_0_5', 'ubi_6_17', 'ubi_18_64', 'ubi_65_plus', 'ubi_disability'],\n",
    "                    var_name='UBI Category', value_name='Amount')\n",
    "\n",
    "# Create the plot\n",
    "fig = px.line(melted_df, x='flat_tax_rate', y='Amount', color='UBI Category',\n",
    "              labels={'flat_tax_rate': 'Flat Tax Rate', 'Amount': 'UBI Amount'},\n",
    "              title='UBI Amounts by Flat Tax Rate')\n",
    "\n",
    "# Show the plot\n",
    "fig.show()"
   ]
  },
  {
   "cell_type": "code",
   "execution_count": null,
   "metadata": {},
   "outputs": [],
   "source": []
  }
 ],
 "metadata": {
  "kernelspec": {
   "display_name": "policyengine",
   "language": "python",
   "name": "python3"
  },
  "language_info": {
   "codemirror_mode": {
    "name": "ipython",
    "version": 3
   },
   "file_extension": ".py",
   "mimetype": "text/x-python",
   "name": "python",
   "nbconvert_exporter": "python",
   "pygments_lexer": "ipython3",
   "version": "3.9.16"
  }
 },
 "nbformat": 4,
 "nbformat_minor": 2
}
