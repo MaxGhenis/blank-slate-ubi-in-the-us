{
 "cells": [
  {
   "cell_type": "code",
   "execution_count": 8,
   "metadata": {},
   "outputs": [],
   "source": [
    "import pandas as pd\n",
    "\n",
    "df = pd.read_csv(\"loss_by_rate.csv\")"
   ]
  },
  {
   "cell_type": "code",
   "execution_count": 11,
   "metadata": {},
   "outputs": [],
   "source": [
    "# First, round UBI amounts to the nearest $10 per month\n",
    "from policyengine_core.reforms import Reform\n",
    "import requests\n",
    "\n",
    "parameter_values = Reform.from_api(42764, \"us\").parameter_values\n",
    "\n",
    "\n",
    "def get_reform_api_id_with_rounded_values(api_id):\n",
    "    parameter_values = Reform.from_api(api_id, \"us\").parameter_values\n",
    "    for parameter_name in [\n",
    "        \"gov.contrib.ubi_center.basic_income.amount.person.by_age[0].amount\",\n",
    "        \"gov.contrib.ubi_center.basic_income.amount.person.by_age[1].amount\",\n",
    "        \"gov.contrib.ubi_center.basic_income.amount.person.by_age[2].amount\",\n",
    "        \"gov.contrib.ubi_center.basic_income.amount.person.by_age[3].amount\",\n",
    "        \"gov.contrib.ubi_center.basic_income.amount.person.by_age[4].amount\",\n",
    "        \"gov.contrib.ubi_center.basic_income.amount.person.disability\",\n",
    "    ]:\n",
    "        for time_period in parameter_values[parameter_name]:\n",
    "            parameter_values[parameter_name][time_period] = round(\n",
    "                parameter_values[parameter_name][time_period] / 10\n",
    "            ) * 10\n",
    "\n",
    "    new_reform = Reform.from_dict(parameter_values, \"us\")\n",
    "    return new_reform.api_id\n",
    "\n",
    "df[\"rounded_ubi_api_id\"] = df[\"api_id\"].apply(\n",
    "    get_reform_api_id_with_rounded_values\n",
    ")"
   ]
  },
  {
   "cell_type": "code",
   "execution_count": 12,
   "metadata": {},
   "outputs": [],
   "source": [
    "df.to_csv(\"loss_by_rate.csv\", index=False)"
   ]
  }
 ],
 "metadata": {
  "kernelspec": {
   "display_name": "base",
   "language": "python",
   "name": "python3"
  },
  "language_info": {
   "codemirror_mode": {
    "name": "ipython",
    "version": 3
   },
   "file_extension": ".py",
   "mimetype": "text/x-python",
   "name": "python",
   "nbconvert_exporter": "python",
   "pygments_lexer": "ipython3",
   "version": "3.9.12"
  }
 },
 "nbformat": 4,
 "nbformat_minor": 2
}
