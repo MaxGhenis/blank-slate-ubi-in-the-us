{
 "cells": [
  {
   "cell_type": "code",
   "execution_count": 3,
   "metadata": {},
   "outputs": [],
   "source": [
    "from policyengine_us import Microsimulation\n",
    "from policyengine_core.reforms import Reform\n",
    "from policyengine_core.periods import instant\n",
    "import pandas as pd\n",
    "\n",
    "def modify_parameters(parameters):\n",
    "    parameters.gov.contrib.ubi_center.basic_income.amount.person.by_age[0].amount.update(start=instant(\"2023-01-01\"), stop=instant(\"2032-12-31\"), value=1)\n",
    "    parameters.gov.contrib.ubi_center.basic_income.amount.person.by_age[1].amount.update(start=instant(\"2023-01-01\"), stop=instant(\"2032-12-31\"), value=2)\n",
    "    parameters.gov.contrib.ubi_center.basic_income.amount.person.by_age[2].amount.update(start=instant(\"2023-01-01\"), stop=instant(\"2032-12-31\"), value=3)\n",
    "    parameters.gov.contrib.ubi_center.basic_income.amount.person.by_age[3].amount.update(start=instant(\"2023-01-01\"), stop=instant(\"2032-12-31\"), value=4)\n",
    "    parameters.gov.contrib.ubi_center.basic_income.amount.person.by_age[4].amount.update(start=instant(\"2023-01-01\"), stop=instant(\"2032-12-31\"), value=5)\n",
    "    parameters.gov.contrib.ubi_center.flat_tax.abolish_federal_income_tax.update(start=instant(\"2023-01-01\"), stop=instant(\"2032-12-31\"), value=True)\n",
    "    parameters.gov.contrib.ubi_center.flat_tax.abolish_payroll_tax.update(start=instant(\"2023-01-01\"), stop=instant(\"2032-12-31\"), value=True)\n",
    "    parameters.gov.contrib.ubi_center.flat_tax.abolish_self_emp_tax.update(start=instant(\"2023-01-01\"), stop=instant(\"2032-12-31\"), value=True)\n",
    "    parameters.gov.contrib.ubi_center.flat_tax.deduct_ptc.update(start=instant(\"2023-01-01\"), stop=instant(\"2032-12-31\"), value=True)\n",
    "    parameters.gov.contrib.ubi_center.flat_tax.rate.update(start=instant(\"2023-01-01\"), stop=instant(\"2032-12-31\"), value=0.29)\n",
    "    parameters.gov.ssa.ssi.abolish_ssi.update(start=instant(\"2023-01-01\"), stop=instant(\"2032-12-31\"), value=True)\n",
    "    parameters.gov.usda.snap.abolish_snap.update(start=instant(\"2023-01-01\"), stop=instant(\"2032-12-31\"), value=True)\n",
    "    parameters.gov.usda.snap.emergency_allotment.allowed.update(start=instant(\"2023-01-01\"), stop=instant(\"2032-12-31\"), value=False)\n",
    "    parameters.gov.usda.wic.abolish_wic.update(start=instant(\"2023-01-01\"), stop=instant(\"2032-12-31\"), value=True)\n",
    "    parameters.simulation.reported_state_income_tax.update(start=instant(\"2023-01-01\"), stop=instant(\"2032-12-31\"), value=True)\n",
    "    return parameters\n",
    "\n",
    "class bs_reform(Reform):\n",
    "    def apply(self):\n",
    "        self.modify_parameters(modify_parameters)\n",
    "\n",
    "\n",
    "def baseline_modify_parameters(parameters):\n",
    "    parameters.simulation.reported_state_income_tax.update(start=instant(\"2023-01-01\"), stop=instant(\"2032-12-31\"), value=True)\n",
    "    return parameters\n",
    "\n",
    "class baseline_reform(Reform):\n",
    "    def apply(self):\n",
    "        self.modify_parameters(baseline_modify_parameters)\n",
    "\n",
    "\n",
    "#baseline = Microsimulation(reform=baseline_reform, dataset=\"enhanced_cps_2023\")\n",
    "reformed = Microsimulation(reform=bs_reform, dataset=\"enhanced_cps_2023\")"
   ]
  },
  {
   "cell_type": "code",
   "execution_count": 30,
   "metadata": {},
   "outputs": [
    {
     "data": {
      "text/plain": [
       "35.37348741684565"
      ]
     },
     "execution_count": 30,
     "metadata": {},
     "output_type": "execute_result"
    }
   ],
   "source": [
    "sim = Microsimulation(dataset=\"enhanced_cps_2023\")\n",
    "sim.trace = True\n",
    "sim.calculate(\"is_ssi_disabled\", 2023).sum()/1e6\n",
    "#sim.tracer.print_computation_log()"
   ]
  },
  {
   "cell_type": "code",
   "execution_count": 4,
   "metadata": {},
   "outputs": [
    {
     "name": "stdout",
     "output_type": "stream",
     "text": [
      "Young children: 22.1m\n",
      "Older children: 54.5m\n",
      "Adults: 194.2m\n",
      "Seniors: 64.0m\n",
      "SSI disabled: 3.7m\n"
     ]
    }
   ],
   "source": [
    "age = reformed.calculate(\"age\", 2024)\n",
    "disabled = reformed.calculate(\"is_ssi_disabled\", 2024)\n",
    "\n",
    "print(f\"Young children: {(age < 6).sum()/1e6:.1f}m\")\n",
    "print(f\"Older children: {((age >= 6) * (age < 18)).sum()/1e6:.1f}m\")\n",
    "print(f\"Adults: {((age >= 18) * (age < 65)).sum()/1e6:.1f}m\")\n",
    "print(f\"Seniors: {(age >= 65).sum()/1e6:.1f}m\")\n",
    "print(f\"SSI disabled: {(disabled).sum()/1e6:.1f}m\")"
   ]
  },
  {
   "cell_type": "code",
   "execution_count": 9,
   "metadata": {},
   "outputs": [
    {
     "name": "stderr",
     "output_type": "stream",
     "text": [
      "Downloaded ASEC: 100%|██████████| 150M/150M [00:40<00:00, 3.68MiB/s]    \n"
     ]
    }
   ],
   "source": [
    "from policyengine_us.data import RawCPS_2022\n",
    "\n",
    "cps = RawCPS_2022().load()"
   ]
  },
  {
   "cell_type": "code",
   "execution_count": 13,
   "metadata": {},
   "outputs": [],
   "source": [
    "DISABILITY_FLAGS = [\n",
    "        \"PEDIS\" + i for i in [\"DRS\", \"EAR\", \"EYE\", \"OUT\", \"PHY\", \"REM\"]\n",
    "    ]\n",
    "\n",
    "person = cps[\"person\"]"
   ]
  },
  {
   "cell_type": "code",
   "execution_count": 17,
   "metadata": {},
   "outputs": [
    {
     "data": {
      "text/plain": [
       "33.28557379"
      ]
     },
     "execution_count": 17,
     "metadata": {},
     "output_type": "execute_result"
    }
   ],
   "source": [
    "(person[\"A_FNLWGT\"] * (person[DISABILITY_FLAGS] == 1).any(axis=1)).sum()/1e6/100"
   ]
  },
  {
   "cell_type": "code",
   "execution_count": 18,
   "metadata": {},
   "outputs": [],
   "source": [
    "from policyengine_us.data import CPS_2023, EnhancedCPS_2023\n",
    "\n",
    "is_ssi_disabled = EnhancedCPS_2023().load(\"is_ssi_disabled\")"
   ]
  },
  {
   "cell_type": "code",
   "execution_count": 20,
   "metadata": {},
   "outputs": [],
   "source": [
    "weight = reformed.calculate(\"person_weight\", 2024)"
   ]
  },
  {
   "cell_type": "code",
   "execution_count": 23,
   "metadata": {},
   "outputs": [
    {
     "data": {
      "text/plain": [
       "35.373484"
      ]
     },
     "execution_count": 23,
     "metadata": {},
     "output_type": "execute_result"
    }
   ],
   "source": [
    "(weight.values * is_ssi_disabled).sum() / 1e6"
   ]
  },
  {
   "cell_type": "code",
   "execution_count": 25,
   "metadata": {},
   "outputs": [
    {
     "data": {
      "text/plain": [
       "3.7319723368099926"
      ]
     },
     "execution_count": 25,
     "metadata": {},
     "output_type": "execute_result"
    }
   ],
   "source": [
    "reformed.calculate(\"is_ssi_disabled\", 2024).sum()/1e6"
   ]
  },
  {
   "cell_type": "code",
   "execution_count": 20,
   "metadata": {},
   "outputs": [],
   "source": [
    "enhanced_cps = EnhancedCPS_2023().load_dataset()"
   ]
  },
  {
   "cell_type": "code",
   "execution_count": 23,
   "metadata": {},
   "outputs": [
    {
     "data": {
      "text/plain": [
       "{'age': array([66, 68, 52, ..., 59, 60, 18]),\n",
       " 'alimony_income': array([0, 0, 0, ..., 0, 0, 0]),\n",
       " 'child_support_expense': array([0, 0, 0, ..., 0, 0, 0]),\n",
       " 'child_support_received': array([0, 0, 0, ..., 0, 0, 0]),\n",
       " 'childcare_expenses': array([0, 0, 0, ..., 0, 0, 0]),\n",
       " 'county_fips': array([0, 0, 0, ..., 3, 3, 3]),\n",
       " 'cps_race': array([ 1,  1,  1, ..., 15,  4, 15]),\n",
       " 'disability_benefits': array([0, 0, 0, ..., 0, 0, 0]),\n",
       " 'employment_income': array([      0.        ,       0.        ,       0.        , ...,\n",
       "        2470576.25738139, 5839543.88108328,  513879.86153533]),\n",
       " 'family_id': array([3.10000000e+01, 4.10000000e+01, 1.51000000e+02, ...,\n",
       "        1.00889761e+08, 1.00889771e+08, 1.00889781e+08]),\n",
       " 'farm_income': array([0., 0., 0., ..., 0., 0., 0.]),\n",
       " 'farm_rent_income': array([0., 0., 0., ..., 0., 0., 0.]),\n",
       " 'free_school_meals_reported': array([  0,   0,   0, ..., 952, 952, 476]),\n",
       " 'has_marketplace_health_coverage': array([False, False, False, ..., False, False, False]),\n",
       " 'health_insurance_premiums': array([   0,    0,    0, ...,    0,    0, 2500]),\n",
       " 'household_id': array([3.00000000e+00, 4.00000000e+00, 1.50000000e+01, ...,\n",
       "        1.00088976e+08, 1.00088977e+08, 1.00088978e+08]),\n",
       " 'household_weight': array([1554.0981, 2515.1477, 1263.6656, ...,    0.    ,    0.    ,\n",
       "           0.    ], dtype=float32),\n",
       " 'in_nyc': array([False, False, False, ..., False, False, False]),\n",
       " 'is_blind': array([False, False, False, ..., False, False, False]),\n",
       " 'is_female': array([ True,  True,  True, ..., False,  True, False]),\n",
       " 'is_hispanic': array([False, False, False, ..., False, False, False]),\n",
       " 'long_term_capital_gains': array([0., 0., 0., ..., 0., 0., 0.]),\n",
       " 'marital_unit_id': array([3.00000000e+00, 4.00000000e+00, 5.00000000e+00, ...,\n",
       "        1.00116813e+08, 1.00116814e+08, 1.00116815e+08]),\n",
       " 'medical_out_of_pocket_expenses': array([   0,    0,    0, ..., 1100, 1250, 4600]),\n",
       " 'non_qualified_dividend_income': array([      0.,       0.,       0., ...,       0., 3095800.,       0.]),\n",
       " 'own_children_in_household': array([0., 0., 0., ..., 1., 1., 0.]),\n",
       " 'partnership_s_corp_income': array([     0.,      0.,      0., ...,     -0., -97500.,     -0.]),\n",
       " 'pension_contributions': array([   0,    0,    0, ...,    1, 1500,    0]),\n",
       " 'person_family_id': array([3.10000000e+01, 3.10000000e+01, 4.10000000e+01, ...,\n",
       "        1.00889781e+08, 1.00889781e+08, 1.00889781e+08]),\n",
       " 'person_household_id': array([3.00000000e+00, 3.00000000e+00, 4.00000000e+00, ...,\n",
       "        1.00088978e+08, 1.00088978e+08, 1.00088978e+08]),\n",
       " 'person_id': array([3.01000000e+02, 3.02000000e+02, 4.01000000e+02, ...,\n",
       "        1.08897801e+08, 1.08897802e+08, 1.08897803e+08]),\n",
       " 'person_marital_unit_id': array([3.00000000e+00, 4.00000000e+00, 5.00000000e+00, ...,\n",
       "        1.00116814e+08, 1.00116814e+08, 1.00116815e+08]),\n",
       " 'person_spm_unit_id': array([3.00100000e+03, 3.00100000e+03, 4.00100000e+03, ...,\n",
       "        1.88978001e+08, 1.88978001e+08, 1.88978001e+08]),\n",
       " 'person_tax_unit_id': array([3.01000000e+02, 3.02000000e+02, 4.01000000e+02, ...,\n",
       "        1.08897801e+08, 1.08897801e+08, 1.08897801e+08]),\n",
       " 'qualified_dividend_income': array([    0.,     0.,     0., ...,     0., 76400.,     0.]),\n",
       " 'receives_wic': array([False, False, False, ..., False, False, False]),\n",
       " 'reduced_price_school_meals_reported': array([0, 0, 0, ..., 0, 0, 0]),\n",
       " 'rental_income': array([     0.,      0.,      0., ...,      0., 176900.,      0.]),\n",
       " 'second_lowest_silver_plan_cost': array([0., 0., 0., ..., 0., 0., 0.], dtype=float32),\n",
       " 'self_employment_income': array([0., 0., 0., ..., 0., 0., 0.]),\n",
       " 'short_term_capital_gains': array([    0.,     0.,     0., ...,     0., 14600.,     0.]),\n",
       " 'snap_reported': array([2628, 2748, 2400, ...,    0,    0,    0]),\n",
       " 'social_security_disability': array([   0,    0, 8136, ...,    0,    0,    0]),\n",
       " 'social_security_retirement': array([12120, 14400,     0, ...,     0,     0,     0]),\n",
       " 'spm_unit_capped_housing_subsidy_reported': array([0, 0, 0, ..., 0, 0, 0]),\n",
       " 'spm_unit_energy_subsidy_reported': array([2000,    0, 2000, ...,    0,    0,    0]),\n",
       " 'spm_unit_federal_tax_reported': array([    0,     0,     0, ..., 10867,  4341,  9511]),\n",
       " 'spm_unit_id': array([1.00100000e+03, 2.00100000e+03, 3.00100000e+03, ...,\n",
       "        1.88976001e+08, 1.88977001e+08, 1.88978001e+08]),\n",
       " 'spm_unit_medical_expenses': array([ 1800,    60,     0, ..., 16486,  2850,  6950]),\n",
       " 'spm_unit_net_income_reported': array([ 16686,  16556,  35020, ..., 168538,  70380,  82050]),\n",
       " 'spm_unit_payroll_tax_reported': array([   0,    0,    0, ..., 7650, 6885, 9018]),\n",
       " 'spm_unit_spm_threshold': array([13896, 13896, 17126, ..., 49857, 53757, 43485]),\n",
       " 'spm_unit_state_tax_reported': array([ -850,  -850, -1700, ...,  5289,  3687,  6181]),\n",
       " 'spm_unit_total_income_reported': array([ 13008,  13018,  28920, ..., 211102,  90415, 118070]),\n",
       " 'spm_unit_wic_reported': array([0, 0, 0, ..., 0, 0, 0]),\n",
       " 'spm_unit_work_childcare_expenses': array([   0,    0,    0, ..., 3224, 3224, 4836]),\n",
       " 'ssi_reported': array([0, 0, 0, ..., 0, 0, 0]),\n",
       " 'state_fips': array([23, 23, 23, ..., 15, 15, 15]),\n",
       " 'strike_benefits': array([0, 0, 0, ..., 0, 0, 0]),\n",
       " 'tanf_reported': array([0, 0, 0, ..., 0, 0, 0]),\n",
       " 'tax_exempt_interest_income': array([0.  , 0.  , 0.32, ..., 0.  , 0.  , 0.  ]),\n",
       " 'tax_exempt_private_pension_income': array([0., 0., 0., ..., 0., 0., 0.]),\n",
       " 'tax_unit_id': array([1.01000000e+02, 2.01000000e+02, 3.01000000e+02, ...,\n",
       "        1.08897604e+08, 1.08897701e+08, 1.08897801e+08]),\n",
       " 'taxable_interest_income': array([0.00000000e+00, 0.00000000e+00, 6.80000000e-01, ...,\n",
       "        8.06359198e+03, 6.56504879e+03, 7.13592252e+01]),\n",
       " 'taxable_private_pension_income': array([0., 0., 0., ..., 0., 0., 0.]),\n",
       " 'unemployment_compensation': array([0, 0, 0, ..., 0, 0, 0]),\n",
       " 'veterans_benefits': array([0, 0, 0, ..., 0, 0, 0]),\n",
       " 'workers_compensation': array([0, 0, 0, ..., 0, 0, 0])}"
      ]
     },
     "execution_count": 23,
     "metadata": {},
     "output_type": "execute_result"
    }
   ],
   "source": [
    "enhanced_cpsb"
   ]
  },
  {
   "cell_type": "code",
   "execution_count": 24,
   "metadata": {},
   "outputs": [],
   "source": [
    "import numpy as np\n",
    "\n",
    "enhanced_cps[\"is_ssi_disabled\"] = np.array(list(is_ssi_disabled) * 2)"
   ]
  },
  {
   "cell_type": "code",
   "execution_count": 25,
   "metadata": {},
   "outputs": [],
   "source": [
    "EnhancedCPS_2023().save_dataset(enhanced_cps)"
   ]
  },
  {
   "cell_type": "code",
   "execution_count": 6,
   "metadata": {},
   "outputs": [
    {
     "name": "stdout",
     "output_type": "stream",
     "text": [
      "Young child: $0\n",
      "Older child: $1\n",
      "Young adult: $15\n",
      "Older adult: $58\n",
      "Senior: $34\n"
     ]
    }
   ],
   "source": [
    "numbers = list(range(1, 6))\n",
    "ubi_groups = [\n",
    "    \"Young child\",\n",
    "    \"Older child\",\n",
    "    \"Young adult\",\n",
    "    \"Older adult\",\n",
    "    \"Senior\",\n",
    "    \"Disabled\",\n",
    "]\n",
    "\n",
    "for i, group in zip(numbers, ubi_groups):\n",
    "    print(f\"{group}: {(ubi == i).sum()/1e6:,.0f}\")"
   ]
  },
  {
   "cell_type": "code",
   "execution_count": null,
   "metadata": {},
   "outputs": [],
   "source": [
    "ubi = reform"
   ]
  }
 ],
 "metadata": {
  "kernelspec": {
   "display_name": "base",
   "language": "python",
   "name": "python3"
  },
  "language_info": {
   "codemirror_mode": {
    "name": "ipython",
    "version": 3
   },
   "file_extension": ".py",
   "mimetype": "text/x-python",
   "name": "python",
   "nbconvert_exporter": "python",
   "pygments_lexer": "ipython3",
   "version": "3.9.12"
  }
 },
 "nbformat": 4,
 "nbformat_minor": 2
}
