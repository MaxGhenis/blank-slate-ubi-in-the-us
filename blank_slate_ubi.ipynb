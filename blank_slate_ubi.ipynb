{
 "cells": [
  {
   "cell_type": "code",
   "execution_count": 1,
   "metadata": {},
   "outputs": [],
   "source": [
    "from policyengine_core.model_api import *\n",
    "from policyengine_us import *\n",
    "from scipy.optimize import differential_evolution\n",
    "\n",
    "INCOME_ELASTICITY = -0.05\n",
    "SUBSTITUTION_ELASTICITY = 0.25\n",
    "\n",
    "def create_funding_reform(flat_tax_rate: float, include_lsrs: bool = True):\n",
    "    return Reform.from_dict({\n",
    "        \"gov.contrib.ubi_center.flat_tax.abolish_federal_income_tax\": {\n",
    "            \"year:2023:10\": True\n",
    "        },\n",
    "        \"gov.contrib.ubi_center.flat_tax.abolish_payroll_tax\": {\n",
    "            \"year:2023:10\": True\n",
    "        },\n",
    "        \"gov.contrib.ubi_center.flat_tax.abolish_self_emp_tax\": {\n",
    "            \"year:2023:10\": True\n",
    "        },\n",
    "        \"gov.ssa.ssi.abolish_ssi\": {\n",
    "            \"year:2023:10\": True\n",
    "        },\n",
    "        \"gov.usda.snap.abolish_snap\": {\n",
    "            \"year:2023:10\": True\n",
    "        },\n",
    "        \"gov.usda.wic.abolish_wic\": {\n",
    "            \"year:2023:10\": True\n",
    "        },\n",
    "        \"gov.contrib.ubi_center.flat_tax.rate\": {\n",
    "            \"year:2023:10\": flat_tax_rate\n",
    "        },\n",
    "        \"gov.contrib.ubi_center.flat_tax.deduct_ptc\": {\n",
    "            \"year:2023:10\": True\n",
    "        },\n",
    "        \"gov.usda.snap.emergency_allotment.allowed\": {\n",
    "            \"year:2023:10\": False\n",
    "        },\n",
    "        \"simulation.reported_state_income_tax\": {\n",
    "            \"year:2023:10\": True\n",
    "        },\n",
    "        \"gov.simulation.labor_supply_responses.income_elasticity\": {\n",
    "            \"year:2023:10\": INCOME_ELASTICITY\n",
    "        } if include_lsrs else {},\n",
    "        \"gov.simulation.labor_supply_responses.substitution_elasticity\": {\n",
    "            \"year:2023:10\": SUBSTITUTION_ELASTICITY\n",
    "        } if include_lsrs else {},\n",
    "    },\n",
    "    \"us\",\n",
    "    )\n",
    "\n",
    "def create_baseline_reform():\n",
    "    return Reform.from_dict({\n",
    "            \"gov.usda.snap.emergency_allotment.allowed\": {\n",
    "                \"year:2023:10\": False\n",
    "            },\n",
    "            \"simulation.reported_state_income_tax\": {\n",
    "                \"year:2023:10\": True\n",
    "            },\n",
    "        },\n",
    "        \"us\",\n",
    "    )\n",
    "\n",
    "baseline = Microsimulation(reform=create_baseline_reform(), dataset=\"enhanced_cps_2023\")\n",
    "\n",
    "class BlankSlatePolicy:\n",
    "    young_child: float = 0\n",
    "    older_child: float = 0\n",
    "    young_adult: float = 0\n",
    "    adult: float = 0\n",
    "    senior: float = 0\n",
    "    flat_tax_rate: float = 0.40\n",
    "\n",
    "    def __init__(self, flat_tax_rate: float = 0.40, year: int = 2024, include_lsrs: bool = True):\n",
    "        self.baseline = baseline\n",
    "        self.blank_slate_funded = Microsimulation(reform=create_funding_reform(flat_tax_rate, include_lsrs), dataset=\"enhanced_cps_2023\")\n",
    "        self.baseline.default_calculation_period = year\n",
    "        self.blank_slate_funded.default_calculation_period = year\n",
    "        self.df = self.create_dataframe()\n",
    "        self.ubi_funding = self.get_ubi_funding()\n",
    "        self.flat_tax_rate = flat_tax_rate\n",
    "        self.include_lsrs = include_lsrs\n",
    "\n",
    "    def create_dataframe(self) -> pd.DataFrame:\n",
    "        age = self.baseline.calc(\"age\").values\n",
    "        df = pd.DataFrame(\n",
    "            dict(\n",
    "                baseline_net_income=self.baseline.calc(\n",
    "                    \"household_net_income\"\n",
    "                ).values,\n",
    "                baseline_tax=self.baseline.calculate(\n",
    "                    \"household_tax\"\n",
    "                ).values,\n",
    "                baseline_benefits=self.baseline.calculate(\n",
    "                    \"household_benefits\"\n",
    "                ).values,\n",
    "                count_young_child=self.baseline.map_result(\n",
    "                    age < 6, \"person\", \"household\"\n",
    "                ),\n",
    "                count_older_child=self.baseline.map_result(\n",
    "                    (age >= 6) & (age < 18), \"person\", \"household\"\n",
    "                ),\n",
    "                count_adult=self.baseline.map_result(\n",
    "                    (age >= 18) & (age < 65), \"person\", \"household\"\n",
    "                ),\n",
    "                count_senior=self.baseline.map_result(\n",
    "                    age >= 65, \"person\", \"household\"\n",
    "                ),\n",
    "                count_person=self.baseline.map_result(\n",
    "                    age >= 0, \"person\", \"household\"\n",
    "                ),\n",
    "                funded_net_income=self.blank_slate_funded.calculate(\n",
    "                    \"household_net_income\"\n",
    "                ).values,\n",
    "                funded_tax=self.blank_slate_funded.calculate(\n",
    "                    \"household_tax\"\n",
    "                ).values,\n",
    "                funded_benefits=self.blank_slate_funded.calculate(\n",
    "                    \"household_benefits\"\n",
    "                ).values,\n",
    "                count_disabled=self.baseline.calculate(\"is_ssi_disabled\", map_to=\"household\").values,\n",
    "                weight=self.baseline.calculate(\"household_weight\").values,\n",
    "            )\n",
    "        )\n",
    "\n",
    "        df[\"total_employment_income\"] = self.baseline.calculate(\"employment_income\", map_to=\"household\").values\n",
    "        return df\n",
    "\n",
    "    def get_ubi_funding(self) -> float:\n",
    "        return (\n",
    "            (self.df.funded_tax - self.df.funded_benefits - self.df.baseline_tax + self.df.baseline_benefits)\n",
    "            * self.df.weight\n",
    "        ).sum()\n",
    "\n",
    "    def get_senior_amount(\n",
    "        self,\n",
    "        young_child: float,\n",
    "        older_child: float,\n",
    "        adult: float,\n",
    "        disabled: float,\n",
    "        funding_offset: float = 0,\n",
    "    ) -> float:\n",
    "        return (\n",
    "            self.ubi_funding + funding_offset\n",
    "            - young_child * (self.df.count_young_child * self.df.weight).sum()\n",
    "            - older_child * (self.df.count_older_child * self.df.weight).sum()\n",
    "            - adult * (self.df.count_adult * self.df.weight).sum()\n",
    "            - disabled * (self.df.count_disabled * self.df.weight).sum()\n",
    "        ) / (self.df.count_senior * self.df.weight).sum()\n",
    "\n",
    "    def mean_percentage_loss(\n",
    "        self,\n",
    "        young_child: float,\n",
    "        older_child: float,\n",
    "        adult: float,\n",
    "        disabled: float,\n",
    "        return_extras: bool = False\n",
    "    ) -> float:\n",
    "        senior_amount = self.get_senior_amount(\n",
    "            young_child, older_child, adult, disabled,\n",
    "        )\n",
    "        final_net_income = (\n",
    "            self.df.funded_net_income\n",
    "            + self.df.count_young_child * young_child\n",
    "            + self.df.count_older_child * older_child\n",
    "            + self.df.count_adult * adult\n",
    "            + self.df.count_senior * senior_amount\n",
    "            + self.df.count_disabled * disabled\n",
    "        )\n",
    "        gain = final_net_income - self.df.baseline_net_income\n",
    "        income_rel_change = final_net_income / self.df.funded_net_income - 1\n",
    "        income_rel_change_c = np.clip(income_rel_change, -1, 1)\n",
    "        income_effect = income_rel_change_c * self.df.total_employment_income * INCOME_ELASTICITY\n",
    "        employment_income_change = income_effect\n",
    "        MTR_GUESS = self.flat_tax_rate\n",
    "        rough_net_income_change_from_lsr = employment_income_change * (1 - MTR_GUESS)\n",
    "        rough_tax_change_from_lsr = employment_income_change * MTR_GUESS\n",
    "        total_ubi_funding_change = (rough_tax_change_from_lsr * self.df.weight).sum()\n",
    "        if self.include_lsrs:\n",
    "            senior_amount = self.get_senior_amount(\n",
    "                young_child, older_child, adult, disabled, total_ubi_funding_change\n",
    "            )\n",
    "        final_net_income = (\n",
    "            self.df.funded_net_income\n",
    "            + self.df.count_young_child * young_child\n",
    "            + self.df.count_older_child * older_child\n",
    "            + self.df.count_adult * adult\n",
    "            + self.df.count_senior * senior_amount\n",
    "            + self.df.count_disabled * disabled\n",
    "        )\n",
    "        gain = final_net_income - self.df.baseline_net_income + rough_net_income_change_from_lsr\n",
    "        if not self.include_lsrs:\n",
    "            gain = gain - rough_net_income_change_from_lsr\n",
    "        absolute_loss = np.maximum(0, -gain)\n",
    "        pct_loss = absolute_loss / np.maximum(100, self.df.baseline_net_income)\n",
    "        average = np.average(\n",
    "            pct_loss, weights=self.df.weight * self.df.count_person\n",
    "        )\n",
    "        if return_extras:\n",
    "            return average, senior_amount, total_ubi_funding_change\n",
    "        return average\n",
    "\n",
    "    def solve(self, return_amounts: bool = False, return_loss: bool = False) -> dict:\n",
    "        (\n",
    "            self.young_child,\n",
    "            self.older_child,\n",
    "            self.adult,\n",
    "            self.disabled,\n",
    "        ) = differential_evolution(\n",
    "            lambda x: self.mean_percentage_loss(*x),\n",
    "            bounds=[(0, 30e3 * self.flat_tax_rate)] * 4,\n",
    "            maxiter=int(1e2),\n",
    "            seed=0,\n",
    "        ).x\n",
    "        _, self.senior, _ = self.mean_percentage_loss(\n",
    "            self.young_child, self.older_child, self.adult, self.disabled, return_extras=True\n",
    "        )\n",
    "        self.reform = Reform.from_dict(\n",
    "            {\n",
    "                **create_funding_reform(self.flat_tax_rate).parameter_values,\n",
    "                \"gov.contrib.ubi_center.basic_income.amount.person.by_age[0].amount\": {\n",
    "                    \"year:2023:10\": self.young_child\n",
    "                },\n",
    "                \"gov.contrib.ubi_center.basic_income.amount.person.by_age[1].amount\": {\n",
    "                    \"year:2023:10\": self.older_child\n",
    "                },\n",
    "                \"gov.contrib.ubi_center.basic_income.amount.person.by_age[2].amount\": {\n",
    "                    \"year:2023:10\": self.adult\n",
    "                },\n",
    "                \"gov.contrib.ubi_center.basic_income.amount.person.by_age[3].amount\": {\n",
    "                    \"year:2023:10\": self.adult\n",
    "                },\n",
    "                \"gov.contrib.ubi_center.basic_income.amount.person.by_age[4].amount\": {\n",
    "                    \"year:2023:10\": self.senior\n",
    "                },\n",
    "                \"gov.contrib.ubi_center.basic_income.amount.person.disability\": {\n",
    "                    \"year:2023:10\": self.disabled\n",
    "                },\n",
    "            },\n",
    "            \"us\",\n",
    "        )\n",
    "        if not return_amounts and not return_loss:\n",
    "            return self.reform\n",
    "        \n",
    "        data = dict(reform=self.reform)\n",
    "\n",
    "        if return_amounts:\n",
    "            data[\"amounts\"] = dict(\n",
    "                young_child=self.young_child,\n",
    "                older_child=self.older_child,\n",
    "                adult=self.adult,\n",
    "                senior=self.senior,\n",
    "                disabled=self.disabled,\n",
    "            )\n",
    "        \n",
    "        if return_loss:\n",
    "            data[\"loss\"] = self.mean_percentage_loss(\n",
    "                self.young_child, self.older_child, self.adult, self.disabled\n",
    "            )\n",
    "        \n",
    "        public_reform = Reform.from_dict(\n",
    "            {\n",
    "                path: value for path, value in self.reform.parameter_values.items()\n",
    "                if path.startswith(\"gov\")\n",
    "            },\n",
    "            \"us\",\n",
    "        )\n",
    "        data[\"id\"] = public_reform.api_id\n",
    "        data[\"reform\"] = public_reform\n",
    "        \n",
    "        return data"
   ]
  },
  {
   "cell_type": "code",
   "execution_count": 2,
   "metadata": {},
   "outputs": [
    {
     "name": "stderr",
     "output_type": "stream",
     "text": [
      "  9%|▉         | 1/11 [03:41<36:50, 221.07s/it]"
     ]
    },
    {
     "name": "stdout",
     "output_type": "stream",
     "text": [
      "Flat tax rate: 25% | Loss: 6.67%\n"
     ]
    },
    {
     "name": "stderr",
     "output_type": "stream",
     "text": [
      " 18%|█▊        | 2/11 [07:00<31:12, 208.09s/it]"
     ]
    },
    {
     "name": "stdout",
     "output_type": "stream",
     "text": [
      "Flat tax rate: 26% | Loss: 5.91%\n"
     ]
    },
    {
     "name": "stderr",
     "output_type": "stream",
     "text": [
      " 27%|██▋       | 3/11 [10:28<27:47, 208.41s/it]"
     ]
    },
    {
     "name": "stdout",
     "output_type": "stream",
     "text": [
      "Flat tax rate: 27% | Loss: 5.41%\n"
     ]
    },
    {
     "name": "stderr",
     "output_type": "stream",
     "text": [
      " 36%|███▋      | 4/11 [13:58<24:21, 208.80s/it]"
     ]
    },
    {
     "name": "stdout",
     "output_type": "stream",
     "text": [
      "Flat tax rate: 28% | Loss: 5.12%\n"
     ]
    },
    {
     "name": "stderr",
     "output_type": "stream",
     "text": [
      " 45%|████▌     | 5/11 [17:30<21:01, 210.21s/it]"
     ]
    },
    {
     "name": "stdout",
     "output_type": "stream",
     "text": [
      "Flat tax rate: 29% | Loss: 5.03%\n"
     ]
    },
    {
     "name": "stderr",
     "output_type": "stream",
     "text": [
      " 55%|█████▍    | 6/11 [21:02<17:33, 210.67s/it]"
     ]
    },
    {
     "name": "stdout",
     "output_type": "stream",
     "text": [
      "Flat tax rate: 30% | Loss: 5.06%\n"
     ]
    },
    {
     "name": "stderr",
     "output_type": "stream",
     "text": [
      " 64%|██████▎   | 7/11 [24:35<14:05, 211.26s/it]"
     ]
    },
    {
     "name": "stdout",
     "output_type": "stream",
     "text": [
      "Flat tax rate: 31% | Loss: 5.17%\n"
     ]
    },
    {
     "name": "stderr",
     "output_type": "stream",
     "text": [
      " 73%|███████▎  | 8/11 [28:08<10:36, 212.07s/it]"
     ]
    },
    {
     "name": "stdout",
     "output_type": "stream",
     "text": [
      "Flat tax rate: 32% | Loss: 5.36%\n"
     ]
    },
    {
     "name": "stderr",
     "output_type": "stream",
     "text": [
      " 82%|████████▏ | 9/11 [31:44<07:06, 213.29s/it]"
     ]
    },
    {
     "name": "stdout",
     "output_type": "stream",
     "text": [
      "Flat tax rate: 33% | Loss: 5.59%\n"
     ]
    },
    {
     "name": "stderr",
     "output_type": "stream",
     "text": [
      " 91%|█████████ | 10/11 [35:19<03:33, 213.88s/it]"
     ]
    },
    {
     "name": "stdout",
     "output_type": "stream",
     "text": [
      "Flat tax rate: 34% | Loss: 6.16%\n"
     ]
    },
    {
     "name": "stderr",
     "output_type": "stream",
     "text": [
      "100%|██████████| 11/11 [38:49<00:00, 211.75s/it]"
     ]
    },
    {
     "name": "stdout",
     "output_type": "stream",
     "text": [
      "Flat tax rate: 35% | Loss: 9.40%\n"
     ]
    },
    {
     "name": "stderr",
     "output_type": "stream",
     "text": [
      "\n"
     ]
    },
    {
     "name": "stdout",
     "output_type": "stream",
     "text": [
      "{'gov.contrib.ubi_center.basic_income.amount.person.by_age[0].amount': {'2023-01-01.2032-12-31': 3656.8928337236257}, 'gov.contrib.ubi_center.basic_income.amount.person.by_age[1].amount': {'2023-01-01.2032-12-31': 2796.409236689514}, 'gov.contrib.ubi_center.basic_income.amount.person.by_age[2].amount': {'2023-01-01.2032-12-31': 2023.343066194832}, 'gov.contrib.ubi_center.basic_income.amount.person.by_age[3].amount': {'2023-01-01.2032-12-31': 2023.343066194832}, 'gov.contrib.ubi_center.basic_income.amount.person.by_age[4].amount': {'2023-01-01.2032-12-31': -126.4110154840484}, 'gov.contrib.ubi_center.basic_income.amount.person.disability': {'2023-01-01.2032-12-31': 1095.173062495795}, 'gov.contrib.ubi_center.flat_tax.abolish_federal_income_tax': {'2023-01-01.2032-12-31': True}, 'gov.contrib.ubi_center.flat_tax.abolish_payroll_tax': {'2023-01-01.2032-12-31': True}, 'gov.contrib.ubi_center.flat_tax.abolish_self_emp_tax': {'2023-01-01.2032-12-31': True}, 'gov.contrib.ubi_center.flat_tax.deduct_ptc': {'2023-01-01.2032-12-31': True}, 'gov.contrib.ubi_center.flat_tax.rate': {'2023-01-01.2032-12-31': 0.25}, 'gov.simulation.labor_supply_responses.income_elasticity': {'2023-01-01.2032-12-31': -0.05}, 'gov.simulation.labor_supply_responses.substitution_elasticity': {'2023-01-01.2032-12-31': 0.25}, 'gov.ssa.ssi.abolish_ssi': {'2023-01-01.2032-12-31': True}, 'gov.usda.snap.abolish_snap': {'2023-01-01.2032-12-31': True}, 'gov.usda.snap.emergency_allotment.allowed': {'2023-01-01.2032-12-31': False}, 'gov.usda.wic.abolish_wic': {'2023-01-01.2032-12-31': True}}\n",
      "{'gov.contrib.ubi_center.basic_income.amount.person.by_age[0].amount': {'2023-01-01.2032-12-31': 3284.333120992158}, 'gov.contrib.ubi_center.basic_income.amount.person.by_age[1].amount': {'2023-01-01.2032-12-31': 2871.7232954714723}, 'gov.contrib.ubi_center.basic_income.amount.person.by_age[2].amount': {'2023-01-01.2032-12-31': 2656.7219644500274}, 'gov.contrib.ubi_center.basic_income.amount.person.by_age[3].amount': {'2023-01-01.2032-12-31': 2656.7219644500274}, 'gov.contrib.ubi_center.basic_income.amount.person.by_age[4].amount': {'2023-01-01.2032-12-31': 226.0602538710143}, 'gov.contrib.ubi_center.basic_income.amount.person.disability': {'2023-01-01.2032-12-31': 940.0493447761104}, 'gov.contrib.ubi_center.flat_tax.abolish_federal_income_tax': {'2023-01-01.2032-12-31': True}, 'gov.contrib.ubi_center.flat_tax.abolish_payroll_tax': {'2023-01-01.2032-12-31': True}, 'gov.contrib.ubi_center.flat_tax.abolish_self_emp_tax': {'2023-01-01.2032-12-31': True}, 'gov.contrib.ubi_center.flat_tax.deduct_ptc': {'2023-01-01.2032-12-31': True}, 'gov.contrib.ubi_center.flat_tax.rate': {'2023-01-01.2032-12-31': 0.26}, 'gov.simulation.labor_supply_responses.income_elasticity': {'2023-01-01.2032-12-31': -0.05}, 'gov.simulation.labor_supply_responses.substitution_elasticity': {'2023-01-01.2032-12-31': 0.25}, 'gov.ssa.ssi.abolish_ssi': {'2023-01-01.2032-12-31': True}, 'gov.usda.snap.abolish_snap': {'2023-01-01.2032-12-31': True}, 'gov.usda.snap.emergency_allotment.allowed': {'2023-01-01.2032-12-31': False}, 'gov.usda.wic.abolish_wic': {'2023-01-01.2032-12-31': True}}\n",
      "{'gov.contrib.ubi_center.basic_income.amount.person.by_age[0].amount': {'2023-01-01.2032-12-31': 3276.620134935306}, 'gov.contrib.ubi_center.basic_income.amount.person.by_age[1].amount': {'2023-01-01.2032-12-31': 2462.1158679115433}, 'gov.contrib.ubi_center.basic_income.amount.person.by_age[2].amount': {'2023-01-01.2032-12-31': 3187.766423391689}, 'gov.contrib.ubi_center.basic_income.amount.person.by_age[3].amount': {'2023-01-01.2032-12-31': 3187.766423391689}, 'gov.contrib.ubi_center.basic_income.amount.person.by_age[4].amount': {'2023-01-01.2032-12-31': 1211.703373636467}, 'gov.contrib.ubi_center.basic_income.amount.person.disability': {'2023-01-01.2032-12-31': 710.8118916572862}, 'gov.contrib.ubi_center.flat_tax.abolish_federal_income_tax': {'2023-01-01.2032-12-31': True}, 'gov.contrib.ubi_center.flat_tax.abolish_payroll_tax': {'2023-01-01.2032-12-31': True}, 'gov.contrib.ubi_center.flat_tax.abolish_self_emp_tax': {'2023-01-01.2032-12-31': True}, 'gov.contrib.ubi_center.flat_tax.deduct_ptc': {'2023-01-01.2032-12-31': True}, 'gov.contrib.ubi_center.flat_tax.rate': {'2023-01-01.2032-12-31': 0.27}, 'gov.simulation.labor_supply_responses.income_elasticity': {'2023-01-01.2032-12-31': -0.05}, 'gov.simulation.labor_supply_responses.substitution_elasticity': {'2023-01-01.2032-12-31': 0.25}, 'gov.ssa.ssi.abolish_ssi': {'2023-01-01.2032-12-31': True}, 'gov.usda.snap.abolish_snap': {'2023-01-01.2032-12-31': True}, 'gov.usda.snap.emergency_allotment.allowed': {'2023-01-01.2032-12-31': False}, 'gov.usda.wic.abolish_wic': {'2023-01-01.2032-12-31': True}}\n",
      "{'gov.contrib.ubi_center.basic_income.amount.person.by_age[0].amount': {'2023-01-01.2032-12-31': 3546.4821809363375}, 'gov.contrib.ubi_center.basic_income.amount.person.by_age[1].amount': {'2023-01-01.2032-12-31': 2875.669914152764}, 'gov.contrib.ubi_center.basic_income.amount.person.by_age[2].amount': {'2023-01-01.2032-12-31': 3458.437387030815}, 'gov.contrib.ubi_center.basic_income.amount.person.by_age[3].amount': {'2023-01-01.2032-12-31': 3458.437387030815}, 'gov.contrib.ubi_center.basic_income.amount.person.by_age[4].amount': {'2023-01-01.2032-12-31': 2221.8492127536156}, 'gov.contrib.ubi_center.basic_income.amount.person.disability': {'2023-01-01.2032-12-31': 409.0607393894793}, 'gov.contrib.ubi_center.flat_tax.abolish_federal_income_tax': {'2023-01-01.2032-12-31': True}, 'gov.contrib.ubi_center.flat_tax.abolish_payroll_tax': {'2023-01-01.2032-12-31': True}, 'gov.contrib.ubi_center.flat_tax.abolish_self_emp_tax': {'2023-01-01.2032-12-31': True}, 'gov.contrib.ubi_center.flat_tax.deduct_ptc': {'2023-01-01.2032-12-31': True}, 'gov.contrib.ubi_center.flat_tax.rate': {'2023-01-01.2032-12-31': 0.27999999999999997}, 'gov.simulation.labor_supply_responses.income_elasticity': {'2023-01-01.2032-12-31': -0.05}, 'gov.simulation.labor_supply_responses.substitution_elasticity': {'2023-01-01.2032-12-31': 0.25}, 'gov.ssa.ssi.abolish_ssi': {'2023-01-01.2032-12-31': True}, 'gov.usda.snap.abolish_snap': {'2023-01-01.2032-12-31': True}, 'gov.usda.snap.emergency_allotment.allowed': {'2023-01-01.2032-12-31': False}, 'gov.usda.wic.abolish_wic': {'2023-01-01.2032-12-31': True}}\n",
      "{'gov.contrib.ubi_center.basic_income.amount.person.by_age[0].amount': {'2023-01-01.2032-12-31': 4057.6625843279216}, 'gov.contrib.ubi_center.basic_income.amount.person.by_age[1].amount': {'2023-01-01.2032-12-31': 3179.9707625095257}, 'gov.contrib.ubi_center.basic_income.amount.person.by_age[2].amount': {'2023-01-01.2032-12-31': 3676.192039325648}, 'gov.contrib.ubi_center.basic_income.amount.person.by_age[3].amount': {'2023-01-01.2032-12-31': 3676.192039325648}, 'gov.contrib.ubi_center.basic_income.amount.person.by_age[4].amount': {'2023-01-01.2032-12-31': 3085.90410849952}, 'gov.contrib.ubi_center.basic_income.amount.person.disability': {'2023-01-01.2032-12-31': 635.6925928692663}, 'gov.contrib.ubi_center.flat_tax.abolish_federal_income_tax': {'2023-01-01.2032-12-31': True}, 'gov.contrib.ubi_center.flat_tax.abolish_payroll_tax': {'2023-01-01.2032-12-31': True}, 'gov.contrib.ubi_center.flat_tax.abolish_self_emp_tax': {'2023-01-01.2032-12-31': True}, 'gov.contrib.ubi_center.flat_tax.deduct_ptc': {'2023-01-01.2032-12-31': True}, 'gov.contrib.ubi_center.flat_tax.rate': {'2023-01-01.2032-12-31': 0.29}, 'gov.simulation.labor_supply_responses.income_elasticity': {'2023-01-01.2032-12-31': -0.05}, 'gov.simulation.labor_supply_responses.substitution_elasticity': {'2023-01-01.2032-12-31': 0.25}, 'gov.ssa.ssi.abolish_ssi': {'2023-01-01.2032-12-31': True}, 'gov.usda.snap.abolish_snap': {'2023-01-01.2032-12-31': True}, 'gov.usda.snap.emergency_allotment.allowed': {'2023-01-01.2032-12-31': False}, 'gov.usda.wic.abolish_wic': {'2023-01-01.2032-12-31': True}}\n",
      "{'gov.contrib.ubi_center.basic_income.amount.person.by_age[0].amount': {'2023-01-01.2032-12-31': 4062.819913978667}, 'gov.contrib.ubi_center.basic_income.amount.person.by_age[1].amount': {'2023-01-01.2032-12-31': 3081.267589093174}, 'gov.contrib.ubi_center.basic_income.amount.person.by_age[2].amount': {'2023-01-01.2032-12-31': 4296.19693147043}, 'gov.contrib.ubi_center.basic_income.amount.person.by_age[3].amount': {'2023-01-01.2032-12-31': 4296.19693147043}, 'gov.contrib.ubi_center.basic_income.amount.person.by_age[4].amount': {'2023-01-01.2032-12-31': 3643.955920550642}, 'gov.contrib.ubi_center.basic_income.amount.person.disability': {'2023-01-01.2032-12-31': 140.71786884522953}, 'gov.contrib.ubi_center.flat_tax.abolish_federal_income_tax': {'2023-01-01.2032-12-31': True}, 'gov.contrib.ubi_center.flat_tax.abolish_payroll_tax': {'2023-01-01.2032-12-31': True}, 'gov.contrib.ubi_center.flat_tax.abolish_self_emp_tax': {'2023-01-01.2032-12-31': True}, 'gov.contrib.ubi_center.flat_tax.deduct_ptc': {'2023-01-01.2032-12-31': True}, 'gov.contrib.ubi_center.flat_tax.rate': {'2023-01-01.2032-12-31': 0.3}, 'gov.simulation.labor_supply_responses.income_elasticity': {'2023-01-01.2032-12-31': -0.05}, 'gov.simulation.labor_supply_responses.substitution_elasticity': {'2023-01-01.2032-12-31': 0.25}, 'gov.ssa.ssi.abolish_ssi': {'2023-01-01.2032-12-31': True}, 'gov.usda.snap.abolish_snap': {'2023-01-01.2032-12-31': True}, 'gov.usda.snap.emergency_allotment.allowed': {'2023-01-01.2032-12-31': False}, 'gov.usda.wic.abolish_wic': {'2023-01-01.2032-12-31': True}}\n",
      "{'gov.contrib.ubi_center.basic_income.amount.person.by_age[0].amount': {'2023-01-01.2032-12-31': 3607.454242776305}, 'gov.contrib.ubi_center.basic_income.amount.person.by_age[1].amount': {'2023-01-01.2032-12-31': 3135.1194458698715}, 'gov.contrib.ubi_center.basic_income.amount.person.by_age[2].amount': {'2023-01-01.2032-12-31': 4850.242243429176}, 'gov.contrib.ubi_center.basic_income.amount.person.by_age[3].amount': {'2023-01-01.2032-12-31': 4850.242243429176}, 'gov.contrib.ubi_center.basic_income.amount.person.by_age[4].amount': {'2023-01-01.2032-12-31': 3813.076608038765}, 'gov.contrib.ubi_center.basic_income.amount.person.disability': {'2023-01-01.2032-12-31': 691.4355531621327}, 'gov.contrib.ubi_center.flat_tax.abolish_federal_income_tax': {'2023-01-01.2032-12-31': True}, 'gov.contrib.ubi_center.flat_tax.abolish_payroll_tax': {'2023-01-01.2032-12-31': True}, 'gov.contrib.ubi_center.flat_tax.abolish_self_emp_tax': {'2023-01-01.2032-12-31': True}, 'gov.contrib.ubi_center.flat_tax.deduct_ptc': {'2023-01-01.2032-12-31': True}, 'gov.contrib.ubi_center.flat_tax.rate': {'2023-01-01.2032-12-31': 0.31}, 'gov.simulation.labor_supply_responses.income_elasticity': {'2023-01-01.2032-12-31': -0.05}, 'gov.simulation.labor_supply_responses.substitution_elasticity': {'2023-01-01.2032-12-31': 0.25}, 'gov.ssa.ssi.abolish_ssi': {'2023-01-01.2032-12-31': True}, 'gov.usda.snap.abolish_snap': {'2023-01-01.2032-12-31': True}, 'gov.usda.snap.emergency_allotment.allowed': {'2023-01-01.2032-12-31': False}, 'gov.usda.wic.abolish_wic': {'2023-01-01.2032-12-31': True}}\n",
      "{'gov.contrib.ubi_center.basic_income.amount.person.by_age[0].amount': {'2023-01-01.2032-12-31': 4181.304531929538}, 'gov.contrib.ubi_center.basic_income.amount.person.by_age[1].amount': {'2023-01-01.2032-12-31': 3147.094910558195}, 'gov.contrib.ubi_center.basic_income.amount.person.by_age[2].amount': {'2023-01-01.2032-12-31': 5239.271689625145}, 'gov.contrib.ubi_center.basic_income.amount.person.by_age[3].amount': {'2023-01-01.2032-12-31': 5239.271689625145}, 'gov.contrib.ubi_center.basic_income.amount.person.by_age[4].amount': {'2023-01-01.2032-12-31': 4544.3701297224525}, 'gov.contrib.ubi_center.basic_income.amount.person.disability': {'2023-01-01.2032-12-31': 561.2115939550094}, 'gov.contrib.ubi_center.flat_tax.abolish_federal_income_tax': {'2023-01-01.2032-12-31': True}, 'gov.contrib.ubi_center.flat_tax.abolish_payroll_tax': {'2023-01-01.2032-12-31': True}, 'gov.contrib.ubi_center.flat_tax.abolish_self_emp_tax': {'2023-01-01.2032-12-31': True}, 'gov.contrib.ubi_center.flat_tax.deduct_ptc': {'2023-01-01.2032-12-31': True}, 'gov.contrib.ubi_center.flat_tax.rate': {'2023-01-01.2032-12-31': 0.32}, 'gov.simulation.labor_supply_responses.income_elasticity': {'2023-01-01.2032-12-31': -0.05}, 'gov.simulation.labor_supply_responses.substitution_elasticity': {'2023-01-01.2032-12-31': 0.25}, 'gov.ssa.ssi.abolish_ssi': {'2023-01-01.2032-12-31': True}, 'gov.usda.snap.abolish_snap': {'2023-01-01.2032-12-31': True}, 'gov.usda.snap.emergency_allotment.allowed': {'2023-01-01.2032-12-31': False}, 'gov.usda.wic.abolish_wic': {'2023-01-01.2032-12-31': True}}\n",
      "{'gov.contrib.ubi_center.basic_income.amount.person.by_age[0].amount': {'2023-01-01.2032-12-31': 3905.0495353060096}, 'gov.contrib.ubi_center.basic_income.amount.person.by_age[1].amount': {'2023-01-01.2032-12-31': 3503.117448149788}, 'gov.contrib.ubi_center.basic_income.amount.person.by_age[2].amount': {'2023-01-01.2032-12-31': 5743.984749252332}, 'gov.contrib.ubi_center.basic_income.amount.person.by_age[3].amount': {'2023-01-01.2032-12-31': 5743.984749252332}, 'gov.contrib.ubi_center.basic_income.amount.person.by_age[4].amount': {'2023-01-01.2032-12-31': 5091.5896842437905}, 'gov.contrib.ubi_center.basic_income.amount.person.disability': {'2023-01-01.2032-12-31': 117.78857949773374}, 'gov.contrib.ubi_center.flat_tax.abolish_federal_income_tax': {'2023-01-01.2032-12-31': True}, 'gov.contrib.ubi_center.flat_tax.abolish_payroll_tax': {'2023-01-01.2032-12-31': True}, 'gov.contrib.ubi_center.flat_tax.abolish_self_emp_tax': {'2023-01-01.2032-12-31': True}, 'gov.contrib.ubi_center.flat_tax.deduct_ptc': {'2023-01-01.2032-12-31': True}, 'gov.contrib.ubi_center.flat_tax.rate': {'2023-01-01.2032-12-31': 0.32999999999999996}, 'gov.simulation.labor_supply_responses.income_elasticity': {'2023-01-01.2032-12-31': -0.05}, 'gov.simulation.labor_supply_responses.substitution_elasticity': {'2023-01-01.2032-12-31': 0.25}, 'gov.ssa.ssi.abolish_ssi': {'2023-01-01.2032-12-31': True}, 'gov.usda.snap.abolish_snap': {'2023-01-01.2032-12-31': True}, 'gov.usda.snap.emergency_allotment.allowed': {'2023-01-01.2032-12-31': False}, 'gov.usda.wic.abolish_wic': {'2023-01-01.2032-12-31': True}}\n",
      "{'gov.contrib.ubi_center.basic_income.amount.person.by_age[0].amount': {'2023-01-01.2032-12-31': 4077.566632988516}, 'gov.contrib.ubi_center.basic_income.amount.person.by_age[1].amount': {'2023-01-01.2032-12-31': 3400.915884469151}, 'gov.contrib.ubi_center.basic_income.amount.person.by_age[2].amount': {'2023-01-01.2032-12-31': 5845.9801425057985}, 'gov.contrib.ubi_center.basic_income.amount.person.by_age[3].amount': {'2023-01-01.2032-12-31': 5845.9801425057985}, 'gov.contrib.ubi_center.basic_income.amount.person.by_age[4].amount': {'2023-01-01.2032-12-31': 6016.042444145289}, 'gov.contrib.ubi_center.basic_income.amount.person.disability': {'2023-01-01.2032-12-31': 1545.9492862157165}, 'gov.contrib.ubi_center.flat_tax.abolish_federal_income_tax': {'2023-01-01.2032-12-31': True}, 'gov.contrib.ubi_center.flat_tax.abolish_payroll_tax': {'2023-01-01.2032-12-31': True}, 'gov.contrib.ubi_center.flat_tax.abolish_self_emp_tax': {'2023-01-01.2032-12-31': True}, 'gov.contrib.ubi_center.flat_tax.deduct_ptc': {'2023-01-01.2032-12-31': True}, 'gov.contrib.ubi_center.flat_tax.rate': {'2023-01-01.2032-12-31': 0.33999999999999997}, 'gov.simulation.labor_supply_responses.income_elasticity': {'2023-01-01.2032-12-31': -0.05}, 'gov.simulation.labor_supply_responses.substitution_elasticity': {'2023-01-01.2032-12-31': 0.25}, 'gov.ssa.ssi.abolish_ssi': {'2023-01-01.2032-12-31': True}, 'gov.usda.snap.abolish_snap': {'2023-01-01.2032-12-31': True}, 'gov.usda.snap.emergency_allotment.allowed': {'2023-01-01.2032-12-31': False}, 'gov.usda.wic.abolish_wic': {'2023-01-01.2032-12-31': True}}\n",
      "{'gov.contrib.ubi_center.basic_income.amount.person.by_age[0].amount': {'2023-01-01.2032-12-31': 5135.395487066826}, 'gov.contrib.ubi_center.basic_income.amount.person.by_age[1].amount': {'2023-01-01.2032-12-31': 3796.557130296501}, 'gov.contrib.ubi_center.basic_income.amount.person.by_age[2].amount': {'2023-01-01.2032-12-31': 5960.705412494637}, 'gov.contrib.ubi_center.basic_income.amount.person.by_age[3].amount': {'2023-01-01.2032-12-31': 5960.705412494637}, 'gov.contrib.ubi_center.basic_income.amount.person.by_age[4].amount': {'2023-01-01.2032-12-31': 7412.869981273791}, 'gov.contrib.ubi_center.basic_income.amount.person.disability': {'2023-01-01.2032-12-31': 802.9216821318232}, 'gov.contrib.ubi_center.flat_tax.abolish_federal_income_tax': {'2023-01-01.2032-12-31': True}, 'gov.contrib.ubi_center.flat_tax.abolish_payroll_tax': {'2023-01-01.2032-12-31': True}, 'gov.contrib.ubi_center.flat_tax.abolish_self_emp_tax': {'2023-01-01.2032-12-31': True}, 'gov.contrib.ubi_center.flat_tax.deduct_ptc': {'2023-01-01.2032-12-31': True}, 'gov.contrib.ubi_center.flat_tax.rate': {'2023-01-01.2032-12-31': 0.35}, 'gov.simulation.labor_supply_responses.income_elasticity': {'2023-01-01.2032-12-31': -0.05}, 'gov.simulation.labor_supply_responses.substitution_elasticity': {'2023-01-01.2032-12-31': 0.25}, 'gov.ssa.ssi.abolish_ssi': {'2023-01-01.2032-12-31': True}, 'gov.usda.snap.abolish_snap': {'2023-01-01.2032-12-31': True}, 'gov.usda.snap.emergency_allotment.allowed': {'2023-01-01.2032-12-31': False}, 'gov.usda.wic.abolish_wic': {'2023-01-01.2032-12-31': True}}\n"
     ]
    }
   ],
   "source": [
    "import plotly.express as px\n",
    "from policyengine_core.charts import *\n",
    "from tqdm import tqdm\n",
    "\n",
    "tax_rates = []\n",
    "losses = []\n",
    "api_ids = []\n",
    "\n",
    "flat_tax_rates = []\n",
    "\n",
    "for flat_tax_rate in np.linspace(0.25, 0.35, 11):\n",
    "    if flat_tax_rate in flat_tax_rates:\n",
    "        continue\n",
    "    else:\n",
    "        flat_tax_rates.append(flat_tax_rate)\n",
    "\n",
    "for flat_tax_rate in tqdm(flat_tax_rates):\n",
    "    policy = BlankSlatePolicy(flat_tax_rate, year=2024)\n",
    "    data = policy.solve(return_amounts=True, return_loss=True)\n",
    "    tax_rates.append(flat_tax_rate)\n",
    "    losses.append(data[\"loss\"])\n",
    "    api_ids.append(data[\"id\"])\n",
    "\n",
    "    print(f\"Flat tax rate: {flat_tax_rate:.0%} | Loss: {data['loss']:.2%}\")\n",
    "\n",
    "df = pd.DataFrame(dict(\n",
    "    flat_tax_rate=tax_rates,\n",
    "    loss=losses,\n",
    "    api_id=api_ids,\n",
    "))\n",
    "\n",
    "# First, round UBI amounts to the nearest $10 per month\n",
    "from policyengine_core.reforms import Reform\n",
    "\n",
    "def get_reform_api_id_with_rounded_values(api_id):\n",
    "    parameter_values = Reform.from_api(api_id, \"us\").parameter_values\n",
    "    for parameter_name in [\n",
    "        \"gov.contrib.ubi_center.basic_income.amount.person.by_age[0].amount\",\n",
    "        \"gov.contrib.ubi_center.basic_income.amount.person.by_age[1].amount\",\n",
    "        \"gov.contrib.ubi_center.basic_income.amount.person.by_age[2].amount\",\n",
    "        \"gov.contrib.ubi_center.basic_income.amount.person.by_age[3].amount\",\n",
    "        \"gov.contrib.ubi_center.basic_income.amount.person.by_age[4].amount\",\n",
    "        \"gov.contrib.ubi_center.basic_income.amount.person.disability\",\n",
    "    ]:\n",
    "        for time_period in parameter_values[parameter_name]:\n",
    "            parameter_values[parameter_name][time_period] = round(\n",
    "                parameter_values[parameter_name][time_period] / (10 * 12)\n",
    "            ) * (10 * 12)\n",
    "\n",
    "    new_reform = Reform.from_dict(parameter_values, \"us\")\n",
    "    return new_reform.api_id\n",
    "\n",
    "df[\"rounded_ubi_api_id\"] = df[\"api_id\"].apply(\n",
    "    get_reform_api_id_with_rounded_values\n",
    ")\n",
    "\n",
    "df.to_csv(\"optimisation_results.csv\", index=False)"
   ]
  },
  {
   "cell_type": "code",
   "execution_count": 5,
   "metadata": {},
   "outputs": [
    {
     "data": {
      "application/vnd.plotly.v1+json": {
       "config": {
        "plotlyServerURL": "https://plot.ly"
       },
       "data": [
        {
         "hovertemplate": "flat_tax_rate=%{x}<br>loss=%{y}<extra></extra>",
         "legendgroup": "",
         "line": {
          "color": "#2C6496",
          "dash": "solid"
         },
         "marker": {
          "symbol": "circle"
         },
         "mode": "lines",
         "name": "",
         "orientation": "v",
         "showlegend": false,
         "type": "scatter",
         "x": [
          0.25,
          0.26,
          0.27,
          0.27999999999999997,
          0.29,
          0.3,
          0.31,
          0.32,
          0.32999999999999996,
          0.33999999999999997,
          0.35
         ],
         "xaxis": "x",
         "y": [
          0.06672474636219129,
          0.05912190250532288,
          0.05414601067438739,
          0.05120078964332048,
          0.050302785853536314,
          0.050600985841867875,
          0.051736556767980106,
          0.05362124253861623,
          0.055879939894356634,
          0.061591330180611865,
          0.09398929277400915
         ],
         "yaxis": "y"
        }
       ],
       "layout": {
        "font": {
         "color": "black",
         "family": "Roboto Serif"
        },
        "height": 600,
        "images": [
         {
          "sizex": 0.2,
          "sizey": 0.2,
          "source": "https://raw.githubusercontent.com/PolicyEngine/policyengine-app/master/src/images/logos/policyengine/blue.png",
          "x": 1,
          "xanchor": "right",
          "xref": "paper",
          "y": -0.15,
          "yanchor": "bottom",
          "yref": "paper"
         }
        ],
        "legend": {
         "tracegroupgap": 0
        },
        "margin": {
         "t": 60
        },
        "modebar": {
         "bgcolor": "rgba(0,0,0,0)",
         "color": "rgba(0,0,0,0)"
        },
        "template": {
         "data": {
          "bar": [
           {
            "error_x": {
             "color": "#2a3f5f"
            },
            "error_y": {
             "color": "#2a3f5f"
            },
            "marker": {
             "line": {
              "color": "white",
              "width": 0.5
             },
             "pattern": {
              "fillmode": "overlay",
              "size": 10,
              "solidity": 0.2
             }
            },
            "type": "bar"
           }
          ],
          "barpolar": [
           {
            "marker": {
             "line": {
              "color": "white",
              "width": 0.5
             },
             "pattern": {
              "fillmode": "overlay",
              "size": 10,
              "solidity": 0.2
             }
            },
            "type": "barpolar"
           }
          ],
          "carpet": [
           {
            "aaxis": {
             "endlinecolor": "#2a3f5f",
             "gridcolor": "#C8D4E3",
             "linecolor": "#C8D4E3",
             "minorgridcolor": "#C8D4E3",
             "startlinecolor": "#2a3f5f"
            },
            "baxis": {
             "endlinecolor": "#2a3f5f",
             "gridcolor": "#C8D4E3",
             "linecolor": "#C8D4E3",
             "minorgridcolor": "#C8D4E3",
             "startlinecolor": "#2a3f5f"
            },
            "type": "carpet"
           }
          ],
          "choropleth": [
           {
            "colorbar": {
             "outlinewidth": 0,
             "ticks": ""
            },
            "type": "choropleth"
           }
          ],
          "contour": [
           {
            "colorbar": {
             "outlinewidth": 0,
             "ticks": ""
            },
            "colorscale": [
             [
              0,
              "#0d0887"
             ],
             [
              0.1111111111111111,
              "#46039f"
             ],
             [
              0.2222222222222222,
              "#7201a8"
             ],
             [
              0.3333333333333333,
              "#9c179e"
             ],
             [
              0.4444444444444444,
              "#bd3786"
             ],
             [
              0.5555555555555556,
              "#d8576b"
             ],
             [
              0.6666666666666666,
              "#ed7953"
             ],
             [
              0.7777777777777778,
              "#fb9f3a"
             ],
             [
              0.8888888888888888,
              "#fdca26"
             ],
             [
              1,
              "#f0f921"
             ]
            ],
            "type": "contour"
           }
          ],
          "contourcarpet": [
           {
            "colorbar": {
             "outlinewidth": 0,
             "ticks": ""
            },
            "type": "contourcarpet"
           }
          ],
          "heatmap": [
           {
            "colorbar": {
             "outlinewidth": 0,
             "ticks": ""
            },
            "colorscale": [
             [
              0,
              "#0d0887"
             ],
             [
              0.1111111111111111,
              "#46039f"
             ],
             [
              0.2222222222222222,
              "#7201a8"
             ],
             [
              0.3333333333333333,
              "#9c179e"
             ],
             [
              0.4444444444444444,
              "#bd3786"
             ],
             [
              0.5555555555555556,
              "#d8576b"
             ],
             [
              0.6666666666666666,
              "#ed7953"
             ],
             [
              0.7777777777777778,
              "#fb9f3a"
             ],
             [
              0.8888888888888888,
              "#fdca26"
             ],
             [
              1,
              "#f0f921"
             ]
            ],
            "type": "heatmap"
           }
          ],
          "heatmapgl": [
           {
            "colorbar": {
             "outlinewidth": 0,
             "ticks": ""
            },
            "colorscale": [
             [
              0,
              "#0d0887"
             ],
             [
              0.1111111111111111,
              "#46039f"
             ],
             [
              0.2222222222222222,
              "#7201a8"
             ],
             [
              0.3333333333333333,
              "#9c179e"
             ],
             [
              0.4444444444444444,
              "#bd3786"
             ],
             [
              0.5555555555555556,
              "#d8576b"
             ],
             [
              0.6666666666666666,
              "#ed7953"
             ],
             [
              0.7777777777777778,
              "#fb9f3a"
             ],
             [
              0.8888888888888888,
              "#fdca26"
             ],
             [
              1,
              "#f0f921"
             ]
            ],
            "type": "heatmapgl"
           }
          ],
          "histogram": [
           {
            "marker": {
             "pattern": {
              "fillmode": "overlay",
              "size": 10,
              "solidity": 0.2
             }
            },
            "type": "histogram"
           }
          ],
          "histogram2d": [
           {
            "colorbar": {
             "outlinewidth": 0,
             "ticks": ""
            },
            "colorscale": [
             [
              0,
              "#0d0887"
             ],
             [
              0.1111111111111111,
              "#46039f"
             ],
             [
              0.2222222222222222,
              "#7201a8"
             ],
             [
              0.3333333333333333,
              "#9c179e"
             ],
             [
              0.4444444444444444,
              "#bd3786"
             ],
             [
              0.5555555555555556,
              "#d8576b"
             ],
             [
              0.6666666666666666,
              "#ed7953"
             ],
             [
              0.7777777777777778,
              "#fb9f3a"
             ],
             [
              0.8888888888888888,
              "#fdca26"
             ],
             [
              1,
              "#f0f921"
             ]
            ],
            "type": "histogram2d"
           }
          ],
          "histogram2dcontour": [
           {
            "colorbar": {
             "outlinewidth": 0,
             "ticks": ""
            },
            "colorscale": [
             [
              0,
              "#0d0887"
             ],
             [
              0.1111111111111111,
              "#46039f"
             ],
             [
              0.2222222222222222,
              "#7201a8"
             ],
             [
              0.3333333333333333,
              "#9c179e"
             ],
             [
              0.4444444444444444,
              "#bd3786"
             ],
             [
              0.5555555555555556,
              "#d8576b"
             ],
             [
              0.6666666666666666,
              "#ed7953"
             ],
             [
              0.7777777777777778,
              "#fb9f3a"
             ],
             [
              0.8888888888888888,
              "#fdca26"
             ],
             [
              1,
              "#f0f921"
             ]
            ],
            "type": "histogram2dcontour"
           }
          ],
          "mesh3d": [
           {
            "colorbar": {
             "outlinewidth": 0,
             "ticks": ""
            },
            "type": "mesh3d"
           }
          ],
          "parcoords": [
           {
            "line": {
             "colorbar": {
              "outlinewidth": 0,
              "ticks": ""
             }
            },
            "type": "parcoords"
           }
          ],
          "pie": [
           {
            "automargin": true,
            "type": "pie"
           }
          ],
          "scatter": [
           {
            "fillpattern": {
             "fillmode": "overlay",
             "size": 10,
             "solidity": 0.2
            },
            "type": "scatter"
           }
          ],
          "scatter3d": [
           {
            "line": {
             "colorbar": {
              "outlinewidth": 0,
              "ticks": ""
             }
            },
            "marker": {
             "colorbar": {
              "outlinewidth": 0,
              "ticks": ""
             }
            },
            "type": "scatter3d"
           }
          ],
          "scattercarpet": [
           {
            "marker": {
             "colorbar": {
              "outlinewidth": 0,
              "ticks": ""
             }
            },
            "type": "scattercarpet"
           }
          ],
          "scattergeo": [
           {
            "marker": {
             "colorbar": {
              "outlinewidth": 0,
              "ticks": ""
             }
            },
            "type": "scattergeo"
           }
          ],
          "scattergl": [
           {
            "marker": {
             "colorbar": {
              "outlinewidth": 0,
              "ticks": ""
             }
            },
            "type": "scattergl"
           }
          ],
          "scattermapbox": [
           {
            "marker": {
             "colorbar": {
              "outlinewidth": 0,
              "ticks": ""
             }
            },
            "type": "scattermapbox"
           }
          ],
          "scatterpolar": [
           {
            "marker": {
             "colorbar": {
              "outlinewidth": 0,
              "ticks": ""
             }
            },
            "type": "scatterpolar"
           }
          ],
          "scatterpolargl": [
           {
            "marker": {
             "colorbar": {
              "outlinewidth": 0,
              "ticks": ""
             }
            },
            "type": "scatterpolargl"
           }
          ],
          "scatterternary": [
           {
            "marker": {
             "colorbar": {
              "outlinewidth": 0,
              "ticks": ""
             }
            },
            "type": "scatterternary"
           }
          ],
          "surface": [
           {
            "colorbar": {
             "outlinewidth": 0,
             "ticks": ""
            },
            "colorscale": [
             [
              0,
              "#0d0887"
             ],
             [
              0.1111111111111111,
              "#46039f"
             ],
             [
              0.2222222222222222,
              "#7201a8"
             ],
             [
              0.3333333333333333,
              "#9c179e"
             ],
             [
              0.4444444444444444,
              "#bd3786"
             ],
             [
              0.5555555555555556,
              "#d8576b"
             ],
             [
              0.6666666666666666,
              "#ed7953"
             ],
             [
              0.7777777777777778,
              "#fb9f3a"
             ],
             [
              0.8888888888888888,
              "#fdca26"
             ],
             [
              1,
              "#f0f921"
             ]
            ],
            "type": "surface"
           }
          ],
          "table": [
           {
            "cells": {
             "fill": {
              "color": "#EBF0F8"
             },
             "line": {
              "color": "white"
             }
            },
            "header": {
             "fill": {
              "color": "#C8D4E3"
             },
             "line": {
              "color": "white"
             }
            },
            "type": "table"
           }
          ]
         },
         "layout": {
          "annotationdefaults": {
           "arrowcolor": "#2a3f5f",
           "arrowhead": 0,
           "arrowwidth": 1
          },
          "autotypenumbers": "strict",
          "coloraxis": {
           "colorbar": {
            "outlinewidth": 0,
            "ticks": ""
           }
          },
          "colorscale": {
           "diverging": [
            [
             0,
             "#8e0152"
            ],
            [
             0.1,
             "#c51b7d"
            ],
            [
             0.2,
             "#de77ae"
            ],
            [
             0.3,
             "#f1b6da"
            ],
            [
             0.4,
             "#fde0ef"
            ],
            [
             0.5,
             "#f7f7f7"
            ],
            [
             0.6,
             "#e6f5d0"
            ],
            [
             0.7,
             "#b8e186"
            ],
            [
             0.8,
             "#7fbc41"
            ],
            [
             0.9,
             "#4d9221"
            ],
            [
             1,
             "#276419"
            ]
           ],
           "sequential": [
            [
             0,
             "#0d0887"
            ],
            [
             0.1111111111111111,
             "#46039f"
            ],
            [
             0.2222222222222222,
             "#7201a8"
            ],
            [
             0.3333333333333333,
             "#9c179e"
            ],
            [
             0.4444444444444444,
             "#bd3786"
            ],
            [
             0.5555555555555556,
             "#d8576b"
            ],
            [
             0.6666666666666666,
             "#ed7953"
            ],
            [
             0.7777777777777778,
             "#fb9f3a"
            ],
            [
             0.8888888888888888,
             "#fdca26"
            ],
            [
             1,
             "#f0f921"
            ]
           ],
           "sequentialminus": [
            [
             0,
             "#0d0887"
            ],
            [
             0.1111111111111111,
             "#46039f"
            ],
            [
             0.2222222222222222,
             "#7201a8"
            ],
            [
             0.3333333333333333,
             "#9c179e"
            ],
            [
             0.4444444444444444,
             "#bd3786"
            ],
            [
             0.5555555555555556,
             "#d8576b"
            ],
            [
             0.6666666666666666,
             "#ed7953"
            ],
            [
             0.7777777777777778,
             "#fb9f3a"
            ],
            [
             0.8888888888888888,
             "#fdca26"
            ],
            [
             1,
             "#f0f921"
            ]
           ]
          },
          "colorway": [
           "#636efa",
           "#EF553B",
           "#00cc96",
           "#ab63fa",
           "#FFA15A",
           "#19d3f3",
           "#FF6692",
           "#B6E880",
           "#FF97FF",
           "#FECB52"
          ],
          "font": {
           "color": "#2a3f5f"
          },
          "geo": {
           "bgcolor": "white",
           "lakecolor": "white",
           "landcolor": "white",
           "showlakes": true,
           "showland": true,
           "subunitcolor": "#C8D4E3"
          },
          "hoverlabel": {
           "align": "left"
          },
          "hovermode": "closest",
          "mapbox": {
           "style": "light"
          },
          "paper_bgcolor": "white",
          "plot_bgcolor": "white",
          "polar": {
           "angularaxis": {
            "gridcolor": "#EBF0F8",
            "linecolor": "#EBF0F8",
            "ticks": ""
           },
           "bgcolor": "white",
           "radialaxis": {
            "gridcolor": "#EBF0F8",
            "linecolor": "#EBF0F8",
            "ticks": ""
           }
          },
          "scene": {
           "xaxis": {
            "backgroundcolor": "white",
            "gridcolor": "#DFE8F3",
            "gridwidth": 2,
            "linecolor": "#EBF0F8",
            "showbackground": true,
            "ticks": "",
            "zerolinecolor": "#EBF0F8"
           },
           "yaxis": {
            "backgroundcolor": "white",
            "gridcolor": "#DFE8F3",
            "gridwidth": 2,
            "linecolor": "#EBF0F8",
            "showbackground": true,
            "ticks": "",
            "zerolinecolor": "#EBF0F8"
           },
           "zaxis": {
            "backgroundcolor": "white",
            "gridcolor": "#DFE8F3",
            "gridwidth": 2,
            "linecolor": "#EBF0F8",
            "showbackground": true,
            "ticks": "",
            "zerolinecolor": "#EBF0F8"
           }
          },
          "shapedefaults": {
           "line": {
            "color": "#2a3f5f"
           }
          },
          "ternary": {
           "aaxis": {
            "gridcolor": "#DFE8F3",
            "linecolor": "#A2B1C6",
            "ticks": ""
           },
           "baxis": {
            "gridcolor": "#DFE8F3",
            "linecolor": "#A2B1C6",
            "ticks": ""
           },
           "bgcolor": "white",
           "caxis": {
            "gridcolor": "#DFE8F3",
            "linecolor": "#A2B1C6",
            "ticks": ""
           }
          },
          "title": {
           "x": 0.05
          },
          "xaxis": {
           "automargin": true,
           "gridcolor": "#EBF0F8",
           "linecolor": "#EBF0F8",
           "ticks": "",
           "title": {
            "standoff": 15
           },
           "zerolinecolor": "#EBF0F8",
           "zerolinewidth": 2
          },
          "yaxis": {
           "automargin": true,
           "gridcolor": "#EBF0F8",
           "linecolor": "#EBF0F8",
           "ticks": "",
           "title": {
            "standoff": 15
           },
           "zerolinecolor": "#EBF0F8",
           "zerolinewidth": 2
          }
         }
        },
        "title": {
         "text": "Mean percentage loss by flat tax rate"
        },
        "width": 800,
        "xaxis": {
         "anchor": "y",
         "domain": [
          0,
          1
         ],
         "tickformat": ".0%",
         "title": {
          "text": "Flat tax rate"
         }
        },
        "yaxis": {
         "anchor": "x",
         "domain": [
          0,
          1
         ],
         "tickformat": ".1%",
         "title": {
          "text": "Loss"
         }
        }
       }
      }
     },
     "metadata": {},
     "output_type": "display_data"
    }
   ],
   "source": [
    "fig = px.line(\n",
    "    df.sort_values(\"flat_tax_rate\"),\n",
    "    x=\"flat_tax_rate\",\n",
    "    y=\"loss\",\n",
    ")\n",
    "\n",
    "\n",
    "format_fig(fig).update_traces(\n",
    "    # Set color to BLUE\n",
    "    line=dict(color=BLUE_PRIMARY),\n",
    ").update_layout(\n",
    "    title=\"Mean percentage loss by flat tax rate\",\n",
    "    xaxis_title=\"Flat tax rate\",\n",
    "    yaxis_title=\"Loss\",\n",
    "    xaxis_tickformat=\".0%\",\n",
    "    yaxis_tickformat=\".1%\",\n",
    ")"
   ]
  },
  {
   "cell_type": "code",
   "execution_count": 9,
   "metadata": {},
   "outputs": [
    {
     "name": "stderr",
     "output_type": "stream",
     "text": [
      "  0%|          | 0/11 [00:00<?, ?it/s]\n"
     ]
    },
    {
     "ename": "JSONDecodeError",
     "evalue": "Expecting value: line 1 column 1 (char 0)",
     "output_type": "error",
     "traceback": [
      "\u001b[0;31m---------------------------------------------------------------------------\u001b[0m",
      "\u001b[0;31mJSONDecodeError\u001b[0m                           Traceback (most recent call last)",
      "File \u001b[0;32m/opt/anaconda3/lib/python3.9/site-packages/requests/models.py:971\u001b[0m, in \u001b[0;36mResponse.json\u001b[0;34m(self, **kwargs)\u001b[0m\n\u001b[1;32m    970\u001b[0m \u001b[38;5;28;01mtry\u001b[39;00m:\n\u001b[0;32m--> 971\u001b[0m     \u001b[38;5;28;01mreturn\u001b[39;00m \u001b[43mcomplexjson\u001b[49m\u001b[38;5;241;43m.\u001b[39;49m\u001b[43mloads\u001b[49m\u001b[43m(\u001b[49m\u001b[38;5;28;43mself\u001b[39;49m\u001b[38;5;241;43m.\u001b[39;49m\u001b[43mtext\u001b[49m\u001b[43m,\u001b[49m\u001b[43m \u001b[49m\u001b[38;5;241;43m*\u001b[39;49m\u001b[38;5;241;43m*\u001b[39;49m\u001b[43mkwargs\u001b[49m\u001b[43m)\u001b[49m\n\u001b[1;32m    972\u001b[0m \u001b[38;5;28;01mexcept\u001b[39;00m JSONDecodeError \u001b[38;5;28;01mas\u001b[39;00m e:\n\u001b[1;32m    973\u001b[0m     \u001b[38;5;66;03m# Catch JSON-related errors and raise as requests.JSONDecodeError\u001b[39;00m\n\u001b[1;32m    974\u001b[0m     \u001b[38;5;66;03m# This aliases json.JSONDecodeError and simplejson.JSONDecodeError\u001b[39;00m\n",
      "File \u001b[0;32m/opt/anaconda3/lib/python3.9/json/__init__.py:346\u001b[0m, in \u001b[0;36mloads\u001b[0;34m(s, cls, object_hook, parse_float, parse_int, parse_constant, object_pairs_hook, **kw)\u001b[0m\n\u001b[1;32m    343\u001b[0m \u001b[38;5;28;01mif\u001b[39;00m (\u001b[38;5;28mcls\u001b[39m \u001b[38;5;129;01mis\u001b[39;00m \u001b[38;5;28;01mNone\u001b[39;00m \u001b[38;5;129;01mand\u001b[39;00m object_hook \u001b[38;5;129;01mis\u001b[39;00m \u001b[38;5;28;01mNone\u001b[39;00m \u001b[38;5;129;01mand\u001b[39;00m\n\u001b[1;32m    344\u001b[0m         parse_int \u001b[38;5;129;01mis\u001b[39;00m \u001b[38;5;28;01mNone\u001b[39;00m \u001b[38;5;129;01mand\u001b[39;00m parse_float \u001b[38;5;129;01mis\u001b[39;00m \u001b[38;5;28;01mNone\u001b[39;00m \u001b[38;5;129;01mand\u001b[39;00m\n\u001b[1;32m    345\u001b[0m         parse_constant \u001b[38;5;129;01mis\u001b[39;00m \u001b[38;5;28;01mNone\u001b[39;00m \u001b[38;5;129;01mand\u001b[39;00m object_pairs_hook \u001b[38;5;129;01mis\u001b[39;00m \u001b[38;5;28;01mNone\u001b[39;00m \u001b[38;5;129;01mand\u001b[39;00m \u001b[38;5;129;01mnot\u001b[39;00m kw):\n\u001b[0;32m--> 346\u001b[0m     \u001b[38;5;28;01mreturn\u001b[39;00m \u001b[43m_default_decoder\u001b[49m\u001b[38;5;241;43m.\u001b[39;49m\u001b[43mdecode\u001b[49m\u001b[43m(\u001b[49m\u001b[43ms\u001b[49m\u001b[43m)\u001b[49m\n\u001b[1;32m    347\u001b[0m \u001b[38;5;28;01mif\u001b[39;00m \u001b[38;5;28mcls\u001b[39m \u001b[38;5;129;01mis\u001b[39;00m \u001b[38;5;28;01mNone\u001b[39;00m:\n",
      "File \u001b[0;32m/opt/anaconda3/lib/python3.9/json/decoder.py:337\u001b[0m, in \u001b[0;36mJSONDecoder.decode\u001b[0;34m(self, s, _w)\u001b[0m\n\u001b[1;32m    333\u001b[0m \u001b[38;5;250m\u001b[39m\u001b[38;5;124;03m\"\"\"Return the Python representation of ``s`` (a ``str`` instance\u001b[39;00m\n\u001b[1;32m    334\u001b[0m \u001b[38;5;124;03mcontaining a JSON document).\u001b[39;00m\n\u001b[1;32m    335\u001b[0m \n\u001b[1;32m    336\u001b[0m \u001b[38;5;124;03m\"\"\"\u001b[39;00m\n\u001b[0;32m--> 337\u001b[0m obj, end \u001b[38;5;241m=\u001b[39m \u001b[38;5;28;43mself\u001b[39;49m\u001b[38;5;241;43m.\u001b[39;49m\u001b[43mraw_decode\u001b[49m\u001b[43m(\u001b[49m\u001b[43ms\u001b[49m\u001b[43m,\u001b[49m\u001b[43m \u001b[49m\u001b[43midx\u001b[49m\u001b[38;5;241;43m=\u001b[39;49m\u001b[43m_w\u001b[49m\u001b[43m(\u001b[49m\u001b[43ms\u001b[49m\u001b[43m,\u001b[49m\u001b[43m \u001b[49m\u001b[38;5;241;43m0\u001b[39;49m\u001b[43m)\u001b[49m\u001b[38;5;241;43m.\u001b[39;49m\u001b[43mend\u001b[49m\u001b[43m(\u001b[49m\u001b[43m)\u001b[49m\u001b[43m)\u001b[49m\n\u001b[1;32m    338\u001b[0m end \u001b[38;5;241m=\u001b[39m _w(s, end)\u001b[38;5;241m.\u001b[39mend()\n",
      "File \u001b[0;32m/opt/anaconda3/lib/python3.9/json/decoder.py:355\u001b[0m, in \u001b[0;36mJSONDecoder.raw_decode\u001b[0;34m(self, s, idx)\u001b[0m\n\u001b[1;32m    354\u001b[0m \u001b[38;5;28;01mexcept\u001b[39;00m \u001b[38;5;167;01mStopIteration\u001b[39;00m \u001b[38;5;28;01mas\u001b[39;00m err:\n\u001b[0;32m--> 355\u001b[0m     \u001b[38;5;28;01mraise\u001b[39;00m JSONDecodeError(\u001b[38;5;124m\"\u001b[39m\u001b[38;5;124mExpecting value\u001b[39m\u001b[38;5;124m\"\u001b[39m, s, err\u001b[38;5;241m.\u001b[39mvalue) \u001b[38;5;28;01mfrom\u001b[39;00m \u001b[38;5;28;01mNone\u001b[39;00m\n\u001b[1;32m    356\u001b[0m \u001b[38;5;28;01mreturn\u001b[39;00m obj, end\n",
      "\u001b[0;31mJSONDecodeError\u001b[0m: Expecting value: line 1 column 1 (char 0)",
      "\nDuring handling of the above exception, another exception occurred:\n",
      "\u001b[0;31mJSONDecodeError\u001b[0m                           Traceback (most recent call last)",
      "Cell \u001b[0;32mIn[9], line 60\u001b[0m\n\u001b[1;32m     58\u001b[0m         \u001b[38;5;28;01mfor\u001b[39;00m column_name, amount \u001b[38;5;129;01min\u001b[39;00m amounts\u001b[38;5;241m.\u001b[39mitems():\n\u001b[1;32m     59\u001b[0m             df\u001b[38;5;241m.\u001b[39mloc[i, column_name] \u001b[38;5;241m=\u001b[39m amount\n\u001b[0;32m---> 60\u001b[0m     json_data[reform_id] \u001b[38;5;241m=\u001b[39m \u001b[43mget_json_from_id\u001b[49m\u001b[43m(\u001b[49m\u001b[43mreform_id\u001b[49m\u001b[43m)\u001b[49m\n\u001b[1;32m     62\u001b[0m df\u001b[38;5;241m.\u001b[39mto_csv(\u001b[38;5;124m'\u001b[39m\u001b[38;5;124mubi_amounts.csv\u001b[39m\u001b[38;5;124m'\u001b[39m, index\u001b[38;5;241m=\u001b[39m\u001b[38;5;28;01mFalse\u001b[39;00m)\n",
      "Cell \u001b[0;32mIn[9], line 41\u001b[0m, in \u001b[0;36mget_json_from_id\u001b[0;34m(id)\u001b[0m\n\u001b[1;32m     40\u001b[0m \u001b[38;5;28;01mdef\u001b[39;00m \u001b[38;5;21mget_json_from_id\u001b[39m(\u001b[38;5;28mid\u001b[39m):\n\u001b[0;32m---> 41\u001b[0m     res \u001b[38;5;241m=\u001b[39m \u001b[43mrequests\u001b[49m\u001b[38;5;241;43m.\u001b[39;49m\u001b[43mget\u001b[49m\u001b[43m(\u001b[49m\u001b[38;5;124;43mf\u001b[39;49m\u001b[38;5;124;43m\"\u001b[39;49m\u001b[38;5;132;43;01m{\u001b[39;49;00m\u001b[43mAPI\u001b[49m\u001b[38;5;132;43;01m}\u001b[39;49;00m\u001b[38;5;124;43m/us/economy/\u001b[39;49m\u001b[38;5;132;43;01m{\u001b[39;49;00m\u001b[38;5;28;43mid\u001b[39;49m\u001b[38;5;132;43;01m}\u001b[39;49;00m\u001b[38;5;124;43m/over/2?time_period=2024&region=enhanced_us\u001b[39;49m\u001b[38;5;124;43m\"\u001b[39;49m\u001b[43m)\u001b[49m\u001b[38;5;241;43m.\u001b[39;49m\u001b[43mjson\u001b[49m\u001b[43m(\u001b[49m\u001b[43m)\u001b[49m\n\u001b[1;32m     43\u001b[0m     \u001b[38;5;28;01mwhile\u001b[39;00m res[\u001b[38;5;124m\"\u001b[39m\u001b[38;5;124mstatus\u001b[39m\u001b[38;5;124m\"\u001b[39m] \u001b[38;5;241m==\u001b[39m \u001b[38;5;124m\"\u001b[39m\u001b[38;5;124mcomputing\u001b[39m\u001b[38;5;124m\"\u001b[39m:\n\u001b[1;32m     44\u001b[0m         time\u001b[38;5;241m.\u001b[39msleep(\u001b[38;5;241m5\u001b[39m)\n",
      "File \u001b[0;32m/opt/anaconda3/lib/python3.9/site-packages/requests/models.py:975\u001b[0m, in \u001b[0;36mResponse.json\u001b[0;34m(self, **kwargs)\u001b[0m\n\u001b[1;32m    971\u001b[0m     \u001b[38;5;28;01mreturn\u001b[39;00m complexjson\u001b[38;5;241m.\u001b[39mloads(\u001b[38;5;28mself\u001b[39m\u001b[38;5;241m.\u001b[39mtext, \u001b[38;5;241m*\u001b[39m\u001b[38;5;241m*\u001b[39mkwargs)\n\u001b[1;32m    972\u001b[0m \u001b[38;5;28;01mexcept\u001b[39;00m JSONDecodeError \u001b[38;5;28;01mas\u001b[39;00m e:\n\u001b[1;32m    973\u001b[0m     \u001b[38;5;66;03m# Catch JSON-related errors and raise as requests.JSONDecodeError\u001b[39;00m\n\u001b[1;32m    974\u001b[0m     \u001b[38;5;66;03m# This aliases json.JSONDecodeError and simplejson.JSONDecodeError\u001b[39;00m\n\u001b[0;32m--> 975\u001b[0m     \u001b[38;5;28;01mraise\u001b[39;00m RequestsJSONDecodeError(e\u001b[38;5;241m.\u001b[39mmsg, e\u001b[38;5;241m.\u001b[39mdoc, e\u001b[38;5;241m.\u001b[39mpos)\n",
      "\u001b[0;31mJSONDecodeError\u001b[0m: Expecting value: line 1 column 1 (char 0)"
     ]
    }
   ],
   "source": [
    "import requests\n",
    "import pandas as pd\n",
    "import time\n",
    "\n",
    "API = \"http://127.0.0.1:5000\"\n",
    "\n",
    "def get_basic_income_amounts(policy_id):\n",
    "    # API endpoint URL\n",
    "    api_url = f\"{API}/us/policy/{policy_id}\"\n",
    "\n",
    "    # Making a GET request to the API\n",
    "    response = requests.get(api_url)\n",
    "\n",
    "    if response.status_code == 200:\n",
    "        # Parsing the JSON response\n",
    "        policy_data = response.json()\n",
    "\n",
    "        # Extracting and renaming the basic income amounts\n",
    "        basic_income_amounts = {}\n",
    "        age_group_mapping = {\n",
    "            \"gov.contrib.ubi_center.basic_income.amount.person.by_age[0].amount\": \"ubi_0_5\",\n",
    "            \"gov.contrib.ubi_center.basic_income.amount.person.by_age[1].amount\": \"ubi_6_17\",\n",
    "            \"gov.contrib.ubi_center.basic_income.amount.person.by_age[2].amount\": \"ubi_18_64\",\n",
    "            \"gov.contrib.ubi_center.basic_income.amount.person.by_age[4].amount\": \"ubi_65_plus\",\n",
    "            \"gov.contrib.ubi_center.basic_income.amount.person.disability\": \"ubi_disability\"\n",
    "        }\n",
    "\n",
    "        for key, value in policy_data[\"result\"][\"policy_json\"].items():\n",
    "            if key in age_group_mapping:\n",
    "                # Assuming the amount is the first value in the dictionary\n",
    "                amount = next(iter(value.values()))\n",
    "                basic_income_amounts[age_group_mapping[key]] = amount\n",
    "        return basic_income_amounts\n",
    "    else:\n",
    "        return None\n",
    "\n",
    "# Read the CSV file into a DataFrame\n",
    "df = pd.read_csv('optimisation_results.csv')\n",
    "\n",
    "def get_json_from_id(id):\n",
    "    res = requests.get(f\"{API}/us/economy/{id}/over/2?time_period=2024&region=enhanced_us\").json()\n",
    "\n",
    "    while res[\"status\"] == \"computing\":\n",
    "        time.sleep(5)\n",
    "        res = requests.get(f\"{API}/us/economy/{id}/over/2?time_period=2024&region=enhanced_us\").json()\n",
    "    \n",
    "    return res[\"result\"]\n",
    "\n",
    "# Fetch and add basic income amounts for each reform ID\n",
    "json_data = {}\n",
    "\n",
    "from tqdm import tqdm\n",
    "\n",
    "for i, row in tqdm(df.iterrows(), total=len(df)):\n",
    "    reform_id = int(row['rounded_ubi_api_id'])\n",
    "    amounts = get_basic_income_amounts(reform_id)\n",
    "    if amounts:\n",
    "        for column_name, amount in amounts.items():\n",
    "            df.loc[i, column_name] = amount\n",
    "    json_data[reform_id] = get_json_from_id(reform_id)\n",
    "\n",
    "df.to_csv('ubi_amounts.csv', index=False)"
   ]
  }
 ],
 "metadata": {
  "kernelspec": {
   "display_name": "base",
   "language": "python",
   "name": "python3"
  },
  "language_info": {
   "codemirror_mode": {
    "name": "ipython",
    "version": 3
   },
   "file_extension": ".py",
   "mimetype": "text/x-python",
   "name": "python",
   "nbconvert_exporter": "python",
   "pygments_lexer": "ipython3",
   "version": "3.9.12"
  }
 },
 "nbformat": 4,
 "nbformat_minor": 2
}
